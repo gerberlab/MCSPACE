{
 "cells": [
  {
   "cell_type": "code",
   "execution_count": 1,
   "id": "5a828580",
   "metadata": {},
   "outputs": [],
   "source": [
    "import networkx as nx\n",
    "# from py2cytoscape.util import from_networkx\n",
    "from py2cytoscape import cyrest\n",
    "import json\n",
    "\n",
    "import numpy as np\n",
    "from pathlib import Path\n",
    "\n",
    "import matplotlib.pyplot as plt\n",
    "import seaborn as sns\n",
    "import pandas as pd"
   ]
  },
  {
   "cell_type": "code",
   "execution_count": 2,
   "id": "73fc4aa5",
   "metadata": {},
   "outputs": [],
   "source": [
    "edge_attributes = {}"
   ]
  },
  {
   "cell_type": "markdown",
   "id": "9c1f9d96",
   "metadata": {},
   "source": [
    "### instead crete graph from adjacency network?"
   ]
  },
  {
   "cell_type": "code",
   "execution_count": null,
   "id": "fc28b353",
   "metadata": {},
   "outputs": [],
   "source": []
  },
  {
   "cell_type": "markdown",
   "id": "774ca048",
   "metadata": {},
   "source": [
    "## create graph from setting attributes..."
   ]
  },
  {
   "cell_type": "code",
   "execution_count": 11,
   "id": "c4f1744a",
   "metadata": {},
   "outputs": [],
   "source": [
    "## create adjacency list\n",
    "nodes = [f\"OTU{i+1}\" for i in range(6)]\n",
    "adjmat = np.zeros((len(nodes),len(nodes)))\n",
    "for i,nd in enumerate(nodes):\n",
    "    adjmat[0,i] = 1\n",
    "    adjmat[i,0] = 1"
   ]
  },
  {
   "cell_type": "code",
   "execution_count": 13,
   "id": "b2853ccf",
   "metadata": {},
   "outputs": [],
   "source": [
    "adj_df = pd.DataFrame(adjmat, index=nodes, columns=nodes)"
   ]
  },
  {
   "cell_type": "code",
   "execution_count": 17,
   "id": "74619662",
   "metadata": {},
   "outputs": [],
   "source": [
    "graph = nx.from_pandas_adjacency(adj_df)\n",
    "\n",
    "ew = list(nx.get_edge_attributes(graph,'weight').values())\n",
    "nw = list(nx.get_node_attributes(graph,'weight').values())\n",
    "# fig, ax = plt.subplots()\n",
    "# nx.draw_networkx(graph, ax=ax, width=ew, node_size=nw)"
   ]
  },
  {
   "cell_type": "code",
   "execution_count": 19,
   "id": "fe191ae4",
   "metadata": {},
   "outputs": [
    {
     "data": {
      "text/plain": [
       "[]"
      ]
     },
     "execution_count": 19,
     "metadata": {},
     "output_type": "execute_result"
    }
   ],
   "source": [
    "graph = nx.Graph()\n",
    "\n",
    "nodes = [f\"OTU{i+1}\" for i in range(6)]\n",
    "edges = {}\n",
    "for oidx in nodes:\n",
    "    edges[oidx]"
   ]
  },
  {
   "cell_type": "code",
   "execution_count": 20,
   "id": "0b1d57ed",
   "metadata": {},
   "outputs": [
    {
     "data": {
      "image/png": "[encoded data removed]",
      "text/plain": [
       "<Figure size 640x480 with 1 Axes>"
      ]
     },
     "metadata": {},
     "output_type": "display_data"
    }
   ],
   "source": [
    "graph = nx.Graph()\n",
    "\n",
    "otus = [1,2,3,4,5]\n",
    "\n",
    "for ot in otus: #[1:]:\n",
    "    graph.add_edge(otus[0], ot, weight=ot)\n",
    "    \n",
    "for ot in otus:\n",
    "    graph.nodes[ot]['weight'] = ot*100\n",
    "    graph.nodes[ot]['S1'] = np.sqrt(ot*100)\n",
    "    # can add names and other data...\n",
    "    \n",
    "\n",
    "ew = list(nx.get_edge_attributes(graph,'weight').values())\n",
    "nw = list(nx.get_node_attributes(graph,'weight').values())\n",
    "\n",
    "fig, ax = plt.subplots()\n",
    "nx.draw_networkx(graph, ax=ax, width=ew, node_size=nw)"
   ]
  },
  {
   "cell_type": "code",
   "execution_count": 21,
   "id": "1263e482",
   "metadata": {},
   "outputs": [
    {
     "data": {
      "text/plain": [
       "{1: 10.0,\n",
       " 2: 14.142135623730951,\n",
       " 3: 17.320508075688775,\n",
       " 4: 20.0,\n",
       " 5: 22.360679774997898}"
      ]
     },
     "execution_count": 21,
     "metadata": {},
     "output_type": "execute_result"
    }
   ],
   "source": [
    "nx.get_node_attributes(graph, 'S1')"
   ]
  },
  {
   "cell_type": "code",
   "execution_count": 22,
   "id": "6bcf3cc2",
   "metadata": {},
   "outputs": [],
   "source": [
    "cyjs = nx.json_graph.cytoscape_data(graph)"
   ]
  },
  {
   "cell_type": "code",
   "execution_count": 23,
   "id": "cbfd3ebb",
   "metadata": {},
   "outputs": [
    {
     "data": {
      "text/plain": [
       "{'data': [],\n",
       " 'directed': False,\n",
       " 'multigraph': False,\n",
       " 'elements': {'nodes': [{'data': {'weight': 100,\n",
       "     'S1': 10.0,\n",
       "     'id': '1',\n",
       "     'value': 1,\n",
       "     'name': '1'}},\n",
       "   {'data': {'weight': 200,\n",
       "     'S1': 14.142135623730951,\n",
       "     'id': '2',\n",
       "     'value': 2,\n",
       "     'name': '2'}},\n",
       "   {'data': {'weight': 300,\n",
       "     'S1': 17.320508075688775,\n",
       "     'id': '3',\n",
       "     'value': 3,\n",
       "     'name': '3'}},\n",
       "   {'data': {'weight': 400, 'S1': 20.0, 'id': '4', 'value': 4, 'name': '4'}},\n",
       "   {'data': {'weight': 500,\n",
       "     'S1': 22.360679774997898,\n",
       "     'id': '5',\n",
       "     'value': 5,\n",
       "     'name': '5'}}],\n",
       "  'edges': [{'data': {'weight': 1, 'source': 1, 'target': 1}},\n",
       "   {'data': {'weight': 2, 'source': 1, 'target': 2}},\n",
       "   {'data': {'weight': 3, 'source': 1, 'target': 3}},\n",
       "   {'data': {'weight': 4, 'source': 1, 'target': 4}},\n",
       "   {'data': {'weight': 5, 'source': 1, 'target': 5}}]}}"
      ]
     },
     "execution_count": 23,
     "metadata": {},
     "output_type": "execute_result"
    }
   ],
   "source": [
    "cyjs"
   ]
  },
  {
   "cell_type": "code",
   "execution_count": null,
   "id": "a1dda9a6",
   "metadata": {},
   "outputs": [],
   "source": []
  },
  {
   "cell_type": "code",
   "execution_count": 24,
   "id": "dae2c831",
   "metadata": {},
   "outputs": [],
   "source": [
    "# Write the JSON to a file\n",
    "with open('output.cyjs', 'w') as f:\n",
    "    json.dump(cyjs, f)"
   ]
  },
  {
   "cell_type": "code",
   "execution_count": null,
   "id": "8b2dc660",
   "metadata": {},
   "outputs": [],
   "source": [
    "pwd"
   ]
  },
  {
   "cell_type": "markdown",
   "id": "36fd73ac",
   "metadata": {},
   "source": [
    "### to do: create nx from pandas adjacency??...\n",
    "see: https://github.com/gerberlab/MDSINE2/blob/master/mdsine2/util.py#L364"
   ]
  },
  {
   "cell_type": "code",
   "execution_count": null,
   "id": "94c7c771",
   "metadata": {},
   "outputs": [],
   "source": [
    "nx_graph  = nx.scale_free_graph(100)\n",
    "nx.set_node_attributes(nx_graph, 'Degree', nx.degree(nx_graph))\n",
    "nx.set_node_attributes(nx_graph, 'Betweenness_Centrality', nx.betweenness_centrality(nx_graph))"
   ]
  },
  {
   "cell_type": "code",
   "execution_count": null,
   "id": "bab74c36",
   "metadata": {},
   "outputs": [],
   "source": []
  },
  {
   "cell_type": "code",
   "execution_count": 26,
   "id": "3615baae",
   "metadata": {},
   "outputs": [],
   "source": [
    "G = nx.path_graph(2)\n",
    "temp = nx.cytoscape_data(G)  \n",
    "# {'data': [],\n",
    "#  'directed': False,\n",
    "#  'multigraph': False,\n",
    "#  'elements': {'nodes': [{'data': {'id': '0', 'value': 0, 'name': '0'}},\n",
    "#    {'data': {'id': '1', 'value': 1, 'name': '1'}}],\n",
    "#   'edges': [{'data': {'source': 0, 'target': 1}}]}}"
   ]
  },
  {
   "cell_type": "code",
   "execution_count": 27,
   "id": "4a687ff8",
   "metadata": {},
   "outputs": [
    {
     "data": {
      "text/plain": [
       "{'data': [],\n",
       " 'directed': False,\n",
       " 'multigraph': False,\n",
       " 'elements': {'nodes': [{'data': {'id': '0', 'value': 0, 'name': '0'}},\n",
       "   {'data': {'id': '1', 'value': 1, 'name': '1'}}],\n",
       "  'edges': [{'data': {'source': 0, 'target': 1}}]}}"
      ]
     },
     "execution_count": 27,
     "metadata": {},
     "output_type": "execute_result"
    }
   ],
   "source": [
    "temp"
   ]
  },
  {
   "cell_type": "code",
   "execution_count": 29,
   "id": "db58e188",
   "metadata": {},
   "outputs": [],
   "source": [
    "with open('output2.json', 'w') as f:\n",
    "    json.dump(temp, f)"
   ]
  },
  {
   "cell_type": "code",
   "execution_count": null,
   "id": "283cc004",
   "metadata": {},
   "outputs": [],
   "source": []
  }
 ],
 "metadata": {
  "kernelspec": {
   "display_name": "Python [conda env:mcfinal]",
   "language": "python",
   "name": "conda-env-mcfinal-py"
  },
  "language_info": {
   "codemirror_mode": {
    "name": "ipython",
    "version": 3
   },
   "file_extension": ".py",
   "mimetype": "text/x-python",
   "name": "python",
   "nbconvert_exporter": "python",
   "pygments_lexer": "ipython3",
   "version": "3.10.14"
  }
 },
 "nbformat": 4,
 "nbformat_minor": 5
}
