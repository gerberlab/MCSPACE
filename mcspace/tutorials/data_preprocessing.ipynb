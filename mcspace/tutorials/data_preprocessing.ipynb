{
 "cells": [
  {
   "cell_type": "markdown",
   "id": "5a093668",
   "metadata": {},
   "source": [
    "# Tutorial 1: Formatting, filtering, and pre-procesing SAMPL-seq datasets for model inference"
   ]
  },
  {
   "cell_type": "markdown",
   "id": "85e30ad7",
   "metadata": {},
   "source": [
    "This tutorial goes over how to process raw SAMPL-seq data and prepare it for model inference. It covers key preprocessing steops, including:\n",
    "- How to format input files for the MCSPACE software\n",
    "- Filtering taxa based on minimum relative abundance and consistency across subjects\n",
    "- Filtering particles based on minimum and maximum reads per particle\n",
    "- Excluding specific taxa, time points, or subjects from the analysis\n",
    "\n",
    "For demonstration, we use our mouse dataset from the main paper, applying stricter filtering criteria to obtain a smaller dataset for the tutorials."
   ]
  },
  {
   "cell_type": "code",
   "execution_count": 17,
   "id": "d0882f77",
   "metadata": {},
   "outputs": [],
   "source": [
    "from pathlib import Path\n",
    "import pandas as pd\n",
    "from mcspace.utils import pickle_save"
   ]
  },
  {
   "cell_type": "markdown",
   "id": "8e79c257",
   "metadata": {},
   "source": [
    "The \"parse\" function processes SAMPL-seq data files and returns a dataset object that can be used for model inference. Import it as follows:"
   ]
  },
  {
   "cell_type": "code",
   "execution_count": 19,
   "id": "5a32867b",
   "metadata": {},
   "outputs": [],
   "source": [
    "from mcspace.data_utils import parse"
   ]
  },
  {
   "cell_type": "markdown",
   "id": "65e38424",
   "metadata": {},
   "source": [
    "# Paths"
   ]
  },
  {
   "cell_type": "markdown",
   "id": "b4da04cc",
   "metadata": {},
   "source": [
    "Relative paths for this tutorial. `basepath` gives the path of this file"
   ]
  },
  {
   "cell_type": "code",
   "execution_count": 20,
   "id": "7dbf43a4",
   "metadata": {},
   "outputs": [],
   "source": [
    "basepath = Path(\"./\")\n",
    "datapath = basepath / \"data\"\n",
    "outpath = basepath / \"results\"\n",
    "outpath.mkdir(exist_ok=True, parents=True)"
   ]
  },
  {
   "cell_type": "code",
   "execution_count": 21,
   "id": "1736b2f6",
   "metadata": {},
   "outputs": [
    {
     "name": "stdout",
     "output_type": "stream",
     "text": [
      " Volume in drive C is Windows-SSD\n",
      " Volume Serial Number is 1086-9223\n",
      "\n",
      " Directory of C:\\Users\\Gary\\Documents\\PROJECTS\\MCSPACE_FINAL\\MCSPACE\\mcspace\\tutorials\\data\n",
      "\n",
      "12/05/2024  09:49 AM    <DIR>          .\n",
      "12/05/2024  11:37 AM    <DIR>          ..\n",
      "12/04/2024  02:40 PM        12,618,963 mouse_counts.csv.gz\n",
      "12/04/2024  02:40 PM            30,857 newick_tree_query_reads.nhx\n",
      "12/04/2024  04:06 PM                58 perturbations.csv\n",
      "12/05/2024  09:48 AM            93,514 taxonomy.csv\n",
      "               4 File(s)     12,743,392 bytes\n",
      "               2 Dir(s)  688,379,641,856 bytes free\n"
     ]
    }
   ],
   "source": [
    "ls \"data\""
   ]
  },
  {
   "cell_type": "markdown",
   "id": "feeb8a72",
   "metadata": {},
   "source": [
    "The `data` folder contains data for this tutorial. It contains the following files:\n",
    "- `mouse_counts.csv.gz`: This file gives particle count data for the samples in the study. Note, we use a compressed file here due to space limitations on GitHub. A uncompressed csv file would also work with the parse function however.\n",
    "- `newick_tree_query_reads.nhx`: Phylogenetic tree for OTUs in study in Newick format. This file is optional and may be used when visualizing results.\n",
    "- `perturbations.csv`: CSV file containing information on which time points are perturbed.\n",
    "- `taxonomy.csv`: Taxonomic information for OTUs in the study\n",
    "\n",
    "We load these files below to show how they should be formatted."
   ]
  },
  {
   "cell_type": "markdown",
   "id": "c21f7bd0",
   "metadata": {},
   "source": [
    "# Required formatting of input files"
   ]
  },
  {
   "cell_type": "markdown",
   "id": "b37bcae0",
   "metadata": {},
   "source": [
    "### counts file"
   ]
  },
  {
   "cell_type": "code",
   "execution_count": 24,
   "id": "e98707a7",
   "metadata": {},
   "outputs": [
    {
     "name": "stderr",
     "output_type": "stream",
     "text": [
      "C:\\Users\\Gary\\AppData\\Local\\Temp\\ipykernel_172184\\2983744108.py:1: DtypeWarning: Columns (5) have mixed types. Specify dtype option on import or set low_memory=False.\n",
      "  counts = pd.read_csv(datapath / \"mouse_counts.csv.gz\", compression='gzip', index_col=0)\n"
     ]
    }
   ],
   "source": [
    "counts = pd.read_csv(datapath / \"mouse_counts.csv.gz\", compression='gzip', index_col=0)"
   ]
  },
  {
   "cell_type": "code",
   "execution_count": 25,
   "id": "7dfcd82d",
   "metadata": {},
   "outputs": [
    {
     "data": {
      "text/html": [
       "<div>\n",
       "<style scoped>\n",
       "    .dataframe tbody tr th:only-of-type {\n",
       "        vertical-align: middle;\n",
       "    }\n",
       "\n",
       "    .dataframe tbody tr th {\n",
       "        vertical-align: top;\n",
       "    }\n",
       "\n",
       "    .dataframe thead th {\n",
       "        text-align: right;\n",
       "    }\n",
       "</style>\n",
       "<table border=\"1\" class=\"dataframe\">\n",
       "  <thead>\n",
       "    <tr style=\"text-align: right;\">\n",
       "      <th></th>\n",
       "      <th>Unnamed: 0</th>\n",
       "      <th>Particle</th>\n",
       "      <th>OTU</th>\n",
       "      <th>Sample</th>\n",
       "      <th>replicate</th>\n",
       "      <th>Count</th>\n",
       "      <th>Subject</th>\n",
       "      <th>chow</th>\n",
       "      <th>Time</th>\n",
       "      <th>timepoint</th>\n",
       "      <th>empty_tube_weight_mg</th>\n",
       "      <th>pellet_tube_weight_mg</th>\n",
       "    </tr>\n",
       "  </thead>\n",
       "  <tbody>\n",
       "    <tr>\n",
       "      <th>0</th>\n",
       "      <td>0</td>\n",
       "      <td>20231021_1123_1_S_MEbcnum60_80_90</td>\n",
       "      <td>Otu1</td>\n",
       "      <td>20231021_1123_1_S_ME</td>\n",
       "      <td>1</td>\n",
       "      <td>537</td>\n",
       "      <td>JX07</td>\n",
       "      <td>standard</td>\n",
       "      <td>57</td>\n",
       "      <td>AM</td>\n",
       "      <td>1012.45</td>\n",
       "      <td>1054.25</td>\n",
       "    </tr>\n",
       "    <tr>\n",
       "      <th>1</th>\n",
       "      <td>1</td>\n",
       "      <td>20231021_1123_1_S_MEbcnum22_63_29</td>\n",
       "      <td>Otu1</td>\n",
       "      <td>20231021_1123_1_S_ME</td>\n",
       "      <td>1</td>\n",
       "      <td>79</td>\n",
       "      <td>JX07</td>\n",
       "      <td>standard</td>\n",
       "      <td>57</td>\n",
       "      <td>AM</td>\n",
       "      <td>1012.45</td>\n",
       "      <td>1054.25</td>\n",
       "    </tr>\n",
       "    <tr>\n",
       "      <th>2</th>\n",
       "      <td>2</td>\n",
       "      <td>20231021_1123_1_S_MEbcnum22_38_88</td>\n",
       "      <td>Otu1</td>\n",
       "      <td>20231021_1123_1_S_ME</td>\n",
       "      <td>1</td>\n",
       "      <td>7</td>\n",
       "      <td>JX07</td>\n",
       "      <td>standard</td>\n",
       "      <td>57</td>\n",
       "      <td>AM</td>\n",
       "      <td>1012.45</td>\n",
       "      <td>1054.25</td>\n",
       "    </tr>\n",
       "    <tr>\n",
       "      <th>3</th>\n",
       "      <td>3</td>\n",
       "      <td>20231021_1123_1_S_MEbcnum22_94_35</td>\n",
       "      <td>Otu1</td>\n",
       "      <td>20231021_1123_1_S_ME</td>\n",
       "      <td>1</td>\n",
       "      <td>12</td>\n",
       "      <td>JX07</td>\n",
       "      <td>standard</td>\n",
       "      <td>57</td>\n",
       "      <td>AM</td>\n",
       "      <td>1012.45</td>\n",
       "      <td>1054.25</td>\n",
       "    </tr>\n",
       "    <tr>\n",
       "      <th>4</th>\n",
       "      <td>4</td>\n",
       "      <td>20231021_1123_1_S_MEbcnum22_92_8</td>\n",
       "      <td>Otu1</td>\n",
       "      <td>20231021_1123_1_S_ME</td>\n",
       "      <td>1</td>\n",
       "      <td>34</td>\n",
       "      <td>JX07</td>\n",
       "      <td>standard</td>\n",
       "      <td>57</td>\n",
       "      <td>AM</td>\n",
       "      <td>1012.45</td>\n",
       "      <td>1054.25</td>\n",
       "    </tr>\n",
       "  </tbody>\n",
       "</table>\n",
       "</div>"
      ],
      "text/plain": [
       "   Unnamed: 0                           Particle   OTU                Sample  \\\n",
       "0           0  20231021_1123_1_S_MEbcnum60_80_90  Otu1  20231021_1123_1_S_ME   \n",
       "1           1  20231021_1123_1_S_MEbcnum22_63_29  Otu1  20231021_1123_1_S_ME   \n",
       "2           2  20231021_1123_1_S_MEbcnum22_38_88  Otu1  20231021_1123_1_S_ME   \n",
       "3           3  20231021_1123_1_S_MEbcnum22_94_35  Otu1  20231021_1123_1_S_ME   \n",
       "4           4   20231021_1123_1_S_MEbcnum22_92_8  Otu1  20231021_1123_1_S_ME   \n",
       "\n",
       "  replicate  Count Subject      chow  Time timepoint  empty_tube_weight_mg  \\\n",
       "0         1    537    JX07  standard    57        AM               1012.45   \n",
       "1         1     79    JX07  standard    57        AM               1012.45   \n",
       "2         1      7    JX07  standard    57        AM               1012.45   \n",
       "3         1     12    JX07  standard    57        AM               1012.45   \n",
       "4         1     34    JX07  standard    57        AM               1012.45   \n",
       "\n",
       "   pellet_tube_weight_mg  \n",
       "0                1054.25  \n",
       "1                1054.25  \n",
       "2                1054.25  \n",
       "3                1054.25  \n",
       "4                1054.25  "
      ]
     },
     "execution_count": 25,
     "metadata": {},
     "output_type": "execute_result"
    }
   ],
   "source": [
    "counts.head()"
   ]
  },
  {
   "cell_type": "markdown",
   "id": "b7831d87",
   "metadata": {},
   "source": [
    "The counts file contains sequencing counts for each OTU in each particle, for each sample. The following columns are **required** to be in this file:\n",
    "- `Particle`: This column contains the unique particle ID for each particle in the study.\n",
    "- `OTU`: This column gives the Otu# to which the counts correspond to for each row.\n",
    "- `Count`: Each row in this column gives the number of sequencing counts corresponding to a given OTU in a given particle, in a given sample.\n",
    "- `Time`: Each row in this column gives the timepoint to which the counts correspond to.\n",
    "- `Subject`: Each row in this column gives the subject to which the counts correspond to."
   ]
  },
  {
   "cell_type": "markdown",
   "id": "12d0a3ec",
   "metadata": {},
   "source": [
    "### perturbations"
   ]
  },
  {
   "cell_type": "code",
   "execution_count": 26,
   "id": "9a37a30f",
   "metadata": {},
   "outputs": [],
   "source": [
    "perturbations = pd.read_csv(datapath/\"perturbations.csv\")"
   ]
  },
  {
   "cell_type": "code",
   "execution_count": 27,
   "id": "5c1fe0d1",
   "metadata": {},
   "outputs": [
    {
     "data": {
      "text/html": [
       "<div>\n",
       "<style scoped>\n",
       "    .dataframe tbody tr th:only-of-type {\n",
       "        vertical-align: middle;\n",
       "    }\n",
       "\n",
       "    .dataframe tbody tr th {\n",
       "        vertical-align: top;\n",
       "    }\n",
       "\n",
       "    .dataframe thead th {\n",
       "        text-align: right;\n",
       "    }\n",
       "</style>\n",
       "<table border=\"1\" class=\"dataframe\">\n",
       "  <thead>\n",
       "    <tr style=\"text-align: right;\">\n",
       "      <th></th>\n",
       "      <th>Time</th>\n",
       "      <th>Perturbed</th>\n",
       "    </tr>\n",
       "  </thead>\n",
       "  <tbody>\n",
       "    <tr>\n",
       "      <th>0</th>\n",
       "      <td>10</td>\n",
       "      <td>0</td>\n",
       "    </tr>\n",
       "    <tr>\n",
       "      <th>1</th>\n",
       "      <td>18</td>\n",
       "      <td>1</td>\n",
       "    </tr>\n",
       "    <tr>\n",
       "      <th>2</th>\n",
       "      <td>35</td>\n",
       "      <td>0</td>\n",
       "    </tr>\n",
       "    <tr>\n",
       "      <th>3</th>\n",
       "      <td>43</td>\n",
       "      <td>1</td>\n",
       "    </tr>\n",
       "    <tr>\n",
       "      <th>4</th>\n",
       "      <td>57</td>\n",
       "      <td>0</td>\n",
       "    </tr>\n",
       "    <tr>\n",
       "      <th>5</th>\n",
       "      <td>65</td>\n",
       "      <td>1</td>\n",
       "    </tr>\n",
       "    <tr>\n",
       "      <th>6</th>\n",
       "      <td>76</td>\n",
       "      <td>0</td>\n",
       "    </tr>\n",
       "  </tbody>\n",
       "</table>\n",
       "</div>"
      ],
      "text/plain": [
       "   Time  Perturbed\n",
       "0    10          0\n",
       "1    18          1\n",
       "2    35          0\n",
       "3    43          1\n",
       "4    57          0\n",
       "5    65          1\n",
       "6    76          0"
      ]
     },
     "execution_count": 27,
     "metadata": {},
     "output_type": "execute_result"
    }
   ],
   "source": [
    "perturbations"
   ]
  },
  {
   "cell_type": "markdown",
   "id": "797a4cbc",
   "metadata": {},
   "source": [
    "This file gives perturbation information for each timepoint in the study. The csv file **requires** two columns:\n",
    "- `Time`: Each row listing each timepoint in the study\n",
    "- `Perturbed`: Each row must contain either a 0 or 1, with 0 indicating no perturbation on the corresponding timepoint and a 1 indicating the timepoint does correspond to a perturbation"
   ]
  },
  {
   "cell_type": "markdown",
   "id": "37cee0a6",
   "metadata": {},
   "source": [
    "### taxonomy"
   ]
  },
  {
   "cell_type": "code",
   "execution_count": 28,
   "id": "fe809bcd",
   "metadata": {},
   "outputs": [],
   "source": [
    "taxonomy = pd.read_csv(datapath / \"taxonomy.csv\")"
   ]
  },
  {
   "cell_type": "code",
   "execution_count": 30,
   "id": "d7d49e30",
   "metadata": {},
   "outputs": [
    {
     "data": {
      "text/html": [
       "<div>\n",
       "<style scoped>\n",
       "    .dataframe tbody tr th:only-of-type {\n",
       "        vertical-align: middle;\n",
       "    }\n",
       "\n",
       "    .dataframe tbody tr th {\n",
       "        vertical-align: top;\n",
       "    }\n",
       "\n",
       "    .dataframe thead th {\n",
       "        text-align: right;\n",
       "    }\n",
       "</style>\n",
       "<table border=\"1\" class=\"dataframe\">\n",
       "  <thead>\n",
       "    <tr style=\"text-align: right;\">\n",
       "      <th></th>\n",
       "      <th>Otu</th>\n",
       "      <th>Domain</th>\n",
       "      <th>Phylum</th>\n",
       "      <th>Class</th>\n",
       "      <th>Order</th>\n",
       "      <th>Family</th>\n",
       "      <th>Genus</th>\n",
       "      <th>Species</th>\n",
       "    </tr>\n",
       "  </thead>\n",
       "  <tbody>\n",
       "    <tr>\n",
       "      <th>0</th>\n",
       "      <td>Otu1</td>\n",
       "      <td>Bacteria</td>\n",
       "      <td>Firmicutes</td>\n",
       "      <td>Bacilli</td>\n",
       "      <td>Lactobacillales</td>\n",
       "      <td>Lactobacillaceae</td>\n",
       "      <td>Lactobacillus</td>\n",
       "      <td>na</td>\n",
       "    </tr>\n",
       "    <tr>\n",
       "      <th>1</th>\n",
       "      <td>Otu7</td>\n",
       "      <td>Bacteria</td>\n",
       "      <td>Firmicutes</td>\n",
       "      <td>Clostridia</td>\n",
       "      <td>Clostridiales</td>\n",
       "      <td>Lachnospiraceae</td>\n",
       "      <td>Clostridium_XlVa</td>\n",
       "      <td>na</td>\n",
       "    </tr>\n",
       "    <tr>\n",
       "      <th>2</th>\n",
       "      <td>Otu11</td>\n",
       "      <td>Bacteria</td>\n",
       "      <td>Actinobacteria</td>\n",
       "      <td>Coriobacteriia</td>\n",
       "      <td>Eggerthellales</td>\n",
       "      <td>Eggerthellaceae</td>\n",
       "      <td>Adlercreutzia</td>\n",
       "      <td>na</td>\n",
       "    </tr>\n",
       "    <tr>\n",
       "      <th>3</th>\n",
       "      <td>Otu8</td>\n",
       "      <td>Bacteria</td>\n",
       "      <td>Bacteroidetes</td>\n",
       "      <td>Bacteroidia</td>\n",
       "      <td>Bacteroidales</td>\n",
       "      <td>Muribaculaceae</td>\n",
       "      <td>Duncaniella</td>\n",
       "      <td>na</td>\n",
       "    </tr>\n",
       "    <tr>\n",
       "      <th>4</th>\n",
       "      <td>Otu2</td>\n",
       "      <td>Bacteria</td>\n",
       "      <td>Verrucomicrobia</td>\n",
       "      <td>Verrucomicrobiae</td>\n",
       "      <td>Verrucomicrobiales</td>\n",
       "      <td>Akkermansiaceae</td>\n",
       "      <td>Akkermansia</td>\n",
       "      <td>na</td>\n",
       "    </tr>\n",
       "  </tbody>\n",
       "</table>\n",
       "</div>"
      ],
      "text/plain": [
       "     Otu    Domain           Phylum             Class               Order  \\\n",
       "0   Otu1  Bacteria       Firmicutes           Bacilli     Lactobacillales   \n",
       "1   Otu7  Bacteria       Firmicutes        Clostridia       Clostridiales   \n",
       "2  Otu11  Bacteria   Actinobacteria    Coriobacteriia      Eggerthellales   \n",
       "3   Otu8  Bacteria    Bacteroidetes       Bacteroidia       Bacteroidales   \n",
       "4   Otu2  Bacteria  Verrucomicrobia  Verrucomicrobiae  Verrucomicrobiales   \n",
       "\n",
       "             Family             Genus Species  \n",
       "0  Lactobacillaceae     Lactobacillus      na  \n",
       "1   Lachnospiraceae  Clostridium_XlVa      na  \n",
       "2   Eggerthellaceae     Adlercreutzia      na  \n",
       "3    Muribaculaceae       Duncaniella      na  \n",
       "4   Akkermansiaceae       Akkermansia      na  "
      ]
     },
     "execution_count": 30,
     "metadata": {},
     "output_type": "execute_result"
    }
   ],
   "source": [
    "taxonomy.head()"
   ]
  },
  {
   "cell_type": "markdown",
   "id": "b889263e",
   "metadata": {},
   "source": [
    "The taxonomy file gives the taxonomic information for each OTU in the dataset. It requires the following columns: `Otu, Domain, Phylum, Class, Order, Family, Genus, Species`. A value of `na` indicates that the OTU is not resolved to the corresponding taxonomic level. In visualizing results (see the `visualizing_results.ipynb` tutorial file), the software automatically displays each OTU to its lowest resolved taxonomic level."
   ]
  },
  {
   "cell_type": "markdown",
   "id": "8fa25685",
   "metadata": {},
   "source": [
    "# Preparing data for inference"
   ]
  },
  {
   "cell_type": "markdown",
   "id": "10f2817d",
   "metadata": {},
   "source": [
    "Data is prepared for model inference using the `parse` function as described below:"
   ]
  },
  {
   "cell_type": "markdown",
   "id": "db17c134",
   "metadata": {},
   "source": [
    "### parse:\n",
    "**Required arguments**:\n",
    "- `counts_data`: The first argument of the parse function takes the filepath for the counts file, as described above.\n",
    "- `taxonomy`: The second argument of the parse function takes the taxonomy filepath.\n",
    "- `perturbation_info`: The third argument of the parse function takes the filepath for the file containing perturbation information for the timepoints in the study.\n",
    "\n",
    "**Optional keyword arguments**:\n",
    "- `subjects_remove`: This argument takes in a list of subjects to be removed from the study. Default value is `None`.\n",
    "- `times_remove`: This arugment takes in a list of timepoints to be removed from the study. Default value is `None`.\n",
    "- `otus_remove`: This argument takes in a list of OTUs to be removed from the study. Default value is `None`.\n",
    "- `num_consistent_subjects`: This is the number of subjects that must contain each OTU above the provided `min_abundance` for it to be included. Default value is 1.\n",
    "- `min_abundance`: This is the minimum relative abundance an OTU must have on any timepoint for it to be included. The default value is 0.005.\n",
    "- `min_reads`: This is the minimum number of reads a particle must contain for it to be included. The default value is 250.\n",
    "- `max_reads`: This is the maximum number of reads a particle can contain for it to be included. The default value is 10000."
   ]
  },
  {
   "cell_type": "markdown",
   "id": "80d93fb6",
   "metadata": {},
   "source": [
    "For our tutorials, we remove timepoints and apply a stricter read filtering, to obtain a smaller dataset in order to speed up inference in the next tutorial. We will keep only the times around the HFHF perturbation on day 43 and remove days 10,18,65, and 76. Additionally we use a minimum read threshold of 1000 reads for filtering out particles, and remove subject `JX09`."
   ]
  },
  {
   "cell_type": "code",
   "execution_count": 32,
   "id": "a8da84cc",
   "metadata": {},
   "outputs": [],
   "source": [
    "times_remove = [10,18,65,76]"
   ]
  },
  {
   "cell_type": "code",
   "execution_count": 34,
   "id": "b877ce71",
   "metadata": {},
   "outputs": [
    {
     "name": "stderr",
     "output_type": "stream",
     "text": [
      "c:\\users\\gary\\documents\\projects\\mcspace_final\\mcspace\\mcspace\\dataset.py:23: DtypeWarning: Columns (5) have mixed types. Specify dtype option on import or set low_memory=False.\n",
      "  self._long_data = pd.read_csv(reads, compression='gzip')\n"
     ]
    }
   ],
   "source": [
    "processed_data = parse(datapath/\"mouse_counts.csv.gz\",\n",
    "                     datapath/\"taxonomy.csv\",\n",
    "                     datapath/\"perturbations.csv\",\n",
    "                     subjects_remove=['JX09'],\n",
    "                     times_remove=times_remove,\n",
    "                     otus_remove=None,\n",
    "                     num_consistent_subjects=2,\n",
    "                     min_abundance=0.005,\n",
    "                     min_reads=1000,\n",
    "                     max_reads=10000)"
   ]
  },
  {
   "cell_type": "code",
   "execution_count": 8,
   "id": "35cde23b",
   "metadata": {},
   "outputs": [
    {
     "data": {
      "text/plain": [
       "dict_keys(['perturbations', 'dataset', 'taxonomy', 'inference_data'])"
      ]
     },
     "execution_count": 8,
     "metadata": {},
     "output_type": "execute_result"
    }
   ],
   "source": [
    "processed_data.keys()"
   ]
  },
  {
   "cell_type": "markdown",
   "id": "21d1ad7b",
   "metadata": {},
   "source": [
    "The **parse** function returns a dictionary containing objects used in the MCSPACE model inference step. See the `running_inference.ipynb` tutorial for more information on performing model inference."
   ]
  }
 ],
 "metadata": {
  "kernelspec": {
   "display_name": "Python [conda env:mcspace]",
   "language": "python",
   "name": "conda-env-mcspace-py"
  },
  "language_info": {
   "codemirror_mode": {
    "name": "ipython",
    "version": 3
   },
   "file_extension": ".py",
   "mimetype": "text/x-python",
   "name": "python",
   "nbconvert_exporter": "python",
   "pygments_lexer": "ipython3",
   "version": "3.10.15"
  }
 },
 "nbformat": 4,
 "nbformat_minor": 5
}
