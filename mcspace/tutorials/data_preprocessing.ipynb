{
 "cells": [
  {
   "cell_type": "markdown",
   "id": "1c060c2d",
   "metadata": {},
   "source": [
    "# Tutorial: Loading, filtering, and pre-procesing SAMPL-seq datasets for model inference"
   ]
  },
  {
   "cell_type": "markdown",
   "id": "8f19961e",
   "metadata": {},
   "source": [
    "This tutorial goes over how to process raw SAMPL-seq data and prepare it for model inference. It covers key preprocessing steops, including:\n",
    "- Filtering taxa based on minimum relative abundance and consistency across subjects\n",
    "- Filtering particles based on minimum and maximum reads per particle\n",
    "- Excluding specific taxa, time points, or subjects from the analysis\n",
    "\n",
    "For demonstration, we use our mouse dataset from the main paper, applying stricter filtering criteria to obtain a smaller dataset for the tutorials."
   ]
  },
  {
   "cell_type": "code",
   "execution_count": 1,
   "id": "b012ecef",
   "metadata": {},
   "outputs": [],
   "source": [
    "from mcspace.data_utils import parse\n",
    "from pathlib import Path\n",
    "import pandas as pd"
   ]
  },
  {
   "cell_type": "code",
   "execution_count": null,
   "id": "573ee4a8",
   "metadata": {},
   "outputs": [],
   "source": []
  },
  {
   "cell_type": "markdown",
   "id": "5f9b46fa",
   "metadata": {},
   "source": [
    "# Paths"
   ]
  },
  {
   "cell_type": "code",
   "execution_count": 3,
   "id": "967e4ef3",
   "metadata": {},
   "outputs": [],
   "source": [
    "basepath = Path(\"./\")\n",
    "datapath = basepath / \"data\"\n",
    "outpath = basepath / \"results\"\n",
    "outpath.mkdir(exist_ok=True, parents=True)"
   ]
  },
  {
   "cell_type": "code",
   "execution_count": 4,
   "id": "eaf7f70f",
   "metadata": {},
   "outputs": [
    {
     "name": "stdout",
     "output_type": "stream",
     "text": [
      " Volume in drive C is Windows-SSD\n",
      " Volume Serial Number is 1086-9223\n",
      "\n",
      " Directory of C:\\Users\\Gary\\Documents\\PROJECTS\\MCSPACE_FINAL\\MCSPACE\\mcspace\\tutorials\\data\n",
      "\n",
      "12/04/2024  03:55 PM    <DIR>          .\n",
      "12/04/2024  03:57 PM    <DIR>          ..\n",
      "12/04/2024  02:40 PM        12,618,963 mouse_counts.csv.gz\n",
      "12/04/2024  02:40 PM            30,857 newick_tree_query_reads.nhx\n",
      "12/04/2024  02:40 PM           157,797 tax.csv\n",
      "               3 File(s)     12,807,617 bytes\n",
      "               2 Dir(s)  694,422,749,184 bytes free\n"
     ]
    }
   ],
   "source": [
    "ls \"data\""
   ]
  },
  {
   "cell_type": "markdown",
   "id": "24dd8384",
   "metadata": {},
   "source": [
    "# Load raw data, check formatting"
   ]
  },
  {
   "cell_type": "code",
   "execution_count": null,
   "id": "5df048f0",
   "metadata": {},
   "outputs": [],
   "source": []
  },
  {
   "cell_type": "markdown",
   "id": "c9f3a6ea",
   "metadata": {},
   "source": [
    "# Parse for inference"
   ]
  },
  {
   "cell_type": "markdown",
   "id": "98c2ac17",
   "metadata": {},
   "source": [
    "using min reads for smaller data, removing more time points..."
   ]
  },
  {
   "cell_type": "code",
   "execution_count": null,
   "id": "ac37425f",
   "metadata": {},
   "outputs": [],
   "source": [
    "parse(datapath/\"mouse_counts.csv.gz\",\n",
    "     datapath/\"taxa.csv\",\n",
    "     datapath/\"perturbations.csv\",\n",
    "     subjects_remove='JX09',\n",
    "     times_remove=times_remove,\n",
    "     otus_remove=otus_remove,\n",
    "     num_consistent_subjects=2,\n",
    "     min_abundance=0.005,\n",
    "     min_reads=1000,\n",
    "     max_reads=10000)"
   ]
  }
 ],
 "metadata": {
  "kernelspec": {
   "display_name": "Python [conda env:mcspace]",
   "language": "python",
   "name": "conda-env-mcspace-py"
  },
  "language_info": {
   "codemirror_mode": {
    "name": "ipython",
    "version": 3
   },
   "file_extension": ".py",
   "mimetype": "text/x-python",
   "name": "python",
   "nbconvert_exporter": "python",
   "pygments_lexer": "ipython3",
   "version": "3.10.15"
  }
 },
 "nbformat": 4,
 "nbformat_minor": 5
}
