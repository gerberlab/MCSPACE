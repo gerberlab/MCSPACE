{
 "cells": [
  {
   "cell_type": "markdown",
   "id": "1e52a000",
   "metadata": {},
   "source": [
    "# Tutorial: Loading, filtering, and visualizing SAMPL-seq datasets"
   ]
  },
  {
   "cell_type": "markdown",
   "id": "96b9e405",
   "metadata": {},
   "source": [
    "This tutorial explains how to process raw SAMPL-seq data and prepare it for model inference. It covers key preprocessing steps, including:\n",
    "- Filtering taxa based on minimum relative abundance\n",
    "- Filtering particles according to the range of reads per particle\n",
    "- Excluding specific taxa, time points, or subjects\n",
    "\n",
    "Additionally, the tutorial demonstrates how to visualize basic data statistics and characteristics prior to running model inference. For demonstration, we use a smaller version of our mouse dataset from the main paper."
   ]
  },
  {
   "cell_type": "code",
   "execution_count": 1,
   "id": "79009970",
   "metadata": {},
   "outputs": [],
   "source": [
    "import numpy as np\n",
    "import torch\n",
    "import pandas as pd\n",
    "from pathlib import Path\n",
    "import matplotlib.pyplot as plt\n",
    "import seaborn as sns\n",
    "import mcspace.visualization as vis"
   ]
  },
  {
   "cell_type": "markdown",
   "id": "3c250bc6",
   "metadata": {},
   "source": [
    "The \"DataSet\" class is used to handle SAMPL-seq data. Import it as follows"
   ]
  },
  {
   "cell_type": "code",
   "execution_count": 2,
   "id": "bd76089f",
   "metadata": {},
   "outputs": [],
   "source": [
    "from mcspace.dataset import DataSet"
   ]
  },
  {
   "cell_type": "markdown",
   "id": "acb5f8a3",
   "metadata": {},
   "source": [
    "# Paths"
   ]
  },
  {
   "cell_type": "code",
   "execution_count": 3,
   "id": "1dad6c61",
   "metadata": {},
   "outputs": [
    {
     "data": {
      "text/plain": [
       "'C:\\\\Users\\\\Gary2\\\\Partners HealthCare Dropbox\\\\Gurdip Uppal\\\\research_bwh\\\\MCSPACE_FINAL\\\\MCSPACE\\\\mcspace\\\\tutorials'"
      ]
     },
     "execution_count": 3,
     "metadata": {},
     "output_type": "execute_result"
    }
   ],
   "source": [
    "pwd"
   ]
  },
  {
   "cell_type": "code",
   "execution_count": 4,
   "id": "0ca4046d",
   "metadata": {},
   "outputs": [
    {
     "name": "stdout",
     "output_type": "stream",
     "text": [
      " Volume in drive C is OS\n",
      " Volume Serial Number is 5E7E-789E\n",
      "\n",
      " Directory of C:\\Users\\Gary2\\Partners HealthCare Dropbox\\Gurdip Uppal\\research_bwh\\MCSPACE_FINAL\\MCSPACE\\mcspace\\tutorials\n",
      "\n",
      "09/30/2024  12:27 PM    <DIR>          .\n",
      "09/30/2024  12:21 PM    <DIR>          ..\n",
      "09/30/2024  11:52 AM    <DIR>          .ipynb_checkpoints\n",
      "09/24/2024  05:54 PM    <DIR>          _old\n",
      "09/30/2024  12:27 PM           716,417 data_loading_and_preprocessing.ipynb\n",
      "09/30/2024  11:54 AM               609 inference_simple_timeseries.ipynb\n",
      "09/30/2024  11:54 AM               609 inference_single_sample_mapseq_data.ipynb\n",
      "09/30/2024  11:53 AM               609 inference_with_perturbations_and_multiple_subjects.ipynb\n",
      "09/30/2024  11:53 AM                11 README.md\n",
      "09/30/2024  11:30 AM            25,453 temp_format_data_preprocess_organize.ipynb\n",
      "09/30/2024  11:12 AM    <DIR>          toy_datasets\n",
      "               6 File(s)        743,708 bytes\n",
      "               5 Dir(s)  891,461,091,328 bytes free\n"
     ]
    }
   ],
   "source": [
    "ls"
   ]
  },
  {
   "cell_type": "code",
   "execution_count": 5,
   "id": "b43629a8",
   "metadata": {},
   "outputs": [],
   "source": [
    "basepath = Path(\"./\")\n",
    "datapath = basepath / \"toy_datasets\"\n",
    "mousepath = datapath / \"mouse_timeseries\""
   ]
  },
  {
   "cell_type": "code",
   "execution_count": 6,
   "id": "6a8e4047",
   "metadata": {},
   "outputs": [
    {
     "name": "stdout",
     "output_type": "stream",
     "text": [
      " Volume in drive C is OS\n",
      " Volume Serial Number is 5E7E-789E\n",
      "\n",
      " Directory of C:\\Users\\Gary2\\Partners HealthCare Dropbox\\Gurdip Uppal\\research_bwh\\MCSPACE_FINAL\\MCSPACE\\mcspace\\tutorials\\toy_datasets\\mouse_timeseries\n",
      "\n",
      "09/30/2024  11:28 AM    <DIR>          .\n",
      "09/30/2024  11:12 AM    <DIR>          ..\n",
      "09/30/2024  11:28 AM        38,502,481 counts.csv\n",
      "08/13/2024  01:22 PM        12,618,963 mouse_counts.csv.gz\n",
      "06/11/2024  12:13 PM           157,797 tax.csv\n",
      "09/30/2024  11:28 AM            89,184 taxonomy.csv\n",
      "               4 File(s)     51,368,425 bytes\n",
      "               2 Dir(s)  891,461,091,328 bytes free\n"
     ]
    }
   ],
   "source": [
    "ls \"./toy_datasets/mouse_timeseries/\""
   ]
  },
  {
   "cell_type": "markdown",
   "id": "13c631ba",
   "metadata": {},
   "source": [
    "### to do (maybe?) - add option for 'list' of files in wide format..."
   ]
  },
  {
   "cell_type": "code",
   "execution_count": null,
   "id": "7dcf0d78",
   "metadata": {},
   "outputs": [],
   "source": []
  },
  {
   "cell_type": "markdown",
   "id": "ffb970da",
   "metadata": {},
   "source": [
    "## Load the raw counts and taxonomy data"
   ]
  },
  {
   "cell_type": "code",
   "execution_count": 7,
   "id": "117349f2",
   "metadata": {},
   "outputs": [],
   "source": [
    "counts = pd.read_csv(mousepath / \"counts.csv\")\n",
    "taxonomy = pd.read_csv(mousepath / \"taxonomy.csv\")"
   ]
  },
  {
   "cell_type": "markdown",
   "id": "e4e56117",
   "metadata": {},
   "source": [
    "The read file is in the following format...\n",
    "\n",
    "Should include columns for\n",
    "- otu\n",
    "- particle\n",
    "- subject\n",
    "- time\n",
    "- count"
   ]
  },
  {
   "cell_type": "code",
   "execution_count": 8,
   "id": "5a6f4eae",
   "metadata": {},
   "outputs": [
    {
     "data": {
      "text/html": [
       "<div>\n",
       "<style scoped>\n",
       "    .dataframe tbody tr th:only-of-type {\n",
       "        vertical-align: middle;\n",
       "    }\n",
       "\n",
       "    .dataframe tbody tr th {\n",
       "        vertical-align: top;\n",
       "    }\n",
       "\n",
       "    .dataframe thead th {\n",
       "        text-align: right;\n",
       "    }\n",
       "</style>\n",
       "<table border=\"1\" class=\"dataframe\">\n",
       "  <thead>\n",
       "    <tr style=\"text-align: right;\">\n",
       "      <th></th>\n",
       "      <th>Particle</th>\n",
       "      <th>OTU</th>\n",
       "      <th>Sample</th>\n",
       "      <th>replicate</th>\n",
       "      <th>Count</th>\n",
       "      <th>Subject</th>\n",
       "      <th>chow</th>\n",
       "      <th>Time</th>\n",
       "    </tr>\n",
       "  </thead>\n",
       "  <tbody>\n",
       "    <tr>\n",
       "      <th>0</th>\n",
       "      <td>20231021_727_1_S_MEbcnum26_43_56</td>\n",
       "      <td>Otu1</td>\n",
       "      <td>20231021_727_1_S_ME</td>\n",
       "      <td>1</td>\n",
       "      <td>238</td>\n",
       "      <td>JX07</td>\n",
       "      <td>standard</td>\n",
       "      <td>35</td>\n",
       "    </tr>\n",
       "    <tr>\n",
       "      <th>1</th>\n",
       "      <td>20231021_727_1_S_MEbcnum60_9_46</td>\n",
       "      <td>Otu1</td>\n",
       "      <td>20231021_727_1_S_ME</td>\n",
       "      <td>1</td>\n",
       "      <td>20711</td>\n",
       "      <td>JX07</td>\n",
       "      <td>standard</td>\n",
       "      <td>35</td>\n",
       "    </tr>\n",
       "    <tr>\n",
       "      <th>2</th>\n",
       "      <td>20231021_727_1_S_MEbcnum60_23_32</td>\n",
       "      <td>Otu1</td>\n",
       "      <td>20231021_727_1_S_ME</td>\n",
       "      <td>1</td>\n",
       "      <td>9343</td>\n",
       "      <td>JX07</td>\n",
       "      <td>standard</td>\n",
       "      <td>35</td>\n",
       "    </tr>\n",
       "    <tr>\n",
       "      <th>3</th>\n",
       "      <td>20231021_727_1_S_MEbcnum60_96_61</td>\n",
       "      <td>Otu1</td>\n",
       "      <td>20231021_727_1_S_ME</td>\n",
       "      <td>1</td>\n",
       "      <td>1424</td>\n",
       "      <td>JX07</td>\n",
       "      <td>standard</td>\n",
       "      <td>35</td>\n",
       "    </tr>\n",
       "    <tr>\n",
       "      <th>4</th>\n",
       "      <td>20231021_727_1_S_MEbcnum60_3_32</td>\n",
       "      <td>Otu1</td>\n",
       "      <td>20231021_727_1_S_ME</td>\n",
       "      <td>1</td>\n",
       "      <td>10694</td>\n",
       "      <td>JX07</td>\n",
       "      <td>standard</td>\n",
       "      <td>35</td>\n",
       "    </tr>\n",
       "  </tbody>\n",
       "</table>\n",
       "</div>"
      ],
      "text/plain": [
       "                           Particle   OTU               Sample replicate  \\\n",
       "0  20231021_727_1_S_MEbcnum26_43_56  Otu1  20231021_727_1_S_ME         1   \n",
       "1   20231021_727_1_S_MEbcnum60_9_46  Otu1  20231021_727_1_S_ME         1   \n",
       "2  20231021_727_1_S_MEbcnum60_23_32  Otu1  20231021_727_1_S_ME         1   \n",
       "3  20231021_727_1_S_MEbcnum60_96_61  Otu1  20231021_727_1_S_ME         1   \n",
       "4   20231021_727_1_S_MEbcnum60_3_32  Otu1  20231021_727_1_S_ME         1   \n",
       "\n",
       "   Count Subject      chow  Time  \n",
       "0    238    JX07  standard    35  \n",
       "1  20711    JX07  standard    35  \n",
       "2   9343    JX07  standard    35  \n",
       "3   1424    JX07  standard    35  \n",
       "4  10694    JX07  standard    35  "
      ]
     },
     "execution_count": 8,
     "metadata": {},
     "output_type": "execute_result"
    }
   ],
   "source": [
    "counts.head()"
   ]
  },
  {
   "cell_type": "markdown",
   "id": "ad150691",
   "metadata": {},
   "source": [
    "The taxonomy file is in the following format"
   ]
  },
  {
   "cell_type": "code",
   "execution_count": 9,
   "id": "8a5eea0b",
   "metadata": {},
   "outputs": [
    {
     "data": {
      "text/html": [
       "<div>\n",
       "<style scoped>\n",
       "    .dataframe tbody tr th:only-of-type {\n",
       "        vertical-align: middle;\n",
       "    }\n",
       "\n",
       "    .dataframe tbody tr th {\n",
       "        vertical-align: top;\n",
       "    }\n",
       "\n",
       "    .dataframe thead th {\n",
       "        text-align: right;\n",
       "    }\n",
       "</style>\n",
       "<table border=\"1\" class=\"dataframe\">\n",
       "  <thead>\n",
       "    <tr style=\"text-align: right;\">\n",
       "      <th></th>\n",
       "      <th>Otu</th>\n",
       "      <th>Domain</th>\n",
       "      <th>Phylum</th>\n",
       "      <th>Class</th>\n",
       "      <th>Order</th>\n",
       "      <th>Family</th>\n",
       "      <th>Genus</th>\n",
       "    </tr>\n",
       "  </thead>\n",
       "  <tbody>\n",
       "    <tr>\n",
       "      <th>0</th>\n",
       "      <td>Otu1</td>\n",
       "      <td>Bacteria</td>\n",
       "      <td>Firmicutes</td>\n",
       "      <td>Bacilli</td>\n",
       "      <td>Lactobacillales</td>\n",
       "      <td>Lactobacillaceae</td>\n",
       "      <td>Lactobacillus</td>\n",
       "    </tr>\n",
       "    <tr>\n",
       "      <th>1</th>\n",
       "      <td>Otu7</td>\n",
       "      <td>Bacteria</td>\n",
       "      <td>Firmicutes</td>\n",
       "      <td>Clostridia</td>\n",
       "      <td>Clostridiales</td>\n",
       "      <td>Lachnospiraceae</td>\n",
       "      <td>Clostridium_XlVa</td>\n",
       "    </tr>\n",
       "    <tr>\n",
       "      <th>2</th>\n",
       "      <td>Otu11</td>\n",
       "      <td>Bacteria</td>\n",
       "      <td>Actinobacteria</td>\n",
       "      <td>Coriobacteriia</td>\n",
       "      <td>Eggerthellales</td>\n",
       "      <td>Eggerthellaceae</td>\n",
       "      <td>Adlercreutzia</td>\n",
       "    </tr>\n",
       "    <tr>\n",
       "      <th>3</th>\n",
       "      <td>Otu8</td>\n",
       "      <td>Bacteria</td>\n",
       "      <td>Bacteroidetes</td>\n",
       "      <td>Bacteroidia</td>\n",
       "      <td>Bacteroidales</td>\n",
       "      <td>Muribaculaceae</td>\n",
       "      <td>Duncaniella</td>\n",
       "    </tr>\n",
       "    <tr>\n",
       "      <th>4</th>\n",
       "      <td>Otu2</td>\n",
       "      <td>Bacteria</td>\n",
       "      <td>Verrucomicrobia</td>\n",
       "      <td>Verrucomicrobiae</td>\n",
       "      <td>Verrucomicrobiales</td>\n",
       "      <td>Akkermansiaceae</td>\n",
       "      <td>Akkermansia</td>\n",
       "    </tr>\n",
       "  </tbody>\n",
       "</table>\n",
       "</div>"
      ],
      "text/plain": [
       "     Otu    Domain           Phylum             Class               Order  \\\n",
       "0   Otu1  Bacteria       Firmicutes           Bacilli     Lactobacillales   \n",
       "1   Otu7  Bacteria       Firmicutes        Clostridia       Clostridiales   \n",
       "2  Otu11  Bacteria   Actinobacteria    Coriobacteriia      Eggerthellales   \n",
       "3   Otu8  Bacteria    Bacteroidetes       Bacteroidia       Bacteroidales   \n",
       "4   Otu2  Bacteria  Verrucomicrobia  Verrucomicrobiae  Verrucomicrobiales   \n",
       "\n",
       "             Family             Genus  \n",
       "0  Lactobacillaceae     Lactobacillus  \n",
       "1   Lachnospiraceae  Clostridium_XlVa  \n",
       "2   Eggerthellaceae     Adlercreutzia  \n",
       "3    Muribaculaceae       Duncaniella  \n",
       "4   Akkermansiaceae       Akkermansia  "
      ]
     },
     "execution_count": 9,
     "metadata": {},
     "output_type": "execute_result"
    }
   ],
   "source": [
    "taxonomy.head()"
   ]
  },
  {
   "cell_type": "markdown",
   "id": "e3e4be21",
   "metadata": {},
   "source": [
    "## Load data into the 'DataSet' class"
   ]
  },
  {
   "cell_type": "code",
   "execution_count": 10,
   "id": "dde85e79",
   "metadata": {},
   "outputs": [],
   "source": [
    "dataset = DataSet(mousepath / \"counts.csv\",\n",
    "                 mousepath / \"taxonomy.csv\")"
   ]
  },
  {
   "cell_type": "markdown",
   "id": "daa8dd64",
   "metadata": {},
   "source": [
    "## remove subject JX09"
   ]
  },
  {
   "cell_type": "code",
   "execution_count": 11,
   "id": "a590619a",
   "metadata": {},
   "outputs": [
    {
     "data": {
      "text/plain": [
       "array(['JX07', 'JX08', 'JX09', 'JX10'], dtype=object)"
      ]
     },
     "execution_count": 11,
     "metadata": {},
     "output_type": "execute_result"
    }
   ],
   "source": [
    "dataset.subjects"
   ]
  },
  {
   "cell_type": "code",
   "execution_count": 12,
   "id": "10ba4a96",
   "metadata": {},
   "outputs": [],
   "source": [
    "dataset.remove_subjects(['JX09'])"
   ]
  },
  {
   "cell_type": "code",
   "execution_count": 13,
   "id": "e0703dc8",
   "metadata": {},
   "outputs": [
    {
     "data": {
      "text/plain": [
       "array(['JX07', 'JX08', 'JX10'], dtype=object)"
      ]
     },
     "execution_count": 13,
     "metadata": {},
     "output_type": "execute_result"
    }
   ],
   "source": [
    "dataset.subjects"
   ]
  },
  {
   "cell_type": "markdown",
   "id": "87db7038",
   "metadata": {},
   "source": [
    "## remove timepoint 43"
   ]
  },
  {
   "cell_type": "code",
   "execution_count": 14,
   "id": "231f8939",
   "metadata": {},
   "outputs": [
    {
     "data": {
      "text/plain": [
       "array([10, 18, 35, 43], dtype=int64)"
      ]
     },
     "execution_count": 14,
     "metadata": {},
     "output_type": "execute_result"
    }
   ],
   "source": [
    "dataset.times"
   ]
  },
  {
   "cell_type": "code",
   "execution_count": 15,
   "id": "1f04f6aa",
   "metadata": {},
   "outputs": [],
   "source": [
    "dataset.remove_times([43])"
   ]
  },
  {
   "cell_type": "code",
   "execution_count": 16,
   "id": "b77c5a55",
   "metadata": {},
   "outputs": [
    {
     "data": {
      "text/plain": [
       "array([10, 18, 35], dtype=int64)"
      ]
     },
     "execution_count": 16,
     "metadata": {},
     "output_type": "execute_result"
    }
   ],
   "source": [
    "dataset.times"
   ]
  },
  {
   "cell_type": "markdown",
   "id": "cbbeb43c",
   "metadata": {},
   "source": [
    "## filter out OTUs by minimum abundance, and consistency across at least 2 subjects"
   ]
  },
  {
   "cell_type": "code",
   "execution_count": 17,
   "id": "c3810781",
   "metadata": {},
   "outputs": [],
   "source": [
    "num_consistent_subjects=2\n",
    "min_abundance=0.005\n",
    "# should these be here too???\n",
    "min_reads=250\n",
    "max_reads=10000"
   ]
  },
  {
   "cell_type": "code",
   "execution_count": 18,
   "id": "ce55fc3b",
   "metadata": {},
   "outputs": [],
   "source": [
    "dataset.consistency_filtering(num_consistent_subjects=num_consistent_subjects, \n",
    "                              min_abundance=min_abundance, \n",
    "                              min_reads=min_reads, \n",
    "                              max_reads=max_reads)"
   ]
  },
  {
   "cell_type": "markdown",
   "id": "90005cfd",
   "metadata": {},
   "source": [
    "### get taxonomy of present taxa"
   ]
  },
  {
   "cell_type": "code",
   "execution_count": 19,
   "id": "e1ec7832",
   "metadata": {},
   "outputs": [],
   "source": [
    "taxa = dataset.get_taxonomy()"
   ]
  },
  {
   "cell_type": "code",
   "execution_count": 20,
   "id": "30ed3324",
   "metadata": {},
   "outputs": [
    {
     "data": {
      "text/html": [
       "<div>\n",
       "<style scoped>\n",
       "    .dataframe tbody tr th:only-of-type {\n",
       "        vertical-align: middle;\n",
       "    }\n",
       "\n",
       "    .dataframe tbody tr th {\n",
       "        vertical-align: top;\n",
       "    }\n",
       "\n",
       "    .dataframe thead th {\n",
       "        text-align: right;\n",
       "    }\n",
       "</style>\n",
       "<table border=\"1\" class=\"dataframe\">\n",
       "  <thead>\n",
       "    <tr style=\"text-align: right;\">\n",
       "      <th></th>\n",
       "      <th>Domain</th>\n",
       "      <th>Phylum</th>\n",
       "      <th>Class</th>\n",
       "      <th>Order</th>\n",
       "      <th>Family</th>\n",
       "      <th>Genus</th>\n",
       "    </tr>\n",
       "    <tr>\n",
       "      <th>Otu</th>\n",
       "      <th></th>\n",
       "      <th></th>\n",
       "      <th></th>\n",
       "      <th></th>\n",
       "      <th></th>\n",
       "      <th></th>\n",
       "    </tr>\n",
       "  </thead>\n",
       "  <tbody>\n",
       "    <tr>\n",
       "      <th>Otu49</th>\n",
       "      <td>Bacteria</td>\n",
       "      <td>Firmicutes</td>\n",
       "      <td>Clostridia</td>\n",
       "      <td>Clostridiales</td>\n",
       "      <td>Lachnospiraceae</td>\n",
       "      <td>Enterocloster</td>\n",
       "    </tr>\n",
       "    <tr>\n",
       "      <th>Otu101</th>\n",
       "      <td>Bacteria</td>\n",
       "      <td>Firmicutes</td>\n",
       "      <td>Clostridia</td>\n",
       "      <td>Clostridiales</td>\n",
       "      <td>Lachnospiraceae</td>\n",
       "      <td>Anaerotignum</td>\n",
       "    </tr>\n",
       "    <tr>\n",
       "      <th>Otu67</th>\n",
       "      <td>Bacteria</td>\n",
       "      <td>Firmicutes</td>\n",
       "      <td>Clostridia</td>\n",
       "      <td>Clostridiales</td>\n",
       "      <td>Lachnospiraceae</td>\n",
       "      <td>na</td>\n",
       "    </tr>\n",
       "    <tr>\n",
       "      <th>Otu32</th>\n",
       "      <td>Bacteria</td>\n",
       "      <td>Firmicutes</td>\n",
       "      <td>Clostridia</td>\n",
       "      <td>Clostridiales</td>\n",
       "      <td>Lachnospiraceae</td>\n",
       "      <td>na</td>\n",
       "    </tr>\n",
       "    <tr>\n",
       "      <th>Otu22</th>\n",
       "      <td>Bacteria</td>\n",
       "      <td>Bacteroidetes</td>\n",
       "      <td>Bacteroidia</td>\n",
       "      <td>Bacteroidales</td>\n",
       "      <td>na</td>\n",
       "      <td>na</td>\n",
       "    </tr>\n",
       "  </tbody>\n",
       "</table>\n",
       "</div>"
      ],
      "text/plain": [
       "          Domain         Phylum        Class          Order           Family  \\\n",
       "Otu                                                                            \n",
       "Otu49   Bacteria     Firmicutes   Clostridia  Clostridiales  Lachnospiraceae   \n",
       "Otu101  Bacteria     Firmicutes   Clostridia  Clostridiales  Lachnospiraceae   \n",
       "Otu67   Bacteria     Firmicutes   Clostridia  Clostridiales  Lachnospiraceae   \n",
       "Otu32   Bacteria     Firmicutes   Clostridia  Clostridiales  Lachnospiraceae   \n",
       "Otu22   Bacteria  Bacteroidetes  Bacteroidia  Bacteroidales               na   \n",
       "\n",
       "                Genus  \n",
       "Otu                    \n",
       "Otu49   Enterocloster  \n",
       "Otu101   Anaerotignum  \n",
       "Otu67              na  \n",
       "Otu32              na  \n",
       "Otu22              na  "
      ]
     },
     "execution_count": 20,
     "metadata": {},
     "output_type": "execute_result"
    }
   ],
   "source": [
    "taxa.head()"
   ]
  },
  {
   "cell_type": "markdown",
   "id": "d1d0f747",
   "metadata": {},
   "source": [
    "### remove exogenous taxa - lactococcus most likely coming from diet, remove from dataset"
   ]
  },
  {
   "cell_type": "code",
   "execution_count": 21,
   "id": "4b4e367b",
   "metadata": {},
   "outputs": [
    {
     "name": "stdout",
     "output_type": "stream",
     "text": [
      "['Otu4']\n"
     ]
    }
   ],
   "source": [
    "Lactococcus_oidxs = list(taxa.loc[taxa['Genus'] == 'Lactococcus',:].index)\n",
    "print(Lactococcus_oidxs)"
   ]
  },
  {
   "cell_type": "code",
   "execution_count": 22,
   "id": "f350d9dc",
   "metadata": {},
   "outputs": [],
   "source": [
    "dataset.remove_otus(Lactococcus_oidxs)"
   ]
  },
  {
   "cell_type": "markdown",
   "id": "45f87418",
   "metadata": {},
   "source": [
    "## filter particles by min and max reads"
   ]
  },
  {
   "cell_type": "code",
   "execution_count": 23,
   "id": "596cfd11",
   "metadata": {},
   "outputs": [],
   "source": [
    "dataset.filter_particle_data(min_reads=min_reads, max_reads=max_reads)"
   ]
  },
  {
   "cell_type": "markdown",
   "id": "c4f46ab1",
   "metadata": {},
   "source": [
    "## get reads, times, and subjects"
   ]
  },
  {
   "cell_type": "code",
   "execution_count": 24,
   "id": "e85f2531",
   "metadata": {},
   "outputs": [],
   "source": [
    "reads = dataset.get_reads()\n",
    "times = dataset.times\n",
    "subjects = dataset.subjects"
   ]
  },
  {
   "cell_type": "code",
   "execution_count": 25,
   "id": "8659fe77",
   "metadata": {},
   "outputs": [
    {
     "name": "stdout",
     "output_type": "stream",
     "text": [
      "[10 18 35]\n",
      "['JX07' 'JX08' 'JX10']\n"
     ]
    }
   ],
   "source": [
    "print(times)\n",
    "print(subjects)"
   ]
  },
  {
   "cell_type": "code",
   "execution_count": 26,
   "id": "0bcffe51",
   "metadata": {},
   "outputs": [
    {
     "name": "stdout",
     "output_type": "stream",
     "text": [
      "dict_keys([10, 18, 35])\n"
     ]
    }
   ],
   "source": [
    "# reads is a dict of dicts...; indices given by times and subjects...\n",
    "print(reads.keys())"
   ]
  },
  {
   "cell_type": "markdown",
   "id": "27800d55",
   "metadata": {},
   "source": [
    "# Visualize data"
   ]
  },
  {
   "cell_type": "markdown",
   "id": "7eb9f44e",
   "metadata": {},
   "source": [
    "### visualize/inspect number of particles remaining for each sample"
   ]
  },
  {
   "cell_type": "code",
   "execution_count": 27,
   "id": "5a50a437",
   "metadata": {},
   "outputs": [],
   "source": [
    "particle_stats = dataset.get_particle_stats()"
   ]
  },
  {
   "cell_type": "code",
   "execution_count": 28,
   "id": "dffcfbc5",
   "metadata": {},
   "outputs": [
    {
     "data": {
      "text/html": [
       "<div>\n",
       "<style scoped>\n",
       "    .dataframe tbody tr th:only-of-type {\n",
       "        vertical-align: middle;\n",
       "    }\n",
       "\n",
       "    .dataframe tbody tr th {\n",
       "        vertical-align: top;\n",
       "    }\n",
       "\n",
       "    .dataframe thead th {\n",
       "        text-align: right;\n",
       "    }\n",
       "</style>\n",
       "<table border=\"1\" class=\"dataframe\">\n",
       "  <thead>\n",
       "    <tr style=\"text-align: right;\">\n",
       "      <th></th>\n",
       "      <th>Time</th>\n",
       "      <th>Subject</th>\n",
       "      <th>Number particles</th>\n",
       "    </tr>\n",
       "  </thead>\n",
       "  <tbody>\n",
       "    <tr>\n",
       "      <th>0</th>\n",
       "      <td>10</td>\n",
       "      <td>JX07</td>\n",
       "      <td>3525</td>\n",
       "    </tr>\n",
       "    <tr>\n",
       "      <th>1</th>\n",
       "      <td>10</td>\n",
       "      <td>JX08</td>\n",
       "      <td>2887</td>\n",
       "    </tr>\n",
       "    <tr>\n",
       "      <th>2</th>\n",
       "      <td>10</td>\n",
       "      <td>JX10</td>\n",
       "      <td>2839</td>\n",
       "    </tr>\n",
       "    <tr>\n",
       "      <th>3</th>\n",
       "      <td>18</td>\n",
       "      <td>JX07</td>\n",
       "      <td>2110</td>\n",
       "    </tr>\n",
       "    <tr>\n",
       "      <th>4</th>\n",
       "      <td>18</td>\n",
       "      <td>JX08</td>\n",
       "      <td>3244</td>\n",
       "    </tr>\n",
       "    <tr>\n",
       "      <th>5</th>\n",
       "      <td>18</td>\n",
       "      <td>JX10</td>\n",
       "      <td>3673</td>\n",
       "    </tr>\n",
       "    <tr>\n",
       "      <th>6</th>\n",
       "      <td>35</td>\n",
       "      <td>JX07</td>\n",
       "      <td>2802</td>\n",
       "    </tr>\n",
       "    <tr>\n",
       "      <th>7</th>\n",
       "      <td>35</td>\n",
       "      <td>JX08</td>\n",
       "      <td>2080</td>\n",
       "    </tr>\n",
       "    <tr>\n",
       "      <th>8</th>\n",
       "      <td>35</td>\n",
       "      <td>JX10</td>\n",
       "      <td>2659</td>\n",
       "    </tr>\n",
       "  </tbody>\n",
       "</table>\n",
       "</div>"
      ],
      "text/plain": [
       "   Time Subject  Number particles\n",
       "0    10    JX07              3525\n",
       "1    10    JX08              2887\n",
       "2    10    JX10              2839\n",
       "3    18    JX07              2110\n",
       "4    18    JX08              3244\n",
       "5    18    JX10              3673\n",
       "6    35    JX07              2802\n",
       "7    35    JX08              2080\n",
       "8    35    JX10              2659"
      ]
     },
     "execution_count": 28,
     "metadata": {},
     "output_type": "execute_result"
    }
   ],
   "source": [
    "particle_stats"
   ]
  },
  {
   "cell_type": "code",
   "execution_count": 29,
   "id": "2c51c24e",
   "metadata": {},
   "outputs": [
    {
     "data": {
      "text/plain": [
       "<matplotlib.legend.Legend at 0x23acf8e5d80>"
      ]
     },
     "execution_count": 29,
     "metadata": {},
     "output_type": "execute_result"
    },
    {
     "data": {
      "image/png": "[encoded data removed]",
      "text/plain": [
       "<Figure size 640x480 with 1 Axes>"
      ]
     },
     "metadata": {},
     "output_type": "display_data"
    }
   ],
   "source": [
    "fig, ax = plt.subplots()\n",
    "ax=sns.barplot(data=particle_stats, x='Time', y='Number particles', hue='Subject', ax=ax)\n",
    "ax.legend(bbox_to_anchor=(1,1), title='Subject')"
   ]
  },
  {
   "cell_type": "markdown",
   "id": "f49b62d2",
   "metadata": {},
   "source": [
    "### visualize/inspect distribution of reads per particle"
   ]
  },
  {
   "cell_type": "code",
   "execution_count": 30,
   "id": "5f74a32f",
   "metadata": {},
   "outputs": [],
   "source": [
    "read_stats = dataset.get_read_stats()"
   ]
  },
  {
   "cell_type": "code",
   "execution_count": 31,
   "id": "c663648f",
   "metadata": {},
   "outputs": [
    {
     "data": {
      "text/html": [
       "<div>\n",
       "<style scoped>\n",
       "    .dataframe tbody tr th:only-of-type {\n",
       "        vertical-align: middle;\n",
       "    }\n",
       "\n",
       "    .dataframe tbody tr th {\n",
       "        vertical-align: top;\n",
       "    }\n",
       "\n",
       "    .dataframe thead th {\n",
       "        text-align: right;\n",
       "    }\n",
       "</style>\n",
       "<table border=\"1\" class=\"dataframe\">\n",
       "  <thead>\n",
       "    <tr style=\"text-align: right;\">\n",
       "      <th></th>\n",
       "      <th>Time</th>\n",
       "      <th>Subject</th>\n",
       "      <th>Particle</th>\n",
       "      <th>Number reads</th>\n",
       "    </tr>\n",
       "  </thead>\n",
       "  <tbody>\n",
       "    <tr>\n",
       "      <th>0</th>\n",
       "      <td>10</td>\n",
       "      <td>JX07</td>\n",
       "      <td>0</td>\n",
       "      <td>344.0</td>\n",
       "    </tr>\n",
       "    <tr>\n",
       "      <th>1</th>\n",
       "      <td>10</td>\n",
       "      <td>JX07</td>\n",
       "      <td>1</td>\n",
       "      <td>413.0</td>\n",
       "    </tr>\n",
       "    <tr>\n",
       "      <th>2</th>\n",
       "      <td>10</td>\n",
       "      <td>JX07</td>\n",
       "      <td>2</td>\n",
       "      <td>8134.0</td>\n",
       "    </tr>\n",
       "    <tr>\n",
       "      <th>3</th>\n",
       "      <td>10</td>\n",
       "      <td>JX07</td>\n",
       "      <td>3</td>\n",
       "      <td>4943.0</td>\n",
       "    </tr>\n",
       "    <tr>\n",
       "      <th>4</th>\n",
       "      <td>10</td>\n",
       "      <td>JX07</td>\n",
       "      <td>4</td>\n",
       "      <td>961.0</td>\n",
       "    </tr>\n",
       "  </tbody>\n",
       "</table>\n",
       "</div>"
      ],
      "text/plain": [
       "   Time Subject  Particle  Number reads\n",
       "0    10    JX07         0         344.0\n",
       "1    10    JX07         1         413.0\n",
       "2    10    JX07         2        8134.0\n",
       "3    10    JX07         3        4943.0\n",
       "4    10    JX07         4         961.0"
      ]
     },
     "execution_count": 31,
     "metadata": {},
     "output_type": "execute_result"
    }
   ],
   "source": [
    "read_stats.head()"
   ]
  },
  {
   "cell_type": "code",
   "execution_count": 32,
   "id": "98c05fe7",
   "metadata": {},
   "outputs": [
    {
     "data": {
      "image/png": "[encoded data removed]",
      "text/plain": [
       "<Figure size 640x480 with 1 Axes>"
      ]
     },
     "metadata": {},
     "output_type": "display_data"
    }
   ],
   "source": [
    "fig, ax = plt.subplots()\n",
    "ax=sns.boxplot(data=read_stats, x='Time', y='Number reads', hue='Subject', ax=ax)\n",
    "ax.legend(bbox_to_anchor=(1,1), title='Subject')\n",
    "ax.set_yscale('log')"
   ]
  },
  {
   "cell_type": "markdown",
   "id": "122ef549",
   "metadata": {},
   "source": [
    "### visualize/inspect (aggregated) relative abundances in each sample"
   ]
  },
  {
   "cell_type": "code",
   "execution_count": 33,
   "id": "223e56c7",
   "metadata": {},
   "outputs": [],
   "source": [
    "relative_abundance = dataset.get_relative_abundances()"
   ]
  },
  {
   "cell_type": "code",
   "execution_count": 34,
   "id": "10156d5e",
   "metadata": {},
   "outputs": [
    {
     "name": "stdout",
     "output_type": "stream",
     "text": [
      "dict_keys(['JX07', 'JX08', 'JX10'])\n"
     ]
    }
   ],
   "source": [
    "print(relative_abundance.keys())"
   ]
  },
  {
   "cell_type": "code",
   "execution_count": 35,
   "id": "11920017",
   "metadata": {},
   "outputs": [
    {
     "data": {
      "text/html": [
       "<div>\n",
       "<style scoped>\n",
       "    .dataframe tbody tr th:only-of-type {\n",
       "        vertical-align: middle;\n",
       "    }\n",
       "\n",
       "    .dataframe tbody tr th {\n",
       "        vertical-align: top;\n",
       "    }\n",
       "\n",
       "    .dataframe thead th {\n",
       "        text-align: right;\n",
       "    }\n",
       "</style>\n",
       "<table border=\"1\" class=\"dataframe\">\n",
       "  <thead>\n",
       "    <tr style=\"text-align: right;\">\n",
       "      <th></th>\n",
       "      <th></th>\n",
       "      <th></th>\n",
       "      <th></th>\n",
       "      <th></th>\n",
       "      <th></th>\n",
       "      <th>10</th>\n",
       "      <th>18</th>\n",
       "      <th>35</th>\n",
       "    </tr>\n",
       "    <tr>\n",
       "      <th>Domain</th>\n",
       "      <th>Phylum</th>\n",
       "      <th>Class</th>\n",
       "      <th>Order</th>\n",
       "      <th>Family</th>\n",
       "      <th>Genus</th>\n",
       "      <th></th>\n",
       "      <th></th>\n",
       "      <th></th>\n",
       "    </tr>\n",
       "  </thead>\n",
       "  <tbody>\n",
       "    <tr>\n",
       "      <th rowspan=\"5\" valign=\"top\">Bacteria</th>\n",
       "      <th rowspan=\"4\" valign=\"top\">Firmicutes</th>\n",
       "      <th rowspan=\"4\" valign=\"top\">Clostridia</th>\n",
       "      <th rowspan=\"4\" valign=\"top\">Clostridiales</th>\n",
       "      <th rowspan=\"4\" valign=\"top\">Lachnospiraceae</th>\n",
       "      <th>Enterocloster</th>\n",
       "      <td>0.012639</td>\n",
       "      <td>0.002710</td>\n",
       "      <td>0.006679</td>\n",
       "    </tr>\n",
       "    <tr>\n",
       "      <th>Anaerotignum</th>\n",
       "      <td>0.000000</td>\n",
       "      <td>0.009596</td>\n",
       "      <td>0.000960</td>\n",
       "    </tr>\n",
       "    <tr>\n",
       "      <th>na</th>\n",
       "      <td>0.000006</td>\n",
       "      <td>0.011367</td>\n",
       "      <td>0.001159</td>\n",
       "    </tr>\n",
       "    <tr>\n",
       "      <th>na</th>\n",
       "      <td>0.001872</td>\n",
       "      <td>0.042867</td>\n",
       "      <td>0.000008</td>\n",
       "    </tr>\n",
       "    <tr>\n",
       "      <th>Bacteroidetes</th>\n",
       "      <th>Bacteroidia</th>\n",
       "      <th>Bacteroidales</th>\n",
       "      <th>na</th>\n",
       "      <th>na</th>\n",
       "      <td>0.111646</td>\n",
       "      <td>0.012523</td>\n",
       "      <td>0.003027</td>\n",
       "    </tr>\n",
       "  </tbody>\n",
       "</table>\n",
       "</div>"
      ],
      "text/plain": [
       "                                                                                      10  \\\n",
       "Domain   Phylum        Class       Order         Family          Genus                     \n",
       "Bacteria Firmicutes    Clostridia  Clostridiales Lachnospiraceae Enterocloster  0.012639   \n",
       "                                                                 Anaerotignum   0.000000   \n",
       "                                                                 na             0.000006   \n",
       "                                                                 na             0.001872   \n",
       "         Bacteroidetes Bacteroidia Bacteroidales na              na             0.111646   \n",
       "\n",
       "                                                                                      18  \\\n",
       "Domain   Phylum        Class       Order         Family          Genus                     \n",
       "Bacteria Firmicutes    Clostridia  Clostridiales Lachnospiraceae Enterocloster  0.002710   \n",
       "                                                                 Anaerotignum   0.009596   \n",
       "                                                                 na             0.011367   \n",
       "                                                                 na             0.042867   \n",
       "         Bacteroidetes Bacteroidia Bacteroidales na              na             0.012523   \n",
       "\n",
       "                                                                                      35  \n",
       "Domain   Phylum        Class       Order         Family          Genus                    \n",
       "Bacteria Firmicutes    Clostridia  Clostridiales Lachnospiraceae Enterocloster  0.006679  \n",
       "                                                                 Anaerotignum   0.000960  \n",
       "                                                                 na             0.001159  \n",
       "                                                                 na             0.000008  \n",
       "         Bacteroidetes Bacteroidia Bacteroidales na              na             0.003027  "
      ]
     },
     "execution_count": 35,
     "metadata": {},
     "output_type": "execute_result"
    }
   ],
   "source": [
    "relative_abundance['JX07'].head()"
   ]
  },
  {
   "cell_type": "code",
   "execution_count": 39,
   "id": "2bce0bbd",
   "metadata": {},
   "outputs": [],
   "source": [
    "def filter_taxa(relabund_df, threshold):\n",
    "    CUTOFF_FRAC_ABUNDANCE = threshold\n",
    "    # Only keep taxa that have relabund mean exceeding threshold.\n",
    "    to_keep = relabund_df.loc[relabund_df.mean(axis=1) > CUTOFF_FRAC_ABUNDANCE]\n",
    "    to_remove = relabund_df.loc[relabund_df.mean(axis=1) <= CUTOFF_FRAC_ABUNDANCE]\n",
    "    to_keep = to_keep.assign(\n",
    "        Avg=np.mean(to_keep.values, axis=1)\n",
    "    ).sort_values('Avg', ascending=False).drop(columns=['Avg'])\n",
    "    return to_keep.index, to_remove.index"
   ]
  },
  {
   "cell_type": "code",
   "execution_count": 42,
   "id": "600c6667",
   "metadata": {},
   "outputs": [],
   "source": [
    "ra = relative_abundance['JX07'].copy()\n",
    "ra_grouped =  ra.groupby(level=['Order','Family']).sum()\n",
    "# to_keep, to_remove = filter_taxa(ra, 0.01)"
   ]
  },
  {
   "cell_type": "code",
   "execution_count": 43,
   "id": "83bdeca7",
   "metadata": {},
   "outputs": [
    {
     "data": {
      "text/html": [
       "<div>\n",
       "<style scoped>\n",
       "    .dataframe tbody tr th:only-of-type {\n",
       "        vertical-align: middle;\n",
       "    }\n",
       "\n",
       "    .dataframe tbody tr th {\n",
       "        vertical-align: top;\n",
       "    }\n",
       "\n",
       "    .dataframe thead th {\n",
       "        text-align: right;\n",
       "    }\n",
       "</style>\n",
       "<table border=\"1\" class=\"dataframe\">\n",
       "  <thead>\n",
       "    <tr style=\"text-align: right;\">\n",
       "      <th></th>\n",
       "      <th></th>\n",
       "      <th>10</th>\n",
       "      <th>18</th>\n",
       "      <th>35</th>\n",
       "    </tr>\n",
       "    <tr>\n",
       "      <th>Order</th>\n",
       "      <th>Family</th>\n",
       "      <th></th>\n",
       "      <th></th>\n",
       "      <th></th>\n",
       "    </tr>\n",
       "  </thead>\n",
       "  <tbody>\n",
       "    <tr>\n",
       "      <th>Bacillales</th>\n",
       "      <th>Bacillaceae_1</th>\n",
       "      <td>0.001142</td>\n",
       "      <td>0.002378</td>\n",
       "      <td>5.030341e-03</td>\n",
       "    </tr>\n",
       "    <tr>\n",
       "      <th rowspan=\"3\" valign=\"top\">Bacteroidales</th>\n",
       "      <th>Muribaculaceae</th>\n",
       "      <td>0.088512</td>\n",
       "      <td>0.015157</td>\n",
       "      <td>1.012047e-02</td>\n",
       "    </tr>\n",
       "    <tr>\n",
       "      <th>Porphyromonadaceae</th>\n",
       "      <td>0.026025</td>\n",
       "      <td>0.000013</td>\n",
       "      <td>7.081131e-03</td>\n",
       "    </tr>\n",
       "    <tr>\n",
       "      <th>na</th>\n",
       "      <td>0.118467</td>\n",
       "      <td>0.037984</td>\n",
       "      <td>4.505062e-03</td>\n",
       "    </tr>\n",
       "    <tr>\n",
       "      <th rowspan=\"5\" valign=\"top\">Clostridiales</th>\n",
       "      <th>Eubacteriaceae</th>\n",
       "      <td>0.002347</td>\n",
       "      <td>0.033153</td>\n",
       "      <td>2.134720e-02</td>\n",
       "    </tr>\n",
       "    <tr>\n",
       "      <th>Lachnospiraceae</th>\n",
       "      <td>0.101746</td>\n",
       "      <td>0.426908</td>\n",
       "      <td>3.622239e-01</td>\n",
       "    </tr>\n",
       "    <tr>\n",
       "      <th>Peptostreptococcaceae</th>\n",
       "      <td>0.000000</td>\n",
       "      <td>0.061898</td>\n",
       "      <td>4.251196e-08</td>\n",
       "    </tr>\n",
       "    <tr>\n",
       "      <th>Ruminococcaceae</th>\n",
       "      <td>0.090502</td>\n",
       "      <td>0.038244</td>\n",
       "      <td>5.117930e-02</td>\n",
       "    </tr>\n",
       "    <tr>\n",
       "      <th>na</th>\n",
       "      <td>0.070192</td>\n",
       "      <td>0.042833</td>\n",
       "      <td>1.189928e-03</td>\n",
       "    </tr>\n",
       "    <tr>\n",
       "      <th>Eggerthellales</th>\n",
       "      <th>Eggerthellaceae</th>\n",
       "      <td>0.015412</td>\n",
       "      <td>0.042942</td>\n",
       "      <td>3.789166e-02</td>\n",
       "    </tr>\n",
       "    <tr>\n",
       "      <th>Erysipelotrichales</th>\n",
       "      <th>Erysipelotrichaceae</th>\n",
       "      <td>0.100761</td>\n",
       "      <td>0.074604</td>\n",
       "      <td>9.958737e-02</td>\n",
       "    </tr>\n",
       "    <tr>\n",
       "      <th>Lactobacillales</th>\n",
       "      <th>Lactobacillaceae</th>\n",
       "      <td>0.369346</td>\n",
       "      <td>0.124735</td>\n",
       "      <td>3.328105e-01</td>\n",
       "    </tr>\n",
       "    <tr>\n",
       "      <th>Verrucomicrobiales</th>\n",
       "      <th>Akkermansiaceae</th>\n",
       "      <td>0.015548</td>\n",
       "      <td>0.099152</td>\n",
       "      <td>6.703313e-02</td>\n",
       "    </tr>\n",
       "  </tbody>\n",
       "</table>\n",
       "</div>"
      ],
      "text/plain": [
       "                                                10        18            35\n",
       "Order              Family                                                 \n",
       "Bacillales         Bacillaceae_1          0.001142  0.002378  5.030341e-03\n",
       "Bacteroidales      Muribaculaceae         0.088512  0.015157  1.012047e-02\n",
       "                   Porphyromonadaceae     0.026025  0.000013  7.081131e-03\n",
       "                   na                     0.118467  0.037984  4.505062e-03\n",
       "Clostridiales      Eubacteriaceae         0.002347  0.033153  2.134720e-02\n",
       "                   Lachnospiraceae        0.101746  0.426908  3.622239e-01\n",
       "                   Peptostreptococcaceae  0.000000  0.061898  4.251196e-08\n",
       "                   Ruminococcaceae        0.090502  0.038244  5.117930e-02\n",
       "                   na                     0.070192  0.042833  1.189928e-03\n",
       "Eggerthellales     Eggerthellaceae        0.015412  0.042942  3.789166e-02\n",
       "Erysipelotrichales Erysipelotrichaceae    0.100761  0.074604  9.958737e-02\n",
       "Lactobacillales    Lactobacillaceae       0.369346  0.124735  3.328105e-01\n",
       "Verrucomicrobiales Akkermansiaceae        0.015548  0.099152  6.703313e-02"
      ]
     },
     "execution_count": 43,
     "metadata": {},
     "output_type": "execute_result"
    }
   ],
   "source": [
    "ra_grouped"
   ]
  },
  {
   "cell_type": "code",
   "execution_count": 45,
   "id": "f336eaef",
   "metadata": {},
   "outputs": [],
   "source": [
    "to_keep, to_remove = filter_taxa(ra_grouped, 0.01)"
   ]
  },
  {
   "cell_type": "code",
   "execution_count": 49,
   "id": "28906cae",
   "metadata": {},
   "outputs": [],
   "source": [
    "\n",
    "def plot_relative_abundances(relabund_df, to_keep, to_remove, ax, cmap='tab20', threshold=0.01):\n",
    "    \"\"\"\n",
    "    Plot the relative abundances as a stacked bar chart.\n",
    "    \"\"\"\n",
    "#     def _filter_taxa(relabund_df, threshold):\n",
    "#         CUTOFF_FRAC_ABUNDANCE = threshold\n",
    "#         # Only keep taxa that have relabund mean exceeding threshold.\n",
    "#         to_keep = relabund_df.loc[relabund_df.mean(axis=1) > CUTOFF_FRAC_ABUNDANCE]\n",
    "#         to_remove = relabund_df.loc[relabund_df.mean(axis=1) <= CUTOFF_FRAC_ABUNDANCE]\n",
    "#         to_keep = to_keep.assign(\n",
    "#             Avg=np.mean(to_keep.values, axis=1)\n",
    "#         ).sort_values('Avg', ascending=False).drop(columns=['Avg'])\n",
    "#         return to_keep.index, to_remove.index\n",
    "\n",
    "#     to_keep, to_remove = _filter_taxa(relabund_df, threshold)\n",
    "\n",
    "    # Only plot the OTUs that have mean relabund exceeding threshold.\n",
    "    to_keep = relabund_df.loc[to_keep]\n",
    "    to_remove = relabund_df.loc[to_remove]\n",
    "    \n",
    "    relabund_df = to_keep.assign(\n",
    "        Avg=np.mean(to_keep.values, axis=1)\n",
    "    ).sort_values('Avg', ascending=False).drop(columns=['Avg'])\n",
    "    relabund_df.loc[('Other', 'Other'), :] = to_remove.sum().values\n",
    "\n",
    "    # Do the plotting.\n",
    "    relabund_df.T.plot.area(stacked=True, ax=ax, cmap=cmap)\n",
    "    \n",
    "    num_t = relabund_df.shape[1]\n",
    "    num_r = relabund_df.shape[0]\n",
    "\n",
    "    times = np.asarray(list(relabund_df.columns))\n",
    "    xlocs = np.arange(0, len(times), step = 10)\n",
    "    ax.set_xticks(xlocs)\n",
    "    ax.set_xticklabels(times[xlocs])\n",
    "    ax.set_ylim([0, 1])\n",
    "    ax.set_xlim([0, num_t - 1])\n",
    "    # handles, labels = ax.get_legend_handles_labels()\n",
    "    return ax #, handles, labels"
   ]
  },
  {
   "cell_type": "code",
   "execution_count": 52,
   "id": "c6f190e9",
   "metadata": {
    "scrolled": false
   },
   "outputs": [
    {
     "data": {
      "text/plain": [
       "<matplotlib.legend.Legend at 0x23ad0f3f610>"
      ]
     },
     "execution_count": 52,
     "metadata": {},
     "output_type": "execute_result"
    },
    {
     "data": {
      "image/png": "[encoded data removed]",
      "text/plain": [
       "<Figure size 640x480 with 1 Axes>"
      ]
     },
     "metadata": {},
     "output_type": "display_data"
    }
   ],
   "source": [
    "fig, ax = plt.subplots()\n",
    "ax = plot_relative_abundances(ra_grouped, to_keep, to_remove, ax)\n",
    "ax.legend(bbox_to_anchor=(1,1), title='Order, Family')"
   ]
  },
  {
   "cell_type": "code",
   "execution_count": null,
   "id": "adcef0fa",
   "metadata": {},
   "outputs": [],
   "source": []
  },
  {
   "cell_type": "code",
   "execution_count": null,
   "id": "1595a998",
   "metadata": {},
   "outputs": [],
   "source": []
  }
 ],
 "metadata": {
  "kernelspec": {
   "display_name": "Python [conda env:mcfinal]",
   "language": "python",
   "name": "conda-env-mcfinal-py"
  },
  "language_info": {
   "codemirror_mode": {
    "name": "ipython",
    "version": 3
   },
   "file_extension": ".py",
   "mimetype": "text/x-python",
   "name": "python",
   "nbconvert_exporter": "python",
   "pygments_lexer": "ipython3",
   "version": "3.10.14"
  }
 },
 "nbformat": 4,
 "nbformat_minor": 5
}
