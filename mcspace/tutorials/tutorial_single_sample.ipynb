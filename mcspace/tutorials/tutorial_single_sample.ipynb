{
 "cells": [
  {
   "cell_type": "markdown",
   "id": "56511295",
   "metadata": {},
   "source": [
    "# Tutorial: Running inference with the MCSPACE model on a single MaPS-seq dataset\n",
    "\n",
    "This tutorial demonstates fitting the model to a single sample. We use the a sample from the mouse colon. The original dataset is taken from: \n",
    "\n",
    "Sheth, R.U., Li, M., Jiang, W., Sims, P.A., Leong, K.W. and Wang, H.H., 2019. Spatial metagenomic characterization of microbial biogeography in the gut. Nature biotechnology, 37(8), pp.877-883."
   ]
  },
  {
   "cell_type": "code",
   "execution_count": 1,
   "id": "41ca0194",
   "metadata": {},
   "outputs": [],
   "source": [
    "import numpy as np\n",
    "import torch\n",
    "from mcspace.model import MCSPACE\n",
    "from mcspace.trainer import train_model\n",
    "from mcspace.data_utils import get_data, get_colon_dataset, get_small_intestine_dataset, get_cecum_dataset\n",
    "from mcspace.utils import get_device, pickle_load, pickle_save, get_summary_stats\n",
    "from pathlib import Path\n",
    "import matplotlib.pyplot as plt\n",
    "import matplotlib as mpl\n",
    "import seaborn as sns\n",
    "import mcspace.visualization as vis"
   ]
  },
  {
   "cell_type": "code",
   "execution_count": 2,
   "id": "fb47d84b",
   "metadata": {},
   "outputs": [],
   "source": [
    "torch.manual_seed(0)\n",
    "np.random.seed(0)"
   ]
  },
  {
   "cell_type": "markdown",
   "id": "c90b239e",
   "metadata": {},
   "source": [
    "# Paths"
   ]
  },
  {
   "cell_type": "code",
   "execution_count": 3,
   "id": "a86b380b",
   "metadata": {},
   "outputs": [],
   "source": [
    "rootpath = Path(\"../\")\n",
    "datapath = rootpath / \"data\""
   ]
  },
  {
   "cell_type": "markdown",
   "id": "cb56fca1",
   "metadata": {},
   "source": [
    "# Load the MaPS-seq colon dataset"
   ]
  },
  {
   "cell_type": "markdown",
   "id": "7a97f264",
   "metadata": {},
   "source": [
    "The full dataset file is contained in the `../data` directory. We use the `get_colon_dataset()` method here to automatically filter and load the dataset in the proper format."
   ]
  },
  {
   "cell_type": "markdown",
   "id": "4738b893",
   "metadata": {},
   "source": [
    "The full dataset contains 10391 particles for 223 OTUs. Many of these OTUs are of very low abundance and many particles have very low number of reads. We first filter our dataset, removing OTUs below a minimum relative abundance of 0.5%. We also remove all particles with fewer than 100 reads and over 10000 reads."
   ]
  },
  {
   "cell_type": "code",
   "execution_count": 4,
   "id": "1b6cabcb",
   "metadata": {},
   "outputs": [],
   "source": [
    "min_abundance=0.005\n",
    "min_reads=100\n",
    "max_reads=10000"
   ]
  },
  {
   "cell_type": "code",
   "execution_count": 5,
   "id": "93549db5",
   "metadata": {},
   "outputs": [],
   "source": [
    "reads, taxonomy = get_colon_dataset(min_abundance=min_abundance, min_reads=min_reads, max_reads=max_reads, datapath=datapath)"
   ]
  },
  {
   "cell_type": "markdown",
   "id": "fbb5c46c",
   "metadata": {},
   "source": [
    "The resulting dataset is a dictionary indexed by time. The values of the dictionary are also dictionaries, indexed by subject. The values for each time and subject is a matrix of count data giving number of particles by the number of OTUs."
   ]
  },
  {
   "cell_type": "code",
   "execution_count": 6,
   "id": "c864215e",
   "metadata": {},
   "outputs": [
    {
     "data": {
      "text/plain": [
       "dict_keys([0])"
      ]
     },
     "execution_count": 6,
     "metadata": {},
     "output_type": "execute_result"
    }
   ],
   "source": [
    "reads.keys()"
   ]
  },
  {
   "cell_type": "code",
   "execution_count": 7,
   "id": "4385af3e",
   "metadata": {},
   "outputs": [
    {
     "data": {
      "text/plain": [
       "dict_keys(['s1'])"
      ]
     },
     "execution_count": 7,
     "metadata": {},
     "output_type": "execute_result"
    }
   ],
   "source": [
    "reads[0].keys()"
   ]
  },
  {
   "cell_type": "code",
   "execution_count": 8,
   "id": "88bb5d41",
   "metadata": {},
   "outputs": [
    {
     "data": {
      "text/plain": [
       "(337, 20)"
      ]
     },
     "execution_count": 8,
     "metadata": {},
     "output_type": "execute_result"
    }
   ],
   "source": [
    "reads[0]['s1'].shape"
   ]
  },
  {
   "cell_type": "markdown",
   "id": "5857ed4a",
   "metadata": {},
   "source": [
    "After filtering, we have 337 particles for 20 OTUs."
   ]
  },
  {
   "cell_type": "markdown",
   "id": "af195299",
   "metadata": {},
   "source": [
    "### We can look at the OTUs that are kept after filtering by looking at the taxonomy dataframe\n",
    "Each row in the taxonomy corresponds to a column in the count matrix"
   ]
  },
  {
   "cell_type": "code",
   "execution_count": 9,
   "id": "c0cd5582",
   "metadata": {},
   "outputs": [
    {
     "data": {
      "text/html": [
       "<div>\n",
       "<style scoped>\n",
       "    .dataframe tbody tr th:only-of-type {\n",
       "        vertical-align: middle;\n",
       "    }\n",
       "\n",
       "    .dataframe tbody tr th {\n",
       "        vertical-align: top;\n",
       "    }\n",
       "\n",
       "    .dataframe thead th {\n",
       "        text-align: right;\n",
       "    }\n",
       "</style>\n",
       "<table border=\"1\" class=\"dataframe\">\n",
       "  <thead>\n",
       "    <tr style=\"text-align: right;\">\n",
       "      <th></th>\n",
       "      <th>Kingdom</th>\n",
       "      <th>Phylum</th>\n",
       "      <th>Class</th>\n",
       "      <th>Order</th>\n",
       "      <th>Family</th>\n",
       "      <th>Genus</th>\n",
       "    </tr>\n",
       "    <tr>\n",
       "      <th>Unnamed: 0</th>\n",
       "      <th></th>\n",
       "      <th></th>\n",
       "      <th></th>\n",
       "      <th></th>\n",
       "      <th></th>\n",
       "      <th></th>\n",
       "    </tr>\n",
       "  </thead>\n",
       "  <tbody>\n",
       "    <tr>\n",
       "      <th>Otu1</th>\n",
       "      <td>Bacteria</td>\n",
       "      <td>Firmicutes</td>\n",
       "      <td>Erysipelotrichia</td>\n",
       "      <td>Erysipelotrichales</td>\n",
       "      <td>Erysipelotrichaceae</td>\n",
       "      <td>Turicibacter</td>\n",
       "    </tr>\n",
       "    <tr>\n",
       "      <th>Otu2</th>\n",
       "      <td>Bacteria</td>\n",
       "      <td>Actinobacteria</td>\n",
       "      <td>Coriobacteriia</td>\n",
       "      <td>Coriobacteriales</td>\n",
       "      <td>Atopobiaceae</td>\n",
       "      <td>Olsenella</td>\n",
       "    </tr>\n",
       "    <tr>\n",
       "      <th>Otu4</th>\n",
       "      <td>Bacteria</td>\n",
       "      <td>Bacteroidetes</td>\n",
       "      <td>Bacteroidia</td>\n",
       "      <td>Bacteroidales</td>\n",
       "      <td>Muribaculaceae</td>\n",
       "      <td>Duncaniella</td>\n",
       "    </tr>\n",
       "    <tr>\n",
       "      <th>Otu3</th>\n",
       "      <td>Bacteria</td>\n",
       "      <td>Firmicutes</td>\n",
       "      <td>Bacilli</td>\n",
       "      <td>Lactobacillales</td>\n",
       "      <td>Lactobacillaceae</td>\n",
       "      <td>Lactobacillus</td>\n",
       "    </tr>\n",
       "    <tr>\n",
       "      <th>Otu11</th>\n",
       "      <td>Bacteria</td>\n",
       "      <td>Firmicutes</td>\n",
       "      <td>Clostridia</td>\n",
       "      <td>Clostridiales</td>\n",
       "      <td>Lachnospiraceae</td>\n",
       "      <td>Clostridium XlVa</td>\n",
       "    </tr>\n",
       "  </tbody>\n",
       "</table>\n",
       "</div>"
      ],
      "text/plain": [
       "             Kingdom          Phylum             Class               Order  \\\n",
       "Unnamed: 0                                                                   \n",
       "Otu1        Bacteria      Firmicutes  Erysipelotrichia  Erysipelotrichales   \n",
       "Otu2        Bacteria  Actinobacteria    Coriobacteriia    Coriobacteriales   \n",
       "Otu4        Bacteria   Bacteroidetes       Bacteroidia       Bacteroidales   \n",
       "Otu3        Bacteria      Firmicutes           Bacilli     Lactobacillales   \n",
       "Otu11       Bacteria      Firmicutes        Clostridia       Clostridiales   \n",
       "\n",
       "                         Family             Genus  \n",
       "Unnamed: 0                                         \n",
       "Otu1        Erysipelotrichaceae      Turicibacter  \n",
       "Otu2               Atopobiaceae         Olsenella  \n",
       "Otu4             Muribaculaceae       Duncaniella  \n",
       "Otu3           Lactobacillaceae     Lactobacillus  \n",
       "Otu11           Lachnospiraceae  Clostridium XlVa  "
      ]
     },
     "execution_count": 9,
     "metadata": {},
     "output_type": "execute_result"
    }
   ],
   "source": [
    "taxonomy.head()"
   ]
  },
  {
   "cell_type": "markdown",
   "id": "f77542d0",
   "metadata": {},
   "source": [
    "# Setup model"
   ]
  },
  {
   "cell_type": "markdown",
   "id": "2e617db4",
   "metadata": {},
   "source": [
    "We next setup model parameters and create a MCSPACE model object."
   ]
  },
  {
   "cell_type": "code",
   "execution_count": 10,
   "id": "b26985fa",
   "metadata": {},
   "outputs": [],
   "source": [
    "# The get device function returns a torch device object (cpu or cuda)\n",
    "device = get_device()"
   ]
  },
  {
   "cell_type": "code",
   "execution_count": 11,
   "id": "f1e4dbdd",
   "metadata": {},
   "outputs": [],
   "source": [
    "# The get data method returns data used for model inference given read data and the device\n",
    "data = get_data(reads, device)"
   ]
  },
  {
   "cell_type": "markdown",
   "id": "ac19471a",
   "metadata": {},
   "source": [
    "We next create parameters for the number of OTUs in the dataset. The number of assemblages the model is allowed to learn. The times and subjects present in the dataset. The times that are perturbed (if any), as well as paramters for the perturbation indicator prior and sparsity indicator prior."
   ]
  },
  {
   "cell_type": "code",
   "execution_count": 12,
   "id": "6b82000e",
   "metadata": {},
   "outputs": [],
   "source": [
    "num_otus = taxonomy.shape[0]\n",
    "num_assemblages = 50\n",
    "times = list(reads.keys())\n",
    "subjects = list(reads[times[0]].keys())\n",
    "perturbed_times = []\n",
    "perturbation_prior = None\n",
    "sparsity_prior = 0.5/num_assemblages"
   ]
  },
  {
   "cell_type": "markdown",
   "id": "bbefa135",
   "metadata": {},
   "source": [
    "The sparsity prior is set to have 1 assemblage present in expectation. Additionally, we specify a power so that the prior scales with the amount of data given in the model. This is because the Multinomial noise model also scales with the data. We rescale the prior to balance the likelihood with the prior. We set the prior power to 0.1 times the number of reads in the data."
   ]
  },
  {
   "cell_type": "code",
   "execution_count": 13,
   "id": "5fab70c1",
   "metadata": {},
   "outputs": [],
   "source": [
    "num_reads = 0\n",
    "for t in times:\n",
    "    for s in subjects:\n",
    "        num_reads += reads[t][s].sum()\n",
    "sparsity_prior_power = 0.1*num_reads"
   ]
  },
  {
   "cell_type": "markdown",
   "id": "417ee767",
   "metadata": {},
   "source": [
    "Additional options for time series data. We can set a process variance and prior to model drift over time as well. Since we only have one time point in this example, we turn these options off."
   ]
  },
  {
   "cell_type": "code",
   "execution_count": 14,
   "id": "c3a5981f",
   "metadata": {},
   "outputs": [],
   "source": [
    "process_var_prior = None\n",
    "add_process_var=False"
   ]
  },
  {
   "cell_type": "markdown",
   "id": "6a804934",
   "metadata": {},
   "source": [
    "### instantiate model"
   ]
  },
  {
   "cell_type": "code",
   "execution_count": 15,
   "id": "102d73b7",
   "metadata": {},
   "outputs": [],
   "source": [
    "model = MCSPACE(num_assemblages,\n",
    "                num_otus,\n",
    "                times,\n",
    "                subjects,\n",
    "                perturbed_times,\n",
    "                perturbation_prior,\n",
    "                sparsity_prior,\n",
    "                sparsity_prior_power,\n",
    "                process_var_prior,\n",
    "                device,\n",
    "                add_process_var)"
   ]
  },
  {
   "cell_type": "code",
   "execution_count": 16,
   "id": "a5e58621",
   "metadata": {},
   "outputs": [
    {
     "data": {
      "text/plain": [
       "MCSPACE(\n",
       "  (beta_params): AssemblageProportions(\n",
       "    (sparsity_params): SparsityIndicatorPowerScale()\n",
       "    (latent_distrib): LatentTimeSeriesMixtureWeights(\n",
       "      (q_encode): Sequential(\n",
       "        (0): Linear(in_features=20, out_features=50, bias=True)\n",
       "        (1): Softplus(beta=1, threshold=20)\n",
       "        (2): Linear(in_features=50, out_features=50, bias=True)\n",
       "        (3): Softplus(beta=1, threshold=20)\n",
       "      )\n",
       "      (q_mu_params): Linear(in_features=50, out_features=50, bias=True)\n",
       "      (q_var_params): Linear(in_features=50, out_features=50, bias=True)\n",
       "    )\n",
       "  )\n",
       ")"
      ]
     },
     "execution_count": 16,
     "metadata": {},
     "output_type": "execute_result"
    }
   ],
   "source": [
    "model.to(device)"
   ]
  },
  {
   "cell_type": "markdown",
   "id": "ba695a7f",
   "metadata": {},
   "source": [
    "# Train model"
   ]
  },
  {
   "cell_type": "markdown",
   "id": "c8a05863",
   "metadata": {},
   "source": [
    "Set the number of training epochs."
   ]
  },
  {
   "cell_type": "code",
   "execution_count": 17,
   "id": "21153c17",
   "metadata": {},
   "outputs": [],
   "source": [
    "num_epochs = 5000"
   ]
  },
  {
   "cell_type": "markdown",
   "id": "37815911",
   "metadata": {},
   "source": [
    "Train the model."
   ]
  },
  {
   "cell_type": "code",
   "execution_count": 18,
   "id": "fc008fa2",
   "metadata": {},
   "outputs": [
    {
     "name": "stdout",
     "output_type": "stream",
     "text": [
      "\n",
      "epoch 0\n",
      "ELBO =  tensor(9637588., device='cuda:0', grad_fn=<NegBackward0>)\n",
      "\n",
      "epoch 100\n",
      "ELBO =  tensor(8195147., device='cuda:0', grad_fn=<NegBackward0>)\n",
      "\n",
      "epoch 200\n",
      "ELBO =  tensor(6932276.5000, device='cuda:0', grad_fn=<NegBackward0>)\n",
      "\n",
      "epoch 300\n",
      "ELBO =  tensor(5920077., device='cuda:0', grad_fn=<NegBackward0>)\n",
      "\n",
      "epoch 400\n",
      "ELBO =  tensor(5163719., device='cuda:0', grad_fn=<NegBackward0>)\n",
      "\n",
      "epoch 500\n",
      "ELBO =  tensor(4692028., device='cuda:0', grad_fn=<NegBackward0>)\n",
      "\n",
      "epoch 600\n",
      "ELBO =  tensor(4415343.5000, device='cuda:0', grad_fn=<NegBackward0>)\n",
      "\n",
      "epoch 700\n",
      "ELBO =  tensor(4236524.5000, device='cuda:0', grad_fn=<NegBackward0>)\n",
      "\n",
      "epoch 800\n",
      "ELBO =  tensor(4091237.5000, device='cuda:0', grad_fn=<NegBackward0>)\n",
      "\n",
      "epoch 900\n",
      "ELBO =  tensor(3985013., device='cuda:0', grad_fn=<NegBackward0>)\n",
      "\n",
      "epoch 1000\n",
      "ELBO =  tensor(3913253.5000, device='cuda:0', grad_fn=<NegBackward0>)\n",
      "\n",
      "epoch 1100\n",
      "ELBO =  tensor(3878005.7500, device='cuda:0', grad_fn=<NegBackward0>)\n",
      "\n",
      "epoch 1200\n",
      "ELBO =  tensor(3825929.5000, device='cuda:0', grad_fn=<NegBackward0>)\n",
      "\n",
      "epoch 1300\n",
      "ELBO =  tensor(3777787.2500, device='cuda:0', grad_fn=<NegBackward0>)\n",
      "\n",
      "epoch 1400\n",
      "ELBO =  tensor(3741924., device='cuda:0', grad_fn=<NegBackward0>)\n",
      "\n",
      "epoch 1500\n",
      "ELBO =  tensor(3701407., device='cuda:0', grad_fn=<NegBackward0>)\n",
      "\n",
      "epoch 1600\n",
      "ELBO =  tensor(3696848.5000, device='cuda:0', grad_fn=<NegBackward0>)\n",
      "\n",
      "epoch 1700\n",
      "ELBO =  tensor(3690276.7500, device='cuda:0', grad_fn=<NegBackward0>)\n",
      "\n",
      "epoch 1800\n",
      "ELBO =  tensor(3660179.2500, device='cuda:0', grad_fn=<NegBackward0>)\n",
      "\n",
      "epoch 1900\n",
      "ELBO =  tensor(3637577., device='cuda:0', grad_fn=<NegBackward0>)\n",
      "\n",
      "epoch 2000\n",
      "ELBO =  tensor(3637071.2500, device='cuda:0', grad_fn=<NegBackward0>)\n",
      "\n",
      "epoch 2100\n",
      "ELBO =  tensor(3644480., device='cuda:0', grad_fn=<NegBackward0>)\n",
      "\n",
      "epoch 2200\n",
      "ELBO =  tensor(3651643., device='cuda:0', grad_fn=<NegBackward0>)\n",
      "\n",
      "epoch 2300\n",
      "ELBO =  tensor(3647521.5000, device='cuda:0', grad_fn=<NegBackward0>)\n",
      "\n",
      "epoch 2400\n",
      "ELBO =  tensor(3655052.7500, device='cuda:0', grad_fn=<NegBackward0>)\n",
      "\n",
      "epoch 2500\n",
      "ELBO =  tensor(3656097., device='cuda:0', grad_fn=<NegBackward0>)\n",
      "\n",
      "epoch 2600\n",
      "ELBO =  tensor(3657415.5000, device='cuda:0', grad_fn=<NegBackward0>)\n",
      "\n",
      "epoch 2700\n",
      "ELBO =  tensor(3650569., device='cuda:0', grad_fn=<NegBackward0>)\n",
      "\n",
      "epoch 2800\n",
      "ELBO =  tensor(3631538.5000, device='cuda:0', grad_fn=<NegBackward0>)\n",
      "\n",
      "epoch 2900\n",
      "ELBO =  tensor(3635939.7500, device='cuda:0', grad_fn=<NegBackward0>)\n",
      "\n",
      "epoch 3000\n",
      "ELBO =  tensor(3637086.5000, device='cuda:0', grad_fn=<NegBackward0>)\n",
      "\n",
      "epoch 3100\n",
      "ELBO =  tensor(3626618.5000, device='cuda:0', grad_fn=<NegBackward0>)\n",
      "\n",
      "epoch 3200\n",
      "ELBO =  tensor(3607027.7500, device='cuda:0', grad_fn=<NegBackward0>)\n",
      "\n",
      "epoch 3300\n",
      "ELBO =  tensor(3606435.5000, device='cuda:0', grad_fn=<NegBackward0>)\n",
      "\n",
      "epoch 3400\n",
      "ELBO =  tensor(3623584.2500, device='cuda:0', grad_fn=<NegBackward0>)\n",
      "\n",
      "epoch 3500\n",
      "ELBO =  tensor(3632006., device='cuda:0', grad_fn=<NegBackward0>)\n",
      "\n",
      "epoch 3600\n",
      "ELBO =  tensor(3634415.2500, device='cuda:0', grad_fn=<NegBackward0>)\n",
      "\n",
      "epoch 3700\n",
      "ELBO =  tensor(3632363., device='cuda:0', grad_fn=<NegBackward0>)\n",
      "\n",
      "epoch 3800\n",
      "ELBO =  tensor(3635338., device='cuda:0', grad_fn=<NegBackward0>)\n",
      "\n",
      "epoch 3900\n",
      "ELBO =  tensor(3647318.7500, device='cuda:0', grad_fn=<NegBackward0>)\n",
      "\n",
      "epoch 4000\n",
      "ELBO =  tensor(3666519., device='cuda:0', grad_fn=<NegBackward0>)\n",
      "\n",
      "epoch 4100\n",
      "ELBO =  tensor(3661317.5000, device='cuda:0', grad_fn=<NegBackward0>)\n",
      "\n",
      "epoch 4200\n",
      "ELBO =  tensor(3662242.7500, device='cuda:0', grad_fn=<NegBackward0>)\n",
      "\n",
      "epoch 4300\n",
      "ELBO =  tensor(3652101.2500, device='cuda:0', grad_fn=<NegBackward0>)\n",
      "\n",
      "epoch 4400\n",
      "ELBO =  tensor(3635755.7500, device='cuda:0', grad_fn=<NegBackward0>)\n",
      "\n",
      "epoch 4500\n",
      "ELBO =  tensor(3628798.2500, device='cuda:0', grad_fn=<NegBackward0>)\n",
      "\n",
      "epoch 4600\n",
      "ELBO =  tensor(3623813., device='cuda:0', grad_fn=<NegBackward0>)\n",
      "\n",
      "epoch 4700\n",
      "ELBO =  tensor(3610613.2500, device='cuda:0', grad_fn=<NegBackward0>)\n",
      "\n",
      "epoch 4800\n",
      "ELBO =  tensor(3599539.5000, device='cuda:0', grad_fn=<NegBackward0>)\n",
      "\n",
      "epoch 4900\n",
      "ELBO =  tensor(3594201.5000, device='cuda:0', grad_fn=<NegBackward0>)\n"
     ]
    }
   ],
   "source": [
    "elbos = train_model(model, data, num_epochs)"
   ]
  },
  {
   "cell_type": "markdown",
   "id": "ec461c9a",
   "metadata": {},
   "source": [
    "# Plot training loss over epochs\n",
    "We plot the training loss over time to ensure the model has converged"
   ]
  },
  {
   "cell_type": "code",
   "execution_count": 19,
   "id": "360b9103",
   "metadata": {},
   "outputs": [
    {
     "data": {
      "text/plain": [
       "Text(0, 0.5, 'ELBO loss')"
      ]
     },
     "execution_count": 19,
     "metadata": {},
     "output_type": "execute_result"
    },
    {
     "data": {
      "image/png": "[encoded data removed]",
      "text/plain": [
       "<Figure size 640x480 with 1 Axes>"
      ]
     },
     "metadata": {},
     "output_type": "display_data"
    }
   ],
   "source": [
    "fig, ax = plt.subplots()\n",
    "ax.plot(elbos)\n",
    "ax.set_xlabel(\"Epoch\")\n",
    "ax.set_ylabel(\"ELBO loss\")"
   ]
  },
  {
   "cell_type": "markdown",
   "id": "b5e77c5b",
   "metadata": {},
   "source": [
    "# Visualize results"
   ]
  },
  {
   "cell_type": "markdown",
   "id": "6137c352",
   "metadata": {},
   "source": [
    "We obtain posterior summary values for perturbation Bayes factors, assemblage proportions, and assemblages with the `get_summary_stats()` method."
   ]
  },
  {
   "cell_type": "code",
   "execution_count": 20,
   "id": "b3355c89",
   "metadata": {},
   "outputs": [],
   "source": [
    "pert_bf, beta, theta = get_summary_stats(model, data)"
   ]
  },
  {
   "cell_type": "code",
   "execution_count": 21,
   "id": "43f932c0",
   "metadata": {},
   "outputs": [],
   "source": [
    "pert_bf"
   ]
  },
  {
   "cell_type": "markdown",
   "id": "ced82d84",
   "metadata": {},
   "source": [
    "Since there are no perturbations in this example, the pert_bf=None"
   ]
  },
  {
   "cell_type": "code",
   "execution_count": 22,
   "id": "a9b4004f",
   "metadata": {},
   "outputs": [
    {
     "data": {
      "text/plain": [
       "(12, 1, 1)"
      ]
     },
     "execution_count": 22,
     "metadata": {},
     "output_type": "execute_result"
    }
   ],
   "source": [
    "beta.shape"
   ]
  },
  {
   "cell_type": "code",
   "execution_count": 23,
   "id": "78f1daf9",
   "metadata": {},
   "outputs": [
    {
     "data": {
      "text/plain": [
       "(12, 20)"
      ]
     },
     "execution_count": 23,
     "metadata": {},
     "output_type": "execute_result"
    }
   ],
   "source": [
    "theta.shape"
   ]
  },
  {
   "cell_type": "markdown",
   "id": "66670c97",
   "metadata": {},
   "source": [
    "We next visualize the learned assemblages and their proportions. We first cluster the otus and assemblages to get a more informative visulalization."
   ]
  },
  {
   "cell_type": "code",
   "execution_count": 24,
   "id": "3d36e0ec",
   "metadata": {},
   "outputs": [],
   "source": [
    "otu_order, assemblage_order = vis.get_clustered_otu_assemblage_ordering(theta)"
   ]
  },
  {
   "cell_type": "markdown",
   "id": "a81b9c7e",
   "metadata": {},
   "source": [
    "Finally, we can visualize the inferred spatial assemblages and their proprotions."
   ]
  },
  {
   "cell_type": "code",
   "execution_count": 25,
   "id": "607e2f52",
   "metadata": {},
   "outputs": [],
   "source": [
    "labels=['Colon']"
   ]
  },
  {
   "cell_type": "code",
   "execution_count": 26,
   "id": "3528ba7b",
   "metadata": {},
   "outputs": [
    {
     "data": {
      "text/plain": [
       "(<Figure size 850x1320 with 4 Axes>,\n",
       " <Axes: >,\n",
       " <Axes: xlabel='Spatial assemblage'>,\n",
       " <matplotlib.colorbar.Colorbar at 0x22102169cf0>,\n",
       " <matplotlib.colorbar.Colorbar at 0x2210216a770>)"
      ]
     },
     "execution_count": 26,
     "metadata": {},
     "output_type": "execute_result"
    },
    {
     "data": {
      "image/png": "[encoded data removed]",
      "text/plain": [
       "<Figure size 850x1320 with 4 Axes>"
      ]
     },
     "metadata": {},
     "output_type": "display_data"
    }
   ],
   "source": [
    "vis.render_proportions_and_assemblages(beta, theta, taxonomy, otu_order, assemblage_order, ylabels=labels)"
   ]
  },
  {
   "cell_type": "code",
   "execution_count": null,
   "id": "b5ee41d0",
   "metadata": {},
   "outputs": [],
   "source": []
  }
 ],
 "metadata": {
  "kernelspec": {
   "display_name": "Python [conda env:mcspace3]",
   "language": "python",
   "name": "conda-env-mcspace3-py"
  },
  "language_info": {
   "codemirror_mode": {
    "name": "ipython",
    "version": 3
   },
   "file_extension": ".py",
   "mimetype": "text/x-python",
   "name": "python",
   "nbconvert_exporter": "python",
   "pygments_lexer": "ipython3",
   "version": "3.10.13"
  }
 },
 "nbformat": 4,
 "nbformat_minor": 5
}
