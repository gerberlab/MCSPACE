{
 "cells": [
  {
   "cell_type": "markdown",
   "id": "9088e941",
   "metadata": {},
   "source": [
    "# Tutorial 1: data visualization"
   ]
  },
  {
   "cell_type": "markdown",
   "id": "464ecf4f",
   "metadata": {},
   "source": [
    "Here we demonstrate how to visualize raw MaPS-seq data and how to format data"
   ]
  },
  {
   "cell_type": "code",
   "execution_count": 2,
   "id": "b984d886",
   "metadata": {},
   "outputs": [],
   "source": [
    "import matplotlib.pyplot as plt\n",
    "import numpy as np\n",
    "import mcspace.visualization as vis\n",
    "from mcspace.dataset import PerturbationDataSet\n",
    "from pathlib import Path"
   ]
  },
  {
   "cell_type": "markdown",
   "id": "d4b325d9",
   "metadata": {},
   "source": [
    "## show FMT data"
   ]
  },
  {
   "cell_type": "code",
   "execution_count": 3,
   "id": "a4f055d4",
   "metadata": {},
   "outputs": [
    {
     "name": "stdout",
     "output_type": "stream",
     "text": [
      " Volume in drive C is OS\n",
      " Volume Serial Number is 7CF0-0838\n",
      "\n",
      " Directory of C:\\Users\\guppa\\Dropbox (Partners HealthCare)\\research_bwh\\mapseq_topic_model_JULY_2022\\MCSPACE_model\\mcspace\\tutorials\n",
      "\n",
      "07/26/2023  12:29 PM    <DIR>          .\n",
      "08/05/2023  04:37 PM    <DIR>          ..\n",
      "04/01/2023  10:43 AM    <DIR>          .ipynb_checkpoints\n",
      "07/26/2023  01:42 AM            12,954 tutorial1_data_visualization.ipynb\n",
      "07/26/2023  12:29 PM             3,581 tutorial2_inference.ipynb\n",
      "               2 File(s)         16,535 bytes\n",
      "               3 Dir(s)  49,210,875,904 bytes free\n"
     ]
    }
   ],
   "source": [
    "ls"
   ]
  },
  {
   "cell_type": "code",
   "execution_count": 5,
   "id": "81d5e004",
   "metadata": {
    "scrolled": true
   },
   "outputs": [
    {
     "name": "stdout",
     "output_type": "stream",
     "text": [
      " Volume in drive C is OS\n",
      " Volume Serial Number is 7CF0-0838\n",
      "\n",
      " Directory of C:\\Users\\guppa\\Dropbox (Partners HealthCare)\\research_bwh\\mapseq_topic_model_JULY_2022\\MCSPACE_model\\mcspace\\data\\FMT_MAPSEQ_data\\processed_data\n",
      "\n",
      "08/05/2023  02:54 PM    <DIR>          .\n",
      "08/05/2023  02:55 PM    <DIR>          ..\n",
      "08/05/2023  02:49 PM         7,652,385 env_data.tsv\n",
      "08/05/2023  02:54 PM        14,639,349 env2jax_data.tsv\n",
      "08/05/2023  02:47 PM         7,331,013 jax_data.tsv\n",
      "               3 File(s)     29,622,747 bytes\n",
      "               2 Dir(s)  49,210,728,448 bytes free\n"
     ]
    }
   ],
   "source": [
    "ls \"../data/FMT_MAPSEQ_data/processed_data\""
   ]
  },
  {
   "cell_type": "code",
   "execution_count": 8,
   "id": "690ec657",
   "metadata": {},
   "outputs": [],
   "source": [
    "datapath = Path(\"../data/FMT_MAPSEQ_data/processed_data\")"
   ]
  },
  {
   "cell_type": "code",
   "execution_count": 9,
   "id": "4f82d8f4",
   "metadata": {},
   "outputs": [
    {
     "name": "stdout",
     "output_type": "stream",
     "text": [
      "processing pre-perturbed data\n",
      "processing subject J1\n",
      "processing subject J2\n",
      "processing subject J3\n",
      "processing subject J4\n",
      "processing post-perturbed data\n",
      "processing subject JE10\n",
      "processing subject JE11\n",
      "processing subject JE12\n",
      "processing subject JE9\n",
      "processing comparator data\n",
      "processing subject E5\n",
      "processing subject E6\n",
      "processing subject E7\n",
      "processing subject E8\n"
     ]
    }
   ],
   "source": [
    "dataset = PerturbationDataSet(pre_perturb=datapath / \"jax_data.tsv\",\n",
    "                             post_perturb=datapath / \"env2jax_data.tsv\",\n",
    "                             comparator=datapath / \"env_data.tsv\")"
   ]
  },
  {
   "cell_type": "code",
   "execution_count": 11,
   "id": "71f0f2ec",
   "metadata": {},
   "outputs": [
    {
     "name": "stdout",
     "output_type": "stream",
     "text": [
      "3 groups: pre-perturb, post-perturb, comparator\n",
      "1153 OTUs in study\n",
      "4 subjects per group\n",
      "stats for pre_perturb group:\n",
      "\t Subject J1:\n",
      "\t\t 35474 particles\n",
      "\t\t min read depth: 1\n",
      "\t\t median read depth: 7.0\n",
      "\t\t max read depth: 129681\n",
      "\t Subject J2:\n",
      "\t\t 48485 particles\n",
      "\t\t min read depth: 1\n",
      "\t\t median read depth: 6.0\n",
      "\t\t max read depth: 696825\n",
      "\t Subject J3:\n",
      "\t\t 19609 particles\n",
      "\t\t min read depth: 1\n",
      "\t\t median read depth: 1.0\n",
      "\t\t max read depth: 242452\n",
      "\t Subject J4:\n",
      "\t\t 6529 particles\n",
      "\t\t min read depth: 1\n",
      "\t\t median read depth: 23.0\n",
      "\t\t max read depth: 250587\n",
      "\t 110097 particles for group pre_perturb\n",
      "\n",
      "\n",
      "stats for post_perturb group:\n",
      "\t Subject JE10:\n",
      "\t\t 77072 particles\n",
      "\t\t min read depth: 1\n",
      "\t\t median read depth: 3.0\n",
      "\t\t max read depth: 78303\n",
      "\t Subject JE11:\n",
      "\t\t 58836 particles\n",
      "\t\t min read depth: 1\n",
      "\t\t median read depth: 3.0\n",
      "\t\t max read depth: 74237\n",
      "\t Subject JE12:\n",
      "\t\t 34643 particles\n",
      "\t\t min read depth: 1\n",
      "\t\t median read depth: 2.0\n",
      "\t\t max read depth: 273471\n",
      "\t Subject JE9:\n",
      "\t\t 30496 particles\n",
      "\t\t min read depth: 1\n",
      "\t\t median read depth: 1.0\n",
      "\t\t max read depth: 208766\n",
      "\t 201047 particles for group post_perturb\n",
      "\n",
      "\n",
      "stats for comparator group:\n",
      "\t Subject E5:\n",
      "\t\t 7490 particles\n",
      "\t\t min read depth: 1\n",
      "\t\t median read depth: 39.0\n",
      "\t\t max read depth: 27081\n",
      "\t Subject E6:\n",
      "\t\t 18312 particles\n",
      "\t\t min read depth: 1\n",
      "\t\t median read depth: 6.0\n",
      "\t\t max read depth: 76390\n",
      "\t Subject E7:\n",
      "\t\t 24037 particles\n",
      "\t\t min read depth: 1\n",
      "\t\t median read depth: 7.0\n",
      "\t\t max read depth: 76748\n",
      "\t Subject E8:\n",
      "\t\t 42486 particles\n",
      "\t\t min read depth: 1\n",
      "\t\t median read depth: 3.0\n",
      "\t\t max read depth: 73208\n",
      "\t 92325 particles for group comparator\n",
      "\n",
      "\n"
     ]
    }
   ],
   "source": [
    "dataset.describe()"
   ]
  },
  {
   "cell_type": "markdown",
   "id": "782dcbfe",
   "metadata": {},
   "source": [
    "## filter data\n",
    "Filter particles and otus...\n",
    "...decide on final criteria and describe methods here and in paper"
   ]
  },
  {
   "cell_type": "code",
   "execution_count": 12,
   "id": "d39685c5",
   "metadata": {},
   "outputs": [
    {
     "name": "stdout",
     "output_type": "stream",
     "text": [
      "using particle threshold 2664.8048 ..maybe remove variable option...\n",
      "using particle threshold 2711.982 ..maybe remove variable option...\n",
      "using particle threshold 2019.882 ..maybe remove variable option...\n",
      "using particle threshold 853.43 ..maybe remove variable option...\n",
      "using particle threshold 1544.4724 ..maybe remove variable option...\n",
      "using particle threshold 1380.1168 ..maybe remove variable option...\n",
      "using particle threshold 1523.8476 ..maybe remove variable option...\n",
      "using particle threshold 1143.5748 ..maybe remove variable option...\n",
      "using particle threshold 734.7516 ..maybe remove variable option...\n",
      "using particle threshold 1152.0788 ..maybe remove variable option...\n",
      "using particle threshold 1228.81 ..maybe remove variable option...\n",
      "using particle threshold 1446.9676 ..maybe remove variable option...\n",
      "post-OTU: using particle threshold 2207.8772 ..maybe remove variable option...\n",
      "post-OTU: using particle threshold 2391.5284 ..maybe remove variable option...\n",
      "post-OTU: using particle threshold 1731.2588 ..maybe remove variable option...\n",
      "post-OTU: using particle threshold 776.962 ..maybe remove variable option...\n",
      "post-OTU: using particle threshold 1414.2676 ..maybe remove variable option...\n",
      "post-OTU: using particle threshold 1245.1856 ..maybe remove variable option...\n",
      "post-OTU: using particle threshold 1429.6544 ..maybe remove variable option...\n",
      "post-OTU: using particle threshold 1020.6892 ..maybe remove variable option...\n",
      "post-OTU: using particle threshold 604.1068 ..maybe remove variable option...\n",
      "post-OTU: using particle threshold 929.4248 ..maybe remove variable option...\n",
      "post-OTU: using particle threshold 1011.4444 ..maybe remove variable option...\n",
      "post-OTU: using particle threshold 1333.2908 ..maybe remove variable option...\n"
     ]
    }
   ],
   "source": [
    "dataset.filter(min_abundance=0.005, min_reads=-1)"
   ]
  },
  {
   "cell_type": "code",
   "execution_count": 13,
   "id": "22409502",
   "metadata": {},
   "outputs": [
    {
     "name": "stdout",
     "output_type": "stream",
     "text": [
      "3 groups: pre-perturb, post-perturb, comparator\n",
      "165 OTUs in study\n",
      "4 subjects per group\n",
      "stats for pre_perturb group:\n",
      "\t Subject J1:\n",
      "\t\t 353 particles\n",
      "\t\t min read depth: 2218\n",
      "\t\t median read depth: 4245.0\n",
      "\t\t max read depth: 122311\n",
      "\t Subject J2:\n",
      "\t\t 353 particles\n",
      "\t\t min read depth: 2396\n",
      "\t\t median read depth: 4781.0\n",
      "\t\t max read depth: 678320\n",
      "\t Subject J3:\n",
      "\t\t 336 particles\n",
      "\t\t min read depth: 1734\n",
      "\t\t median read depth: 2980.0\n",
      "\t\t max read depth: 242450\n",
      "\t Subject J4:\n",
      "\t\t 229 particles\n",
      "\t\t min read depth: 777\n",
      "\t\t median read depth: 1250.0\n",
      "\t\t max read depth: 245585\n",
      "\t 1271 particles for group pre_perturb\n",
      "\n",
      "\n",
      "stats for post_perturb group:\n",
      "\t Subject JE10:\n",
      "\t\t 417 particles\n",
      "\t\t min read depth: 1416\n",
      "\t\t median read depth: 2903.0\n",
      "\t\t max read depth: 77217\n",
      "\t Subject JE11:\n",
      "\t\t 384 particles\n",
      "\t\t min read depth: 1246\n",
      "\t\t median read depth: 2842.0\n",
      "\t\t max read depth: 71299\n",
      "\t Subject JE12:\n",
      "\t\t 344 particles\n",
      "\t\t min read depth: 1434\n",
      "\t\t median read depth: 3229.0\n",
      "\t\t max read depth: 273209\n",
      "\t Subject JE9:\n",
      "\t\t 321 particles\n",
      "\t\t min read depth: 1035\n",
      "\t\t median read depth: 2653.0\n",
      "\t\t max read depth: 204436\n",
      "\t 1466 particles for group post_perturb\n",
      "\n",
      "\n",
      "stats for comparator group:\n",
      "\t Subject E5:\n",
      "\t\t 606 particles\n",
      "\t\t min read depth: 605\n",
      "\t\t median read depth: 1187.5\n",
      "\t\t max read depth: 23658\n",
      "\t Subject E6:\n",
      "\t\t 470 particles\n",
      "\t\t min read depth: 930\n",
      "\t\t median read depth: 1837.5\n",
      "\t\t max read depth: 65040\n",
      "\t Subject E7:\n",
      "\t\t 437 particles\n",
      "\t\t min read depth: 1014\n",
      "\t\t median read depth: 1898.0\n",
      "\t\t max read depth: 65452\n",
      "\t Subject E8:\n",
      "\t\t 443 particles\n",
      "\t\t min read depth: 1337\n",
      "\t\t median read depth: 2516.0\n",
      "\t\t max read depth: 72939\n",
      "\t 1956 particles for group comparator\n",
      "\n",
      "\n"
     ]
    }
   ],
   "source": [
    "dataset.describe()"
   ]
  },
  {
   "cell_type": "code",
   "execution_count": 10,
   "id": "58dd080d",
   "metadata": {},
   "outputs": [],
   "source": [
    "# save filtered dataset to pickle object for easier loading later"
   ]
  },
  {
   "cell_type": "code",
   "execution_count": 15,
   "id": "e6c7e23e",
   "metadata": {},
   "outputs": [],
   "source": [
    "from mcspace.utils import pickle_save"
   ]
  },
  {
   "cell_type": "code",
   "execution_count": 16,
   "id": "9e4cc1bb",
   "metadata": {},
   "outputs": [],
   "source": [
    "pickle_save(dataset, datapath / \"filtered_dataset.pkl\")"
   ]
  },
  {
   "cell_type": "markdown",
   "id": "b9451d2a",
   "metadata": {},
   "source": [
    "# TO DO:\n",
    "- load raw csv files instead, show dataframes and data format; \n",
    "- might want option for a 'long' format instead\n",
    "- show also plots with phylogenetic tree\n",
    "- build visualization library\n",
    "- generalize data loading to not just FMT; have control and perturbed groups, with optional comparator (background) groups"
   ]
  },
  {
   "cell_type": "code",
   "execution_count": null,
   "id": "01e370ac",
   "metadata": {},
   "outputs": [],
   "source": []
  }
 ],
 "metadata": {
  "kernelspec": {
   "display_name": "Python [conda env:mcspace]",
   "language": "python",
   "name": "conda-env-mcspace-py"
  },
  "language_info": {
   "codemirror_mode": {
    "name": "ipython",
    "version": 3
   },
   "file_extension": ".py",
   "mimetype": "text/x-python",
   "name": "python",
   "nbconvert_exporter": "python",
   "pygments_lexer": "ipython3",
   "version": "3.8.16"
  }
 },
 "nbformat": 4,
 "nbformat_minor": 5
}
