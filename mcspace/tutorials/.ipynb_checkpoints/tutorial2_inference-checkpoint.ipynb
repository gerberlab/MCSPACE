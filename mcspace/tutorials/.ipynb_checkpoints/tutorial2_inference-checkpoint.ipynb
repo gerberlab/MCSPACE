{
 "cells": [
  {
   "cell_type": "code",
   "execution_count": 1,
   "id": "78def0c3",
   "metadata": {},
   "outputs": [],
   "source": [
    "import matplotlib.pyplot as plt\n",
    "import numpy as np\n",
    "import mcspace.visualization as vis\n",
    "from mcspace.dataset import PerturbationDataSet\n",
    "from mcspace.utils import pickle_load\n",
    "from pathlib import Path\n",
    "# TODO: add model and vis of model reults; as well as post processing"
   ]
  },
  {
   "cell_type": "markdown",
   "id": "8b07154d",
   "metadata": {},
   "source": [
    "# Load data"
   ]
  },
  {
   "cell_type": "code",
   "execution_count": 3,
   "id": "7abd35bd",
   "metadata": {},
   "outputs": [
    {
     "name": "stdout",
     "output_type": "stream",
     "text": [
      " Volume in drive C is OS\n",
      " Volume Serial Number is 7CF0-0838\n",
      "\n",
      " Directory of C:\\Users\\guppa\\Dropbox (Partners HealthCare)\\research_bwh\\mapseq_topic_model_JULY_2022\\MCSPACE_model\\mcspace\\data\\FMT_MAPSEQ_data\\processed_data\n",
      "\n",
      "08/05/2023  06:46 PM    <DIR>          .\n",
      "08/05/2023  02:55 PM    <DIR>          ..\n",
      "08/05/2023  02:49 PM         7,652,385 env_data.tsv\n",
      "08/05/2023  02:54 PM        14,639,349 env2jax_data.tsv\n",
      "08/05/2023  06:46 PM        34,620,160 filtered_dataset.pkl\n",
      "08/05/2023  02:47 PM         7,331,013 jax_data.tsv\n",
      "               4 File(s)     64,242,907 bytes\n",
      "               2 Dir(s)  47,193,042,944 bytes free\n"
     ]
    }
   ],
   "source": [
    "ls \"../data/FMT_MAPSEQ_data/processed_data\""
   ]
  },
  {
   "cell_type": "code",
   "execution_count": 4,
   "id": "ce71a13d",
   "metadata": {
    "scrolled": true
   },
   "outputs": [],
   "source": [
    "datapath = Path(\"../data/FMT_MAPSEQ_data/processed_data\")"
   ]
  },
  {
   "cell_type": "code",
   "execution_count": 5,
   "id": "743b01a3",
   "metadata": {},
   "outputs": [],
   "source": [
    "dataset = pickle_load(datapath / \"filtered_dataset.pkl\")"
   ]
  },
  {
   "cell_type": "code",
   "execution_count": 8,
   "id": "b4e929cf",
   "metadata": {},
   "outputs": [
    {
     "name": "stdout",
     "output_type": "stream",
     "text": [
      "3 groups: pre-perturb, post-perturb, comparator\n",
      "165 OTUs in study\n",
      "4 subjects per group\n",
      "stats for pre_perturb group:\n",
      "\t Subject J1:\n",
      "\t\t 353 particles\n",
      "\t\t min read depth: 2218\n",
      "\t\t median read depth: 4245.0\n",
      "\t\t max read depth: 122311\n",
      "\t Subject J2:\n",
      "\t\t 353 particles\n",
      "\t\t min read depth: 2396\n",
      "\t\t median read depth: 4781.0\n",
      "\t\t max read depth: 678320\n",
      "\t Subject J3:\n",
      "\t\t 336 particles\n",
      "\t\t min read depth: 1734\n",
      "\t\t median read depth: 2980.0\n",
      "\t\t max read depth: 242450\n",
      "\t Subject J4:\n",
      "\t\t 229 particles\n",
      "\t\t min read depth: 777\n",
      "\t\t median read depth: 1250.0\n",
      "\t\t max read depth: 245585\n",
      "\t 1271 particles for group pre_perturb\n",
      "\n",
      "\n",
      "stats for post_perturb group:\n",
      "\t Subject JE10:\n",
      "\t\t 417 particles\n",
      "\t\t min read depth: 1416\n",
      "\t\t median read depth: 2903.0\n",
      "\t\t max read depth: 77217\n",
      "\t Subject JE11:\n",
      "\t\t 384 particles\n",
      "\t\t min read depth: 1246\n",
      "\t\t median read depth: 2842.0\n",
      "\t\t max read depth: 71299\n",
      "\t Subject JE12:\n",
      "\t\t 344 particles\n",
      "\t\t min read depth: 1434\n",
      "\t\t median read depth: 3229.0\n",
      "\t\t max read depth: 273209\n",
      "\t Subject JE9:\n",
      "\t\t 321 particles\n",
      "\t\t min read depth: 1035\n",
      "\t\t median read depth: 2653.0\n",
      "\t\t max read depth: 204436\n",
      "\t 1466 particles for group post_perturb\n",
      "\n",
      "\n",
      "stats for comparator group:\n",
      "\t Subject E5:\n",
      "\t\t 606 particles\n",
      "\t\t min read depth: 605\n",
      "\t\t median read depth: 1187.5\n",
      "\t\t max read depth: 23658\n",
      "\t Subject E6:\n",
      "\t\t 470 particles\n",
      "\t\t min read depth: 930\n",
      "\t\t median read depth: 1837.5\n",
      "\t\t max read depth: 65040\n",
      "\t Subject E7:\n",
      "\t\t 437 particles\n",
      "\t\t min read depth: 1014\n",
      "\t\t median read depth: 1898.0\n",
      "\t\t max read depth: 65452\n",
      "\t Subject E8:\n",
      "\t\t 443 particles\n",
      "\t\t min read depth: 1337\n",
      "\t\t median read depth: 2516.0\n",
      "\t\t max read depth: 72939\n",
      "\t 1956 particles for group comparator\n",
      "\n",
      "\n"
     ]
    }
   ],
   "source": [
    "dataset.describe()"
   ]
  },
  {
   "cell_type": "markdown",
   "id": "3d86dff7",
   "metadata": {},
   "source": [
    "# Load trainer and run inference"
   ]
  },
  {
   "cell_type": "code",
   "execution_count": null,
   "id": "96dd991e",
   "metadata": {},
   "outputs": [],
   "source": [
    "# load model and train"
   ]
  },
  {
   "cell_type": "code",
   "execution_count": 9,
   "id": "f84b216e",
   "metadata": {},
   "outputs": [],
   "source": [
    "from mcspace.models import PerturbationModel"
   ]
  },
  {
   "cell_type": "code",
   "execution_count": 11,
   "id": "059e751a",
   "metadata": {},
   "outputs": [],
   "source": [
    "# get from dataset\n",
    "num_otus = 165\n",
    "num_subjects = 4"
   ]
  },
  {
   "cell_type": "code",
   "execution_count": null,
   "id": "38c84b78",
   "metadata": {},
   "outputs": [],
   "source": [
    "# TODO: put in utils, only have dataset as input\n",
    "def estimate_group_variances(data, notus):\n",
    "    groups = data.keys()\n",
    "    xvar = {}\n",
    "\n",
    "    for grp in groups:\n",
    "        grpdata = data[grp]\n",
    "        nsubj = len(list(grpdata.keys()))\n",
    "        sdata = np.zeros((notus, nsubj))\n",
    "        for i,s in enumerate(grpdata.keys()):\n",
    "            temp = grpdata[s] #* data for each replicate r1 and r2\n",
    "            full = []\n",
    "            for rep in temp.keys():\n",
    "                full.append(temp[rep])\n",
    "            full = np.concatenate(full, axis=0)\n",
    "            # r1 = temp['r1']\n",
    "            # r2 = temp['r2']\n",
    "            # combine data, get bulk ra and add to sdata\n",
    "            # full = np.concatenate([r1, r2], axis=0)\n",
    "            ra = full.sum(axis=0)/full.sum()\n",
    "            sdata[:,i] = np.log(ra + 1e-20)\n",
    "\n",
    "        #* see outliers > 50; filter out and take median\n",
    "        if nsubj < 3:\n",
    "            svarmed = 0.1\n",
    "        else:\n",
    "            svar = np.var(sdata, axis=1)\n",
    "            svarmed = np.median(svar)\n",
    "        xvar[grp] = svarmed\n",
    "    return xvar "
   ]
  },
  {
   "cell_type": "code",
   "execution_count": null,
   "id": "d2cb0f9c",
   "metadata": {},
   "outputs": [],
   "source": [
    "subject_variance = estimate_group_variances(data, num_otus)\n"
   ]
  },
  {
   "cell_type": "code",
   "execution_count": 10,
   "id": "067b9626",
   "metadata": {},
   "outputs": [
    {
     "ename": "NameError",
     "evalue": "name 'num_otus' is not defined",
     "output_type": "error",
     "traceback": [
      "\u001b[1;31m---------------------------------------------------------------------------\u001b[0m",
      "\u001b[1;31mNameError\u001b[0m                                 Traceback (most recent call last)",
      "Cell \u001b[1;32mIn[10], line 2\u001b[0m\n\u001b[0;32m      1\u001b[0m model \u001b[38;5;241m=\u001b[39m PerturbationModel(num_communities\u001b[38;5;241m=\u001b[39m\u001b[38;5;241m20\u001b[39m,\n\u001b[1;32m----> 2\u001b[0m                          num_otus\u001b[38;5;241m=\u001b[39m\u001b[43mnum_otus\u001b[49m,\n\u001b[0;32m      3\u001b[0m                          num_subjects\u001b[38;5;241m=\u001b[39mnum_subjects,\n\u001b[0;32m      4\u001b[0m                          subject_variance\u001b[38;5;241m=\u001b[39msubject_variance,\n\u001b[0;32m      5\u001b[0m                          device\u001b[38;5;241m=\u001b[39mtorch\u001b[38;5;241m.\u001b[39mdevice(\u001b[38;5;124m'\u001b[39m\u001b[38;5;124mcpu\u001b[39m\u001b[38;5;124m'\u001b[39m)\n\u001b[0;32m      6\u001b[0m                          )\n",
      "\u001b[1;31mNameError\u001b[0m: name 'num_otus' is not defined"
     ]
    }
   ],
   "source": [
    "model = PerturbationModel(num_communities=20,\n",
    "                         num_otus=num_otus,\n",
    "                         num_subjects=num_subjects,\n",
    "                         subject_variance=subject_variance,\n",
    "                         device=torch.device('cpu')\n",
    "                         )"
   ]
  },
  {
   "cell_type": "code",
   "execution_count": null,
   "id": "3ef19e5b",
   "metadata": {},
   "outputs": [],
   "source": []
  },
  {
   "cell_type": "markdown",
   "id": "661ec3a3",
   "metadata": {},
   "source": [
    "# Post process runs, evaulate stability metric"
   ]
  },
  {
   "cell_type": "code",
   "execution_count": 3,
   "id": "c7a2687c",
   "metadata": {},
   "outputs": [],
   "source": [
    "# no stability metric; just need bayes factors!!"
   ]
  },
  {
   "cell_type": "markdown",
   "id": "fe946e75",
   "metadata": {},
   "source": [
    "# Create figures"
   ]
  },
  {
   "cell_type": "code",
   "execution_count": 2,
   "id": "f3674e97",
   "metadata": {},
   "outputs": [],
   "source": [
    "# would like tree methods to work here too...\n",
    "# could use a 'preprocessed tree' -- we're not giving a tutorial on pplacer"
   ]
  },
  {
   "cell_type": "code",
   "execution_count": null,
   "id": "8d009f5b",
   "metadata": {},
   "outputs": [],
   "source": []
  }
 ],
 "metadata": {
  "kernelspec": {
   "display_name": "Python [conda env:mcspace]",
   "language": "python",
   "name": "conda-env-mcspace-py"
  },
  "language_info": {
   "codemirror_mode": {
    "name": "ipython",
    "version": 3
   },
   "file_extension": ".py",
   "mimetype": "text/x-python",
   "name": "python",
   "nbconvert_exporter": "python",
   "pygments_lexer": "ipython3",
   "version": "3.8.16"
  }
 },
 "nbformat": 4,
 "nbformat_minor": 5
}
