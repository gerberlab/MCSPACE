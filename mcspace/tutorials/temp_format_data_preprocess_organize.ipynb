{
 "cells": [
  {
   "cell_type": "code",
   "execution_count": 1,
   "id": "e85011e3",
   "metadata": {},
   "outputs": [],
   "source": [
    "import pandas as pd\n",
    "import numpy as np\n",
    "import torch\n",
    "from pathlib import Path"
   ]
  },
  {
   "cell_type": "code",
   "execution_count": 2,
   "id": "15ab1584",
   "metadata": {},
   "outputs": [
    {
     "name": "stdout",
     "output_type": "stream",
     "text": [
      " Volume in drive C is OS\n",
      " Volume Serial Number is 5E7E-789E\n",
      "\n",
      " Directory of C:\\Users\\Gary2\\Partners HealthCare Dropbox\\Gurdip Uppal\\research_bwh\\MCSPACE_FINAL\\MCSPACE\\mcspace\\tutorials\n",
      "\n",
      "09/30/2024  10:47 AM    <DIR>          .\n",
      "09/24/2024  05:55 PM    <DIR>          ..\n",
      "09/30/2024  09:37 AM    <DIR>          .ipynb_checkpoints\n",
      "09/24/2024  05:54 PM    <DIR>          _old\n",
      "09/30/2024  09:38 AM               609 temp_format_data_preprocess_organize.ipynb\n",
      "09/30/2024  11:12 AM    <DIR>          toy_datasets\n",
      "09/30/2024  10:47 AM            12,355 TUTORIAL_data_loading_preprocessing.ipynb\n",
      "               2 File(s)         12,964 bytes\n",
      "               5 Dir(s)  891,493,806,080 bytes free\n"
     ]
    }
   ],
   "source": [
    "ls"
   ]
  },
  {
   "cell_type": "markdown",
   "id": "bde88afb",
   "metadata": {},
   "source": [
    "# Paths"
   ]
  },
  {
   "cell_type": "code",
   "execution_count": 4,
   "id": "a80fea7f",
   "metadata": {},
   "outputs": [],
   "source": [
    "basepath = Path(\"./\")\n",
    "datapath = basepath / \"toy_datasets\"\n",
    "mousepath = datapath / \"mouse_timeseries\""
   ]
  },
  {
   "cell_type": "markdown",
   "id": "a32d37ab",
   "metadata": {},
   "source": [
    "## create smaller version of mouse dataset"
   ]
  },
  {
   "cell_type": "code",
   "execution_count": 5,
   "id": "c1217b85",
   "metadata": {},
   "outputs": [],
   "source": [
    "taxonomy = pd.read_csv(mousepath / \"tax.csv\")"
   ]
  },
  {
   "cell_type": "code",
   "execution_count": 6,
   "id": "1dda9c78",
   "metadata": {},
   "outputs": [
    {
     "data": {
      "text/html": [
       "<div>\n",
       "<style scoped>\n",
       "    .dataframe tbody tr th:only-of-type {\n",
       "        vertical-align: middle;\n",
       "    }\n",
       "\n",
       "    .dataframe tbody tr th {\n",
       "        vertical-align: top;\n",
       "    }\n",
       "\n",
       "    .dataframe thead th {\n",
       "        text-align: right;\n",
       "    }\n",
       "</style>\n",
       "<table border=\"1\" class=\"dataframe\">\n",
       "  <thead>\n",
       "    <tr style=\"text-align: right;\">\n",
       "      <th></th>\n",
       "      <th>Otu</th>\n",
       "      <th>domain</th>\n",
       "      <th>dconf</th>\n",
       "      <th>phylum</th>\n",
       "      <th>pconf</th>\n",
       "      <th>class</th>\n",
       "      <th>cconf</th>\n",
       "      <th>order</th>\n",
       "      <th>oconf</th>\n",
       "      <th>family</th>\n",
       "      <th>fconf</th>\n",
       "      <th>genus</th>\n",
       "      <th>gconf</th>\n",
       "    </tr>\n",
       "  </thead>\n",
       "  <tbody>\n",
       "    <tr>\n",
       "      <th>0</th>\n",
       "      <td>Otu1</td>\n",
       "      <td>Bacteria</td>\n",
       "      <td>1.0</td>\n",
       "      <td>Firmicutes</td>\n",
       "      <td>1.0</td>\n",
       "      <td>Bacilli</td>\n",
       "      <td>1.0</td>\n",
       "      <td>Lactobacillales</td>\n",
       "      <td>1.0</td>\n",
       "      <td>Lactobacillaceae</td>\n",
       "      <td>1.00</td>\n",
       "      <td>Lactobacillus</td>\n",
       "      <td>0.99</td>\n",
       "    </tr>\n",
       "    <tr>\n",
       "      <th>1</th>\n",
       "      <td>Otu7</td>\n",
       "      <td>Bacteria</td>\n",
       "      <td>1.0</td>\n",
       "      <td>Firmicutes</td>\n",
       "      <td>1.0</td>\n",
       "      <td>Clostridia</td>\n",
       "      <td>1.0</td>\n",
       "      <td>Clostridiales</td>\n",
       "      <td>1.0</td>\n",
       "      <td>Lachnospiraceae</td>\n",
       "      <td>1.00</td>\n",
       "      <td>Clostridium_XlVa</td>\n",
       "      <td>0.68</td>\n",
       "    </tr>\n",
       "    <tr>\n",
       "      <th>2</th>\n",
       "      <td>Otu11</td>\n",
       "      <td>Bacteria</td>\n",
       "      <td>1.0</td>\n",
       "      <td>Actinobacteria</td>\n",
       "      <td>1.0</td>\n",
       "      <td>Coriobacteriia</td>\n",
       "      <td>1.0</td>\n",
       "      <td>Eggerthellales</td>\n",
       "      <td>1.0</td>\n",
       "      <td>Eggerthellaceae</td>\n",
       "      <td>1.00</td>\n",
       "      <td>Adlercreutzia</td>\n",
       "      <td>0.85</td>\n",
       "    </tr>\n",
       "    <tr>\n",
       "      <th>3</th>\n",
       "      <td>Otu8</td>\n",
       "      <td>Bacteria</td>\n",
       "      <td>1.0</td>\n",
       "      <td>Bacteroidetes</td>\n",
       "      <td>1.0</td>\n",
       "      <td>Bacteroidia</td>\n",
       "      <td>1.0</td>\n",
       "      <td>Bacteroidales</td>\n",
       "      <td>1.0</td>\n",
       "      <td>Muribaculaceae</td>\n",
       "      <td>0.99</td>\n",
       "      <td>Duncaniella</td>\n",
       "      <td>0.99</td>\n",
       "    </tr>\n",
       "    <tr>\n",
       "      <th>4</th>\n",
       "      <td>Otu2</td>\n",
       "      <td>Bacteria</td>\n",
       "      <td>1.0</td>\n",
       "      <td>Verrucomicrobia</td>\n",
       "      <td>1.0</td>\n",
       "      <td>Verrucomicrobiae</td>\n",
       "      <td>1.0</td>\n",
       "      <td>Verrucomicrobiales</td>\n",
       "      <td>1.0</td>\n",
       "      <td>Akkermansiaceae</td>\n",
       "      <td>1.00</td>\n",
       "      <td>Akkermansia</td>\n",
       "      <td>1.00</td>\n",
       "    </tr>\n",
       "  </tbody>\n",
       "</table>\n",
       "</div>"
      ],
      "text/plain": [
       "     Otu    domain  dconf           phylum  pconf             class  cconf  \\\n",
       "0   Otu1  Bacteria    1.0       Firmicutes    1.0           Bacilli    1.0   \n",
       "1   Otu7  Bacteria    1.0       Firmicutes    1.0        Clostridia    1.0   \n",
       "2  Otu11  Bacteria    1.0   Actinobacteria    1.0    Coriobacteriia    1.0   \n",
       "3   Otu8  Bacteria    1.0    Bacteroidetes    1.0       Bacteroidia    1.0   \n",
       "4   Otu2  Bacteria    1.0  Verrucomicrobia    1.0  Verrucomicrobiae    1.0   \n",
       "\n",
       "                order  oconf            family  fconf             genus  gconf  \n",
       "0     Lactobacillales    1.0  Lactobacillaceae   1.00     Lactobacillus   0.99  \n",
       "1       Clostridiales    1.0   Lachnospiraceae   1.00  Clostridium_XlVa   0.68  \n",
       "2      Eggerthellales    1.0   Eggerthellaceae   1.00     Adlercreutzia   0.85  \n",
       "3       Bacteroidales    1.0    Muribaculaceae   0.99       Duncaniella   0.99  \n",
       "4  Verrucomicrobiales    1.0   Akkermansiaceae   1.00       Akkermansia   1.00  "
      ]
     },
     "execution_count": 6,
     "metadata": {},
     "output_type": "execute_result"
    }
   ],
   "source": [
    "taxonomy.head()"
   ]
  },
  {
   "cell_type": "markdown",
   "id": "2692ab89",
   "metadata": {},
   "source": [
    "### to do: filter tax by confidence and save locally..."
   ]
  },
  {
   "cell_type": "code",
   "execution_count": 7,
   "id": "d6365805",
   "metadata": {},
   "outputs": [
    {
     "name": "stdout",
     "output_type": "stream",
     "text": [
      " Volume in drive C is OS\n",
      " Volume Serial Number is 5E7E-789E\n",
      "\n",
      " Directory of C:\\Users\\Gary2\\Partners HealthCare Dropbox\\Gurdip Uppal\\research_bwh\\MCSPACE_FINAL\\MCSPACE\\mcspace\\tutorials\\toy_datasets\\mouse_timeseries\n",
      "\n",
      "09/30/2024  11:13 AM    <DIR>          .\n",
      "09/30/2024  11:12 AM    <DIR>          ..\n",
      "08/13/2024  01:22 PM        12,618,963 mouse_counts.csv.gz\n",
      "06/11/2024  12:13 PM           157,797 tax.csv\n",
      "               2 File(s)     12,776,760 bytes\n",
      "               2 Dir(s)  891,494,084,608 bytes free\n"
     ]
    }
   ],
   "source": [
    "ls \"./toy_datasets/mouse_timeseries/\""
   ]
  },
  {
   "cell_type": "code",
   "execution_count": 8,
   "id": "966645a4",
   "metadata": {},
   "outputs": [
    {
     "name": "stderr",
     "output_type": "stream",
     "text": [
      "C:\\Users\\Gary2\\AppData\\Local\\Temp\\ipykernel_12976\\2770456188.py:1: DtypeWarning: Columns (5) have mixed types. Specify dtype option on import or set low_memory=False.\n",
      "  counts = pd.read_csv(mousepath / \"mouse_counts.csv.gz\", compression='gzip')\n"
     ]
    }
   ],
   "source": [
    "counts = pd.read_csv(mousepath / \"mouse_counts.csv.gz\", compression='gzip')"
   ]
  },
  {
   "cell_type": "code",
   "execution_count": 10,
   "id": "e85649eb",
   "metadata": {},
   "outputs": [
    {
     "data": {
      "text/html": [
       "<div>\n",
       "<style scoped>\n",
       "    .dataframe tbody tr th:only-of-type {\n",
       "        vertical-align: middle;\n",
       "    }\n",
       "\n",
       "    .dataframe tbody tr th {\n",
       "        vertical-align: top;\n",
       "    }\n",
       "\n",
       "    .dataframe thead th {\n",
       "        text-align: right;\n",
       "    }\n",
       "</style>\n",
       "<table border=\"1\" class=\"dataframe\">\n",
       "  <thead>\n",
       "    <tr style=\"text-align: right;\">\n",
       "      <th></th>\n",
       "      <th>Unnamed: 0.1</th>\n",
       "      <th>Unnamed: 0</th>\n",
       "      <th>Particle</th>\n",
       "      <th>OTU</th>\n",
       "      <th>Sample</th>\n",
       "      <th>replicate</th>\n",
       "      <th>Count</th>\n",
       "      <th>Subject</th>\n",
       "      <th>chow</th>\n",
       "      <th>Time</th>\n",
       "      <th>timepoint</th>\n",
       "      <th>empty_tube_weight_mg</th>\n",
       "      <th>pellet_tube_weight_mg</th>\n",
       "    </tr>\n",
       "  </thead>\n",
       "  <tbody>\n",
       "    <tr>\n",
       "      <th>0</th>\n",
       "      <td>0</td>\n",
       "      <td>0</td>\n",
       "      <td>20231021_1123_1_S_MEbcnum60_80_90</td>\n",
       "      <td>Otu1</td>\n",
       "      <td>20231021_1123_1_S_ME</td>\n",
       "      <td>1</td>\n",
       "      <td>537</td>\n",
       "      <td>JX07</td>\n",
       "      <td>standard</td>\n",
       "      <td>57</td>\n",
       "      <td>AM</td>\n",
       "      <td>1012.45</td>\n",
       "      <td>1054.25</td>\n",
       "    </tr>\n",
       "    <tr>\n",
       "      <th>1</th>\n",
       "      <td>1</td>\n",
       "      <td>1</td>\n",
       "      <td>20231021_1123_1_S_MEbcnum22_63_29</td>\n",
       "      <td>Otu1</td>\n",
       "      <td>20231021_1123_1_S_ME</td>\n",
       "      <td>1</td>\n",
       "      <td>79</td>\n",
       "      <td>JX07</td>\n",
       "      <td>standard</td>\n",
       "      <td>57</td>\n",
       "      <td>AM</td>\n",
       "      <td>1012.45</td>\n",
       "      <td>1054.25</td>\n",
       "    </tr>\n",
       "    <tr>\n",
       "      <th>2</th>\n",
       "      <td>2</td>\n",
       "      <td>2</td>\n",
       "      <td>20231021_1123_1_S_MEbcnum22_38_88</td>\n",
       "      <td>Otu1</td>\n",
       "      <td>20231021_1123_1_S_ME</td>\n",
       "      <td>1</td>\n",
       "      <td>7</td>\n",
       "      <td>JX07</td>\n",
       "      <td>standard</td>\n",
       "      <td>57</td>\n",
       "      <td>AM</td>\n",
       "      <td>1012.45</td>\n",
       "      <td>1054.25</td>\n",
       "    </tr>\n",
       "    <tr>\n",
       "      <th>3</th>\n",
       "      <td>3</td>\n",
       "      <td>3</td>\n",
       "      <td>20231021_1123_1_S_MEbcnum22_94_35</td>\n",
       "      <td>Otu1</td>\n",
       "      <td>20231021_1123_1_S_ME</td>\n",
       "      <td>1</td>\n",
       "      <td>12</td>\n",
       "      <td>JX07</td>\n",
       "      <td>standard</td>\n",
       "      <td>57</td>\n",
       "      <td>AM</td>\n",
       "      <td>1012.45</td>\n",
       "      <td>1054.25</td>\n",
       "    </tr>\n",
       "    <tr>\n",
       "      <th>4</th>\n",
       "      <td>4</td>\n",
       "      <td>4</td>\n",
       "      <td>20231021_1123_1_S_MEbcnum22_92_8</td>\n",
       "      <td>Otu1</td>\n",
       "      <td>20231021_1123_1_S_ME</td>\n",
       "      <td>1</td>\n",
       "      <td>34</td>\n",
       "      <td>JX07</td>\n",
       "      <td>standard</td>\n",
       "      <td>57</td>\n",
       "      <td>AM</td>\n",
       "      <td>1012.45</td>\n",
       "      <td>1054.25</td>\n",
       "    </tr>\n",
       "  </tbody>\n",
       "</table>\n",
       "</div>"
      ],
      "text/plain": [
       "   Unnamed: 0.1  Unnamed: 0                           Particle   OTU  \\\n",
       "0             0           0  20231021_1123_1_S_MEbcnum60_80_90  Otu1   \n",
       "1             1           1  20231021_1123_1_S_MEbcnum22_63_29  Otu1   \n",
       "2             2           2  20231021_1123_1_S_MEbcnum22_38_88  Otu1   \n",
       "3             3           3  20231021_1123_1_S_MEbcnum22_94_35  Otu1   \n",
       "4             4           4   20231021_1123_1_S_MEbcnum22_92_8  Otu1   \n",
       "\n",
       "                 Sample replicate  Count Subject      chow  Time timepoint  \\\n",
       "0  20231021_1123_1_S_ME         1    537    JX07  standard    57        AM   \n",
       "1  20231021_1123_1_S_ME         1     79    JX07  standard    57        AM   \n",
       "2  20231021_1123_1_S_ME         1      7    JX07  standard    57        AM   \n",
       "3  20231021_1123_1_S_ME         1     12    JX07  standard    57        AM   \n",
       "4  20231021_1123_1_S_ME         1     34    JX07  standard    57        AM   \n",
       "\n",
       "   empty_tube_weight_mg  pellet_tube_weight_mg  \n",
       "0               1012.45                1054.25  \n",
       "1               1012.45                1054.25  \n",
       "2               1012.45                1054.25  \n",
       "3               1012.45                1054.25  \n",
       "4               1012.45                1054.25  "
      ]
     },
     "execution_count": 10,
     "metadata": {},
     "output_type": "execute_result"
    }
   ],
   "source": [
    "counts.head()"
   ]
  },
  {
   "cell_type": "code",
   "execution_count": 12,
   "id": "312fdb8e",
   "metadata": {},
   "outputs": [
    {
     "data": {
      "text/plain": [
       "array([57, 35, 43, 65, 76, 10, 18], dtype=int64)"
      ]
     },
     "execution_count": 12,
     "metadata": {},
     "output_type": "execute_result"
    }
   ],
   "source": [
    "counts['Time'].unique()"
   ]
  },
  {
   "cell_type": "markdown",
   "id": "5236bec7",
   "metadata": {},
   "source": [
    "## keep only first 4 timepoints"
   ]
  },
  {
   "cell_type": "code",
   "execution_count": 21,
   "id": "b88a846a",
   "metadata": {},
   "outputs": [
    {
     "data": {
      "text/plain": [
       "(1056245, 13)"
      ]
     },
     "execution_count": 21,
     "metadata": {},
     "output_type": "execute_result"
    }
   ],
   "source": [
    "counts.shape"
   ]
  },
  {
   "cell_type": "code",
   "execution_count": 30,
   "id": "54df37d8",
   "metadata": {},
   "outputs": [],
   "source": [
    "counts_toy = counts.loc[((counts['Time'] == 10) | (counts['Time'] == 18) | (counts['Time'] == 35) | (counts['Time'] == 43)),:]"
   ]
  },
  {
   "cell_type": "code",
   "execution_count": 31,
   "id": "1ba17e72",
   "metadata": {},
   "outputs": [
    {
     "data": {
      "text/plain": [
       "(501235, 13)"
      ]
     },
     "execution_count": 31,
     "metadata": {},
     "output_type": "execute_result"
    }
   ],
   "source": [
    "counts_toy.shape"
   ]
  },
  {
   "cell_type": "code",
   "execution_count": 32,
   "id": "9c58c9f8",
   "metadata": {},
   "outputs": [],
   "source": [
    "counts_toy2 = counts_toy.iloc[:,2:]"
   ]
  },
  {
   "cell_type": "code",
   "execution_count": 33,
   "id": "e27daf54",
   "metadata": {},
   "outputs": [
    {
     "data": {
      "text/plain": [
       "array(['JX07', 'JX08', 'JX09', 'JX10'], dtype=object)"
      ]
     },
     "execution_count": 33,
     "metadata": {},
     "output_type": "execute_result"
    }
   ],
   "source": [
    "counts_toy2['Subject'].unique()"
   ]
  },
  {
   "cell_type": "code",
   "execution_count": 36,
   "id": "6baa396d",
   "metadata": {},
   "outputs": [],
   "source": [
    "counts_toy3 = counts_toy2.iloc[:,:-3]"
   ]
  },
  {
   "cell_type": "code",
   "execution_count": 37,
   "id": "12a12bf1",
   "metadata": {},
   "outputs": [
    {
     "data": {
      "text/html": [
       "<div>\n",
       "<style scoped>\n",
       "    .dataframe tbody tr th:only-of-type {\n",
       "        vertical-align: middle;\n",
       "    }\n",
       "\n",
       "    .dataframe tbody tr th {\n",
       "        vertical-align: top;\n",
       "    }\n",
       "\n",
       "    .dataframe thead th {\n",
       "        text-align: right;\n",
       "    }\n",
       "</style>\n",
       "<table border=\"1\" class=\"dataframe\">\n",
       "  <thead>\n",
       "    <tr style=\"text-align: right;\">\n",
       "      <th></th>\n",
       "      <th>Particle</th>\n",
       "      <th>OTU</th>\n",
       "      <th>Sample</th>\n",
       "      <th>replicate</th>\n",
       "      <th>Count</th>\n",
       "      <th>Subject</th>\n",
       "      <th>chow</th>\n",
       "      <th>Time</th>\n",
       "    </tr>\n",
       "  </thead>\n",
       "  <tbody>\n",
       "    <tr>\n",
       "      <th>18907</th>\n",
       "      <td>20231021_727_1_S_MEbcnum26_43_56</td>\n",
       "      <td>Otu1</td>\n",
       "      <td>20231021_727_1_S_ME</td>\n",
       "      <td>1</td>\n",
       "      <td>238</td>\n",
       "      <td>JX07</td>\n",
       "      <td>standard</td>\n",
       "      <td>35</td>\n",
       "    </tr>\n",
       "    <tr>\n",
       "      <th>18908</th>\n",
       "      <td>20231021_727_1_S_MEbcnum60_9_46</td>\n",
       "      <td>Otu1</td>\n",
       "      <td>20231021_727_1_S_ME</td>\n",
       "      <td>1</td>\n",
       "      <td>20711</td>\n",
       "      <td>JX07</td>\n",
       "      <td>standard</td>\n",
       "      <td>35</td>\n",
       "    </tr>\n",
       "    <tr>\n",
       "      <th>18909</th>\n",
       "      <td>20231021_727_1_S_MEbcnum60_23_32</td>\n",
       "      <td>Otu1</td>\n",
       "      <td>20231021_727_1_S_ME</td>\n",
       "      <td>1</td>\n",
       "      <td>9343</td>\n",
       "      <td>JX07</td>\n",
       "      <td>standard</td>\n",
       "      <td>35</td>\n",
       "    </tr>\n",
       "    <tr>\n",
       "      <th>18910</th>\n",
       "      <td>20231021_727_1_S_MEbcnum60_96_61</td>\n",
       "      <td>Otu1</td>\n",
       "      <td>20231021_727_1_S_ME</td>\n",
       "      <td>1</td>\n",
       "      <td>1424</td>\n",
       "      <td>JX07</td>\n",
       "      <td>standard</td>\n",
       "      <td>35</td>\n",
       "    </tr>\n",
       "    <tr>\n",
       "      <th>18911</th>\n",
       "      <td>20231021_727_1_S_MEbcnum60_3_32</td>\n",
       "      <td>Otu1</td>\n",
       "      <td>20231021_727_1_S_ME</td>\n",
       "      <td>1</td>\n",
       "      <td>10694</td>\n",
       "      <td>JX07</td>\n",
       "      <td>standard</td>\n",
       "      <td>35</td>\n",
       "    </tr>\n",
       "    <tr>\n",
       "      <th>...</th>\n",
       "      <td>...</td>\n",
       "      <td>...</td>\n",
       "      <td>...</td>\n",
       "      <td>...</td>\n",
       "      <td>...</td>\n",
       "      <td>...</td>\n",
       "      <td>...</td>\n",
       "      <td>...</td>\n",
       "    </tr>\n",
       "    <tr>\n",
       "      <th>1056240</th>\n",
       "      <td>Prt02_890_2bcnum3_54_67</td>\n",
       "      <td>Otu998</td>\n",
       "      <td>Prt02_890_2</td>\n",
       "      <td>2</td>\n",
       "      <td>2</td>\n",
       "      <td>JX08</td>\n",
       "      <td>pectin</td>\n",
       "      <td>43</td>\n",
       "    </tr>\n",
       "    <tr>\n",
       "      <th>1056241</th>\n",
       "      <td>20231123_442_r1_S6_L001bcnum35_76_64</td>\n",
       "      <td>Otu999</td>\n",
       "      <td>20231123_442_r1_S6_L001</td>\n",
       "      <td>r1</td>\n",
       "      <td>6</td>\n",
       "      <td>JX10</td>\n",
       "      <td>HFD</td>\n",
       "      <td>18</td>\n",
       "    </tr>\n",
       "    <tr>\n",
       "      <th>1056242</th>\n",
       "      <td>20231123_442_r1_S6_L002bcnum35_76_64</td>\n",
       "      <td>Otu999</td>\n",
       "      <td>20231123_442_r1_S6_L002</td>\n",
       "      <td>r1</td>\n",
       "      <td>11</td>\n",
       "      <td>JX10</td>\n",
       "      <td>HFD</td>\n",
       "      <td>18</td>\n",
       "    </tr>\n",
       "    <tr>\n",
       "      <th>1056243</th>\n",
       "      <td>20231123_442_r1_S6_L003bcnum35_76_64</td>\n",
       "      <td>Otu999</td>\n",
       "      <td>20231123_442_r1_S6_L003</td>\n",
       "      <td>r1</td>\n",
       "      <td>6</td>\n",
       "      <td>JX10</td>\n",
       "      <td>HFD</td>\n",
       "      <td>18</td>\n",
       "    </tr>\n",
       "    <tr>\n",
       "      <th>1056244</th>\n",
       "      <td>20231123_442_r1_S6_L004bcnum35_76_64</td>\n",
       "      <td>Otu999</td>\n",
       "      <td>20231123_442_r1_S6_L004</td>\n",
       "      <td>r1</td>\n",
       "      <td>10</td>\n",
       "      <td>JX10</td>\n",
       "      <td>HFD</td>\n",
       "      <td>18</td>\n",
       "    </tr>\n",
       "  </tbody>\n",
       "</table>\n",
       "<p>501235 rows × 8 columns</p>\n",
       "</div>"
      ],
      "text/plain": [
       "                                     Particle     OTU  \\\n",
       "18907        20231021_727_1_S_MEbcnum26_43_56    Otu1   \n",
       "18908         20231021_727_1_S_MEbcnum60_9_46    Otu1   \n",
       "18909        20231021_727_1_S_MEbcnum60_23_32    Otu1   \n",
       "18910        20231021_727_1_S_MEbcnum60_96_61    Otu1   \n",
       "18911         20231021_727_1_S_MEbcnum60_3_32    Otu1   \n",
       "...                                       ...     ...   \n",
       "1056240               Prt02_890_2bcnum3_54_67  Otu998   \n",
       "1056241  20231123_442_r1_S6_L001bcnum35_76_64  Otu999   \n",
       "1056242  20231123_442_r1_S6_L002bcnum35_76_64  Otu999   \n",
       "1056243  20231123_442_r1_S6_L003bcnum35_76_64  Otu999   \n",
       "1056244  20231123_442_r1_S6_L004bcnum35_76_64  Otu999   \n",
       "\n",
       "                          Sample replicate  Count Subject      chow  Time  \n",
       "18907        20231021_727_1_S_ME         1    238    JX07  standard    35  \n",
       "18908        20231021_727_1_S_ME         1  20711    JX07  standard    35  \n",
       "18909        20231021_727_1_S_ME         1   9343    JX07  standard    35  \n",
       "18910        20231021_727_1_S_ME         1   1424    JX07  standard    35  \n",
       "18911        20231021_727_1_S_ME         1  10694    JX07  standard    35  \n",
       "...                          ...       ...    ...     ...       ...   ...  \n",
       "1056240              Prt02_890_2         2      2    JX08    pectin    43  \n",
       "1056241  20231123_442_r1_S6_L001        r1      6    JX10       HFD    18  \n",
       "1056242  20231123_442_r1_S6_L002        r1     11    JX10       HFD    18  \n",
       "1056243  20231123_442_r1_S6_L003        r1      6    JX10       HFD    18  \n",
       "1056244  20231123_442_r1_S6_L004        r1     10    JX10       HFD    18  \n",
       "\n",
       "[501235 rows x 8 columns]"
      ]
     },
     "execution_count": 37,
     "metadata": {},
     "output_type": "execute_result"
    }
   ],
   "source": [
    "counts_toy3"
   ]
  },
  {
   "cell_type": "code",
   "execution_count": 42,
   "id": "3c487c25",
   "metadata": {},
   "outputs": [],
   "source": [
    "counts_toy3.to_csv(mousepath / \"counts.csv\", index=False)"
   ]
  },
  {
   "cell_type": "code",
   "execution_count": 43,
   "id": "1a8d4bf5",
   "metadata": {},
   "outputs": [],
   "source": [
    "from mcspace.utils import apply_taxonomy_threshold"
   ]
  },
  {
   "cell_type": "code",
   "execution_count": 45,
   "id": "6eb71e46",
   "metadata": {},
   "outputs": [],
   "source": [
    "# taxonomy = apply_taxonomy_threshold(taxonomy)"
   ]
  },
  {
   "cell_type": "code",
   "execution_count": 47,
   "id": "6a7cc2c8",
   "metadata": {},
   "outputs": [],
   "source": [
    "taxonomy.to_csv(mousepath / \"taxonomy.csv\")"
   ]
  },
  {
   "cell_type": "code",
   "execution_count": null,
   "id": "dc69714b",
   "metadata": {},
   "outputs": [],
   "source": []
  }
 ],
 "metadata": {
  "kernelspec": {
   "display_name": "Python [conda env:mcfinal]",
   "language": "python",
   "name": "conda-env-mcfinal-py"
  },
  "language_info": {
   "codemirror_mode": {
    "name": "ipython",
    "version": 3
   },
   "file_extension": ".py",
   "mimetype": "text/x-python",
   "name": "python",
   "nbconvert_exporter": "python",
   "pygments_lexer": "ipython3",
   "version": "3.10.14"
  }
 },
 "nbformat": 4,
 "nbformat_minor": 5
}
