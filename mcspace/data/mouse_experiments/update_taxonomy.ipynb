{
 "cells": [
  {
   "cell_type": "code",
   "execution_count": 1,
   "id": "85940eb7",
   "metadata": {},
   "outputs": [],
   "source": [
    "import pandas as pd\n",
    "from pathlib import Path"
   ]
  },
  {
   "cell_type": "code",
   "execution_count": 2,
   "id": "2db7383d",
   "metadata": {},
   "outputs": [
    {
     "name": "stdout",
     "output_type": "stream",
     "text": [
      " Volume in drive C is OS\n",
      " Volume Serial Number is 5E7E-789E\n",
      "\n",
      " Directory of C:\\Users\\Gary2\\Partners HealthCare Dropbox\\Gurdip Uppal\\research_bwh\\MCSPACE_FINAL\\MCSPACE\\mcspace\\data\\mouse_experiments\n",
      "\n",
      "08/26/2024  09:20 AM    <DIR>          .\n",
      "08/20/2024  03:34 PM    <DIR>          ..\n",
      "08/26/2024  09:18 AM    <DIR>          .ipynb_checkpoints\n",
      "08/20/2024  03:34 PM    <DIR>          _raw_data\n",
      "06/11/2024  10:10 AM           109,967 combined_zotus .fa\n",
      "08/13/2024  01:22 PM        12,618,963 mouse_counts.csv.gz\n",
      "08/20/2024  03:34 PM    <DIR>          output\n",
      "06/11/2024  12:13 PM           157,797 tax.csv\n",
      "08/20/2024  03:34 PM    <DIR>          tmp\n",
      "08/26/2024  09:20 AM               805 update_taxonomy.ipynb\n",
      "06/11/2024  10:10 AM           109,967 zotus.fa\n",
      "               5 File(s)     12,997,499 bytes\n",
      "               6 Dir(s)  990,304,215,040 bytes free\n"
     ]
    }
   ],
   "source": [
    "ls"
   ]
  },
  {
   "cell_type": "code",
   "execution_count": 3,
   "id": "6fb38f93",
   "metadata": {},
   "outputs": [
    {
     "data": {
      "text/plain": [
       "'C:\\\\Users\\\\Gary2\\\\Partners HealthCare Dropbox\\\\Gurdip Uppal\\\\research_bwh\\\\MCSPACE_FINAL\\\\MCSPACE\\\\mcspace\\\\data\\\\mouse_experiments'"
      ]
     },
     "execution_count": 3,
     "metadata": {},
     "output_type": "execute_result"
    }
   ],
   "source": [
    "pwd"
   ]
  },
  {
   "cell_type": "code",
   "execution_count": 5,
   "id": "1a694600",
   "metadata": {},
   "outputs": [],
   "source": [
    "basepath = Path(\"./\")\n",
    "outpath = basepath / \"taxonomy\"\n",
    "outpath.mkdir(exist_ok=True, parents=True)"
   ]
  },
  {
   "cell_type": "code",
   "execution_count": 6,
   "id": "cf7854c6",
   "metadata": {},
   "outputs": [],
   "source": [
    "tax = pd.read_csv(\"tax.csv\")"
   ]
  },
  {
   "cell_type": "code",
   "execution_count": 7,
   "id": "4757f905",
   "metadata": {},
   "outputs": [
    {
     "data": {
      "text/html": [
       "<div>\n",
       "<style scoped>\n",
       "    .dataframe tbody tr th:only-of-type {\n",
       "        vertical-align: middle;\n",
       "    }\n",
       "\n",
       "    .dataframe tbody tr th {\n",
       "        vertical-align: top;\n",
       "    }\n",
       "\n",
       "    .dataframe thead th {\n",
       "        text-align: right;\n",
       "    }\n",
       "</style>\n",
       "<table border=\"1\" class=\"dataframe\">\n",
       "  <thead>\n",
       "    <tr style=\"text-align: right;\">\n",
       "      <th></th>\n",
       "      <th>Otu</th>\n",
       "      <th>domain</th>\n",
       "      <th>dconf</th>\n",
       "      <th>phylum</th>\n",
       "      <th>pconf</th>\n",
       "      <th>class</th>\n",
       "      <th>cconf</th>\n",
       "      <th>order</th>\n",
       "      <th>oconf</th>\n",
       "      <th>family</th>\n",
       "      <th>fconf</th>\n",
       "      <th>genus</th>\n",
       "      <th>gconf</th>\n",
       "    </tr>\n",
       "  </thead>\n",
       "  <tbody>\n",
       "    <tr>\n",
       "      <th>0</th>\n",
       "      <td>Otu1</td>\n",
       "      <td>Bacteria</td>\n",
       "      <td>1.0</td>\n",
       "      <td>Firmicutes</td>\n",
       "      <td>1.0</td>\n",
       "      <td>Bacilli</td>\n",
       "      <td>1.0</td>\n",
       "      <td>Lactobacillales</td>\n",
       "      <td>1.0</td>\n",
       "      <td>Lactobacillaceae</td>\n",
       "      <td>1.00</td>\n",
       "      <td>Lactobacillus</td>\n",
       "      <td>0.99</td>\n",
       "    </tr>\n",
       "    <tr>\n",
       "      <th>1</th>\n",
       "      <td>Otu7</td>\n",
       "      <td>Bacteria</td>\n",
       "      <td>1.0</td>\n",
       "      <td>Firmicutes</td>\n",
       "      <td>1.0</td>\n",
       "      <td>Clostridia</td>\n",
       "      <td>1.0</td>\n",
       "      <td>Clostridiales</td>\n",
       "      <td>1.0</td>\n",
       "      <td>Lachnospiraceae</td>\n",
       "      <td>1.00</td>\n",
       "      <td>Clostridium_XlVa</td>\n",
       "      <td>0.68</td>\n",
       "    </tr>\n",
       "    <tr>\n",
       "      <th>2</th>\n",
       "      <td>Otu11</td>\n",
       "      <td>Bacteria</td>\n",
       "      <td>1.0</td>\n",
       "      <td>Actinobacteria</td>\n",
       "      <td>1.0</td>\n",
       "      <td>Coriobacteriia</td>\n",
       "      <td>1.0</td>\n",
       "      <td>Eggerthellales</td>\n",
       "      <td>1.0</td>\n",
       "      <td>Eggerthellaceae</td>\n",
       "      <td>1.00</td>\n",
       "      <td>Adlercreutzia</td>\n",
       "      <td>0.85</td>\n",
       "    </tr>\n",
       "    <tr>\n",
       "      <th>3</th>\n",
       "      <td>Otu8</td>\n",
       "      <td>Bacteria</td>\n",
       "      <td>1.0</td>\n",
       "      <td>Bacteroidetes</td>\n",
       "      <td>1.0</td>\n",
       "      <td>Bacteroidia</td>\n",
       "      <td>1.0</td>\n",
       "      <td>Bacteroidales</td>\n",
       "      <td>1.0</td>\n",
       "      <td>Muribaculaceae</td>\n",
       "      <td>0.99</td>\n",
       "      <td>Duncaniella</td>\n",
       "      <td>0.99</td>\n",
       "    </tr>\n",
       "    <tr>\n",
       "      <th>4</th>\n",
       "      <td>Otu2</td>\n",
       "      <td>Bacteria</td>\n",
       "      <td>1.0</td>\n",
       "      <td>Verrucomicrobia</td>\n",
       "      <td>1.0</td>\n",
       "      <td>Verrucomicrobiae</td>\n",
       "      <td>1.0</td>\n",
       "      <td>Verrucomicrobiales</td>\n",
       "      <td>1.0</td>\n",
       "      <td>Akkermansiaceae</td>\n",
       "      <td>1.00</td>\n",
       "      <td>Akkermansia</td>\n",
       "      <td>1.00</td>\n",
       "    </tr>\n",
       "  </tbody>\n",
       "</table>\n",
       "</div>"
      ],
      "text/plain": [
       "     Otu    domain  dconf           phylum  pconf             class  cconf  \\\n",
       "0   Otu1  Bacteria    1.0       Firmicutes    1.0           Bacilli    1.0   \n",
       "1   Otu7  Bacteria    1.0       Firmicutes    1.0        Clostridia    1.0   \n",
       "2  Otu11  Bacteria    1.0   Actinobacteria    1.0    Coriobacteriia    1.0   \n",
       "3   Otu8  Bacteria    1.0    Bacteroidetes    1.0       Bacteroidia    1.0   \n",
       "4   Otu2  Bacteria    1.0  Verrucomicrobia    1.0  Verrucomicrobiae    1.0   \n",
       "\n",
       "                order  oconf            family  fconf             genus  gconf  \n",
       "0     Lactobacillales    1.0  Lactobacillaceae   1.00     Lactobacillus   0.99  \n",
       "1       Clostridiales    1.0   Lachnospiraceae   1.00  Clostridium_XlVa   0.68  \n",
       "2      Eggerthellales    1.0   Eggerthellaceae   1.00     Adlercreutzia   0.85  \n",
       "3       Bacteroidales    1.0    Muribaculaceae   0.99       Duncaniella   0.99  \n",
       "4  Verrucomicrobiales    1.0   Akkermansiaceae   1.00       Akkermansia   1.00  "
      ]
     },
     "execution_count": 7,
     "metadata": {},
     "output_type": "execute_result"
    }
   ],
   "source": [
    "tax.head()"
   ]
  },
  {
   "cell_type": "code",
   "execution_count": 8,
   "id": "6df33227",
   "metadata": {},
   "outputs": [],
   "source": [
    "def apply_taxonomy_threshold(taxonomy, threshold=0.5):\n",
    "    ranks = ['domain', 'phylum', 'class', 'order', 'family', 'genus']\n",
    "    conf = ['dconf', 'pconf', 'cconf', 'oconf', 'fconf', 'gconf']\n",
    "    \n",
    "    taxcopy = taxonomy.reset_index()\n",
    "    ntaxa = taxcopy.shape[0]\n",
    "    for i in range(ntaxa):\n",
    "        for r,c in zip(ranks, conf):\n",
    "            if taxcopy.loc[i,c] < threshold:\n",
    "                taxcopy.loc[i,r] = 'na'\n",
    "    \n",
    "    ptaxa = taxcopy.set_index(\"Otu\")\n",
    "    ptaxa2 = ptaxa[ranks]\n",
    "    \n",
    "    mapper = {x:x.capitalize() for x in list(ptaxa2.columns)}\n",
    "    ptaxa3 = ptaxa2.rename(columns=mapper)\n",
    "    return ptaxa3"
   ]
  },
  {
   "cell_type": "code",
   "execution_count": 9,
   "id": "21c03d6b",
   "metadata": {},
   "outputs": [],
   "source": [
    "filttax = apply_taxonomy_threshold(tax)"
   ]
  },
  {
   "cell_type": "code",
   "execution_count": 10,
   "id": "bff929d4",
   "metadata": {},
   "outputs": [
    {
     "data": {
      "text/html": [
       "<div>\n",
       "<style scoped>\n",
       "    .dataframe tbody tr th:only-of-type {\n",
       "        vertical-align: middle;\n",
       "    }\n",
       "\n",
       "    .dataframe tbody tr th {\n",
       "        vertical-align: top;\n",
       "    }\n",
       "\n",
       "    .dataframe thead th {\n",
       "        text-align: right;\n",
       "    }\n",
       "</style>\n",
       "<table border=\"1\" class=\"dataframe\">\n",
       "  <thead>\n",
       "    <tr style=\"text-align: right;\">\n",
       "      <th></th>\n",
       "      <th>Domain</th>\n",
       "      <th>Phylum</th>\n",
       "      <th>Class</th>\n",
       "      <th>Order</th>\n",
       "      <th>Family</th>\n",
       "      <th>Genus</th>\n",
       "    </tr>\n",
       "    <tr>\n",
       "      <th>Otu</th>\n",
       "      <th></th>\n",
       "      <th></th>\n",
       "      <th></th>\n",
       "      <th></th>\n",
       "      <th></th>\n",
       "      <th></th>\n",
       "    </tr>\n",
       "  </thead>\n",
       "  <tbody>\n",
       "    <tr>\n",
       "      <th>Otu1</th>\n",
       "      <td>Bacteria</td>\n",
       "      <td>Firmicutes</td>\n",
       "      <td>Bacilli</td>\n",
       "      <td>Lactobacillales</td>\n",
       "      <td>Lactobacillaceae</td>\n",
       "      <td>Lactobacillus</td>\n",
       "    </tr>\n",
       "    <tr>\n",
       "      <th>Otu7</th>\n",
       "      <td>Bacteria</td>\n",
       "      <td>Firmicutes</td>\n",
       "      <td>Clostridia</td>\n",
       "      <td>Clostridiales</td>\n",
       "      <td>Lachnospiraceae</td>\n",
       "      <td>Clostridium_XlVa</td>\n",
       "    </tr>\n",
       "    <tr>\n",
       "      <th>Otu11</th>\n",
       "      <td>Bacteria</td>\n",
       "      <td>Actinobacteria</td>\n",
       "      <td>Coriobacteriia</td>\n",
       "      <td>Eggerthellales</td>\n",
       "      <td>Eggerthellaceae</td>\n",
       "      <td>Adlercreutzia</td>\n",
       "    </tr>\n",
       "    <tr>\n",
       "      <th>Otu8</th>\n",
       "      <td>Bacteria</td>\n",
       "      <td>Bacteroidetes</td>\n",
       "      <td>Bacteroidia</td>\n",
       "      <td>Bacteroidales</td>\n",
       "      <td>Muribaculaceae</td>\n",
       "      <td>Duncaniella</td>\n",
       "    </tr>\n",
       "    <tr>\n",
       "      <th>Otu2</th>\n",
       "      <td>Bacteria</td>\n",
       "      <td>Verrucomicrobia</td>\n",
       "      <td>Verrucomicrobiae</td>\n",
       "      <td>Verrucomicrobiales</td>\n",
       "      <td>Akkermansiaceae</td>\n",
       "      <td>Akkermansia</td>\n",
       "    </tr>\n",
       "  </tbody>\n",
       "</table>\n",
       "</div>"
      ],
      "text/plain": [
       "         Domain           Phylum             Class               Order  \\\n",
       "Otu                                                                      \n",
       "Otu1   Bacteria       Firmicutes           Bacilli     Lactobacillales   \n",
       "Otu7   Bacteria       Firmicutes        Clostridia       Clostridiales   \n",
       "Otu11  Bacteria   Actinobacteria    Coriobacteriia      Eggerthellales   \n",
       "Otu8   Bacteria    Bacteroidetes       Bacteroidia       Bacteroidales   \n",
       "Otu2   Bacteria  Verrucomicrobia  Verrucomicrobiae  Verrucomicrobiales   \n",
       "\n",
       "                 Family             Genus  \n",
       "Otu                                        \n",
       "Otu1   Lactobacillaceae     Lactobacillus  \n",
       "Otu7    Lachnospiraceae  Clostridium_XlVa  \n",
       "Otu11   Eggerthellaceae     Adlercreutzia  \n",
       "Otu8     Muribaculaceae       Duncaniella  \n",
       "Otu2    Akkermansiaceae       Akkermansia  "
      ]
     },
     "execution_count": 10,
     "metadata": {},
     "output_type": "execute_result"
    }
   ],
   "source": [
    "filttax.head()"
   ]
  },
  {
   "cell_type": "markdown",
   "id": "03b117a1",
   "metadata": {},
   "source": [
    "#### update names"
   ]
  },
  {
   "cell_type": "code",
   "execution_count": 13,
   "id": "9ee5e4ac",
   "metadata": {},
   "outputs": [],
   "source": [
    "taxonomy = filttax.copy()"
   ]
  },
  {
   "cell_type": "code",
   "execution_count": 14,
   "id": "142f8a51",
   "metadata": {},
   "outputs": [],
   "source": [
    "name_updates = {'Otu10': {'Species': 'Faecalibaculum rodentium'},\n",
    "'Otu17': {'Genus': 'Roseburia'},\n",
    "'Otu6': {'Species': 'Eubacterium coprostanoligenes'},\n",
    "'Otu20': {'Species': 'Muribaculum gordoncarteri'},\n",
    "'Otu15': {'Genus': 'Eisenbergiella'},\n",
    "'Otu43': {'Family': 'Lachnospiraceae'}}"
   ]
  },
  {
   "cell_type": "code",
   "execution_count": 15,
   "id": "21510717",
   "metadata": {},
   "outputs": [],
   "source": [
    "taxonomy['Species'] = 'na'"
   ]
  },
  {
   "cell_type": "code",
   "execution_count": 16,
   "id": "a2c98e19",
   "metadata": {},
   "outputs": [],
   "source": [
    "for oidx in name_updates.keys():\n",
    "    replace = name_updates[oidx]\n",
    "    key = list(replace.keys())[0]\n",
    "    newname = replace[key]\n",
    "    taxonomy.loc[oidx,key] = newname"
   ]
  },
  {
   "cell_type": "code",
   "execution_count": 17,
   "id": "87795de9",
   "metadata": {},
   "outputs": [
    {
     "data": {
      "text/plain": [
       "Domain                     Bacteria\n",
       "Phylum                   Firmicutes\n",
       "Class              Erysipelotrichia\n",
       "Order            Erysipelotrichales\n",
       "Family          Erysipelotrichaceae\n",
       "Genus                Faecalibaculum\n",
       "Species    Faecalibaculum rodentium\n",
       "Name: Otu10, dtype: object"
      ]
     },
     "execution_count": 17,
     "metadata": {},
     "output_type": "execute_result"
    }
   ],
   "source": [
    "taxonomy.loc['Otu10',:]"
   ]
  },
  {
   "cell_type": "code",
   "execution_count": 18,
   "id": "b97cb8f9",
   "metadata": {},
   "outputs": [
    {
     "data": {
      "text/plain": [
       "Domain                          Bacteria\n",
       "Phylum                        Firmicutes\n",
       "Class                         Clostridia\n",
       "Order                      Clostridiales\n",
       "Family                    Eubacteriaceae\n",
       "Genus                        Eubacterium\n",
       "Species    Eubacterium coprostanoligenes\n",
       "Name: Otu6, dtype: object"
      ]
     },
     "execution_count": 18,
     "metadata": {},
     "output_type": "execute_result"
    }
   ],
   "source": [
    "taxonomy.loc['Otu6',:]"
   ]
  },
  {
   "cell_type": "code",
   "execution_count": 19,
   "id": "5eaeff3a",
   "metadata": {},
   "outputs": [
    {
     "data": {
      "text/plain": [
       "array(['Lactobacillaceae', 'Lachnospiraceae', 'Eggerthellaceae',\n",
       "       'Muribaculaceae', 'Akkermansiaceae', 'Eubacteriaceae',\n",
       "       'Ruminococcaceae', 'Erysipelotrichaceae', 'Streptococcaceae',\n",
       "       'Bacillaceae_1', 'na', 'Peptostreptococcaceae',\n",
       "       'Porphyromonadaceae', 'Clostridiaceae_1', 'Acholeplasmataceae',\n",
       "       'Dysgonomonadaceae', 'Flavobacteriaceae', 'Poaceae',\n",
       "       'Clostridiales_Incertae_Sedis_XIII', 'Prevotellaceae',\n",
       "       'Chloroplast', 'Tissierellaceae', 'Clostridiales_incertae_sedis',\n",
       "       'Bacteroidaceae', 'Rikenellaceae', 'Bifidobacteriaceae',\n",
       "       'Deferribacteraceae', 'Sphingobacteriaceae', 'Sphingomonadaceae',\n",
       "       'Clostridiaceae_3', 'Marinilabiliaceae', 'Odoribacteraceae',\n",
       "       'Bradyrhizobiaceae', 'Staphylococcaceae', 'Microbacteriaceae',\n",
       "       'Coriobacteriaceae', 'Phyllobacteriaceae', 'Chlorobiaceae',\n",
       "       'Atopobiaceae', 'Desulfovibrionaceae', 'Synergistaceae',\n",
       "       'Spirochaetaceae', 'Fulvivirgaceae', 'Cytophagaceae',\n",
       "       'Enterobacteriaceae', 'Christensenellaceae', 'Sutterellaceae',\n",
       "       'Micrococcaceae', 'Peptococcaceae_2', 'Mycobacteriaceae',\n",
       "       'Comamonadaceae', 'Ignavibacteriaceae', 'Oxalobacteraceae',\n",
       "       'Corynebacteriaceae', 'Streptomycetaceae', 'Devosiaceae',\n",
       "       'Verrucomicrobiaceae', 'Polyangiaceae', 'Parachlamydiaceae',\n",
       "       'Pseudomonadaceae', 'Weeksellaceae',\n",
       "       'Clostridiales_Incertae_Sedis_XVII', 'Listeriaceae',\n",
       "       'Nitrososphaeraceae', 'Thermoactinomycetaceae_1',\n",
       "       'Methanobacteriaceae', 'Acidobacteria_Gp16', 'Planctomycetaceae',\n",
       "       'Xanthomonadaceae', 'Pseudonocardiaceae', 'Aquificaceae',\n",
       "       'Deinococcaceae', 'Methylobacteriaceae', 'Micromonosporaceae',\n",
       "       'Planococcaceae', 'Vallitaleaceae', 'Gaiellaceae',\n",
       "       'Actinomycetaceae', 'Nocardioidaceae', 'Gordoniaceae',\n",
       "       'Thermoleophilaceae', 'Acidobacteria_Gp6', 'Carnobacteriaceae',\n",
       "       'Acetobacteraceae', 'Propionibacteriaceae', 'Rubrobacteraceae',\n",
       "       'Gottschalkiaceae', 'Thermoguttaceae', 'Paenibacillaceae_1'],\n",
       "      dtype=object)"
      ]
     },
     "execution_count": 19,
     "metadata": {},
     "output_type": "execute_result"
    }
   ],
   "source": [
    "taxonomy['Family'].unique()"
   ]
  },
  {
   "cell_type": "code",
   "execution_count": 20,
   "id": "50c4e8da",
   "metadata": {},
   "outputs": [],
   "source": [
    "taxonomy.to_csv(outpath / \"taxonomy.csv\")"
   ]
  },
  {
   "cell_type": "code",
   "execution_count": 21,
   "id": "1aadac89",
   "metadata": {},
   "outputs": [
    {
     "name": "stdout",
     "output_type": "stream",
     "text": [
      " Volume in drive C is OS\n",
      " Volume Serial Number is 5E7E-789E\n",
      "\n",
      " Directory of C:\\Users\\Gary2\\Partners HealthCare Dropbox\\Gurdip Uppal\\research_bwh\\MCSPACE_FINAL\\MCSPACE\\mcspace\\data\\mouse_experiments\n",
      "\n",
      "08/26/2024  09:26 AM    <DIR>          .\n",
      "08/20/2024  03:34 PM    <DIR>          ..\n",
      "08/26/2024  09:18 AM    <DIR>          .ipynb_checkpoints\n",
      "08/20/2024  03:34 PM    <DIR>          _raw_data\n",
      "06/11/2024  10:10 AM           109,967 combined_zotus .fa\n",
      "08/13/2024  01:22 PM        12,618,963 mouse_counts.csv.gz\n",
      "08/20/2024  03:34 PM    <DIR>          output\n",
      "06/11/2024  12:13 PM           157,797 tax.csv\n",
      "08/26/2024  09:27 AM    <DIR>          taxonomy\n",
      "08/20/2024  03:34 PM    <DIR>          tmp\n",
      "08/26/2024  09:26 AM            16,058 update_taxonomy.ipynb\n",
      "06/11/2024  10:10 AM           109,967 zotus.fa\n",
      "               5 File(s)     13,012,752 bytes\n",
      "               7 Dir(s)  990,319,476,736 bytes free\n"
     ]
    }
   ],
   "source": [
    "ls "
   ]
  },
  {
   "cell_type": "code",
   "execution_count": 22,
   "id": "96d25a87",
   "metadata": {},
   "outputs": [
    {
     "name": "stdout",
     "output_type": "stream",
     "text": [
      " Volume in drive C is OS\n",
      " Volume Serial Number is 5E7E-789E\n",
      "\n",
      " Directory of C:\\Users\\Gary2\\Partners HealthCare Dropbox\\Gurdip Uppal\\research_bwh\\MCSPACE_FINAL\\MCSPACE\\mcspace\\data\\mouse_experiments\\taxonomy\n",
      "\n",
      "08/26/2024  09:27 AM    <DIR>          .\n",
      "08/26/2024  09:26 AM    <DIR>          ..\n",
      "08/26/2024  09:27 AM            93,514 taxonomy.csv\n",
      "               1 File(s)         93,514 bytes\n",
      "               2 Dir(s)  990,319,280,128 bytes free\n"
     ]
    }
   ],
   "source": [
    "ls \"taxonomy/\""
   ]
  },
  {
   "cell_type": "code",
   "execution_count": null,
   "id": "cc0d204c",
   "metadata": {},
   "outputs": [],
   "source": []
  }
 ],
 "metadata": {
  "kernelspec": {
   "display_name": "Python [conda env:mcfinal]",
   "language": "python",
   "name": "conda-env-mcfinal-py"
  },
  "language_info": {
   "codemirror_mode": {
    "name": "ipython",
    "version": 3
   },
   "file_extension": ".py",
   "mimetype": "text/x-python",
   "name": "python",
   "nbconvert_exporter": "python",
   "pygments_lexer": "ipython3",
   "version": "3.10.14"
  }
 },
 "nbformat": 4,
 "nbformat_minor": 5
}
