{
 "cells": [
  {
   "cell_type": "markdown",
   "id": "fd456e68",
   "metadata": {},
   "source": [
    "# Figure 3: benchmarking results\n",
    "This script generates figure 3 of the paper, giving the semi-synthetic and cross-validation benchmarking results against comparator methods\n",
    "\n",
    "### Before you start\n",
    "This notebook assumes that the synthetic analysis and cross-validation analysis are already done and metrics have been computed and are located in `MCSPACE_paper/results`. \n",
    "\n",
    "Refer to the README in `MCSPACE_paper/scripts` for the analysis pipeline and more details."
   ]
  },
  {
   "cell_type": "code",
   "execution_count": 1,
   "id": "bf467e4b",
   "metadata": {},
   "outputs": [],
   "source": [
    "from mcspace.utils import pickle_load\n",
    "import pandas as pd\n",
    "import matplotlib.pyplot as plt\n",
    "import seaborn as sns\n",
    "from pathlib import Path\n",
    "import matplotlib.patches as mpatches\n",
    "import matplotlib as mpl\n",
    "import numpy as np\n",
    "\n",
    "from statsmodels.stats.multitest import multipletests\n",
    "from scipy.stats import mannwhitneyu\n",
    "import matplotlib.patches as mpatches"
   ]
  },
  {
   "cell_type": "code",
   "execution_count": 2,
   "id": "6825bb93",
   "metadata": {},
   "outputs": [],
   "source": [
    "# change font\n",
    "mpl.rcParams['font.sans-serif'] = \"Arial\"\n",
    "mpl.rcParams['font.family'] = \"sans-serif\"\n",
    "plt.rcParams['svg.fonttype'] = 'none'"
   ]
  },
  {
   "cell_type": "markdown",
   "id": "9c706a23",
   "metadata": {},
   "source": [
    "# Paths"
   ]
  },
  {
   "cell_type": "markdown",
   "id": "fe2e4861",
   "metadata": {},
   "source": [
    "Note: Paths are relative to this notebook, which is assumed to be located in `MCSPACE_paper/figures`"
   ]
  },
  {
   "cell_type": "code",
   "execution_count": 3,
   "id": "9a35679d",
   "metadata": {},
   "outputs": [],
   "source": [
    "basepath = Path(\"./\")\n",
    "rootpath = Path(\"../../\")"
   ]
  },
  {
   "cell_type": "code",
   "execution_count": 4,
   "id": "c8987283",
   "metadata": {},
   "outputs": [],
   "source": [
    "outpath = basepath / \"paper_figures\"\n",
    "outpath.mkdir(exist_ok=True, parents=True)"
   ]
  },
  {
   "cell_type": "markdown",
   "id": "bd302958",
   "metadata": {},
   "source": [
    "## Paths to results\n",
    "Given the analysis scripts have been run, the results should be located in the following paths"
   ]
  },
  {
   "cell_type": "code",
   "execution_count": 5,
   "id": "bce14212",
   "metadata": {},
   "outputs": [],
   "source": [
    "pwpath = rootpath / \"MCSPACE_paper\" / \"results\" / \"pairwise\"\n",
    "mcpwpath = pwpath / \"mcspace_results\"\n",
    "fishpwpath = pwpath / \"fisher_results\"\n",
    "ecopwpath = pwpath / \"ecosim_results\"\n",
    "arrespath = rootpath / \"MCSPACE_paper\" / \"results\" / \"assemblage_recovery\"\n",
    "cvpath = rootpath / \"MCSPACE_paper\" / \"results\" / \"cross_validation\""
   ]
  },
  {
   "cell_type": "markdown",
   "id": "66b95741",
   "metadata": {},
   "source": [
    "# Load results"
   ]
  },
  {
   "cell_type": "markdown",
   "id": "c82185e0",
   "metadata": {},
   "source": [
    "## pairwise results"
   ]
  },
  {
   "cell_type": "code",
   "execution_count": 6,
   "id": "dcb1d2a8",
   "metadata": {},
   "outputs": [],
   "source": [
    "fishpwres = pd.DataFrame(pickle_load(fishpwpath / \"results.pkl\"))\n",
    "mcpwres = pd.DataFrame(pickle_load(mcpwpath / \"results.pkl\"))\n",
    "ecopwres = pd.DataFrame(pickle_load(ecopwpath / \"results.pkl\"))\n",
    "\n",
    "# combine results\n",
    "pwres = pd.concat([mcpwres, fishpwres, ecopwres])"
   ]
  },
  {
   "cell_type": "markdown",
   "id": "4ccb7fa0",
   "metadata": {},
   "source": [
    "## assemblage recovery results"
   ]
  },
  {
   "cell_type": "code",
   "execution_count": 7,
   "id": "66fbe64f",
   "metadata": {},
   "outputs": [],
   "source": [
    "arres = pd.DataFrame(pickle_load(arrespath / \"results.pkl\"))"
   ]
  },
  {
   "cell_type": "markdown",
   "id": "835575b4",
   "metadata": {},
   "source": [
    "## cross validation results"
   ]
  },
  {
   "cell_type": "code",
   "execution_count": 8,
   "id": "82afbd1e",
   "metadata": {},
   "outputs": [],
   "source": [
    "cvres = pd.DataFrame(pickle_load(cvpath / \"results.pkl\"))"
   ]
  },
  {
   "cell_type": "markdown",
   "id": "adc5c6b8",
   "metadata": {},
   "source": [
    "#### split CV results into human and mouse cases"
   ]
  },
  {
   "cell_type": "code",
   "execution_count": 9,
   "id": "b964c811",
   "metadata": {},
   "outputs": [],
   "source": [
    "all_cases = cvres['case'].unique()\n",
    "mouse_cases = [x for x in all_cases if x.startswith('Mouse')]\n",
    "human_cases = [x for x in all_cases if x.startswith('Human')]\n",
    "\n",
    "human_res = cvres.loc[cvres['case'].isin(human_cases),:]\n",
    "mouse_res = cvres.loc[cvres['case'].isin(mouse_cases),:]"
   ]
  },
  {
   "cell_type": "code",
   "execution_count": null,
   "id": "feaa81fe",
   "metadata": {},
   "outputs": [],
   "source": []
  },
  {
   "cell_type": "markdown",
   "id": "32dad464",
   "metadata": {},
   "source": [
    "# Render figure"
   ]
  },
  {
   "cell_type": "code",
   "execution_count": 10,
   "id": "d631814f",
   "metadata": {},
   "outputs": [],
   "source": [
    "def subset_results(res, subset_var, base_sample):\n",
    "    temp = res.loc[res[subset_var] != 'default',:]\n",
    "    temp = temp.loc[temp['base_sample'] == base_sample,:]\n",
    "    return temp\n",
    "\n",
    "\n",
    "def make_sub_gs_ax_cols(fig, gs,i,j, ncols, wspace=0.05):\n",
    "    gssub = gs[i,j].subgridspec(1,ncols,wspace=wspace)\n",
    "    axs = []\n",
    "    for k in range(ncols):\n",
    "        axs.append(fig.add_subplot(gssub[0,k]))\n",
    "    return gssub, axs\n",
    "\n",
    "\n",
    "def compute_corrected_pvalues(data, x, y, model_order, conditions, base='mcspace'):\n",
    "    n_other = len(model_order) - 1\n",
    "    n_conditions = len(conditions)\n",
    "    pvalues = np.zeros((n_other, n_conditions))\n",
    "    for i,mod in enumerate(model_order[1:]):\n",
    "        for j, cond in enumerate(conditions):\n",
    "            base_values = data.loc[(data['model'] == base) & (data[x] == cond),y].values\n",
    "            comp_values = data.loc[(data['model'] == mod) & (data[x] == cond),y].values\n",
    "            pval = mannwhitneyu(base_values, comp_values)\n",
    "            pvalues[i,j] = pval.pvalue\n",
    "    adjpvals = multipletests(pvalues.reshape((-1,)), alpha=0.05, method='fdr_bh')[1].reshape((n_other, n_conditions))\n",
    "    return adjpvals\n",
    "\n",
    "\n",
    "def annotate_pvalues(data, x, value, conditions, adjpvals, ax, h, width, text_h, offset, ns_h_shift):\n",
    "    n_other, n_cond = adjpvals.shape\n",
    "\n",
    "    # settings\n",
    "    data_range = np.amax(data.loc[:,value].values) - np.amin(data.loc[:,value].values)\n",
    "    \n",
    "    STAR_SIZE = 12 #8\n",
    "    NS_SIZE = 10\n",
    "    LINEWIDTH = 1.0\n",
    "    \n",
    "    for i in range(n_other):\n",
    "        for j, cond in enumerate(conditions):\n",
    "            x1 = j - ((n_cond-1)/(2*n_cond)) + width\n",
    "            x2 = x1 + 2*(i+1)*width #+ 0.01\n",
    "            max_y = np.quantile(data.loc[data[x] == cond,value].values, q=0.99)\n",
    "            y = max_y + i*offset + 0.025*data_range\n",
    "\n",
    "            color = 'black'\n",
    "            fontsize = STAR_SIZE\n",
    "            text_h2 = text_h\n",
    "            pv = adjpvals[i,j]\n",
    "            if pv < 0.0001:\n",
    "                levmarker = \"****\"\n",
    "            elif pv < 0.001:\n",
    "                levmarker = \"***\"\n",
    "            elif pv < 0.01:\n",
    "                levmarker = \"**\"\n",
    "            elif pv < 0.05:\n",
    "                levmarker = \"*\"\n",
    "            else:\n",
    "                levmarker = 'ns'\n",
    "                color='tab:red'\n",
    "                text_h2 = text_h - ns_h_shift\n",
    "                fontsize = NS_SIZE\n",
    "                \n",
    "            ax.plot([x1, x1, x2, x2], [y+0.5*h, y+1.5*h, y+1.5*h, y+0.5*h], lw=LINEWIDTH, c=color)\n",
    "            ax.text((x1+x2)*0.5, y+text_h2, levmarker, ha='center', va='bottom', color=color, fontsize=fontsize)\n",
    "    return ax\n",
    "\n",
    "\n",
    "def plot_case_results(ax, datasub, x, y, model_order, palette, base_sample):\n",
    "#     datasub.fillna(1.0, inplace=True)\n",
    "    ax=sns.boxplot(data=datasub, x=x, y=y, ax=ax, hue='model', \n",
    "                   hue_order=model_order, palette=palette, showfliers=False)\n",
    "    ax=sns.stripplot(data=datasub, x=x, y=y, ax=ax, hue='model', \n",
    "               hue_order=model_order, palette=palette, dodge=True, edgecolor='k', linewidth=0.5, size=3)\n",
    "#     ax.set_xticklabels(ax.get_xticklabels(), rotation=30)\n",
    "    ax.get_legend().remove()\n",
    "    return ax\n",
    "\n",
    "\n",
    "def plot_results(axs, data, cases, y, model_order, palette, base_sample, \n",
    "                 h=0.008, width=1.0/5.0, text_h=0.001, offset=0.02, ns_h_shift=0.01, grid=True):\n",
    "#     cases = ['number particles', 'read depth', 'number clusters', 'contamination weight', 'number subjects']\n",
    "    pvalsout = {}\n",
    "    for i,case in enumerate(cases):\n",
    "        datasub = subset_results(data, case, base_sample)\n",
    "        datasub[case] = pd.to_numeric(datasub[case])\n",
    "        axs[i]=plot_case_results(axs[i], datasub, case, y, model_order, palette, base_sample)\n",
    "        conditions = np.sort(datasub[case].unique())\n",
    "        pvals = compute_corrected_pvalues(datasub, x=case, y=y, model_order=model_order, conditions=conditions)\n",
    "        pvalsout[case] = pvals\n",
    "        axs[i] = annotate_pvalues(datasub, case, y, conditions, pvals, axs[i], h, width, text_h, offset, ns_h_shift)\n",
    "        \n",
    "        if grid:\n",
    "            axs[i].set_axisbelow(True)\n",
    "            axs[i].yaxis.grid(True, 'major', linewidth=1, color='#e6e6e6')\n",
    "            axs[i].set_axisbelow(True)\n",
    "            axs[i].xaxis.grid(True, 'major', linewidth=1, color='#e6e6e6')\n",
    "\n",
    "    return axs, pvalsout\n",
    "\n",
    "\n",
    "def box_to_ell_axes(ax):\n",
    "    # Hide the right and top spines\n",
    "    ax.spines[['right', 'top']].set_visible(False)\n",
    "    return ax \n",
    "\n",
    "\n",
    "def compute_corrected_pvalues_single_cond(data, x, y, model_order, base='mcspace'):\n",
    "    n_other = len(model_order) - 1\n",
    "    pvalues = np.zeros(n_other)\n",
    "    for i,mod in enumerate(model_order[1:]):\n",
    "        base_values = data.loc[(data['model'] == base),y].values\n",
    "        comp_values = data.loc[(data['model'] == mod),y].values\n",
    "        pval = mannwhitneyu(base_values, comp_values)\n",
    "        pvalues[i] = pval.pvalue\n",
    "    adjpvals = multipletests(pvalues, alpha=0.05, method='fdr_bh')[1]\n",
    "    return adjpvals\n",
    "\n",
    "\n",
    "def annotate_pvalues_single_cond(data, x, value, adjpvals, ax, h, width, text_h, offset):\n",
    "    # settings\n",
    "#     h=0.01\n",
    "#     offset=0.05\n",
    "#     width = 1.0\n",
    "    STAR_SIZE = 12\n",
    "    LINEWIDTH = 1.0\n",
    "    \n",
    "    n_other = len(adjpvals)\n",
    "    \n",
    "    for i in range(n_other):\n",
    "        x1 = 0 \n",
    "        x2 = x1 + (i+1)*width + 0.01\n",
    "        max_y = 1.01*np.amax(data.loc[:,value].values)\n",
    "        y = max_y + (i+0.5)*offset\n",
    "\n",
    "        color = 'black'\n",
    "        pv = adjpvals[i]\n",
    "        if pv < 0.0001:\n",
    "            levmarker = \"****\"\n",
    "        elif pv < 0.001:\n",
    "            levmarker = \"***\"\n",
    "        elif pv < 0.01:\n",
    "            levmarker = \"**\"\n",
    "        elif pv < 0.05:\n",
    "            levmarker = \"*\"\n",
    "        else:\n",
    "            levmarker = 'ns'\n",
    "            color='tab:red'\n",
    "\n",
    "        ax.plot([x1, x1, x2, x2], [y, y+h, y+h, y], lw=LINEWIDTH, c=color)\n",
    "        ax.text((x1+x2)*0.5, y+text_h, levmarker, ha='center', va='bottom', color=color, fontsize=STAR_SIZE)\n",
    "    return ax\n",
    "\n",
    "\n",
    "def plot_results_combined(data, ax, palette, model_order, grid=True):\n",
    "    ax=sns.boxplot(data=data, x='model', y='cosine distance', hue='model', ax=ax, \n",
    "                   palette=palette, order=model_order, linewidth=1, showfliers=False)\n",
    "    if grid:\n",
    "        ax.set_axisbelow(True)\n",
    "        ax.yaxis.grid(True, 'major', linewidth=1, color='#e6e6e6')\n",
    "    return ax\n",
    "\n"
   ]
  },
  {
   "cell_type": "code",
   "execution_count": null,
   "id": "04130ba7",
   "metadata": {},
   "outputs": [],
   "source": []
  },
  {
   "cell_type": "markdown",
   "id": "b57e659d",
   "metadata": {},
   "source": [
    "## settings"
   ]
  },
  {
   "cell_type": "code",
   "execution_count": 11,
   "id": "daf4ea2e",
   "metadata": {},
   "outputs": [],
   "source": [
    "base_sample = 'Human'\n",
    "cases = ['number particles', 'number reads']\n",
    "case_names = ['Number of particles', 'Number of reads per particle']"
   ]
  },
  {
   "cell_type": "code",
   "execution_count": 12,
   "id": "8ecb59f5",
   "metadata": {},
   "outputs": [],
   "source": [
    "pw_model_order = ['mcspace', 'fisher', 'SIM9']\n",
    "ar_model_order = ['mcspace', 'gmm']\n",
    "holdout_model_order = ['mcspace', 'gmm_basic', 'gmm_one_dim', 'gmm_two_dim']\n",
    "grid=False\n",
    "\n",
    "pw_palette = [sns.color_palette(\"colorblind\")[i] for i in [0,1,2]]\n",
    "ar_palette = [sns.color_palette(\"colorblind\")[i] for i in [0,4]]\n",
    "cv_palette = [sns.color_palette(\"colorblind\")[i] for i in [0,4,7,8]]\n",
    "full_palette = [sns.color_palette(\"colorblind\")[i] for i in [0,1,2,4,7,8]]\n",
    "\n",
    "labels = ['MCSPACE', \"GMM\", \"d-GMM (1D)\", \"d-GMM (2D)\"]\n",
    "handles = []\n",
    "for label, color in zip(labels,cv_palette):\n",
    "    patch = mpatches.Patch(color=color, label=label)\n",
    "    handles.append(patch)"
   ]
  },
  {
   "cell_type": "markdown",
   "id": "c665fd3f",
   "metadata": {},
   "source": [
    "# Plot figure"
   ]
  },
  {
   "cell_type": "code",
   "execution_count": 13,
   "id": "5995b2cd",
   "metadata": {},
   "outputs": [
    {
     "name": "stderr",
     "output_type": "stream",
     "text": [
     ]
    },
    {
     "data": {
      "text/plain": [
       "<Figure size 1275x825 with 8 Axes>"
      ]
     },
     "metadata": {},
     "output_type": "display_data"
    }
   ],
   "source": [
    "fontsize=12\n",
    "label_fontsize=12\n",
    "ticklabel_fontsize=12\n",
    "rotation=0\n",
    "\n",
    "scale = 1.5\n",
    "fig = plt.figure(figsize=(scale*8.5,0.5*scale*11))\n",
    "gs = fig.add_gridspec(ncols=2,nrows=2, wspace=0.25, hspace=0.4)\n",
    "\n",
    "hspace = 0.2\n",
    "wspace = 0.1\n",
    "ncols =len(cases)\n",
    "gspw, axpw = make_sub_gs_ax_cols(fig,gs,0,0,ncols,wspace)\n",
    "gsar, axar = make_sub_gs_ax_cols(fig,gs,0,1,ncols,wspace)\n",
    "gsnk, axnk = make_sub_gs_ax_cols(fig,gs,1,0,ncols,wspace)\n",
    "gscv, axcv = make_sub_gs_ax_cols(fig,gs,1,1,ncols,wspace)\n",
    "\n",
    "# plot pairwise results ======================================\n",
    "axpw, pw_pvals = plot_results(axpw, pwres, cases, 'auc', pw_model_order, pw_palette, base_sample, \n",
    "                    width=1.0/7.0, text_h=-0.003, h=0.005, offset=0.03, ns_h_shift=-0.01, grid=grid)\n",
    "\n",
    "for idx,ax in enumerate(axpw):\n",
    "    ax.set_xlabel(case_names[idx], fontsize=fontsize)\n",
    "    ax.set_ylim(0.65,1.048)\n",
    "    ax.set_yticks(np.arange(0.65,1.001,0.05))\n",
    "    ax=box_to_ell_axes(ax)\n",
    "axpw[0].set_ylabel(\"AUC\", fontsize=fontsize)\n",
    "axpw[0].set_yticklabels(axpw[0].get_yticklabels(), fontsize=ticklabel_fontsize)\n",
    "axpw[1].set_yticklabels(\"\") #labels(axpw[0].get_yticklabels(), fontsize=ticklabel_fontsize)\n",
    "axpw[1].set_ylabel(\"\")\n",
    "\n",
    "# plot comm err results ======================================\n",
    "axar, ar_pvals = plot_results(axar, arres, cases, 'community error', ar_model_order, ar_palette, base_sample, text_h=-0.015, grid=grid)\n",
    "\n",
    "for idx,ax in enumerate(axar):\n",
    "    ax.set_xlabel(case_names[idx], fontsize=fontsize)\n",
    "    ax.set_ylim(0,0.8)\n",
    "    ax=box_to_ell_axes(ax)\n",
    "axar[0].set_ylabel(\"Assemblage recovery error\", fontsize=fontsize)\n",
    "axar[0].set_yticklabels(axar[0].get_yticklabels(), fontsize=ticklabel_fontsize)\n",
    "axar[1].set_yticklabels(\"\")\n",
    "axar[1].set_ylabel(\"\")\n",
    "\n",
    "\n",
    "# plot nk err results ======================================\n",
    "axnk, nk_pvals = plot_results(axnk, arres, cases, 'number clusters error', ar_model_order, ar_palette, base_sample, h=1.1, text_h=0, grid=grid)\n",
    "for idx,ax in enumerate(axnk):\n",
    "    ax.set_xlabel(case_names[idx], fontsize=fontsize)\n",
    "    ax.axhline(y=0, color='tab:red', linestyle='--', linewidth=1)\n",
    "    ax.set_xticklabels(ax.get_xticklabels(), fontsize=ticklabel_fontsize, rotation=rotation)\n",
    "\n",
    "    ax.set_ylim(-20,75)\n",
    "    ax=box_to_ell_axes(ax)\n",
    "axnk[0].set_ylabel(\"Assemblage number deviation\", fontsize=fontsize)\n",
    "axnk[0].set_yticklabels(axnk[0].get_yticklabels(), fontsize=ticklabel_fontsize)\n",
    "axnk[1].set_yticklabels(\"\")\n",
    "axnk[1].set_ylabel(\"\")\n",
    "\n",
    "\n",
    "# cross validation\n",
    "human_adjpvals = compute_corrected_pvalues_single_cond(human_res, x='model', y='cosine distance', model_order=holdout_model_order)\n",
    "mouse_adjpvals = compute_corrected_pvalues_single_cond(mouse_res, x='model', y='cosine distance', model_order=holdout_model_order)\n",
    "\n",
    "for ax, res, pv in zip(axcv, [human_res, mouse_res], [human_adjpvals, mouse_adjpvals]):\n",
    "    ax = plot_results_combined(res, ax, cv_palette, holdout_model_order, grid=False)\n",
    "    ax = annotate_pvalues_single_cond(res,'model','cosine distance', pv, ax,\n",
    "                                         h=0.02, width=1, text_h=-0.02, offset=0.07)\n",
    "    ax = box_to_ell_axes(ax)\n",
    "    ax.set_ylim(-0.05,1.22)\n",
    "    ax.set_yticks(np.arange(0,1.001,0.2))\n",
    "    ax.set_xticks([])\n",
    "    ax.set_xlabel(\"\")\n",
    "axcv[0].set_ylabel(\"Cosine distance\", fontsize=fontsize)\n",
    "axcv[0].set_yticklabels(axcv[0].get_yticklabels(), fontsize=ticklabel_fontsize)\n",
    "axcv[1].set_yticklabels(\"\")\n",
    "axcv[1].set_ylabel(\"\")\n",
    "\n",
    "\n",
    "# Legend\n",
    "labels = ['MCSPACE',\"Fisher's exact\", 'SIM9', \"GMM\", \"Directional GMM (1D)\", \"Directional GMM (2D)\"]\n",
    "handles = []\n",
    "for label, color in zip(labels,full_palette):\n",
    "    patch = mpatches.Patch(color=color, label=label)\n",
    "    handles.append(patch)\n",
    "    \n",
    "L=fig.legend(handles=handles, loc='upper left', ncols=6, bbox_to_anchor=(0.1,0.95), fontsize=fontsize)\n",
    "plt.setp(L.get_title(),fontsize=fontsize)\n",
    "plt.savefig(outpath / \"figure3_benchmarking_results.svg\", bbox_inches=\"tight\")"
   ]
  },
  {
   "cell_type": "code",
   "execution_count": null,
   "id": "e5a5c19f-3b98-4523-b88d-1993a855bde0",
   "metadata": {},
   "outputs": [],
   "source": []
  },
  {
   "cell_type": "code",
   "execution_count": null,
   "id": "a7356217-5ab3-437e-bd38-d8f651bdb2b2",
   "metadata": {},
   "outputs": [],
   "source": []
  }
 ],
 "metadata": {
  "kernelspec": {
   "display_name": "Python [conda env:mcspace]",
   "language": "python",
   "name": "conda-env-mcspace-py"
  },
  "language_info": {
   "codemirror_mode": {
    "name": "ipython",
    "version": 3
   },
   "file_extension": ".py",
   "mimetype": "text/x-python",
   "name": "python",
   "nbconvert_exporter": "python",
   "pygments_lexer": "ipython3",
   "version": "3.10.15"
  }
 },
 "nbformat": 4,
 "nbformat_minor": 5
}
