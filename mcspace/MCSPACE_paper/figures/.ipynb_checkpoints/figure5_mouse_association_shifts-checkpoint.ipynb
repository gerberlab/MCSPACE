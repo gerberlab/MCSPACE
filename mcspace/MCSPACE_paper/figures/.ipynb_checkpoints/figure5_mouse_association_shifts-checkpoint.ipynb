{
 "cells": [
  {
   "cell_type": "markdown",
   "id": "20ea9919",
   "metadata": {},
   "source": [
    "# Figure 5 data: mouse association shifts\n",
    "This script generates xml files for the networks showing changes in associations of Akkemansia and Lactobacillus in figure 5 of the paper. The xml files can be viewed in cytoscape and combined in adobe illustrator to generate figure 5.\n",
    "\n",
    "### Before you start\n",
    "This notebook assumes the analysis on the mouse dataset have been run and results are located in `MCSPACE_paper/results/analysis/Mouse`. Refer to the README in `scripts/analysis` for the analysis pipeline and more details."
   ]
  },
  {
   "cell_type": "code",
   "execution_count": 1,
   "id": "e7af1e12",
   "metadata": {},
   "outputs": [],
   "source": [
    "import numpy as np\n",
    "import torch\n",
    "from mcspace.model import MCSPACE\n",
    "from mcspace.trainer import train_model\n",
    "from mcspace.data_utils import get_data, get_mouse_diet_perturbations_dataset\n",
    "\n",
    "from mcspace import utils as ut\n",
    "from pathlib import Path\n",
    "import matplotlib.pyplot as plt\n",
    "import matplotlib as mpl\n",
    "import seaborn as sns\n",
    "from mcspace.dataset import DataSet\n",
    "import pandas as pd\n",
    "\n",
    "import ete3\n",
    "from Bio import SeqIO, Phylo\n",
    "\n",
    "import matplotlib.colors as mcolors\n",
    "import networkx as nx\n",
    "import scipy.cluster.hierarchy as sch"
   ]
  },
  {
   "cell_type": "markdown",
   "id": "aaae8cdb",
   "metadata": {},
   "source": [
    "# Paths"
   ]
  },
  {
   "cell_type": "markdown",
   "id": "4e19134f",
   "metadata": {},
   "source": [
    "Note: Paths are relative to this notebook, which is assumed to be located in `MCSPACE_paper/figures`"
   ]
  },
  {
   "cell_type": "code",
   "execution_count": 2,
   "id": "c6fcb4b0",
   "metadata": {},
   "outputs": [],
   "source": [
    "rootpath = Path(\"../../\")\n",
    "basepath = Path(\"./\")"
   ]
  },
  {
   "cell_type": "code",
   "execution_count": 3,
   "id": "d3bdd769",
   "metadata": {},
   "outputs": [],
   "source": [
    "respath = rootpath / \"MCSPACE_paper\" / \"results\" / \"analysis\" / \"Mouse\" \n",
    "treepath = rootpath / \"MCSPACE_paper\" / \"datasets\" / \"mouse_experiments\" / \"output\" \n",
    "treefile = \"newick_tree_query_reads.nhx\""
   ]
  },
  {
   "cell_type": "code",
   "execution_count": 4,
   "id": "c1940439",
   "metadata": {},
   "outputs": [],
   "source": [
    "outpath = basepath / \"paper_figures\" / \"mouse_association_networks\"\n",
    "outpath.mkdir(exist_ok=True, parents=True)"
   ]
  },
  {
   "cell_type": "markdown",
   "id": "63e50307",
   "metadata": {},
   "source": [
    "# Load analysis results"
   ]
  },
  {
   "cell_type": "code",
   "execution_count": 5,
   "id": "9157cccb",
   "metadata": {},
   "outputs": [],
   "source": [
    "thetadf = pd.read_csv(respath / \"assemblages.csv\")\n",
    "betadf = pd.read_csv(respath / \"assemblage_proportions.csv\", index_col=0)\n",
    "pertsdf = pd.read_csv(respath / \"perturbation_bayes_factors.csv\", index_col=0)\n",
    "radf= pd.read_csv(respath / \"relative_abundances.csv\", index_col=0)"
   ]
  },
  {
   "cell_type": "code",
   "execution_count": 6,
   "id": "4bc200a8",
   "metadata": {},
   "outputs": [],
   "source": [
    "taxlevels = ['Otu', 'Domain', 'Phylum', 'Class', 'Order', 'Family', 'Genus', 'Species']\n",
    "taxonomy = thetadf[taxlevels].copy()\n",
    "taxonomy = taxonomy.set_index(\"Otu\")\n",
    "thetadf = thetadf.set_index(taxlevels)\n",
    "radf.columns = radf.columns.astype(int)\n",
    "avebeta = ut.get_subj_averaged_assemblage_proportions(betadf)"
   ]
  },
  {
   "cell_type": "code",
   "execution_count": null,
   "id": "60500abc",
   "metadata": {},
   "outputs": [],
   "source": []
  },
  {
   "cell_type": "markdown",
   "id": "39cd6901",
   "metadata": {},
   "source": [
    "# Export plots to graphML files for cytoscape"
   ]
  },
  {
   "cell_type": "code",
   "execution_count": 7,
   "id": "58dd9763",
   "metadata": {},
   "outputs": [],
   "source": [
    "def average_diet_times(df, diet_times):\n",
    "    df2 = df.copy()\n",
    "    diets_keep = list(diet_times.keys())\n",
    "    for k in diets_keep:\n",
    "        df2[k] = df.loc[:,diet_times[k]].mean(axis=1)\n",
    "    df2 = df2[diets_keep]\n",
    "    return df2"
   ]
  },
  {
   "cell_type": "code",
   "execution_count": 8,
   "id": "755bc992",
   "metadata": {},
   "outputs": [],
   "source": [
    "diet_times = {'S1': [10],\n",
    "'HF': [18],\n",
    "'HFHF': [43],\n",
    "'LP': [65]}"
   ]
  },
  {
   "cell_type": "markdown",
   "id": "eaca9e18",
   "metadata": {},
   "source": [
    "## Get main taxa"
   ]
  },
  {
   "cell_type": "markdown",
   "id": "e5853b03",
   "metadata": {},
   "source": [
    "Select taxa of interest using a criteria of having at least a 5% abundance on at least 3 diets"
   ]
  },
  {
   "cell_type": "code",
   "execution_count": 9,
   "id": "4a5e9f35",
   "metadata": {},
   "outputs": [],
   "source": [
    "radiets = average_diet_times(radf, diet_times)"
   ]
  },
  {
   "cell_type": "code",
   "execution_count": 10,
   "id": "7fcfa158",
   "metadata": {},
   "outputs": [],
   "source": [
    "otu_threshold = 0.05\n",
    "n_diets = 3\n",
    "otu_plot = radiets.index[((radiets > otu_threshold).sum(axis=1)>=n_diets)]"
   ]
  },
  {
   "cell_type": "code",
   "execution_count": 11,
   "id": "0306e088",
   "metadata": {},
   "outputs": [
    {
     "name": "stdout",
     "output_type": "stream",
     "text": [
      "Index(['Otu2', 'Otu1'], dtype='object', name='Otu')\n"
     ]
    }
   ],
   "source": [
    "print(otu_plot)"
   ]
  },
  {
   "cell_type": "markdown",
   "id": "244ae297",
   "metadata": {},
   "source": [
    "# Output xml files for each taxon"
   ]
  },
  {
   "cell_type": "code",
   "execution_count": 12,
   "id": "59555979",
   "metadata": {},
   "outputs": [],
   "source": [
    "for oidx in otu_plot:\n",
    "    otu_name = ut.get_lowest_level_name(oidx, taxonomy)\n",
    "\n",
    "    # get edges and node weights\n",
    "    alpha = ut.get_assoc_scores(thetadf, avebeta, oidx)\n",
    "    alphasub = average_diet_times(alpha, diet_times)\n",
    "    ew = ut.filter_assoc_scores(alphasub, radiets, oidx, ra_threshold=0.01, edge_threshold=0.01)\n",
    "    nw = radiets.loc[ew.index,:]\n",
    "\n",
    "    # update labels for taxa \n",
    "    nw3 = ut.update_names(nw, taxonomy)\n",
    "    ew3 = ut.update_names(ew, taxonomy)\n",
    "    \n",
    "    nw3.to_csv(outpath / f\"node_data_{oidx}.csv\")\n",
    "    ew3.to_csv(outpath / f\"edge_data_{oidx}.csv\")\n",
    "\n",
    "    # output to file\n",
    "    ut.output_association_network_to_graphML(oidx, nw3, ew3, taxonomy, outpath / f'{otu_name}.xml')"
   ]
  },
  {
   "cell_type": "code",
   "execution_count": null,
   "id": "7e8a380f",
   "metadata": {},
   "outputs": [],
   "source": []
  }
 ],
 "metadata": {
  "kernelspec": {
   "display_name": "Python [conda env:mcf2]",
   "language": "python",
   "name": "conda-env-mcf2-py"
  },
  "language_info": {
   "codemirror_mode": {
    "name": "ipython",
    "version": 3
   },
   "file_extension": ".py",
   "mimetype": "text/x-python",
   "name": "python",
   "nbconvert_exporter": "python",
   "pygments_lexer": "ipython3",
   "version": "3.10.15"
  }
 },
 "nbformat": 4,
 "nbformat_minor": 5
}
