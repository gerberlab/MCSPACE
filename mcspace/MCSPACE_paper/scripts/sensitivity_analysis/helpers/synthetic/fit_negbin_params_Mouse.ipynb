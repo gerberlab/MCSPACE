{
 "cells": [
  {
   "cell_type": "code",
   "execution_count": 1,
   "id": "cacf5bb0",
   "metadata": {},
   "outputs": [],
   "source": [
    "import numpy as np\n",
    "import pandas as pd\n",
    "from mcspace.utils import pickle_load, pickle_save\n",
    "import matplotlib.pyplot as plt\n",
    "import seaborn as sns\n",
    "from mcspace.data_utils import get_human_timeseries_dataset, get_mouse_diet_perturbations_dataset\n",
    "import scipy\n",
    "from scipy.stats import nbinom\n",
    "import statsmodels.api as sm\n",
    "from pathlib import Path "
   ]
  },
  {
   "cell_type": "markdown",
   "id": "e712ef37",
   "metadata": {},
   "source": [
    "# Paths"
   ]
  },
  {
   "cell_type": "code",
   "execution_count": 2,
   "id": "5dd7f6a1",
   "metadata": {},
   "outputs": [],
   "source": [
    "rootpath = Path(\"../../../../\")\n",
    "datapath = rootpath / \"datasets\"\n",
    "\n",
    "basepath = Path(\"./\")"
   ]
  },
  {
   "cell_type": "markdown",
   "id": "b5821880",
   "metadata": {},
   "source": [
    "# Load data"
   ]
  },
  {
   "cell_type": "code",
   "execution_count": 3,
   "id": "b2ff2286",
   "metadata": {},
   "outputs": [
    {
     "name": "stderr",
     "output_type": "stream",
     "text": [
      "/home/gary/PROJECTS-wsl/MCSPACE_revisions/MCSPACE/mcspace/dataset.py:23: DtypeWarning: Columns (5) have mixed types. Specify dtype option on import or set low_memory=False.\n",
      "  self._long_data = pd.read_csv(reads, compression='gzip')\n"
     ]
    }
   ],
   "source": [
    "reads, num_otus, times, subjects, dataset = get_mouse_diet_perturbations_dataset(rootpath=datapath)"
   ]
  },
  {
   "cell_type": "code",
   "execution_count": 4,
   "id": "a0e44395",
   "metadata": {},
   "outputs": [
    {
     "name": "stdout",
     "output_type": "stream",
     "text": [
      "[10 18 35 43 57 65 76]\n",
      "['JX07' 'JX08' 'JX10']\n"
     ]
    }
   ],
   "source": [
    "print(times)\n",
    "print(subjects)"
   ]
  },
  {
   "cell_type": "markdown",
   "id": "9d85bd49",
   "metadata": {},
   "source": [
    "# Fit negbin"
   ]
  },
  {
   "cell_type": "code",
   "execution_count": 5,
   "id": "35215969",
   "metadata": {},
   "outputs": [
    {
     "name": "stdout",
     "output_type": "stream",
     "text": [
      "(56848, 74)\n"
     ]
    }
   ],
   "source": [
    "# flatten data\n",
    "def combine_samples(reads):\n",
    "    times = list(reads.keys())\n",
    "    subjs = list(reads[times[0]].keys())\n",
    "    combreads = []\n",
    "    for t in times:\n",
    "        for s in subjs:\n",
    "            combreads.append(reads[t][s])\n",
    "    allreads = np.concatenate(combreads, axis=0)    \n",
    "    return allreads\n",
    "\n",
    "\n",
    "counts = combine_samples(reads)\n",
    "print(counts.shape)"
   ]
  },
  {
   "cell_type": "code",
   "execution_count": 6,
   "id": "6532f222",
   "metadata": {},
   "outputs": [
    {
     "name": "stdout",
     "output_type": "stream",
     "text": [
      "Median number of particles per sample: 2829.0\n"
     ]
    }
   ],
   "source": [
    "# get median number of particles per sample\n",
    "def get_median_particles_per_sample(reads):\n",
    "    times = list(reads.keys())\n",
    "    subjs = list(reads[times[0]].keys())\n",
    "    num_particles = []\n",
    "    for t in times:\n",
    "        for s in subjs:\n",
    "            num_particles.append(reads[t][s].shape[0])\n",
    "    return np.median(num_particles)\n",
    "\n",
    "median_particles = get_median_particles_per_sample(reads)\n",
    "print(f\"Median number of particles per sample: {median_particles}\")"
   ]
  },
  {
   "cell_type": "code",
   "execution_count": 7,
   "id": "db612918",
   "metadata": {},
   "outputs": [
    {
     "name": "stdout",
     "output_type": "stream",
     "text": [
      "Optimization terminated successfully.\n",
      "         Current function value: 8.325946\n",
      "         Iterations: 20\n",
      "         Function evaluations: 25\n",
      "         Gradient evaluations: 25\n"
     ]
    }
   ],
   "source": [
    "rdepth = counts.sum(axis=1)\n",
    "X = np.ones_like(rdepth)\n",
    "res = sm.NegativeBinomial(rdepth,X).fit(start_params=[1,1])\n",
    "mu = np.exp(res.params[0])\n",
    "p = 1/(1+mu*res.params[1])\n",
    "n = mu*p/(1-p)"
   ]
  },
  {
   "cell_type": "code",
   "execution_count": 8,
   "id": "28385168",
   "metadata": {},
   "outputs": [
    {
     "name": "stdout",
     "output_type": "stream",
     "text": [
      "0.0007266169748467039\n",
      "1.1078951664022763\n"
     ]
    }
   ],
   "source": [
    "print(p)\n",
    "print(n)"
   ]
  },
  {
   "cell_type": "markdown",
   "id": "58253510",
   "metadata": {},
   "source": [
    "## Plot fit"
   ]
  },
  {
   "cell_type": "code",
   "execution_count": 9,
   "id": "ba2440b3",
   "metadata": {},
   "outputs": [
    {
     "name": "stdout",
     "output_type": "stream",
     "text": [
      "250.0\n",
      "10000.0\n"
     ]
    },
    {
     "name": "stderr",
     "output_type": "stream",
     "text": [
      "/tmp/ipykernel_26333/4045805231.py:8: UserWarning: \n",
      "\n",
      "`distplot` is a deprecated function and will be removed in seaborn v0.14.0.\n",
      "\n",
      "Please adapt your code to use either `displot` (a figure-level function with\n",
      "similar flexibility) or `histplot` (an axes-level function for histograms).\n",
      "\n",
      "For a guide to updating your code to use the new functions, please see\n",
      "https://gist.github.com/mwaskom/de44147ed2974457ad6372750bbe5751\n",
      "\n",
      "  ax=sns.distplot(rdepth, kde=False, norm_hist=True, label='Data')\n"
     ]
    },
    {
     "data": {
      "text/plain": [
       "<matplotlib.legend.Legend at 0x7efbc987dea0>"
      ]
     },
     "execution_count": 9,
     "metadata": {},
     "output_type": "execute_result"
    },
    {
     "data": {
      "image/png": "[encoded data removed]",
      "text/plain": [
       "<Figure size 640x480 with 1 Axes>"
      ]
     },
     "metadata": {},
     "output_type": "display_data"
    }
   ],
   "source": [
    "minr = np.amin(rdepth)\n",
    "maxr = np.amax(rdepth)\n",
    "print(minr)\n",
    "print(maxr)\n",
    "\n",
    "x_plot = np.linspace(minr,maxr,int(maxr-minr)+1)\n",
    "sns.set_theme()\n",
    "ax=sns.distplot(rdepth, kde=False, norm_hist=True, label='Data')\n",
    "ax.plot(x_plot, nbinom.pmf(x_plot, n, p), 'g-', lw=2, label='Fit')\n",
    "ax.legend()"
   ]
  },
  {
   "cell_type": "code",
   "execution_count": 10,
   "id": "67b42110",
   "metadata": {},
   "outputs": [
    {
     "name": "stdout",
     "output_type": "stream",
     "text": [
      "745.0\n",
      "1390.0\n"
     ]
    }
   ],
   "source": [
    "median = np.median(rdepth)\n",
    "iqr = np.percentile(rdepth, q=75) - np.percentile(rdepth, q=25) \n",
    "\n",
    "print(median)\n",
    "print(iqr)"
   ]
  },
  {
   "cell_type": "markdown",
   "id": "72665bac",
   "metadata": {},
   "source": [
    "# Save results"
   ]
  },
  {
   "cell_type": "code",
   "execution_count": 11,
   "id": "376de592",
   "metadata": {},
   "outputs": [
    {
     "name": "stdout",
     "output_type": "stream",
     "text": [
      "Negbin_n: 1.1078951664022763, Negbin_p: 0.0007266169748467039\n",
      "Median: 745.0, IQR: 1390.0\n",
      "Median particles per sample: 2829.0\n",
      "Num OTUs: 74\n"
     ]
    }
   ],
   "source": [
    "print(f\"Negbin_n: {n}, Negbin_p: {p}\")\n",
    "print(f\"Median: {median}, IQR: {iqr}\")\n",
    "print(f\"Median particles per sample: {median_particles}\")\n",
    "print(f\"Num OTUs: {num_otus}\")"
   ]
  },
  {
   "cell_type": "code",
   "execution_count": 13,
   "id": "9bfc1bf1",
   "metadata": {},
   "outputs": [],
   "source": [
    "pickle_save(basepath / \"negbin_fit_params_Mouse_data.pkl\", {'negbin_n': n, 'negbin_p': p, 'median': median, 'iqr': iqr,\n",
    "                                                           \"num_particles\": median_particles, \"num_otus\": num_otus})"
   ]
  },
  {
   "cell_type": "code",
   "execution_count": null,
   "id": "71c7a7e6",
   "metadata": {},
   "outputs": [],
   "source": []
  }
 ],
 "metadata": {
  "kernelspec": {
   "display_name": "mcrevision",
   "language": "python",
   "name": "python3"
  },
  "language_info": {
   "codemirror_mode": {
    "name": "ipython",
    "version": 3
   },
   "file_extension": ".py",
   "mimetype": "text/x-python",
   "name": "python",
   "nbconvert_exporter": "python",
   "pygments_lexer": "ipython3",
   "version": "3.10.18"
  }
 },
 "nbformat": 4,
 "nbformat_minor": 5
}
