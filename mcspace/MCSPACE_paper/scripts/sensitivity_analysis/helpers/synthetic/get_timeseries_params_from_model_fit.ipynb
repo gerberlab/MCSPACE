{
 "cells": [
  {
   "cell_type": "code",
   "execution_count": 133,
   "id": "fa69f56b",
   "metadata": {},
   "outputs": [],
   "source": [
    "import numpy as np\n",
    "import torch\n",
    "from mcspace.model import MCSPACE\n",
    "from mcspace.utils import pickle_load, pickle_save, MODEL_FILE\n",
    "from pathlib import Path\n",
    "import matplotlib.pyplot as plt\n",
    "import matplotlib as mpl\n",
    "import seaborn as sns\n",
    "import pandas as pd"
   ]
  },
  {
   "cell_type": "markdown",
   "id": "0ce89865",
   "metadata": {},
   "source": [
    "# Paths"
   ]
  },
  {
   "cell_type": "code",
   "execution_count": 134,
   "id": "6e589057",
   "metadata": {},
   "outputs": [],
   "source": [
    "basepath = Path(\"./\")\n",
    "modelpath = basepath / \"best_run\" / \"seed_5\""
   ]
  },
  {
   "cell_type": "markdown",
   "id": "ea9c8118",
   "metadata": {},
   "source": [
    "# Load results"
   ]
  },
  {
   "cell_type": "code",
   "execution_count": 135,
   "id": "bfeb27cd",
   "metadata": {},
   "outputs": [],
   "source": [
    "thetadf = pd.read_csv(modelpath / \"assemblages.csv\")\n",
    "betadf = pd.read_csv(modelpath / \"assemblage_proportions.csv\", index_col=0)\n",
    "pertsdf = pd.read_csv(modelpath / \"perturbation_bayes_factors.csv\", index_col=0)\n",
    "radf= pd.read_csv(modelpath / \"relative_abundances.csv\", index_col=0)\n",
    "model = torch.load(modelpath / MODEL_FILE, weights_only=False)\n"
   ]
  },
  {
   "cell_type": "code",
   "execution_count": 136,
   "id": "5257db9d",
   "metadata": {},
   "outputs": [],
   "source": [
    "gamma_probs = np.concatenate([[1],model.beta_params.sparsity_params.q_probs.cpu().detach().clone().numpy()])\n",
    "gamma_percentile = 0.95\n",
    "gammasub = (gamma_probs>gamma_percentile)"
   ]
  },
  {
   "cell_type": "code",
   "execution_count": 137,
   "id": "6efd2ea2",
   "metadata": {},
   "outputs": [],
   "source": [
    "pert_probs = model.beta_params.perturbation_indicators.q_probs.cpu().clone().detach().numpy()\n",
    "pert_probs = pert_probs[gammasub,:]\n",
    "pert_p = np.mean(pert_probs)"
   ]
  },
  {
   "cell_type": "code",
   "execution_count": 138,
   "id": "1e0d3d73",
   "metadata": {},
   "outputs": [],
   "source": [
    "times = np.array(betadf['Time'].unique()).astype(int)\n",
    "subjects = np.array(betadf['Subject'].unique())\n",
    "assemblages = np.array(betadf['Assemblage'].unique())\n",
    "\n",
    "ncomm = len(assemblages)\n",
    "nsubj = len(subjects)\n",
    "ntime = len(times)"
   ]
  },
  {
   "cell_type": "code",
   "execution_count": 139,
   "id": "6ffc355e",
   "metadata": {},
   "outputs": [],
   "source": [
    "# reshape beta\n",
    "beta_vals = np.zeros((ncomm, nsubj, ntime))\n",
    "\n",
    "for i, comm in enumerate(assemblages):\n",
    "    for j, subj in enumerate(subjects):\n",
    "        for k, time in enumerate(times):\n",
    "            beta_vals[i, j, k] = betadf.loc[(betadf['Assemblage'] == comm) & \n",
    "                                            (betadf['Subject'] == subj) & \n",
    "                                            (betadf['Time'] == time), 'Value'].values[0]\n"
   ]
  },
  {
   "cell_type": "code",
   "execution_count": 140,
   "id": "baea5556",
   "metadata": {},
   "outputs": [],
   "source": [
    "taxlevels = ['Otu', 'Domain', 'Phylum', 'Class', 'Order', 'Family', 'Genus', 'Species']\n",
    "thetadf = thetadf.set_index(taxlevels)\n",
    "\n",
    "theta_vals = thetadf.values"
   ]
  },
  {
   "cell_type": "code",
   "execution_count": 141,
   "id": "d5853941",
   "metadata": {},
   "outputs": [
    {
     "name": "stdout",
     "output_type": "stream",
     "text": [
      "0.06633539620829015\n",
      "0.013078230388618295\n"
     ]
    }
   ],
   "source": [
    "delta_beta1 = beta_vals[pert_probs[:,0]>0.5,:,1] - beta_vals[pert_probs[:,0]>0.5,:,0]\n",
    "delta_beta2 = beta_vals[pert_probs[:,1]>0.5,:,3] - beta_vals[pert_probs[:,1]>0.5,:,2]\n",
    "delta_beta3 = beta_vals[pert_probs[:,2]>0.5,:,5] - beta_vals[pert_probs[:,2]>0.5,:,4]\n",
    "\n",
    "delta_beta = np.concatenate([delta_beta1, delta_beta2, delta_beta3], axis=0)\n",
    "delta_beta_vals = delta_beta.mean(axis=1)\n",
    "\n",
    "delta_beta_mu = delta_beta_vals.mean()\n",
    "delta_beta_var = delta_beta_vals.var()\n",
    "\n",
    "print(delta_beta_mu)\n",
    "print(delta_beta_var)"
   ]
  },
  {
   "cell_type": "code",
   "execution_count": 142,
   "id": "fcdf30fb",
   "metadata": {},
   "outputs": [],
   "source": [
    "process_var = model.beta_params.var_process.cpu().clone().detach().numpy()"
   ]
  },
  {
   "cell_type": "code",
   "execution_count": 143,
   "id": "69384055",
   "metadata": {},
   "outputs": [
    {
     "name": "stdout",
     "output_type": "stream",
     "text": [
      "0.018074205642566087\n"
     ]
    }
   ],
   "source": [
    "n_samples = 1000\n",
    "garb_samples = np.zeros(n_samples)\n",
    "for i in range(n_samples):\n",
    "    pi_sample, _ = model.garbage_weights()\n",
    "    garb_samples[i] = np.mean(pi_sample.cpu().detach().numpy()[0])\n",
    "garb_weight = np.mean(garb_samples)\n",
    "\n",
    "print(garb_weight)"
   ]
  },
  {
   "cell_type": "code",
   "execution_count": 144,
   "id": "50ecafc3",
   "metadata": {},
   "outputs": [],
   "source": [
    "pert_times = [18, 43, 65]  # Perturbation times\n",
    "pert_state = [0,1,-1,1,-1,1,-1]"
   ]
  },
  {
   "cell_type": "markdown",
   "id": "171d4011",
   "metadata": {},
   "source": [
    "# Save model fit results\n",
    "Save beta parameters, theta parameters, process variance, times, subjects, perturbation_probability, perturbation_magnitude and variance"
   ]
  },
  {
   "cell_type": "code",
   "execution_count": 145,
   "id": "269ec73a",
   "metadata": {},
   "outputs": [],
   "source": [
    "data = {\"beta\": beta_vals,\n",
    "        \"theta\": theta_vals,\n",
    "        \"perturbation_probs\": pert_p,\n",
    "        \"perturbation_magnitude_mean\": delta_beta_mu,\n",
    "        \"perturbation_magnitude_var\": delta_beta_var,\n",
    "        \"process_var\": process_var,\n",
    "        \"times\": times,\n",
    "        \"subjects\": subjects,\n",
    "        \"pert_times\": pert_times,\n",
    "        \"pert_state\": pert_state,\n",
    "        \"pi_garb\": garb_weight}\n",
    "\n",
    "pickle_save(basepath / \"time_series_params.pkl\", data)"
   ]
  },
  {
   "cell_type": "code",
   "execution_count": null,
   "id": "0f7ba754",
   "metadata": {},
   "outputs": [],
   "source": []
  }
 ],
 "metadata": {
  "kernelspec": {
   "display_name": "mcrevision",
   "language": "python",
   "name": "python3"
  },
  "language_info": {
   "codemirror_mode": {
    "name": "ipython",
    "version": 3
   },
   "file_extension": ".py",
   "mimetype": "text/x-python",
   "name": "python",
   "nbconvert_exporter": "python",
   "pygments_lexer": "ipython3",
   "version": "3.10.18"
  }
 },
 "nbformat": 4,
 "nbformat_minor": 5
}
