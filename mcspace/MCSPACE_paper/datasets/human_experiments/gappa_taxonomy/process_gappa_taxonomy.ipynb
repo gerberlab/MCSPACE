{
 "cells": [
  {
   "cell_type": "code",
   "execution_count": 1,
   "id": "de962703",
   "metadata": {},
   "outputs": [],
   "source": [
    "import numpy as np\n",
    "import torch\n",
    "from mcspace.model import MCSPACE\n",
    "from mcspace.trainer import train_model\n",
    "from mcspace.data_utils import get_data, get_human_timeseries_dataset\n",
    "from mcspace.utils import get_device, pickle_load, pickle_save,\\\n",
    "    get_summary_results, estimate_process_variance, MODEL_FILE, DATA_FILE, \\\n",
    "    get_mcspace_cooccur_prob\n",
    "from pathlib import Path\n",
    "import matplotlib.pyplot as plt\n",
    "import matplotlib as mpl\n",
    "import seaborn as sns\n",
    "import mcspace.visualization as vis\n",
    "from mcspace.dataset import DataSet\n",
    "import pandas as pd\n",
    "\n",
    "import ete3\n",
    "from Bio import SeqIO, Phylo"
   ]
  },
  {
   "cell_type": "code",
   "execution_count": 2,
   "id": "bd1c758a",
   "metadata": {},
   "outputs": [
    {
     "name": "stdout",
     "output_type": "stream",
     "text": [
      " Volume in drive C is OS\n",
      " Volume Serial Number is 5E7E-789E\n",
      "\n",
      " Directory of C:\\Users\\Gary2\\Partners HealthCare Dropbox\\Gurdip Uppal\\research_bwh\\MCSPACE_FINAL\\MCSPACE\\mcspace\\data\\human_experiments\\gappa_taxonomy\n",
      "\n",
      "08/21/2024  01:30 PM    <DIR>          .\n",
      "08/21/2024  01:28 PM    <DIR>          ..\n",
      "08/21/2024  01:30 PM    <DIR>          .ipynb_checkpoints\n",
      "08/21/2024  01:29 PM    <DIR>          human_results_clean\n",
      "08/21/2024  01:30 PM                72 process_gappa_taxonomy.ipynb\n",
      "08/21/2024  01:29 PM                31 README.md\n",
      "               2 File(s)            103 bytes\n",
      "               4 Dir(s)  994,139,885,568 bytes free\n"
     ]
    }
   ],
   "source": [
    "ls"
   ]
  },
  {
   "cell_type": "markdown",
   "id": "09d5e833",
   "metadata": {},
   "source": [
    "## load gappa taxonomy"
   ]
  },
  {
   "cell_type": "code",
   "execution_count": 3,
   "id": "5b1ba026",
   "metadata": {},
   "outputs": [],
   "source": [
    "sattaxpath = Path(\"./human_results_clean/\")"
   ]
  },
  {
   "cell_type": "code",
   "execution_count": 4,
   "id": "ba679896",
   "metadata": {},
   "outputs": [],
   "source": [
    "sativa = pd.read_csv(sattaxpath / \"sativa.tsv\", sep=\"\\t\", header=None)"
   ]
  },
  {
   "cell_type": "code",
   "execution_count": 5,
   "id": "833ed153",
   "metadata": {},
   "outputs": [
    {
     "data": {
      "text/html": [
       "<div>\n",
       "<style scoped>\n",
       "    .dataframe tbody tr th:only-of-type {\n",
       "        vertical-align: middle;\n",
       "    }\n",
       "\n",
       "    .dataframe tbody tr th {\n",
       "        vertical-align: top;\n",
       "    }\n",
       "\n",
       "    .dataframe thead th {\n",
       "        text-align: right;\n",
       "    }\n",
       "</style>\n",
       "<table border=\"1\" class=\"dataframe\">\n",
       "  <thead>\n",
       "    <tr style=\"text-align: right;\">\n",
       "      <th></th>\n",
       "      <th>0</th>\n",
       "      <th>1</th>\n",
       "      <th>2</th>\n",
       "    </tr>\n",
       "  </thead>\n",
       "  <tbody>\n",
       "    <tr>\n",
       "      <th>0</th>\n",
       "      <td>OTU1720</td>\n",
       "      <td>Bacteria;Firmicutes;Clostridia;Clostridiales;O...</td>\n",
       "      <td>1;1;1;1;0.766642;0.766642;0.766642</td>\n",
       "    </tr>\n",
       "    <tr>\n",
       "      <th>1</th>\n",
       "      <td>OTU3529</td>\n",
       "      <td>Bacteria;Proteobacteria;Gammaproteobacteria;Th...</td>\n",
       "      <td>1;1;1;0.740465;0.740465;0.740465;0.485297</td>\n",
       "    </tr>\n",
       "    <tr>\n",
       "      <th>2</th>\n",
       "      <td>OTU3620</td>\n",
       "      <td>Bacteria;Bacteroidetes;Bacteroidia;Bacteroidal...</td>\n",
       "      <td>1;1;1;1;1;0.999934</td>\n",
       "    </tr>\n",
       "    <tr>\n",
       "      <th>3</th>\n",
       "      <td>OTU93</td>\n",
       "      <td>Bacteria;Bacteroidetes;Bacteroidia;Bacteroidal...</td>\n",
       "      <td>1;1;1;1;0.985272;0.985272</td>\n",
       "    </tr>\n",
       "    <tr>\n",
       "      <th>4</th>\n",
       "      <td>OTU3524</td>\n",
       "      <td>Bacteria;Firmicutes;Clostridia;Clostridiales;L...</td>\n",
       "      <td>1;1;1;1;1;1;0.999878</td>\n",
       "    </tr>\n",
       "  </tbody>\n",
       "</table>\n",
       "</div>"
      ],
      "text/plain": [
       "         0                                                  1  \\\n",
       "0  OTU1720  Bacteria;Firmicutes;Clostridia;Clostridiales;O...   \n",
       "1  OTU3529  Bacteria;Proteobacteria;Gammaproteobacteria;Th...   \n",
       "2  OTU3620  Bacteria;Bacteroidetes;Bacteroidia;Bacteroidal...   \n",
       "3    OTU93  Bacteria;Bacteroidetes;Bacteroidia;Bacteroidal...   \n",
       "4  OTU3524  Bacteria;Firmicutes;Clostridia;Clostridiales;L...   \n",
       "\n",
       "                                           2  \n",
       "0         1;1;1;1;0.766642;0.766642;0.766642  \n",
       "1  1;1;1;0.740465;0.740465;0.740465;0.485297  \n",
       "2                         1;1;1;1;1;0.999934  \n",
       "3                  1;1;1;1;0.985272;0.985272  \n",
       "4                       1;1;1;1;1;1;0.999878  "
      ]
     },
     "execution_count": 5,
     "metadata": {},
     "output_type": "execute_result"
    }
   ],
   "source": [
    "sativa.head()"
   ]
  },
  {
   "cell_type": "code",
   "execution_count": 6,
   "id": "797d6c59",
   "metadata": {},
   "outputs": [],
   "source": [
    "ranks = [\n",
    "    'Kingdom',\n",
    "    'Phylum',\n",
    "    'Class',\n",
    "    'Order',\n",
    "    'Family',\n",
    "    'Genus',\n",
    "    'Species'\n",
    "]"
   ]
  },
  {
   "cell_type": "code",
   "execution_count": 7,
   "id": "b1f1bd09",
   "metadata": {},
   "outputs": [
    {
     "name": "stdout",
     "output_type": "stream",
     "text": [
      "['Kingdom_conf', 'Phylum_conf', 'Class_conf', 'Order_conf', 'Family_conf', 'Genus_conf', 'Species_conf']\n"
     ]
    }
   ],
   "source": [
    "rconf = [f'{r}_conf' for r in ranks]\n",
    "print(rconf)"
   ]
  },
  {
   "cell_type": "code",
   "execution_count": 8,
   "id": "13ca97a3",
   "metadata": {},
   "outputs": [
    {
     "name": "stdout",
     "output_type": "stream",
     "text": [
      "3855\n"
     ]
    }
   ],
   "source": [
    "ntaxa = sativa.shape[0]\n",
    "print(ntaxa)"
   ]
  },
  {
   "cell_type": "code",
   "execution_count": 9,
   "id": "488f39f0",
   "metadata": {},
   "outputs": [],
   "source": [
    "# create dict of lists\n",
    "dfdata = {}\n",
    "for rkey in ranks:\n",
    "    dfdata[rkey] = []\n",
    "for ckey in rconf:\n",
    "    dfdata[ckey] = []\n",
    "dfdata['Otu'] = []\n",
    "\n",
    "for idx in range(ntaxa):\n",
    "    otuid = sativa.iloc[idx,0]\n",
    "    taxstr = sativa.iloc[idx,1]\n",
    "    confstr = sativa.iloc[idx,2]\n",
    "\n",
    "    dfdata['Otu'].append(otuid)\n",
    "    taxlist = taxstr.split(';')\n",
    "    conflist = confstr.split(';')\n",
    "    for i,rkey in enumerate(ranks):\n",
    "        if i <= (len(taxlist)-1):\n",
    "            taxlevel = taxlist[i]\n",
    "            conflevel = conflist[i]\n",
    "        else:\n",
    "            taxlevel = 'na'\n",
    "            conflevel = 0\n",
    "        dfdata[rkey].append(taxlevel)\n",
    "        ckey = rconf[i]\n",
    "        dfdata[ckey].append(conflevel)"
   ]
  },
  {
   "cell_type": "code",
   "execution_count": 10,
   "id": "4ed5ed0b",
   "metadata": {},
   "outputs": [],
   "source": [
    "sativa_taxonomy = pd.DataFrame(dfdata)"
   ]
  },
  {
   "cell_type": "code",
   "execution_count": 11,
   "id": "3ad899d4",
   "metadata": {},
   "outputs": [
    {
     "data": {
      "text/html": [
       "<div>\n",
       "<style scoped>\n",
       "    .dataframe tbody tr th:only-of-type {\n",
       "        vertical-align: middle;\n",
       "    }\n",
       "\n",
       "    .dataframe tbody tr th {\n",
       "        vertical-align: top;\n",
       "    }\n",
       "\n",
       "    .dataframe thead th {\n",
       "        text-align: right;\n",
       "    }\n",
       "</style>\n",
       "<table border=\"1\" class=\"dataframe\">\n",
       "  <thead>\n",
       "    <tr style=\"text-align: right;\">\n",
       "      <th></th>\n",
       "      <th>Kingdom</th>\n",
       "      <th>Phylum</th>\n",
       "      <th>Class</th>\n",
       "      <th>Order</th>\n",
       "      <th>Family</th>\n",
       "      <th>Genus</th>\n",
       "      <th>Species</th>\n",
       "      <th>Kingdom_conf</th>\n",
       "      <th>Phylum_conf</th>\n",
       "      <th>Class_conf</th>\n",
       "      <th>Order_conf</th>\n",
       "      <th>Family_conf</th>\n",
       "      <th>Genus_conf</th>\n",
       "      <th>Species_conf</th>\n",
       "      <th>Otu</th>\n",
       "    </tr>\n",
       "  </thead>\n",
       "  <tbody>\n",
       "    <tr>\n",
       "      <th>1273</th>\n",
       "      <td>Bacteria</td>\n",
       "      <td>Bacteroidetes</td>\n",
       "      <td>Bacteroidia</td>\n",
       "      <td>Bacteroidales</td>\n",
       "      <td>Bacteroidaceae</td>\n",
       "      <td>Bacteroides</td>\n",
       "      <td>Bacteroides dorei</td>\n",
       "      <td>1</td>\n",
       "      <td>1</td>\n",
       "      <td>1</td>\n",
       "      <td>1</td>\n",
       "      <td>1</td>\n",
       "      <td>1</td>\n",
       "      <td>0.497429</td>\n",
       "      <td>OTU3</td>\n",
       "    </tr>\n",
       "  </tbody>\n",
       "</table>\n",
       "</div>"
      ],
      "text/plain": [
       "       Kingdom         Phylum        Class          Order          Family  \\\n",
       "1273  Bacteria  Bacteroidetes  Bacteroidia  Bacteroidales  Bacteroidaceae   \n",
       "\n",
       "            Genus            Species Kingdom_conf Phylum_conf Class_conf  \\\n",
       "1273  Bacteroides  Bacteroides dorei            1           1          1   \n",
       "\n",
       "     Order_conf Family_conf Genus_conf Species_conf   Otu  \n",
       "1273          1           1          1     0.497429  OTU3  "
      ]
     },
     "execution_count": 11,
     "metadata": {},
     "output_type": "execute_result"
    }
   ],
   "source": [
    "sativa_taxonomy.loc[sativa_taxonomy['Otu']=='OTU3',:]"
   ]
  },
  {
   "cell_type": "code",
   "execution_count": 12,
   "id": "6f051010",
   "metadata": {},
   "outputs": [],
   "source": [
    "def apply_taxonomy_threshold(taxonomy, threshold=0.5):\n",
    "#     ranks= ['domain', 'phylum', 'class', 'order', 'family', 'genus']\n",
    "    conf = rconf #['dconf', 'pconf', 'cconf', 'oconf', 'fconf', 'gconf']\n",
    "    \n",
    "    taxcopy = taxonomy.reset_index()\n",
    "    ntaxa = taxcopy.shape[0]\n",
    "    for i in range(ntaxa):\n",
    "        for r,c in zip(ranks, conf):\n",
    "#             print(taxcopy.loc[i,c])\n",
    "#             print(type(taxcopy.loc[i,c]))\n",
    "            if float(taxcopy.loc[i,c]) < threshold:\n",
    "                taxcopy.loc[i,r] = 'na'\n",
    "    \n",
    "    ptaxa = taxcopy.set_index(\"Otu\")\n",
    "    ptaxa2 = ptaxa[ranks]\n",
    "    \n",
    "    mapper = {x:x.capitalize() for x in list(ptaxa2.columns)}\n",
    "    ptaxa3 = ptaxa2.rename(columns=mapper)\n",
    "    return ptaxa3"
   ]
  },
  {
   "cell_type": "code",
   "execution_count": 13,
   "id": "7b77c2d9",
   "metadata": {},
   "outputs": [],
   "source": [
    "sativa_tax = apply_taxonomy_threshold(sativa_taxonomy)"
   ]
  },
  {
   "cell_type": "code",
   "execution_count": 14,
   "id": "c731bc72",
   "metadata": {},
   "outputs": [
    {
     "data": {
      "text/plain": [
       "(3855, 7)"
      ]
     },
     "execution_count": 14,
     "metadata": {},
     "output_type": "execute_result"
    }
   ],
   "source": [
    "sativa_tax.shape"
   ]
  },
  {
   "cell_type": "code",
   "execution_count": 15,
   "id": "1efc3d17",
   "metadata": {},
   "outputs": [
    {
     "data": {
      "text/html": [
       "<div>\n",
       "<style scoped>\n",
       "    .dataframe tbody tr th:only-of-type {\n",
       "        vertical-align: middle;\n",
       "    }\n",
       "\n",
       "    .dataframe tbody tr th {\n",
       "        vertical-align: top;\n",
       "    }\n",
       "\n",
       "    .dataframe thead th {\n",
       "        text-align: right;\n",
       "    }\n",
       "</style>\n",
       "<table border=\"1\" class=\"dataframe\">\n",
       "  <thead>\n",
       "    <tr style=\"text-align: right;\">\n",
       "      <th></th>\n",
       "      <th>Kingdom</th>\n",
       "      <th>Phylum</th>\n",
       "      <th>Class</th>\n",
       "      <th>Order</th>\n",
       "      <th>Family</th>\n",
       "      <th>Genus</th>\n",
       "      <th>Species</th>\n",
       "    </tr>\n",
       "    <tr>\n",
       "      <th>Otu</th>\n",
       "      <th></th>\n",
       "      <th></th>\n",
       "      <th></th>\n",
       "      <th></th>\n",
       "      <th></th>\n",
       "      <th></th>\n",
       "      <th></th>\n",
       "    </tr>\n",
       "  </thead>\n",
       "  <tbody>\n",
       "    <tr>\n",
       "      <th>OTU1720</th>\n",
       "      <td>Bacteria</td>\n",
       "      <td>Firmicutes</td>\n",
       "      <td>Clostridia</td>\n",
       "      <td>Clostridiales</td>\n",
       "      <td>Oscillospiraceae</td>\n",
       "      <td>Oscillibacter</td>\n",
       "      <td>Oscillibacter valericigenes</td>\n",
       "    </tr>\n",
       "    <tr>\n",
       "      <th>OTU3529</th>\n",
       "      <td>Bacteria</td>\n",
       "      <td>Proteobacteria</td>\n",
       "      <td>Gammaproteobacteria</td>\n",
       "      <td>Thiotrichales</td>\n",
       "      <td>Thiotrichaceae</td>\n",
       "      <td>Thiothrix</td>\n",
       "      <td>na</td>\n",
       "    </tr>\n",
       "    <tr>\n",
       "      <th>OTU3620</th>\n",
       "      <td>Bacteria</td>\n",
       "      <td>Bacteroidetes</td>\n",
       "      <td>Bacteroidia</td>\n",
       "      <td>Bacteroidales</td>\n",
       "      <td>Porphyromonadaceae</td>\n",
       "      <td>Parabacteroides</td>\n",
       "      <td>na</td>\n",
       "    </tr>\n",
       "    <tr>\n",
       "      <th>OTU93</th>\n",
       "      <td>Bacteria</td>\n",
       "      <td>Bacteroidetes</td>\n",
       "      <td>Bacteroidia</td>\n",
       "      <td>Bacteroidales</td>\n",
       "      <td>Bacteroidaceae</td>\n",
       "      <td>Bacteroides</td>\n",
       "      <td>na</td>\n",
       "    </tr>\n",
       "    <tr>\n",
       "      <th>OTU3524</th>\n",
       "      <td>Bacteria</td>\n",
       "      <td>Firmicutes</td>\n",
       "      <td>Clostridia</td>\n",
       "      <td>Clostridiales</td>\n",
       "      <td>Lachnospiraceae</td>\n",
       "      <td>Roseburia</td>\n",
       "      <td>Roseburia inulinivorans</td>\n",
       "    </tr>\n",
       "  </tbody>\n",
       "</table>\n",
       "</div>"
      ],
      "text/plain": [
       "          Kingdom          Phylum                Class          Order  \\\n",
       "Otu                                                                     \n",
       "OTU1720  Bacteria      Firmicutes           Clostridia  Clostridiales   \n",
       "OTU3529  Bacteria  Proteobacteria  Gammaproteobacteria  Thiotrichales   \n",
       "OTU3620  Bacteria   Bacteroidetes          Bacteroidia  Bacteroidales   \n",
       "OTU93    Bacteria   Bacteroidetes          Bacteroidia  Bacteroidales   \n",
       "OTU3524  Bacteria      Firmicutes           Clostridia  Clostridiales   \n",
       "\n",
       "                     Family            Genus                      Species  \n",
       "Otu                                                                        \n",
       "OTU1720    Oscillospiraceae    Oscillibacter  Oscillibacter valericigenes  \n",
       "OTU3529      Thiotrichaceae        Thiothrix                           na  \n",
       "OTU3620  Porphyromonadaceae  Parabacteroides                           na  \n",
       "OTU93        Bacteroidaceae      Bacteroides                           na  \n",
       "OTU3524     Lachnospiraceae        Roseburia      Roseburia inulinivorans  "
      ]
     },
     "execution_count": 15,
     "metadata": {},
     "output_type": "execute_result"
    }
   ],
   "source": [
    "sativa_tax.head()"
   ]
  },
  {
   "cell_type": "code",
   "execution_count": 16,
   "id": "86d9d264",
   "metadata": {},
   "outputs": [
    {
     "name": "stdout",
     "output_type": "stream",
     "text": [
      " Volume in drive C is OS\n",
      " Volume Serial Number is 5E7E-789E\n",
      "\n",
      " Directory of C:\\Users\\Gary2\\Partners HealthCare Dropbox\\Gurdip Uppal\\research_bwh\\MCSPACE_FINAL\\MCSPACE\\mcspace\\data\\human_experiments\\gappa_taxonomy\n",
      "\n",
      "08/21/2024  01:32 PM    <DIR>          .\n",
      "08/21/2024  01:28 PM    <DIR>          ..\n",
      "08/21/2024  01:30 PM    <DIR>          .ipynb_checkpoints\n",
      "08/21/2024  01:29 PM    <DIR>          human_results_clean\n",
      "08/21/2024  01:32 PM            11,139 process_gappa_taxonomy.ipynb\n",
      "08/21/2024  01:29 PM                31 README.md\n",
      "               2 File(s)         11,170 bytes\n",
      "               4 Dir(s)  994,136,465,408 bytes free\n"
     ]
    }
   ],
   "source": [
    "ls"
   ]
  },
  {
   "cell_type": "code",
   "execution_count": 17,
   "id": "0a678caa",
   "metadata": {},
   "outputs": [],
   "source": [
    "sativa_tax.to_csv(\"sativa_taxonomy.csv\")"
   ]
  },
  {
   "cell_type": "code",
   "execution_count": 18,
   "id": "cedb7d6c",
   "metadata": {},
   "outputs": [
    {
     "name": "stdout",
     "output_type": "stream",
     "text": [
      " Volume in drive C is OS\n",
      " Volume Serial Number is 5E7E-789E\n",
      "\n",
      " Directory of C:\\Users\\Gary2\\Partners HealthCare Dropbox\\Gurdip Uppal\\research_bwh\\MCSPACE_FINAL\\MCSPACE\\mcspace\\data\\human_experiments\\gappa_taxonomy\n",
      "\n",
      "08/21/2024  01:34 PM    <DIR>          .\n",
      "08/21/2024  01:28 PM    <DIR>          ..\n",
      "08/21/2024  01:30 PM    <DIR>          .ipynb_checkpoints\n",
      "08/21/2024  01:29 PM    <DIR>          human_results_clean\n",
      "08/21/2024  01:32 PM            11,139 process_gappa_taxonomy.ipynb\n",
      "08/21/2024  01:29 PM                31 README.md\n",
      "08/21/2024  01:34 PM           319,433 sativa_taxonomy.csv\n",
      "               3 File(s)        330,603 bytes\n",
      "               4 Dir(s)  994,136,334,336 bytes free\n"
     ]
    }
   ],
   "source": [
    "ls"
   ]
  },
  {
   "cell_type": "code",
   "execution_count": null,
   "id": "e73bb838",
   "metadata": {},
   "outputs": [],
   "source": []
  }
 ],
 "metadata": {
  "kernelspec": {
   "display_name": "Python [conda env:mcfinal]",
   "language": "python",
   "name": "conda-env-mcfinal-py"
  },
  "language_info": {
   "codemirror_mode": {
    "name": "ipython",
    "version": 3
   },
   "file_extension": ".py",
   "mimetype": "text/x-python",
   "name": "python",
   "nbconvert_exporter": "python",
   "pygments_lexer": "ipython3",
   "version": "3.10.14"
  }
 },
 "nbformat": 4,
 "nbformat_minor": 5
}
