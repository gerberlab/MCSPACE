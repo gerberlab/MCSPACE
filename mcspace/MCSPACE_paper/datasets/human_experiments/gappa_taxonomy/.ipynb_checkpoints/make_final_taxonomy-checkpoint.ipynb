{
 "cells": [
  {
   "cell_type": "code",
   "execution_count": 1,
   "id": "25c8ab03",
   "metadata": {},
   "outputs": [],
   "source": [
    "import pandas as pd"
   ]
  },
  {
   "cell_type": "code",
   "execution_count": 2,
   "id": "43aa769c",
   "metadata": {},
   "outputs": [
    {
     "name": "stdout",
     "output_type": "stream",
     "text": [
      " Volume in drive C is Windows-SSD\n",
      " Volume Serial Number is 1086-9223\n",
      "\n",
      " Directory of C:\\Users\\Gary\\Partners HealthCare Dropbox\\Gurdip Uppal\\research_bwh\\MCSPACE_FINAL\\MCSPACE\\mcspace\\data\\human_experiments\\gappa_taxonomy\n",
      "\n",
      "08/25/2024  09:04 AM    <DIR>          .\n",
      "08/21/2024  02:15 PM    <DIR>          ..\n",
      "08/25/2024  09:02 AM    <DIR>          .ipynb_checkpoints\n",
      "08/21/2024  02:15 PM    <DIR>          human_results_clean\n",
      "08/25/2024  09:04 AM               609 make_final_taxonomy.ipynb\n",
      "08/21/2024  01:34 PM            19,516 process_gappa_taxonomy.ipynb\n",
      "08/21/2024  01:29 PM                31 README.md\n",
      "08/21/2024  01:34 PM           319,433 sativa_taxonomy.csv\n",
      "               4 File(s)        339,589 bytes\n",
      "               4 Dir(s)  81,706,029,056 bytes free\n"
     ]
    }
   ],
   "source": [
    "ls"
   ]
  },
  {
   "cell_type": "code",
   "execution_count": 3,
   "id": "bcc354d4",
   "metadata": {},
   "outputs": [],
   "source": [
    "sattax = pd.read_csv(\"sativa_taxonomy.csv\", index_col=0)"
   ]
  },
  {
   "cell_type": "code",
   "execution_count": 4,
   "id": "af653d26",
   "metadata": {},
   "outputs": [
    {
     "data": {
      "text/html": [
       "<div>\n",
       "<style scoped>\n",
       "    .dataframe tbody tr th:only-of-type {\n",
       "        vertical-align: middle;\n",
       "    }\n",
       "\n",
       "    .dataframe tbody tr th {\n",
       "        vertical-align: top;\n",
       "    }\n",
       "\n",
       "    .dataframe thead th {\n",
       "        text-align: right;\n",
       "    }\n",
       "</style>\n",
       "<table border=\"1\" class=\"dataframe\">\n",
       "  <thead>\n",
       "    <tr style=\"text-align: right;\">\n",
       "      <th></th>\n",
       "      <th>Kingdom</th>\n",
       "      <th>Phylum</th>\n",
       "      <th>Class</th>\n",
       "      <th>Order</th>\n",
       "      <th>Family</th>\n",
       "      <th>Genus</th>\n",
       "      <th>Species</th>\n",
       "    </tr>\n",
       "    <tr>\n",
       "      <th>Otu</th>\n",
       "      <th></th>\n",
       "      <th></th>\n",
       "      <th></th>\n",
       "      <th></th>\n",
       "      <th></th>\n",
       "      <th></th>\n",
       "      <th></th>\n",
       "    </tr>\n",
       "  </thead>\n",
       "  <tbody>\n",
       "    <tr>\n",
       "      <th>OTU1720</th>\n",
       "      <td>Bacteria</td>\n",
       "      <td>Firmicutes</td>\n",
       "      <td>Clostridia</td>\n",
       "      <td>Clostridiales</td>\n",
       "      <td>Oscillospiraceae</td>\n",
       "      <td>Oscillibacter</td>\n",
       "      <td>Oscillibacter valericigenes</td>\n",
       "    </tr>\n",
       "    <tr>\n",
       "      <th>OTU3529</th>\n",
       "      <td>Bacteria</td>\n",
       "      <td>Proteobacteria</td>\n",
       "      <td>Gammaproteobacteria</td>\n",
       "      <td>Thiotrichales</td>\n",
       "      <td>Thiotrichaceae</td>\n",
       "      <td>Thiothrix</td>\n",
       "      <td>na</td>\n",
       "    </tr>\n",
       "    <tr>\n",
       "      <th>OTU3620</th>\n",
       "      <td>Bacteria</td>\n",
       "      <td>Bacteroidetes</td>\n",
       "      <td>Bacteroidia</td>\n",
       "      <td>Bacteroidales</td>\n",
       "      <td>Porphyromonadaceae</td>\n",
       "      <td>Parabacteroides</td>\n",
       "      <td>na</td>\n",
       "    </tr>\n",
       "    <tr>\n",
       "      <th>OTU93</th>\n",
       "      <td>Bacteria</td>\n",
       "      <td>Bacteroidetes</td>\n",
       "      <td>Bacteroidia</td>\n",
       "      <td>Bacteroidales</td>\n",
       "      <td>Bacteroidaceae</td>\n",
       "      <td>Bacteroides</td>\n",
       "      <td>na</td>\n",
       "    </tr>\n",
       "    <tr>\n",
       "      <th>OTU3524</th>\n",
       "      <td>Bacteria</td>\n",
       "      <td>Firmicutes</td>\n",
       "      <td>Clostridia</td>\n",
       "      <td>Clostridiales</td>\n",
       "      <td>Lachnospiraceae</td>\n",
       "      <td>Roseburia</td>\n",
       "      <td>Roseburia inulinivorans</td>\n",
       "    </tr>\n",
       "  </tbody>\n",
       "</table>\n",
       "</div>"
      ],
      "text/plain": [
       "          Kingdom          Phylum                Class          Order  \\\n",
       "Otu                                                                     \n",
       "OTU1720  Bacteria      Firmicutes           Clostridia  Clostridiales   \n",
       "OTU3529  Bacteria  Proteobacteria  Gammaproteobacteria  Thiotrichales   \n",
       "OTU3620  Bacteria   Bacteroidetes          Bacteroidia  Bacteroidales   \n",
       "OTU93    Bacteria   Bacteroidetes          Bacteroidia  Bacteroidales   \n",
       "OTU3524  Bacteria      Firmicutes           Clostridia  Clostridiales   \n",
       "\n",
       "                     Family            Genus                      Species  \n",
       "Otu                                                                        \n",
       "OTU1720    Oscillospiraceae    Oscillibacter  Oscillibacter valericigenes  \n",
       "OTU3529      Thiotrichaceae        Thiothrix                           na  \n",
       "OTU3620  Porphyromonadaceae  Parabacteroides                           na  \n",
       "OTU93        Bacteroidaceae      Bacteroides                           na  \n",
       "OTU3524     Lachnospiraceae        Roseburia      Roseburia inulinivorans  "
      ]
     },
     "execution_count": 4,
     "metadata": {},
     "output_type": "execute_result"
    }
   ],
   "source": [
    "sattax.head()"
   ]
  },
  {
   "cell_type": "code",
   "execution_count": 5,
   "id": "5705283a",
   "metadata": {},
   "outputs": [
    {
     "data": {
      "text/html": [
       "<div>\n",
       "<style scoped>\n",
       "    .dataframe tbody tr th:only-of-type {\n",
       "        vertical-align: middle;\n",
       "    }\n",
       "\n",
       "    .dataframe tbody tr th {\n",
       "        vertical-align: top;\n",
       "    }\n",
       "\n",
       "    .dataframe thead th {\n",
       "        text-align: right;\n",
       "    }\n",
       "</style>\n",
       "<table border=\"1\" class=\"dataframe\">\n",
       "  <thead>\n",
       "    <tr style=\"text-align: right;\">\n",
       "      <th></th>\n",
       "      <th>Kingdom</th>\n",
       "      <th>Phylum</th>\n",
       "      <th>Class</th>\n",
       "      <th>Order</th>\n",
       "      <th>Family</th>\n",
       "      <th>Genus</th>\n",
       "      <th>Species</th>\n",
       "    </tr>\n",
       "    <tr>\n",
       "      <th>Otu</th>\n",
       "      <th></th>\n",
       "      <th></th>\n",
       "      <th></th>\n",
       "      <th></th>\n",
       "      <th></th>\n",
       "      <th></th>\n",
       "      <th></th>\n",
       "    </tr>\n",
       "  </thead>\n",
       "  <tbody>\n",
       "    <tr>\n",
       "      <th>Otu1720</th>\n",
       "      <td>Bacteria</td>\n",
       "      <td>Firmicutes</td>\n",
       "      <td>Clostridia</td>\n",
       "      <td>Clostridiales</td>\n",
       "      <td>Oscillospiraceae</td>\n",
       "      <td>Oscillibacter</td>\n",
       "      <td>Oscillibacter valericigenes</td>\n",
       "    </tr>\n",
       "    <tr>\n",
       "      <th>Otu3529</th>\n",
       "      <td>Bacteria</td>\n",
       "      <td>Proteobacteria</td>\n",
       "      <td>Gammaproteobacteria</td>\n",
       "      <td>Thiotrichales</td>\n",
       "      <td>Thiotrichaceae</td>\n",
       "      <td>Thiothrix</td>\n",
       "      <td>na</td>\n",
       "    </tr>\n",
       "    <tr>\n",
       "      <th>Otu3620</th>\n",
       "      <td>Bacteria</td>\n",
       "      <td>Bacteroidetes</td>\n",
       "      <td>Bacteroidia</td>\n",
       "      <td>Bacteroidales</td>\n",
       "      <td>Porphyromonadaceae</td>\n",
       "      <td>Parabacteroides</td>\n",
       "      <td>na</td>\n",
       "    </tr>\n",
       "    <tr>\n",
       "      <th>Otu93</th>\n",
       "      <td>Bacteria</td>\n",
       "      <td>Bacteroidetes</td>\n",
       "      <td>Bacteroidia</td>\n",
       "      <td>Bacteroidales</td>\n",
       "      <td>Bacteroidaceae</td>\n",
       "      <td>Bacteroides</td>\n",
       "      <td>na</td>\n",
       "    </tr>\n",
       "    <tr>\n",
       "      <th>Otu3524</th>\n",
       "      <td>Bacteria</td>\n",
       "      <td>Firmicutes</td>\n",
       "      <td>Clostridia</td>\n",
       "      <td>Clostridiales</td>\n",
       "      <td>Lachnospiraceae</td>\n",
       "      <td>Roseburia</td>\n",
       "      <td>Roseburia inulinivorans</td>\n",
       "    </tr>\n",
       "  </tbody>\n",
       "</table>\n",
       "</div>"
      ],
      "text/plain": [
       "          Kingdom          Phylum                Class          Order  \\\n",
       "Otu                                                                     \n",
       "Otu1720  Bacteria      Firmicutes           Clostridia  Clostridiales   \n",
       "Otu3529  Bacteria  Proteobacteria  Gammaproteobacteria  Thiotrichales   \n",
       "Otu3620  Bacteria   Bacteroidetes          Bacteroidia  Bacteroidales   \n",
       "Otu93    Bacteria   Bacteroidetes          Bacteroidia  Bacteroidales   \n",
       "Otu3524  Bacteria      Firmicutes           Clostridia  Clostridiales   \n",
       "\n",
       "                     Family            Genus                      Species  \n",
       "Otu                                                                        \n",
       "Otu1720    Oscillospiraceae    Oscillibacter  Oscillibacter valericigenes  \n",
       "Otu3529      Thiotrichaceae        Thiothrix                           na  \n",
       "Otu3620  Porphyromonadaceae  Parabacteroides                           na  \n",
       "Otu93        Bacteroidaceae      Bacteroides                           na  \n",
       "Otu3524     Lachnospiraceae        Roseburia      Roseburia inulinivorans  "
      ]
     },
     "execution_count": 5,
     "metadata": {},
     "output_type": "execute_result"
    }
   ],
   "source": [
    "mapper = {idx: idx.capitalize() for idx in sattax.index}\n",
    "sattax2 = sattax.rename(index=mapper)\n",
    "sattax2.head()"
   ]
  },
  {
   "cell_type": "markdown",
   "id": "2baf4b7f",
   "metadata": {},
   "source": [
    "### relabel blasted taxa"
   ]
  },
  {
   "cell_type": "code",
   "execution_count": 6,
   "id": "12dc1a69",
   "metadata": {},
   "outputs": [],
   "source": [
    "name_updates = {'Otu1': {'Species': 'Agathobacter rectalis'},\n",
    "'Otu14': {'Species': 'Roseburia inulinivorans'},\n",
    "'Otu17': {'Genus': 'Ruminococcus'},\n",
    "'Otu66': {'Genus': 'Thomasclavelia'},\n",
    "'Otu10': {'Species': 'Ruminococcus bromii'},\n",
    "'Otu59': {'Family': 'Oscillospiraceae'},\n",
    "'Otu7': {'Family': 'Bacillaceae'},\n",
    "'Otu150': {'Genus': 'Porphyromonas'},\n",
    "'Otu3': {'Species': 'Bacteroides dorei'},\n",
    "# including higher level labels, where missing\n",
    "'Otu66': {'Class': 'Erysipelotrichia'},\n",
    "'Otu66': {'Order': 'Erysipelotrichales'},\n",
    "'Otu66': {'Family': 'Coprobacillaceae'},\n",
    "'Otu10': {'Family':},\n",
    "'Otu10': {'Genus': 'Ruminococcus'}\n",
    "\n",
    "               }"
   ]
  },
  {
   "cell_type": "code",
   "execution_count": 7,
   "id": "958f3b98",
   "metadata": {},
   "outputs": [],
   "source": [
    "for oidx in name_updates.keys():\n",
    "    replace = name_updates[oidx]\n",
    "    key = list(replace.keys())[0]\n",
    "    newname = replace[key]\n",
    "    sattax2.loc[oidx,key] = newname"
   ]
  },
  {
   "cell_type": "code",
   "execution_count": 10,
   "id": "2dba0602",
   "metadata": {},
   "outputs": [
    {
     "data": {
      "text/plain": [
       "Kingdom             Bacteria\n",
       "Phylum         Bacteroidetes\n",
       "Class            Bacteroidia\n",
       "Order          Bacteroidales\n",
       "Family        Bacteroidaceae\n",
       "Genus            Bacteroides\n",
       "Species    Bacteroides dorei\n",
       "Name: Otu3, dtype: object"
      ]
     },
     "execution_count": 10,
     "metadata": {},
     "output_type": "execute_result"
    }
   ],
   "source": [
    "sattax2.loc['Otu3',:]"
   ]
  },
  {
   "cell_type": "code",
   "execution_count": 11,
   "id": "1755a156",
   "metadata": {},
   "outputs": [],
   "source": [
    "sattax2.to_csv(\"human_taxonomy.csv\")"
   ]
  },
  {
   "cell_type": "code",
   "execution_count": 12,
   "id": "e7400746",
   "metadata": {},
   "outputs": [
    {
     "name": "stdout",
     "output_type": "stream",
     "text": [
      " Volume in drive C is Windows-SSD\n",
      " Volume Serial Number is 1086-9223\n",
      "\n",
      " Directory of C:\\Users\\Gary\\Partners HealthCare Dropbox\\Gurdip Uppal\\research_bwh\\MCSPACE_FINAL\\MCSPACE\\mcspace\\data\\human_experiments\\gappa_taxonomy\n",
      "\n",
      "08/25/2024  09:06 AM    <DIR>          .\n",
      "08/21/2024  02:15 PM    <DIR>          ..\n",
      "08/25/2024  09:02 AM    <DIR>          .ipynb_checkpoints\n",
      "08/21/2024  02:15 PM    <DIR>          human_results_clean\n",
      "08/25/2024  09:06 AM           319,516 human_taxonomy.csv\n",
      "08/25/2024  09:06 AM            23,062 make_final_taxonomy.ipynb\n",
      "08/21/2024  01:34 PM            19,516 process_gappa_taxonomy.ipynb\n",
      "08/21/2024  01:29 PM                31 README.md\n",
      "08/21/2024  01:34 PM           319,433 sativa_taxonomy.csv\n",
      "               5 File(s)        681,558 bytes\n",
      "               4 Dir(s)  81,710,694,400 bytes free\n"
     ]
    }
   ],
   "source": [
    "ls"
   ]
  },
  {
   "cell_type": "code",
   "execution_count": null,
   "id": "2a265a11",
   "metadata": {},
   "outputs": [],
   "source": []
  }
 ],
 "metadata": {
  "kernelspec": {
   "display_name": "Python [conda env:mcfinal]",
   "language": "python",
   "name": "conda-env-mcfinal-py"
  },
  "language_info": {
   "codemirror_mode": {
    "name": "ipython",
    "version": 3
   },
   "file_extension": ".py",
   "mimetype": "text/x-python",
   "name": "python",
   "nbconvert_exporter": "python",
   "pygments_lexer": "ipython3",
   "version": "3.10.14"
  }
 },
 "nbformat": 4,
 "nbformat_minor": 5
}
