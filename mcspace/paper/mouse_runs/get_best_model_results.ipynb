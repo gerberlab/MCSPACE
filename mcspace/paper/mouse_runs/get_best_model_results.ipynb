{
 "cells": [
  {
   "cell_type": "markdown",
   "id": "aeb625e7",
   "metadata": {},
   "source": [
    "# TO DO: put this in run script"
   ]
  },
  {
   "cell_type": "code",
   "execution_count": 1,
   "id": "de26324c",
   "metadata": {},
   "outputs": [],
   "source": [
    "import numpy as np\n",
    "import torch\n",
    "from mcspace.model import MCSPACE\n",
    "from mcspace.trainer import train_model\n",
    "from mcspace.data_utils import get_data, get_mouse_diet_perturbations_dataset\n",
    "from mcspace.utils import get_device, pickle_load, pickle_save,\\\n",
    "    estimate_process_variance, MODEL_FILE, DATA_FILE, \\\n",
    "    get_mcspace_cooccur_prob, get_sig_perturbation_diff_subset, \\\n",
    "    get_posterior_summary_data, get_pert_otu_sub, get_min_loss_path, apply_taxonomy_threshold, \\\n",
    "    get_summary_results\n",
    "from pathlib import Path\n",
    "import matplotlib.pyplot as plt\n",
    "import matplotlib as mpl\n",
    "import seaborn as sns\n",
    "import mcspace.visualization as vis\n",
    "from mcspace.dataset import DataSet\n",
    "import pandas as pd"
   ]
  },
  {
   "cell_type": "code",
   "execution_count": 2,
   "id": "e63d8e9c",
   "metadata": {},
   "outputs": [
    {
     "data": {
      "text/plain": [
       "'C:\\\\Users\\\\Gary2\\\\Partners HealthCare Dropbox\\\\Gurdip Uppal\\\\research_bwh\\\\MCSPACE_FINAL\\\\MCSPACE\\\\mcspace\\\\paper\\\\mouse_runs'"
      ]
     },
     "execution_count": 2,
     "metadata": {},
     "output_type": "execute_result"
    }
   ],
   "source": [
    "pwd"
   ]
  },
  {
   "cell_type": "markdown",
   "id": "c81cb2d8",
   "metadata": {},
   "source": [
    "# Paths"
   ]
  },
  {
   "cell_type": "code",
   "execution_count": 3,
   "id": "d9b40a63",
   "metadata": {},
   "outputs": [],
   "source": [
    "rootpath = Path(\"../../\")\n",
    "basepath = Path(\"./\")"
   ]
  },
  {
   "cell_type": "code",
   "execution_count": 4,
   "id": "a169cb9b",
   "metadata": {},
   "outputs": [],
   "source": [
    "runpath = rootpath / \"paper\" / \"mouse_runs\" / \"runs\""
   ]
  },
  {
   "cell_type": "code",
   "execution_count": 5,
   "id": "55be36dc",
   "metadata": {},
   "outputs": [],
   "source": [
    "outpath = basepath / \"results\"\n",
    "outpath.mkdir(exist_ok=True, parents=True)"
   ]
  },
  {
   "cell_type": "markdown",
   "id": "50c6443b",
   "metadata": {},
   "source": [
    "# Load best model"
   ]
  },
  {
   "cell_type": "code",
   "execution_count": 6,
   "id": "f94d1a64",
   "metadata": {},
   "outputs": [
    {
     "name": "stdout",
     "output_type": "stream",
     "text": [
      "0\n",
      "1\n",
      "2\n",
      "3\n",
      "4\n",
      "5\n",
      "6\n",
      "7\n",
      "8\n",
      "9\n",
      "4\n"
     ]
    }
   ],
   "source": [
    "respath = get_min_loss_path(runpath, np.arange(10))\n",
    "\n",
    "model = torch.load(respath / MODEL_FILE)\n",
    "data = pickle_load(respath / DATA_FILE)\n",
    "\n",
    "taxonomy = pickle_load(respath / \"taxonomy.pkl\")\n",
    "\n",
    "times = list(data['count_data'].keys())\n",
    "subjects = list(data['count_data'][10].keys())\n",
    "num_otus = data['count_data'][times[0]][subjects[0]].shape[1]\n",
    "num_times = len(times)\n",
    "num_subjects = len(subjects)"
   ]
  },
  {
   "cell_type": "code",
   "execution_count": 7,
   "id": "b6788c8a",
   "metadata": {},
   "outputs": [],
   "source": [
    "taxonomy = apply_taxonomy_threshold(taxonomy)\n",
    "\n",
    "# do beforehand..\n",
    "name_updates = {'Otu10': {'Species': 'Faecalibaculum rodentium'},\n",
    "'Otu17': {'Genus': 'Roseburia'},\n",
    "'Otu6': {'Species': 'Eubacterium coprostanoligenes'},\n",
    "'Otu20': {'Species': 'Muribaculum gordoncarteri'},\n",
    "'Otu15': {'Genus': 'Eisenbergiella'},\n",
    "'Otu43': {'Family': 'Lachnospiraceae'}}\n",
    "\n",
    "taxonomy['Species'] = 'na'\n",
    "for oidx in name_updates.keys():\n",
    "    replace = name_updates[oidx]\n",
    "    key = list(replace.keys())[0]\n",
    "    newname = replace[key]\n",
    "    taxonomy.loc[oidx,key] = newname"
   ]
  },
  {
   "cell_type": "markdown",
   "id": "d3933eb8",
   "metadata": {},
   "source": [
    "# Get summary results"
   ]
  },
  {
   "cell_type": "code",
   "execution_count": 8,
   "id": "539dea4b",
   "metadata": {},
   "outputs": [],
   "source": [
    "thetadf, betadf, pertsdf = get_posterior_summary_data(model, data, taxonomy, times, subjects)"
   ]
  },
  {
   "cell_type": "markdown",
   "id": "9e132308",
   "metadata": {},
   "source": [
    "# Output results"
   ]
  },
  {
   "cell_type": "code",
   "execution_count": 12,
   "id": "c290ad12",
   "metadata": {},
   "outputs": [],
   "source": [
    "thetadf.to_csv(outpath / \"assemblages.csv\")\n",
    "betadf.to_csv(outpath / \"assemblage_proportions.csv\")\n",
    "pertsdf.to_csv(outpath / \"perturbation_bayes_factors.csv\")"
   ]
  },
  {
   "cell_type": "markdown",
   "id": "15ce541a",
   "metadata": {},
   "source": [
    "# TODO: put in utils instead"
   ]
  },
  {
   "cell_type": "code",
   "execution_count": 16,
   "id": "5f4d963a",
   "metadata": {},
   "outputs": [],
   "source": [
    "import mcspace.vis_tools as vis"
   ]
  },
  {
   "cell_type": "code",
   "execution_count": 17,
   "id": "ad7b6bf1",
   "metadata": {},
   "outputs": [],
   "source": [
    "radf = vis.get_relative_abundances(data, times, subjects, taxonomy)"
   ]
  },
  {
   "cell_type": "code",
   "execution_count": 19,
   "id": "f4bcfd11",
   "metadata": {},
   "outputs": [],
   "source": [
    "# radf"
   ]
  },
  {
   "cell_type": "code",
   "execution_count": 20,
   "id": "56c8a432",
   "metadata": {},
   "outputs": [],
   "source": [
    "radf.to_csv(outpath / \"relative_abundances.csv\")"
   ]
  },
  {
   "cell_type": "code",
   "execution_count": null,
   "id": "4afc17d4",
   "metadata": {},
   "outputs": [],
   "source": []
  }
 ],
 "metadata": {
  "kernelspec": {
   "display_name": "Python [conda env:mcfinal]",
   "language": "python",
   "name": "conda-env-mcfinal-py"
  },
  "language_info": {
   "codemirror_mode": {
    "name": "ipython",
    "version": 3
   },
   "file_extension": ".py",
   "mimetype": "text/x-python",
   "name": "python",
   "nbconvert_exporter": "python",
   "pygments_lexer": "ipython3",
   "version": "3.10.14"
  }
 },
 "nbformat": 4,
 "nbformat_minor": 5
}
