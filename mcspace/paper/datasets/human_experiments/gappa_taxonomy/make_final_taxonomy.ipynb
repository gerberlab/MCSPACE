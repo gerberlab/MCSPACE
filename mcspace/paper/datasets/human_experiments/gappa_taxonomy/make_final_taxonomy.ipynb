{
 "cells": [
  {
   "cell_type": "code",
   "execution_count": 1,
   "id": "25c8ab03",
   "metadata": {},
   "outputs": [],
   "source": [
    "import pandas as pd"
   ]
  },
  {
   "cell_type": "code",
   "execution_count": 2,
   "id": "43aa769c",
   "metadata": {},
   "outputs": [
    {
     "name": "stdout",
     "output_type": "stream",
     "text": [
      " Volume in drive C is OS\n",
      " Volume Serial Number is 5E7E-789E\n",
      "\n",
      " Directory of C:\\Users\\Gary2\\Partners HealthCare Dropbox\\Gurdip Uppal\\research_bwh\\MCSPACE_FINAL\\MCSPACE\\mcspace\\data\\human_experiments\\gappa_taxonomy\n",
      "\n",
      "08/26/2024  10:07 AM    <DIR>          .\n",
      "08/21/2024  01:28 PM    <DIR>          ..\n",
      "08/25/2024  09:07 AM    <DIR>          .ipynb_checkpoints\n",
      "08/21/2024  01:29 PM    <DIR>          human_results_clean\n",
      "08/25/2024  09:06 AM           319,516 human_taxonomy.csv\n",
      "08/26/2024  10:07 AM            25,008 make_final_taxonomy.ipynb\n",
      "08/21/2024  01:34 PM            19,516 process_gappa_taxonomy.ipynb\n",
      "08/21/2024  01:29 PM                31 README.md\n",
      "08/21/2024  01:34 PM           319,433 sativa_taxonomy.csv\n",
      "               5 File(s)        683,504 bytes\n",
      "               4 Dir(s)  990,036,881,408 bytes free\n"
     ]
    }
   ],
   "source": [
    "ls"
   ]
  },
  {
   "cell_type": "code",
   "execution_count": 3,
   "id": "bcc354d4",
   "metadata": {},
   "outputs": [],
   "source": [
    "sattax = pd.read_csv(\"sativa_taxonomy.csv\", index_col=0)"
   ]
  },
  {
   "cell_type": "code",
   "execution_count": 4,
   "id": "af653d26",
   "metadata": {},
   "outputs": [
    {
     "data": {
      "text/html": [
       "<div>\n",
       "<style scoped>\n",
       "    .dataframe tbody tr th:only-of-type {\n",
       "        vertical-align: middle;\n",
       "    }\n",
       "\n",
       "    .dataframe tbody tr th {\n",
       "        vertical-align: top;\n",
       "    }\n",
       "\n",
       "    .dataframe thead th {\n",
       "        text-align: right;\n",
       "    }\n",
       "</style>\n",
       "<table border=\"1\" class=\"dataframe\">\n",
       "  <thead>\n",
       "    <tr style=\"text-align: right;\">\n",
       "      <th></th>\n",
       "      <th>Kingdom</th>\n",
       "      <th>Phylum</th>\n",
       "      <th>Class</th>\n",
       "      <th>Order</th>\n",
       "      <th>Family</th>\n",
       "      <th>Genus</th>\n",
       "      <th>Species</th>\n",
       "    </tr>\n",
       "    <tr>\n",
       "      <th>Otu</th>\n",
       "      <th></th>\n",
       "      <th></th>\n",
       "      <th></th>\n",
       "      <th></th>\n",
       "      <th></th>\n",
       "      <th></th>\n",
       "      <th></th>\n",
       "    </tr>\n",
       "  </thead>\n",
       "  <tbody>\n",
       "    <tr>\n",
       "      <th>OTU1720</th>\n",
       "      <td>Bacteria</td>\n",
       "      <td>Firmicutes</td>\n",
       "      <td>Clostridia</td>\n",
       "      <td>Clostridiales</td>\n",
       "      <td>Oscillospiraceae</td>\n",
       "      <td>Oscillibacter</td>\n",
       "      <td>Oscillibacter valericigenes</td>\n",
       "    </tr>\n",
       "    <tr>\n",
       "      <th>OTU3529</th>\n",
       "      <td>Bacteria</td>\n",
       "      <td>Proteobacteria</td>\n",
       "      <td>Gammaproteobacteria</td>\n",
       "      <td>Thiotrichales</td>\n",
       "      <td>Thiotrichaceae</td>\n",
       "      <td>Thiothrix</td>\n",
       "      <td>na</td>\n",
       "    </tr>\n",
       "    <tr>\n",
       "      <th>OTU3620</th>\n",
       "      <td>Bacteria</td>\n",
       "      <td>Bacteroidetes</td>\n",
       "      <td>Bacteroidia</td>\n",
       "      <td>Bacteroidales</td>\n",
       "      <td>Porphyromonadaceae</td>\n",
       "      <td>Parabacteroides</td>\n",
       "      <td>na</td>\n",
       "    </tr>\n",
       "    <tr>\n",
       "      <th>OTU93</th>\n",
       "      <td>Bacteria</td>\n",
       "      <td>Bacteroidetes</td>\n",
       "      <td>Bacteroidia</td>\n",
       "      <td>Bacteroidales</td>\n",
       "      <td>Bacteroidaceae</td>\n",
       "      <td>Bacteroides</td>\n",
       "      <td>na</td>\n",
       "    </tr>\n",
       "    <tr>\n",
       "      <th>OTU3524</th>\n",
       "      <td>Bacteria</td>\n",
       "      <td>Firmicutes</td>\n",
       "      <td>Clostridia</td>\n",
       "      <td>Clostridiales</td>\n",
       "      <td>Lachnospiraceae</td>\n",
       "      <td>Roseburia</td>\n",
       "      <td>Roseburia inulinivorans</td>\n",
       "    </tr>\n",
       "  </tbody>\n",
       "</table>\n",
       "</div>"
      ],
      "text/plain": [
       "          Kingdom          Phylum                Class          Order  \\\n",
       "Otu                                                                     \n",
       "OTU1720  Bacteria      Firmicutes           Clostridia  Clostridiales   \n",
       "OTU3529  Bacteria  Proteobacteria  Gammaproteobacteria  Thiotrichales   \n",
       "OTU3620  Bacteria   Bacteroidetes          Bacteroidia  Bacteroidales   \n",
       "OTU93    Bacteria   Bacteroidetes          Bacteroidia  Bacteroidales   \n",
       "OTU3524  Bacteria      Firmicutes           Clostridia  Clostridiales   \n",
       "\n",
       "                     Family            Genus                      Species  \n",
       "Otu                                                                        \n",
       "OTU1720    Oscillospiraceae    Oscillibacter  Oscillibacter valericigenes  \n",
       "OTU3529      Thiotrichaceae        Thiothrix                           na  \n",
       "OTU3620  Porphyromonadaceae  Parabacteroides                           na  \n",
       "OTU93        Bacteroidaceae      Bacteroides                           na  \n",
       "OTU3524     Lachnospiraceae        Roseburia      Roseburia inulinivorans  "
      ]
     },
     "execution_count": 4,
     "metadata": {},
     "output_type": "execute_result"
    }
   ],
   "source": [
    "sattax.head()"
   ]
  },
  {
   "cell_type": "code",
   "execution_count": 5,
   "id": "5705283a",
   "metadata": {},
   "outputs": [
    {
     "data": {
      "text/html": [
       "<div>\n",
       "<style scoped>\n",
       "    .dataframe tbody tr th:only-of-type {\n",
       "        vertical-align: middle;\n",
       "    }\n",
       "\n",
       "    .dataframe tbody tr th {\n",
       "        vertical-align: top;\n",
       "    }\n",
       "\n",
       "    .dataframe thead th {\n",
       "        text-align: right;\n",
       "    }\n",
       "</style>\n",
       "<table border=\"1\" class=\"dataframe\">\n",
       "  <thead>\n",
       "    <tr style=\"text-align: right;\">\n",
       "      <th></th>\n",
       "      <th>Kingdom</th>\n",
       "      <th>Phylum</th>\n",
       "      <th>Class</th>\n",
       "      <th>Order</th>\n",
       "      <th>Family</th>\n",
       "      <th>Genus</th>\n",
       "      <th>Species</th>\n",
       "    </tr>\n",
       "    <tr>\n",
       "      <th>Otu</th>\n",
       "      <th></th>\n",
       "      <th></th>\n",
       "      <th></th>\n",
       "      <th></th>\n",
       "      <th></th>\n",
       "      <th></th>\n",
       "      <th></th>\n",
       "    </tr>\n",
       "  </thead>\n",
       "  <tbody>\n",
       "    <tr>\n",
       "      <th>Otu1720</th>\n",
       "      <td>Bacteria</td>\n",
       "      <td>Firmicutes</td>\n",
       "      <td>Clostridia</td>\n",
       "      <td>Clostridiales</td>\n",
       "      <td>Oscillospiraceae</td>\n",
       "      <td>Oscillibacter</td>\n",
       "      <td>Oscillibacter valericigenes</td>\n",
       "    </tr>\n",
       "    <tr>\n",
       "      <th>Otu3529</th>\n",
       "      <td>Bacteria</td>\n",
       "      <td>Proteobacteria</td>\n",
       "      <td>Gammaproteobacteria</td>\n",
       "      <td>Thiotrichales</td>\n",
       "      <td>Thiotrichaceae</td>\n",
       "      <td>Thiothrix</td>\n",
       "      <td>na</td>\n",
       "    </tr>\n",
       "    <tr>\n",
       "      <th>Otu3620</th>\n",
       "      <td>Bacteria</td>\n",
       "      <td>Bacteroidetes</td>\n",
       "      <td>Bacteroidia</td>\n",
       "      <td>Bacteroidales</td>\n",
       "      <td>Porphyromonadaceae</td>\n",
       "      <td>Parabacteroides</td>\n",
       "      <td>na</td>\n",
       "    </tr>\n",
       "    <tr>\n",
       "      <th>Otu93</th>\n",
       "      <td>Bacteria</td>\n",
       "      <td>Bacteroidetes</td>\n",
       "      <td>Bacteroidia</td>\n",
       "      <td>Bacteroidales</td>\n",
       "      <td>Bacteroidaceae</td>\n",
       "      <td>Bacteroides</td>\n",
       "      <td>na</td>\n",
       "    </tr>\n",
       "    <tr>\n",
       "      <th>Otu3524</th>\n",
       "      <td>Bacteria</td>\n",
       "      <td>Firmicutes</td>\n",
       "      <td>Clostridia</td>\n",
       "      <td>Clostridiales</td>\n",
       "      <td>Lachnospiraceae</td>\n",
       "      <td>Roseburia</td>\n",
       "      <td>Roseburia inulinivorans</td>\n",
       "    </tr>\n",
       "  </tbody>\n",
       "</table>\n",
       "</div>"
      ],
      "text/plain": [
       "          Kingdom          Phylum                Class          Order  \\\n",
       "Otu                                                                     \n",
       "Otu1720  Bacteria      Firmicutes           Clostridia  Clostridiales   \n",
       "Otu3529  Bacteria  Proteobacteria  Gammaproteobacteria  Thiotrichales   \n",
       "Otu3620  Bacteria   Bacteroidetes          Bacteroidia  Bacteroidales   \n",
       "Otu93    Bacteria   Bacteroidetes          Bacteroidia  Bacteroidales   \n",
       "Otu3524  Bacteria      Firmicutes           Clostridia  Clostridiales   \n",
       "\n",
       "                     Family            Genus                      Species  \n",
       "Otu                                                                        \n",
       "Otu1720    Oscillospiraceae    Oscillibacter  Oscillibacter valericigenes  \n",
       "Otu3529      Thiotrichaceae        Thiothrix                           na  \n",
       "Otu3620  Porphyromonadaceae  Parabacteroides                           na  \n",
       "Otu93        Bacteroidaceae      Bacteroides                           na  \n",
       "Otu3524     Lachnospiraceae        Roseburia      Roseburia inulinivorans  "
      ]
     },
     "execution_count": 5,
     "metadata": {},
     "output_type": "execute_result"
    }
   ],
   "source": [
    "mapper = {idx: idx.capitalize() for idx in sattax.index}\n",
    "sattax2 = sattax.rename(index=mapper)\n",
    "sattax2.head()"
   ]
  },
  {
   "cell_type": "markdown",
   "id": "2baf4b7f",
   "metadata": {},
   "source": [
    "### relabel blasted taxa"
   ]
  },
  {
   "cell_type": "code",
   "execution_count": 6,
   "id": "12dc1a69",
   "metadata": {},
   "outputs": [],
   "source": [
    "# name_updates = {'Otu1': {'Species': 'Agathobacter rectalis'},\n",
    "# 'Otu14': {'Species': 'Roseburia inulinivorans'},\n",
    "# 'Otu17': {'Genus': 'Ruminococcus'},\n",
    "# 'Otu66': {'Genus': 'Thomasclavelia'},\n",
    "# 'Otu10': {'Species': 'Ruminococcus bromii'},\n",
    "# 'Otu59': {'Family': 'Oscillospiraceae'},\n",
    "# 'Otu7': {'Family': 'Bacillaceae'},\n",
    "# 'Otu150': {'Genus': 'Porphyromonas'},\n",
    "# 'Otu3': {'Species': 'Bacteroides dorei'},\n",
    "# # including higher level labels, where missing\n",
    "# 'Otu66': {'Class': 'Erysipelotrichia'},\n",
    "# 'Otu66': {'Order': 'Erysipelotrichales'},\n",
    "# 'Otu66': {'Family': 'Coprobacillaceae'},\n",
    "# 'Otu10': {'Family': 'Oscillospiraceae'},\n",
    "# 'Otu10': {'Genus': 'Ruminococcus'},\n",
    "# 'Otu7': {'Class': 'Bacilli'},\n",
    "# 'Otu7': {'Order': 'Bacillales'},\n",
    "# 'Otu150': {'Family', 'Porphyromonadaceae'}}"
   ]
  },
  {
   "cell_type": "code",
   "execution_count": 7,
   "id": "2e3e16af",
   "metadata": {},
   "outputs": [],
   "source": [
    "name_updates = {'Otu1': {'Species': 'Agathobacter rectalis'},\n",
    "'Otu14': {'Species': 'Roseburia inulinivorans'},\n",
    "'Otu17': {'Genus': 'Ruminococcus'},\n",
    "'Otu66': {'Class': 'Erysipelotrichia', 'Order': 'Erysipelotrichales', 'Family': 'Coprobacillaceae', 'Genus': 'Thomasclavelia'},\n",
    "'Otu10': {'Family': 'Oscillospiraceae', 'Genus': 'Ruminococcus', 'Species': 'Ruminococcus bromii'},\n",
    "'Otu59': {'Family': 'Oscillospiraceae'},\n",
    "'Otu7': {'Class': 'Bacilli', 'Order': 'Bacillales', 'Family': 'Bacillaceae'},\n",
    "'Otu150': {'Family': 'Porphyromonadaceae', 'Genus': 'Porphyromonas'},\n",
    "'Otu3': {'Species': 'Bacteroides dorei'}\n",
    "               }"
   ]
  },
  {
   "cell_type": "code",
   "execution_count": 8,
   "id": "bfa5cfd7",
   "metadata": {},
   "outputs": [],
   "source": [
    "# name_updates"
   ]
  },
  {
   "cell_type": "code",
   "execution_count": 9,
   "id": "578319aa",
   "metadata": {},
   "outputs": [],
   "source": [
    "for oidx in name_updates.keys():\n",
    "    replace = name_updates[oidx]\n",
    "    for key in replace.keys():\n",
    "#         print(oidx)\n",
    "#         print(replace)\n",
    "        newname = replace[key]\n",
    "        sattax2.loc[oidx,key] = newname\n"
   ]
  },
  {
   "cell_type": "code",
   "execution_count": 10,
   "id": "2dba0602",
   "metadata": {},
   "outputs": [
    {
     "data": {
      "text/plain": [
       "Kingdom              Bacteria\n",
       "Phylum             Firmicutes\n",
       "Class        Erysipelotrichia\n",
       "Order      Erysipelotrichales\n",
       "Family       Coprobacillaceae\n",
       "Genus          Thomasclavelia\n",
       "Species                    na\n",
       "Name: Otu66, dtype: object"
      ]
     },
     "execution_count": 10,
     "metadata": {},
     "output_type": "execute_result"
    }
   ],
   "source": [
    "sattax2.loc['Otu66',:]"
   ]
  },
  {
   "cell_type": "code",
   "execution_count": 11,
   "id": "1755a156",
   "metadata": {},
   "outputs": [],
   "source": [
    "sattax2.to_csv(\"human_taxonomy.csv\")"
   ]
  },
  {
   "cell_type": "code",
   "execution_count": 12,
   "id": "e7400746",
   "metadata": {},
   "outputs": [
    {
     "name": "stdout",
     "output_type": "stream",
     "text": [
      " Volume in drive C is OS\n",
      " Volume Serial Number is 5E7E-789E\n",
      "\n",
      " Directory of C:\\Users\\Gary2\\Partners HealthCare Dropbox\\Gurdip Uppal\\research_bwh\\MCSPACE_FINAL\\MCSPACE\\mcspace\\data\\human_experiments\\gappa_taxonomy\n",
      "\n",
      "08/26/2024  10:07 AM    <DIR>          .\n",
      "08/21/2024  01:28 PM    <DIR>          ..\n",
      "08/25/2024  09:07 AM    <DIR>          .ipynb_checkpoints\n",
      "08/21/2024  01:29 PM    <DIR>          human_results_clean\n",
      "08/26/2024  10:07 AM           319,613 human_taxonomy.csv\n",
      "08/26/2024  10:07 AM            25,008 make_final_taxonomy.ipynb\n",
      "08/21/2024  01:34 PM            19,516 process_gappa_taxonomy.ipynb\n",
      "08/21/2024  01:29 PM                31 README.md\n",
      "08/21/2024  01:34 PM           319,433 sativa_taxonomy.csv\n",
      "               5 File(s)        683,601 bytes\n",
      "               4 Dir(s)  990,036,897,792 bytes free\n"
     ]
    }
   ],
   "source": [
    "ls"
   ]
  },
  {
   "cell_type": "code",
   "execution_count": null,
   "id": "2a265a11",
   "metadata": {},
   "outputs": [],
   "source": []
  }
 ],
 "metadata": {
  "kernelspec": {
   "display_name": "Python [conda env:mcfinal]",
   "language": "python",
   "name": "conda-env-mcfinal-py"
  },
  "language_info": {
   "codemirror_mode": {
    "name": "ipython",
    "version": 3
   },
   "file_extension": ".py",
   "mimetype": "text/x-python",
   "name": "python",
   "nbconvert_exporter": "python",
   "pygments_lexer": "ipython3",
   "version": "3.10.14"
  }
 },
 "nbformat": 4,
 "nbformat_minor": 5
}
