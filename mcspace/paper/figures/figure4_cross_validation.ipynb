{
 "cells": [
  {
   "cell_type": "code",
   "execution_count": 1,
   "id": "aa46470f",
   "metadata": {},
   "outputs": [],
   "source": [
    "from mcspace.utils import pickle_load\n",
    "import pandas as pd\n",
    "import matplotlib.pyplot as plt\n",
    "import seaborn as sns\n",
    "from pathlib import Path\n",
    "import matplotlib.patches as mpatches\n",
    "import matplotlib as mpl\n",
    "import numpy as np\n",
    "\n",
    "from statsmodels.stats.multitest import multipletests\n",
    "from scipy.stats import mannwhitneyu\n",
    "import matplotlib.patches as mpatches"
   ]
  },
  {
   "cell_type": "code",
   "execution_count": 2,
   "id": "59e14ddd",
   "metadata": {},
   "outputs": [],
   "source": [
    "# change font\n",
    "mpl.rcParams['font.sans-serif'] = \"Arial\"\n",
    "mpl.rcParams['font.family'] = \"sans-serif\""
   ]
  },
  {
   "cell_type": "markdown",
   "id": "b66a9101",
   "metadata": {},
   "source": [
    "# Paths"
   ]
  },
  {
   "cell_type": "code",
   "execution_count": 3,
   "id": "8a858893",
   "metadata": {},
   "outputs": [],
   "source": [
    "basepath = Path(\"./\")\n",
    "rootpath = Path(\"../../\")"
   ]
  },
  {
   "cell_type": "code",
   "execution_count": 4,
   "id": "a78aef45",
   "metadata": {},
   "outputs": [],
   "source": [
    "outpath = basepath / \"main_figures\"\n",
    "outpath.mkdir(exist_ok=True, parents=True)"
   ]
  },
  {
   "cell_type": "code",
   "execution_count": 5,
   "id": "aa5deb83",
   "metadata": {},
   "outputs": [],
   "source": [
    "respath = rootpath / \"paper\" / \"results\" / \"cross_validation\""
   ]
  },
  {
   "cell_type": "markdown",
   "id": "7fc748d8",
   "metadata": {},
   "source": [
    "# Load results"
   ]
  },
  {
   "cell_type": "code",
   "execution_count": 6,
   "id": "99010d94",
   "metadata": {},
   "outputs": [],
   "source": [
    "res = pickle_load(respath / \"results.pkl\")\n",
    "res = pd.DataFrame(res)"
   ]
  },
  {
   "cell_type": "markdown",
   "id": "cbf2c7c0",
   "metadata": {},
   "source": [
    "## separate human and mouse cases"
   ]
  },
  {
   "cell_type": "code",
   "execution_count": 7,
   "id": "e3e01e2e",
   "metadata": {},
   "outputs": [],
   "source": [
    "all_cases = res['case'].unique()"
   ]
  },
  {
   "cell_type": "code",
   "execution_count": 8,
   "id": "4fb6dbcb",
   "metadata": {},
   "outputs": [
    {
     "name": "stdout",
     "output_type": "stream",
     "text": [
      "['Human_1_H11' 'Human_2_H11' 'Human_3_H11' 'Human_4_H11' 'Human_5_H11'\n",
      " 'Mouse_10_JX07' 'Mouse_10_JX08' 'Mouse_10_JX10' 'Mouse_18_JX07'\n",
      " 'Mouse_18_JX08' 'Mouse_18_JX10' 'Mouse_35_JX07' 'Mouse_35_JX08'\n",
      " 'Mouse_35_JX10' 'Mouse_43_JX07' 'Mouse_43_JX08' 'Mouse_43_JX10'\n",
      " 'Mouse_57_JX07' 'Mouse_57_JX08' 'Mouse_57_JX10' 'Mouse_65_JX07'\n",
      " 'Mouse_65_JX08' 'Mouse_65_JX10' 'Mouse_76_JX07' 'Mouse_76_JX08'\n",
      " 'Mouse_76_JX10']\n"
     ]
    }
   ],
   "source": [
    "print(all_cases)"
   ]
  },
  {
   "cell_type": "code",
   "execution_count": 9,
   "id": "6ff475d6",
   "metadata": {},
   "outputs": [],
   "source": [
    "mouse_cases = [x for x in all_cases if x.startswith('Mouse')]\n",
    "human_cases = [x for x in all_cases if x.startswith('Human')]"
   ]
  },
  {
   "cell_type": "code",
   "execution_count": null,
   "id": "f0d84b55",
   "metadata": {},
   "outputs": [],
   "source": []
  },
  {
   "cell_type": "markdown",
   "id": "e93eb305",
   "metadata": {},
   "source": [
    "# Render figure"
   ]
  },
  {
   "cell_type": "code",
   "execution_count": 10,
   "id": "f0b8ca84",
   "metadata": {},
   "outputs": [],
   "source": [
    "def annotate_pvalues_single_cond(data, x, value, adjpvals, ax, h, width, text_h, offset):\n",
    "    # settings\n",
    "#     h=0.01\n",
    "#     offset=0.05\n",
    "#     width = 1.0\n",
    "    STAR_SIZE = 8*2\n",
    "    LINEWIDTH = 1.0\n",
    "    \n",
    "    n_other = len(adjpvals)\n",
    "    \n",
    "    for i in range(n_other):\n",
    "        x1 = 0 \n",
    "        x2 = x1 + (i+1)*width + 0.01\n",
    "        max_y = 1.01*np.amax(data.loc[:,value].values)\n",
    "        y = max_y + (i+0.5)*offset\n",
    "\n",
    "        color = 'black'\n",
    "        pv = adjpvals[i]\n",
    "        if pv < 0.0001:\n",
    "            levmarker = \"****\"\n",
    "        elif pv < 0.001:\n",
    "            levmarker = \"***\"\n",
    "        elif pv < 0.01:\n",
    "            levmarker = \"**\"\n",
    "        elif pv < 0.05:\n",
    "            levmarker = \"*\"\n",
    "        else:\n",
    "            levmarker = 'ns'\n",
    "            color='tab:red'\n",
    "\n",
    "        ax.plot([x1, x1, x2, x2], [y, y+h, y+h, y], lw=LINEWIDTH, c=color)\n",
    "        ax.text((x1+x2)*0.5, y+text_h, levmarker, ha='center', va='bottom', color=color, fontsize=STAR_SIZE)\n",
    "    return ax\n",
    "\n",
    "\n",
    "def compute_corrected_pvalues_single_cond(data, x, y, model_order, base='mcspace'):\n",
    "    n_other = len(model_order) - 1\n",
    "    pvalues = np.zeros(n_other)\n",
    "    for i,mod in enumerate(model_order[1:]):\n",
    "        base_values = data.loc[(data['model'] == base),y].values\n",
    "        comp_values = data.loc[(data['model'] == mod),y].values\n",
    "        pval = mannwhitneyu(base_values, comp_values)\n",
    "        pvalues[i] = pval.pvalue\n",
    "    adjpvals = multipletests(pvalues, alpha=0.05, method='fdr_bh')[1]\n",
    "    return adjpvals\n",
    "\n",
    "\n",
    "def plot_results_combined(data, ax, palette, model_order, grid=True):\n",
    "    ax=sns.boxplot(data=data, x='model', y='cosine distance', hue='model', ax=ax, \n",
    "                   palette=palette, order=model_order, linewidth=1, showfliers=False)\n",
    "    if grid:\n",
    "        ax.set_axisbelow(True)\n",
    "        ax.yaxis.grid(True, 'major', linewidth=1, color='#e6e6e6')\n",
    "    return ax\n",
    "\n",
    "\n",
    "def remove_ylabels(axs):\n",
    "    for i in range(1,len(axs)):\n",
    "        plt.setp(axs[i].get_yticklabels(), visible=False)\n",
    "    return axs\n",
    "\n",
    "\n",
    "def box_to_ell_axes(ax):\n",
    "    # Hide the right and top spines\n",
    "    ax.spines[['right', 'top']].set_visible(False)\n",
    "    return ax "
   ]
  },
  {
   "cell_type": "code",
   "execution_count": 11,
   "id": "3af33654",
   "metadata": {},
   "outputs": [],
   "source": [
    "palette = [sns.color_palette(\"Paired\")[i] for i in [0,6,4,5]]\n",
    "human_res = res.loc[res['case'].isin(human_cases),:]\n",
    "mouse_res = res.loc[res['case'].isin(mouse_cases),:]\n",
    "holdout_model_order = ['mcspace', 'gmm_basic', 'gmm_one_dim', 'gmm_two_dim']\n",
    "\n",
    "labels = ['MCSPACE', \"GMM\", \"d-GMM (1D)\", \"d-GMM (2D)\"]\n",
    "handles = []\n",
    "for label, color in zip(labels,palette):\n",
    "    patch = mpatches.Patch(color=color, label=label)\n",
    "    handles.append(patch)"
   ]
  },
  {
   "cell_type": "code",
   "execution_count": 12,
   "id": "09db8a34",
   "metadata": {},
   "outputs": [],
   "source": [
    "label_x = -0.1\n",
    "label_y = 1.0"
   ]
  },
  {
   "cell_type": "code",
   "execution_count": 14,
   "id": "e013a084",
   "metadata": {},
   "outputs": [
    {
     "data": {
      "image/png": "[encoded data removed]",
      "text/plain": [
       "<Figure size 850x400 with 2 Axes>"
      ]
     },
     "metadata": {},
     "output_type": "display_data"
    }
   ],
   "source": [
    "fontsize=12\n",
    "label_fontsize = 14\n",
    "\n",
    "\n",
    "fig, ax = plt.subplots(figsize=(8.5,4), ncols=2)\n",
    "\n",
    "human_adjpvals = compute_corrected_pvalues_single_cond(human_res, x='model', y='cosine distance', model_order=holdout_model_order)\n",
    "mouse_adjpvals = compute_corrected_pvalues_single_cond(mouse_res, x='model', y='cosine distance', model_order=holdout_model_order)\n",
    "\n",
    "ax[0] = plot_results_combined(human_res, ax[0], palette, holdout_model_order, grid=False)\n",
    "ax[0]=annotate_pvalues_single_cond(human_res,'model','cosine distance',human_adjpvals,ax[0],h=0.02, width=1, text_h=-0.02, offset=0.07)\n",
    "ax[0] = box_to_ell_axes(ax[0])\n",
    "# ax[0].set_ylim(0,1)\n",
    "ax[1] = plot_results_combined(mouse_res, ax[1], palette, holdout_model_order, grid=False)\n",
    "ax[1]=annotate_pvalues_single_cond(mouse_res,'model','cosine distance',human_adjpvals,ax[1],h=0.02, width=1, text_h=-0.02, offset=0.07)\n",
    "ax[1] = box_to_ell_axes(ax[1])\n",
    "\n",
    "ax[0].sharey(ax[1])\n",
    "ax = remove_ylabels(ax)\n",
    "ax[1].set_ylabel(\"\")\n",
    "for i in range(2):\n",
    "    ax[i].set_yticks(np.arange(0,1.1,0.2))\n",
    "#     ax[i].set_xticklabels(labels, rotation=30, fontsize=fontsize)\n",
    "    ax[i].set_xticks([])\n",
    "    ax[i].set_xlabel(\"\")\n",
    "ax[0].set_yticklabels(ax[0].get_yticklabels(), fontsize=fontsize)\n",
    "ax[0].set_ylabel(\"Cosine distance\", fontsize=fontsize)\n",
    "# ax[0].set_title(\"Human\", fontsize=fontsize)\n",
    "# ax[1].set_title(\"Mouse\", fontsize=fontsize)\n",
    "plt.subplots_adjust(wspace=0.1)\n",
    "\n",
    "ax[0].text(label_x, label_y, 'A', horizontalalignment='left',verticalalignment='center', \n",
    "             transform=ax[0].transAxes, fontsize=label_fontsize)\n",
    "ax[1].text(label_x, label_y, 'B', horizontalalignment='left',verticalalignment='center', \n",
    "             transform=ax[1].transAxes, fontsize=label_fontsize)\n",
    "\n",
    "# Legend\n",
    "lines_labels = [ax[0].get_legend_handles_labels()]\n",
    "lines, labels = [sum(lol, []) for lol in zip(*lines_labels)]\n",
    "labels = ['MCSPACE', \"Fisher's exact\", 'SIM9', 'GMM']\n",
    "# fig.legend(handles=handles, title='Model', loc='upper right', bbox_to_anchor=(0.85,1.1), ncol=4)\n",
    "fig.legend(handles=handles, title='Model', loc='upper right', bbox_to_anchor=(1.08,0.91),\n",
    "                               framealpha=1.0, edgecolor='black')\n",
    "\n",
    "plt.savefig(outpath / \"combined_holdout_results.svg\", bbox_inches=\"tight\")"
   ]
  },
  {
   "cell_type": "code",
   "execution_count": null,
   "id": "f26a1ff1",
   "metadata": {},
   "outputs": [],
   "source": []
  }
 ],
 "metadata": {
  "kernelspec": {
   "display_name": "Python [conda env:mcfinal]",
   "language": "python",
   "name": "conda-env-mcfinal-py"
  },
  "language_info": {
   "codemirror_mode": {
    "name": "ipython",
    "version": 3
   },
   "file_extension": ".py",
   "mimetype": "text/x-python",
   "name": "python",
   "nbconvert_exporter": "python",
   "pygments_lexer": "ipython3",
   "version": "3.10.14"
  }
 },
 "nbformat": 4,
 "nbformat_minor": 5
}
