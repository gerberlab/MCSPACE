{
 "cells": [
  {
   "cell_type": "code",
   "execution_count": 1,
   "id": "1a135fb9",
   "metadata": {},
   "outputs": [],
   "source": [
    "import numpy as np\n",
    "import torch\n",
    "from mcspace.data_utils import get_data, get_mouse_diet_perturbations_dataset, get_human_timeseries_dataset\n",
    "from mcspace.utils import get_device, pickle_load, pickle_save, get_summary_results, MODEL_FILE, DATA_FILE\n",
    "from pathlib import Path\n",
    "import matplotlib.pyplot as plt\n",
    "import matplotlib as mpl\n",
    "import seaborn as sns\n",
    "from mcspace.dataset import DataSet\n",
    "import pandas as pd"
   ]
  },
  {
   "cell_type": "code",
   "execution_count": 2,
   "id": "613c4fd7",
   "metadata": {},
   "outputs": [],
   "source": [
    "rootpath = Path(\"../../\")\n",
    "datapath = rootpath / \"paper\" / \"datasets\""
   ]
  },
  {
   "cell_type": "code",
   "execution_count": 3,
   "id": "292e82de",
   "metadata": {},
   "outputs": [
    {
     "name": "stdout",
     "output_type": "stream",
     "text": [
      " Volume in drive C is Windows-SSD\n",
      " Volume Serial Number is 1086-9223\n",
      "\n",
      " Directory of C:\\Users\\Gary\\Partners HealthCare Dropbox\\Gurdip Uppal\\research_bwh\\MCSPACE_FINAL\\MCSPACE\\mcspace\\paper\\figures\n",
      "\n",
      "10/07/2024  06:51 PM    <DIR>          .\n",
      "09/24/2024  12:35 PM    <DIR>          ..\n",
      "10/07/2024  06:51 PM    <DIR>          .ipynb_checkpoints\n",
      "09/24/2024  03:52 PM    <DIR>          _tmp_sub\n",
      "09/24/2024  03:32 PM           208,580 data_filtering_supplemental.ipynb\n",
      "10/07/2024  06:50 PM                72 explore_raw_data.ipynb\n",
      "09/30/2024  12:34 PM           369,059 figure2_experimental_design_dataset_stats.ipynb\n",
      "09/26/2024  02:13 PM            40,785 figure4_cross_validation.ipynb\n",
      "09/26/2024  03:21 PM           256,921 figure5_human_results.ipynb\n",
      "09/26/2024  02:09 PM           281,161 figures_3_S1_semisynthetic_benchmarking.ipynb\n",
      "10/02/2024  08:12 AM    <DIR>          main_figures\n",
      "09/27/2024  11:43 AM           427,992 supplemental_data_figure.ipynb\n",
      "09/24/2024  05:48 PM               609 supplemental_figure3_human_results.ipynb\n",
      "10/02/2024  08:12 AM    <DIR>          supplemental_figures\n",
      "09/24/2024  05:48 PM               609 supplemental_figures_4_5_mouse_results.ipynb\n",
      "09/26/2024  07:20 PM           507,309 temp_supplemental_data_figure.ipynb\n",
      "              10 File(s)      2,093,097 bytes\n",
      "               6 Dir(s)  76,927,098,880 bytes free\n"
     ]
    }
   ],
   "source": [
    "ls"
   ]
  },
  {
   "cell_type": "code",
   "execution_count": 5,
   "id": "8c322f8e",
   "metadata": {},
   "outputs": [
    {
     "name": "stdout",
     "output_type": "stream",
     "text": [
      " Volume in drive C is Windows-SSD\n",
      " Volume Serial Number is 1086-9223\n",
      "\n",
      " Directory of C:\\Users\\Gary\\Partners HealthCare Dropbox\\Gurdip Uppal\\research_bwh\\MCSPACE_FINAL\\MCSPACE\\mcspace\\paper\\datasets\\human_experiments\n",
      "\n",
      "09/24/2024  02:43 PM    <DIR>          .\n",
      "09/24/2024  02:43 PM    <DIR>          ..\n",
      "08/13/2024  01:12 PM        67,629,503 count_data.csv\n",
      "09/24/2024  02:43 PM    <DIR>          gappa_taxonomy\n",
      "09/24/2024  02:43 PM    <DIR>          human_otus_tree\n",
      "08/13/2024  01:12 PM            57,852 taxonomy.csv\n",
      "08/13/2024  01:12 PM           316,656 zotus.fa\n",
      "               3 File(s)     68,004,011 bytes\n",
      "               4 Dir(s)  76,926,836,736 bytes free\n"
     ]
    }
   ],
   "source": [
    "ls \"../datasets/human_experiments/\""
   ]
  },
  {
   "cell_type": "code",
   "execution_count": 7,
   "id": "4e92c2a6",
   "metadata": {},
   "outputs": [
    {
     "name": "stdout",
     "output_type": "stream",
     "text": [
      " Volume in drive C is Windows-SSD\n",
      " Volume Serial Number is 1086-9223\n",
      "\n",
      " Directory of C:\\Users\\Gary\\Partners HealthCare Dropbox\\Gurdip Uppal\\research_bwh\\MCSPACE_FINAL\\MCSPACE\\mcspace\\paper\\datasets\\mouse_experiments\n",
      "\n",
      "09/24/2024  02:43 PM    <DIR>          .\n",
      "09/24/2024  02:43 PM    <DIR>          ..\n",
      "09/24/2024  02:43 PM    <DIR>          .ipynb_checkpoints\n",
      "06/11/2024  10:10 AM           109,967 combined_zotus .fa\n",
      "08/13/2024  01:22 PM        12,618,963 mouse_counts.csv.gz\n",
      "09/24/2024  02:43 PM    <DIR>          output\n",
      "06/11/2024  12:13 PM           157,797 tax.csv\n",
      "09/24/2024  02:43 PM    <DIR>          taxonomy\n",
      "09/24/2024  02:43 PM    <DIR>          tmp\n",
      "08/26/2024  09:28 AM            21,154 update_taxonomy.ipynb\n",
      "06/11/2024  10:10 AM           109,967 zotus.fa\n",
      "               5 File(s)     13,017,848 bytes\n",
      "               6 Dir(s)  76,927,401,984 bytes free\n"
     ]
    }
   ],
   "source": [
    "ls \"../datasets/mouse_experiments//\""
   ]
  },
  {
   "cell_type": "code",
   "execution_count": 6,
   "id": "a74afaa2",
   "metadata": {},
   "outputs": [
    {
     "name": "stderr",
     "output_type": "stream",
     "text": [
      "C:\\Users\\Gary\\AppData\\Local\\Temp\\ipykernel_131004\\1056325987.py:1: DtypeWarning: Columns (16) have mixed types. Specify dtype option on import or set low_memory=False.\n",
      "  hdata = pd.read_csv(datapath / \"human_experiments\" / \"count_data.csv\")\n"
     ]
    }
   ],
   "source": [
    "hdata = pd.read_csv(datapath / \"human_experiments\" / \"count_data.csv\")"
   ]
  },
  {
   "cell_type": "code",
   "execution_count": 9,
   "id": "13fbaa92",
   "metadata": {},
   "outputs": [
    {
     "name": "stderr",
     "output_type": "stream",
     "text": [
      "C:\\Users\\Gary\\AppData\\Local\\Temp\\ipykernel_131004\\1241848784.py:1: DtypeWarning: Columns (5) have mixed types. Specify dtype option on import or set low_memory=False.\n",
      "  mdata = pd.read_csv(datapath / \"mouse_experiments\" / \"mouse_counts.csv.gz\", compression='gzip')\n"
     ]
    }
   ],
   "source": [
    "mdata = pd.read_csv(datapath / \"mouse_experiments\" / \"mouse_counts.csv.gz\", compression='gzip')"
   ]
  },
  {
   "cell_type": "code",
   "execution_count": 12,
   "id": "e6a7abe2",
   "metadata": {},
   "outputs": [],
   "source": [
    "hparticles = np.array(hdata['Count'])"
   ]
  },
  {
   "cell_type": "code",
   "execution_count": 14,
   "id": "c834c510",
   "metadata": {},
   "outputs": [
    {
     "data": {
      "text/plain": [
       "count    4.473430e+05\n",
       "mean     1.298152e+02\n",
       "std      4.264490e+03\n",
       "min      1.000000e+00\n",
       "25%      1.000000e+00\n",
       "50%      1.000000e+00\n",
       "75%      2.000000e+01\n",
       "max      2.613365e+06\n",
       "Name: Count, dtype: float64"
      ]
     },
     "execution_count": 14,
     "metadata": {},
     "output_type": "execute_result"
    }
   ],
   "source": [
    "hdata['Count'].describe()"
   ]
  },
  {
   "cell_type": "code",
   "execution_count": 21,
   "id": "33034a27",
   "metadata": {},
   "outputs": [
    {
     "data": {
      "text/plain": [
       "4150.579999999958"
      ]
     },
     "execution_count": 21,
     "metadata": {},
     "output_type": "execute_result"
    }
   ],
   "source": [
    "np.percentile(hparticles, q=99.5)"
   ]
  },
  {
   "cell_type": "code",
   "execution_count": 19,
   "id": "170f85fb",
   "metadata": {},
   "outputs": [
    {
     "data": {
      "text/plain": [
       "count    1.056245e+06\n",
       "mean     3.766216e+02\n",
       "std      5.802009e+03\n",
       "min      1.000000e+00\n",
       "25%      1.000000e+00\n",
       "50%      2.000000e+00\n",
       "75%      6.500000e+01\n",
       "max      1.707640e+06\n",
       "Name: Count, dtype: float64"
      ]
     },
     "execution_count": 19,
     "metadata": {},
     "output_type": "execute_result"
    }
   ],
   "source": [
    "mdata['Count'].describe()"
   ]
  },
  {
   "cell_type": "code",
   "execution_count": 22,
   "id": "0412e408",
   "metadata": {},
   "outputs": [],
   "source": [
    "mparticles = np.array(mdata['Count'])"
   ]
  },
  {
   "cell_type": "code",
   "execution_count": 23,
   "id": "814e6726",
   "metadata": {},
   "outputs": [
    {
     "data": {
      "text/plain": [
       "5547.0"
      ]
     },
     "execution_count": 23,
     "metadata": {},
     "output_type": "execute_result"
    }
   ],
   "source": [
    "np.percentile(mparticles, q=99)"
   ]
  },
  {
   "cell_type": "code",
   "execution_count": 25,
   "id": "d013884a",
   "metadata": {},
   "outputs": [
    {
     "name": "stdout",
     "output_type": "stream",
     "text": [
      "0.9503155296942167\n",
      "0.9982474298245418\n"
     ]
    }
   ],
   "source": [
    "print(sum(hparticles < 250) / len(hparticles))\n",
    "print(sum(hparticles < 10000) / len(hparticles))"
   ]
  },
  {
   "cell_type": "code",
   "execution_count": 26,
   "id": "3ed7b4bf",
   "metadata": {},
   "outputs": [
    {
     "name": "stdout",
     "output_type": "stream",
     "text": [
      "0.8753414217345408\n",
      "0.9944293227423562\n"
     ]
    }
   ],
   "source": [
    "print(sum(mparticles < 250) / len(mparticles))\n",
    "print(sum(mparticles < 10000) / len(mparticles))"
   ]
  },
  {
   "cell_type": "code",
   "execution_count": null,
   "id": "2fbec684",
   "metadata": {},
   "outputs": [],
   "source": []
  }
 ],
 "metadata": {
  "kernelspec": {
   "display_name": "Python [conda env:mcfinal]",
   "language": "python",
   "name": "conda-env-mcfinal-py"
  },
  "language_info": {
   "codemirror_mode": {
    "name": "ipython",
    "version": 3
   },
   "file_extension": ".py",
   "mimetype": "text/x-python",
   "name": "python",
   "nbconvert_exporter": "python",
   "pygments_lexer": "ipython3",
   "version": "3.10.14"
  }
 },
 "nbformat": 4,
 "nbformat_minor": 5
}
