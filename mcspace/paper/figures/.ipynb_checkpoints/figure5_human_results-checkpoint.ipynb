{
 "cells": [
  {
   "cell_type": "code",
   "execution_count": 1,
   "id": "7e4f333a",
   "metadata": {},
   "outputs": [],
   "source": [
    "import numpy as np\n",
    "import torch\n",
    "from mcspace.model import MCSPACE\n",
    "from mcspace.trainer import train_model\n",
    "from mcspace.data_utils import get_data, get_mouse_diet_perturbations_dataset\n",
    "from mcspace.utils import get_device, pickle_load, pickle_save,\\\n",
    "    estimate_process_variance, MODEL_FILE, DATA_FILE, \\\n",
    "    get_mcspace_cooccur_prob, get_sig_perturbation_diff_subset, \\\n",
    "    get_posterior_summary_data, get_pert_otu_sub, get_min_loss_path, apply_taxonomy_threshold, \\\n",
    "    get_summary_results, get_subj_averaged_assemblage_proportions\n",
    "from pathlib import Path\n",
    "import matplotlib.pyplot as plt\n",
    "import matplotlib as mpl\n",
    "import seaborn as sns\n",
    "from mcspace.dataset import DataSet\n",
    "import pandas as pd\n",
    "\n",
    "import ete3\n",
    "from Bio import SeqIO, Phylo\n",
    "\n",
    "import matplotlib.colors as mcolors\n",
    "# import mcspace.vis_tools as vis\n",
    "\n",
    "import scipy.cluster.hierarchy as sch"
   ]
  },
  {
   "cell_type": "code",
   "execution_count": 2,
   "id": "fe0e62f0",
   "metadata": {},
   "outputs": [],
   "source": [
    "# change font\n",
    "mpl.rcParams['font.sans-serif'] = \"Arial\"\n",
    "mpl.rcParams['font.family'] = \"sans-serif\""
   ]
  },
  {
   "cell_type": "markdown",
   "id": "7bc836dc",
   "metadata": {},
   "source": [
    "# Paths"
   ]
  },
  {
   "cell_type": "code",
   "execution_count": 3,
   "id": "1403ffd8",
   "metadata": {},
   "outputs": [],
   "source": [
    "rootpath = Path(\"../../\")\n",
    "basepath = Path(\"./\")\n",
    "datapath = rootpath / \"paper\" / \"datasets\""
   ]
  },
  {
   "cell_type": "code",
   "execution_count": 4,
   "id": "fd27530f",
   "metadata": {},
   "outputs": [],
   "source": [
    "treepath = datapath / \"mouse_experiments\" / \"output\"\n",
    "treefile = \"newick_tree_query_reads.nhx\""
   ]
  },
  {
   "cell_type": "code",
   "execution_count": 5,
   "id": "c79f68c2",
   "metadata": {},
   "outputs": [],
   "source": [
    "respath = rootpath / \"paper\" / \"results\" / \"analysis\" / \"Human\""
   ]
  },
  {
   "cell_type": "code",
   "execution_count": 6,
   "id": "0b1941ee",
   "metadata": {},
   "outputs": [],
   "source": [
    "outpath = basepath / \"main_figures\"\n",
    "outpath.mkdir(exist_ok=True, parents=True)"
   ]
  },
  {
   "cell_type": "markdown",
   "id": "d6ca5e50",
   "metadata": {},
   "source": [
    "# Load results"
   ]
  },
  {
   "cell_type": "code",
   "execution_count": 7,
   "id": "6e4c87ed",
   "metadata": {},
   "outputs": [],
   "source": [
    "thetadf = pd.read_csv(respath / \"assemblages.csv\")\n",
    "betadf = pd.read_csv(respath / \"assemblage_proportions.csv\", index_col=0)\n",
    "# pertsdf = pd.read_csv(respath / \"perturbation_bayes_factors.csv\", index_col=0)\n",
    "radf= pd.read_csv(respath / \"relative_abundances.csv\", index_col=0)"
   ]
  },
  {
   "cell_type": "code",
   "execution_count": 8,
   "id": "b35040cd",
   "metadata": {},
   "outputs": [],
   "source": [
    "taxlevels = ['Otu', 'Kingdom', 'Phylum', 'Class', 'Order', 'Family', 'Genus', 'Species']"
   ]
  },
  {
   "cell_type": "code",
   "execution_count": 9,
   "id": "273981ee",
   "metadata": {},
   "outputs": [],
   "source": [
    "taxonomy = thetadf[taxlevels].copy()"
   ]
  },
  {
   "cell_type": "code",
   "execution_count": 10,
   "id": "6215e7dc",
   "metadata": {},
   "outputs": [],
   "source": [
    "taxonomy = taxonomy.set_index(\"Otu\")"
   ]
  },
  {
   "cell_type": "code",
   "execution_count": 11,
   "id": "6ea8edd1",
   "metadata": {},
   "outputs": [],
   "source": [
    "thetadf = thetadf.set_index(taxlevels)"
   ]
  },
  {
   "cell_type": "code",
   "execution_count": 12,
   "id": "b5d37262",
   "metadata": {},
   "outputs": [],
   "source": [
    "radf.columns = radf.columns.astype(int)"
   ]
  },
  {
   "cell_type": "code",
   "execution_count": 13,
   "id": "4b4e62b9",
   "metadata": {},
   "outputs": [],
   "source": [
    "avebeta = get_subj_averaged_assemblage_proportions(betadf)"
   ]
  },
  {
   "cell_type": "code",
   "execution_count": 14,
   "id": "7ece1314",
   "metadata": {},
   "outputs": [],
   "source": [
    "times = avebeta.index\n",
    "subjects = ['H11']"
   ]
  },
  {
   "cell_type": "markdown",
   "id": "43d52b02",
   "metadata": {},
   "source": [
    "# Plot full results"
   ]
  },
  {
   "cell_type": "markdown",
   "id": "7da46fb1",
   "metadata": {},
   "source": [
    "#### supplemental paper figure..."
   ]
  },
  {
   "cell_type": "code",
   "execution_count": null,
   "id": "a9c5ce58",
   "metadata": {},
   "outputs": [],
   "source": []
  },
  {
   "cell_type": "markdown",
   "id": "f4dbde4e",
   "metadata": {},
   "source": [
    "# Get most and least variable assemblages"
   ]
  },
  {
   "cell_type": "code",
   "execution_count": 15,
   "id": "97fefb93",
   "metadata": {},
   "outputs": [],
   "source": [
    "beta = avebeta.T\n",
    "beta['T-max'] = beta.max(axis=1)\n",
    "beta['Mean'] = beta.mean(axis=1)\n",
    "beta['Variance'] = np.log(beta).var(axis=1)\n",
    "beta = beta.T"
   ]
  },
  {
   "cell_type": "markdown",
   "id": "4cdfb8cc",
   "metadata": {},
   "source": [
    "### least changed"
   ]
  },
  {
   "cell_type": "code",
   "execution_count": 16,
   "id": "4aa74736",
   "metadata": {},
   "outputs": [],
   "source": [
    "persistent = beta.columns[beta.loc['Variance',:]<0.1]"
   ]
  },
  {
   "cell_type": "code",
   "execution_count": 17,
   "id": "df97c633",
   "metadata": {},
   "outputs": [
    {
     "name": "stdout",
     "output_type": "stream",
     "text": [
      "Index(['A56', 'A61', 'A23', 'A22', 'A57', 'A15', 'A17', 'A27', 'A4'], dtype='object', name='Assemblage')\n"
     ]
    }
   ],
   "source": [
    "# also cluster columns...\n",
    "theta_persistent = np.log10(thetadf.loc[:,persistent] + 1e-20).values\n",
    "\n",
    "data_matrix=theta_persistent.T\n",
    "row_dist = sch.linkage(data_matrix, method='ward')\n",
    "persist_row_order = sch.leaves_list(row_dist)\n",
    "\n",
    "persistent = persistent[persist_row_order]\n",
    "print(persistent)"
   ]
  },
  {
   "cell_type": "markdown",
   "id": "1364ef07",
   "metadata": {},
   "source": [
    "### variable assemblages"
   ]
  },
  {
   "cell_type": "code",
   "execution_count": 18,
   "id": "721c27f1",
   "metadata": {},
   "outputs": [
    {
     "name": "stdout",
     "output_type": "stream",
     "text": [
      "Index(['A21', 'A38', 'A5', 'A51', 'A54', 'A60'], dtype='object')\n",
      "Index(['A38', 'A5', 'A51', 'A60', 'A21', 'A54'], dtype='object')\n"
     ]
    }
   ],
   "source": [
    "nx = 3\n",
    "\n",
    "sigchanged = []\n",
    "for aidx in beta.columns:\n",
    "    temp = beta.loc[:,aidx]\n",
    "    for day in times:\n",
    "        rest = np.array([j for j in times if j != day])\n",
    "        maxother = np.amax(temp[rest].values)\n",
    "        current = temp[day]\n",
    "        if current >= maxother*nx:\n",
    "            sigchanged.append(aidx)\n",
    "        \n",
    "sigchanged = pd.Index(sigchanged)\n",
    "print(sigchanged)\n",
    "\n",
    "# cluster columns...\n",
    "theta_var = np.log10(thetadf.loc[:,sigchanged] + 1e-20).values\n",
    "\n",
    "data_matrix=theta_var.T\n",
    "row_dist = sch.linkage(data_matrix, method='ward')\n",
    "row_order = sch.leaves_list(row_dist)\n",
    "\n",
    "sigchanged = sigchanged[row_order]\n",
    "print(sigchanged)"
   ]
  },
  {
   "cell_type": "markdown",
   "id": "9000a213",
   "metadata": {},
   "source": [
    "### get taxa subset"
   ]
  },
  {
   "cell_type": "code",
   "execution_count": 19,
   "id": "2ca7de13",
   "metadata": {},
   "outputs": [],
   "source": [
    "otu_threshold = 0.01\n",
    "betasub = list(set(persistent).union(set(sigchanged)))\n",
    "otu_sub = thetadf.index[(thetadf.loc[:,betasub]>otu_threshold).any(axis=1)].get_level_values('Otu')"
   ]
  },
  {
   "cell_type": "code",
   "execution_count": 20,
   "id": "a60a575c",
   "metadata": {},
   "outputs": [
    {
     "name": "stdout",
     "output_type": "stream",
     "text": [
      "45\n"
     ]
    }
   ],
   "source": [
    "print(len(otu_sub))"
   ]
  },
  {
   "cell_type": "markdown",
   "id": "552f9999",
   "metadata": {},
   "source": [
    "#### compute z-scores"
   ]
  },
  {
   "cell_type": "code",
   "execution_count": 21,
   "id": "d6ccb977",
   "metadata": {},
   "outputs": [
    {
     "name": "stdout",
     "output_type": "stream",
     "text": [
      "(58, 69)\n",
      "(5, 69)\n"
     ]
    }
   ],
   "source": [
    "t = thetadf.values\n",
    "b = avebeta.loc[:,thetadf.columns].values\n",
    "print(t.shape)\n",
    "print(b.shape)"
   ]
  },
  {
   "cell_type": "code",
   "execution_count": 22,
   "id": "e9549807",
   "metadata": {},
   "outputs": [],
   "source": [
    "z = (t - np.mean(t,axis=1,keepdims=True))/(np.std(t, axis=1, keepdims=True))"
   ]
  },
  {
   "cell_type": "code",
   "execution_count": 23,
   "id": "61fdb1c6",
   "metadata": {},
   "outputs": [],
   "source": [
    "theta_zsparse2 = thetadf.copy()\n",
    "theta_zsparse2[z<2] = 0"
   ]
  },
  {
   "cell_type": "code",
   "execution_count": 24,
   "id": "600c6543",
   "metadata": {},
   "outputs": [
    {
     "name": "stdout",
     "output_type": "stream",
     "text": [
      "21\n"
     ]
    }
   ],
   "source": [
    "otu_sub_z2 = theta_zsparse2.index[(theta_zsparse2.loc[:,betasub]>otu_threshold).any(axis=1)].get_level_values('Otu')\n",
    "notus = len(otu_sub_z2)\n",
    "print(notus)"
   ]
  },
  {
   "cell_type": "code",
   "execution_count": null,
   "id": "928e217b",
   "metadata": {},
   "outputs": [],
   "source": []
  },
  {
   "cell_type": "markdown",
   "id": "86d8cd4b",
   "metadata": {},
   "source": [
    "# Render figure"
   ]
  },
  {
   "cell_type": "code",
   "execution_count": 25,
   "id": "055c2880",
   "metadata": {},
   "outputs": [],
   "source": [
    "def get_pruned_tree(treepath, treefile, taxonomy, temppath=Path(\"./_tmp\"), upper=False):\n",
    "    tree = ete3.Tree((treepath / treefile).as_posix())\n",
    "    print(\"original tree size:\", len(tree))\n",
    "    taxaids = list(taxonomy.index)\n",
    "    if upper:\n",
    "        taxaids = [idx.upper() for idx in taxaids]\n",
    "    tree.prune(taxaids, True)\n",
    "    print(\"pruned tree size:\", len(tree))\n",
    "    \n",
    "    treeout = \"tree.nhx\"\n",
    "    temppath.mkdir(exist_ok=True, parents=True)\n",
    "    tree.write(outfile=(temppath / treeout).as_posix())\n",
    "    phylo_tree = Phylo.read(temppath / treeout, format='newick')\n",
    "    return phylo_tree\n",
    "\n",
    "\n",
    "def plot_phylo_tree(ax, tree, taxonomy, fontsize=16, text_len=41):            \n",
    "    TEXT_LEN=text_len\n",
    "    prefix_taxa = {'Species': '*', 'Genus': '**', 'Family': '***', 'Order': '****',\n",
    "                   'Class': '*****', 'Phylum': '******', 'Domain': '*******'}\n",
    "\n",
    "    Phylo.draw(tree, axes=ax, do_show=False, show_confidence=False)\n",
    "    taxa_order = []\n",
    "\n",
    "    for text in ax.texts:\n",
    "        taxonname = str(text._text).replace(' ','').capitalize()\n",
    "        otu_name = taxonname\n",
    "        taxa_order.append(otu_name)\n",
    "        name, level = get_lowest_level(otu_name, taxonomy)\n",
    "        prefix = prefix_taxa[level]\n",
    "        taxonname = ' ' + prefix + ' ' + name + ' ' + otu_name.upper()\n",
    "        text._text = taxonname\n",
    "        text._text = text._text + '- ' * (TEXT_LEN - len(text._text))\n",
    "        text.set_fontsize(fontsize)\n",
    "        if (level == 'Species') or (level == 'Genus'):\n",
    "            text.set_fontstyle('italic')\n",
    "    ax = remove_border(ax)\n",
    "    return ax, taxa_order\n",
    "\n",
    "\n",
    "def add_border(ax, color='black'):\n",
    "    for _, spine in ax.spines.items():\n",
    "        spine.set_visible(True)\n",
    "        spine.set_linewidth(1.0)\n",
    "        spine.set_color(color)\n",
    "    return ax\n",
    "\n",
    "\n",
    "def remove_border(ax):\n",
    "    ax.spines['top'].set_visible(False)\n",
    "    ax.spines['bottom'].set_visible(False)\n",
    "    ax.spines['left'].set_visible(False)\n",
    "    ax.spines['right'].set_visible(False)\n",
    "    ax.xaxis.set_major_locator(plt.NullLocator())\n",
    "    ax.xaxis.set_minor_locator(plt.NullLocator())\n",
    "    ax.yaxis.set_major_locator(plt.NullLocator())\n",
    "    ax.yaxis.set_minor_locator(plt.NullLocator())\n",
    "    ax.set_xlabel('')\n",
    "    ax.set_ylabel('')\n",
    "    return ax\n"
   ]
  },
  {
   "cell_type": "code",
   "execution_count": 26,
   "id": "57776087",
   "metadata": {},
   "outputs": [],
   "source": [
    "import matplotlib.patches as mpatches"
   ]
  },
  {
   "cell_type": "code",
   "execution_count": 27,
   "id": "5f5bcffd",
   "metadata": {},
   "outputs": [],
   "source": [
    "# radf"
   ]
  },
  {
   "cell_type": "code",
   "execution_count": 28,
   "id": "08f93dcf",
   "metadata": {},
   "outputs": [],
   "source": [
    "ncomm_max = 50\n",
    "notu_max = 80\n",
    "\n",
    "tree_ratio = 0.1\n",
    "gap_ratio = 0.2\n",
    "\n",
    "ntime = len(times)\n",
    "nsubj = len(subjects)\n",
    "\n",
    "npert = len(persistent)\n",
    "nvar = len(sigchanged)\n",
    "ncomm = npert + nvar\n",
    "\n",
    "# theta_cmap = mpl.colors.LinearSegmentedColormap.from_list(\"\", [\"white\",\"green\"])\n",
    "theta_vmin=-3\n",
    "theta_vmax=0\n",
    "theta_cmap = mcolors.LinearSegmentedColormap.from_list('theta cmap', \n",
    "                                             [(0,    'white'),\n",
    "                                              (0.25, 'lightyellow'),\n",
    "                                              (0.5, 'yellowgreen'),\n",
    "                                              (1,    'green')], N=256)\n",
    "linewidth = 0.5\n",
    "linecolor = '#e6e6e6'"
   ]
  },
  {
   "cell_type": "code",
   "execution_count": 29,
   "id": "1c5c3f59",
   "metadata": {},
   "outputs": [],
   "source": [
    "colors = np.concatenate([sns.color_palette('muted', n_colors=10), sns.color_palette(\"dark\", n_colors=10)])\n",
    "familycolors = {x:y for x,y in zip(taxonomy['Family'].unique(),colors)}"
   ]
  },
  {
   "cell_type": "code",
   "execution_count": 30,
   "id": "3a6940e1",
   "metadata": {},
   "outputs": [
    {
     "ename": "SyntaxError",
     "evalue": "invalid syntax. Perhaps you forgot a comma? (2402743708.py, line 149)",
     "output_type": "error",
     "traceback": [
      "\u001b[1;36m  Cell \u001b[1;32mIn[30], line 149\u001b[1;36m\u001b[0m\n\u001b[1;33m    ax_fam_lgd.legend(handles=patches, title=\"Family\", loc='upper left', bbox_to_anchor=(0,2.2)\u001b[0m\n\u001b[1;37m                                                                                        ^\u001b[0m\n\u001b[1;31mSyntaxError\u001b[0m\u001b[1;31m:\u001b[0m invalid syntax. Perhaps you forgot a comma?\n"
     ]
    }
   ],
   "source": [
    "tree_ratio = 0.1\n",
    "gap_ratio = 0.25\n",
    "\n",
    "tree_text_len = 45\n",
    "scale=2\n",
    "tree_fontsize=12\n",
    "\n",
    "# set aspect ratios\n",
    "# add buffers so scales always same?\n",
    "lgd_ratio = 0.05\n",
    "lgd_gap = 0.1\n",
    "hratios = [notus/notu_max, lgd_gap, lgd_ratio]\n",
    "hratios.append(1.0 - (notus/notu_max)) # buffer?\n",
    "\n",
    "# width ratios\n",
    "wratios = [tree_ratio, gap_ratio, 1/ncomm_max,\n",
    "           npert/ncomm_max, nvar/ncomm_max, ntime/ncomm_max,\n",
    "           1.0-gap_ratio-tree_ratio-(ncomm/ncomm_max)]\n",
    "\n",
    "# create figure\n",
    "fig = plt.figure(figsize=(8.5*scale,11.5*scale))\n",
    "gs = fig.add_gridspec(nrows=4,ncols=6+1,\n",
    "                    height_ratios=hratios,\n",
    "                      width_ratios=wratios,\n",
    "                    wspace=0.05,\n",
    "                     hspace=0.02)\n",
    "\n",
    "# create subplots, get axes\n",
    "ax_tree = fig.add_subplot(gs[0,0])\n",
    "\n",
    "# squish to center lines...\n",
    "squish_ratio = 0.01\n",
    "squish_hspace = 0\n",
    "gs_fam = gs[0,2].subgridspec(3,1, height_ratios=[squish_ratio,1,squish_ratio], hspace=squish_hspace)\n",
    "ax_fam = fig.add_subplot(gs_fam[1,0])\n",
    "gs_pert = gs[0,3].subgridspec(3,1, height_ratios=[squish_ratio,1,squish_ratio], hspace=squish_hspace)\n",
    "ax_pert = fig.add_subplot(gs_pert[1,0])\n",
    "gs_var = gs[0,4].subgridspec(3,1, height_ratios=[squish_ratio,1,squish_ratio], hspace=squish_hspace)\n",
    "ax_var = fig.add_subplot(gs_var[1,0])\n",
    "gs_ra = gs[0,5].subgridspec(3,1, height_ratios=[squish_ratio,1,squish_ratio], hspace=squish_hspace)\n",
    "ax_ra = fig.add_subplot(gs_ra[1,0])\n",
    "\n",
    "\n",
    "# # ax_sing = fig.add_subplot(gs[0,2])\n",
    "# ax_fam = fig.add_subplot(gs[0,2])\n",
    "# ax_pert = fig.add_subplot(gs[0,3])\n",
    "# ax_var = fig.add_subplot(gs[0,4])\n",
    "# ax_ra = fig.add_subplot(gs[0,5])\n",
    "\n",
    "# for legend...\n",
    "gs_lgd = gs[-2,:-1].subgridspec(3,4)\n",
    "ax_taxa_lgd = fig.add_subplot(gs_lgd[:,0])\n",
    "ax_theta_lgd = fig.add_subplot(gs_lgd[0,2])\n",
    "ax_ra_lgd = fig.add_subplot(gs_lgd[0,3])\n",
    "ax_fam_lgd = fig.add_subplot(gs_lgd[:,1])\n",
    "\n",
    "\n",
    "# plot tree\n",
    "taxa = taxonomy.reset_index().copy()\n",
    "taxa = taxa.set_index(\"Otu\")\n",
    "taxa_subset = taxa.loc[otu_sub_z2,:]\n",
    "tree = get_pruned_tree(treepath, treefile, taxa_subset, temppath=Path(\"./_tmp_sub\"), upper=False)\n",
    "ax_tree, otu_order = plot_phylo_tree(ax_tree, tree, taxonomy, fontsize=tree_fontsize, text_len=tree_text_len)\n",
    "\n",
    "# plot family annotation\n",
    "ntaxa = len(otu_order)\n",
    "pcolors = np.zeros((ntaxa,1,3))\n",
    "for i,x in enumerate(taxonomy.loc[otu_order,'Family']):\n",
    "    pcolors[i,0,:] = familycolors[x]\n",
    "ax_fam.imshow(pcolors) #,linewidth=linewidth, linecolor=linecolor) #, aspect='equal')\n",
    "# ax.set_xticks(np.arange(0, ntaxa, 1))\n",
    "ax_fam.set_yticks(np.arange(0, ntaxa, 1))\n",
    "# # Minor ticks\n",
    "# ax_fam.set_xticks(np.arange(-.5, ntaxa, 1), minor=True)\n",
    "ax_fam.set_yticks(np.arange(-.5, ntaxa, 1), minor=True)\n",
    "ax_fam.grid(which='minor', color=linecolor, linestyle='-', linewidth=linewidth)\n",
    "ax_fam.set_xticklabels(\"\")\n",
    "ax_fam.set_yticklabels(\"\")\n",
    "ax_fam.tick_params('both', length=0, width=0, which='both')\n",
    "\n",
    "# plot assemblages\n",
    "ax_thetas = [ax_pert, ax_var]\n",
    "bsub = [persistent, sigchanged]\n",
    "for comm_order, ax_theta in zip(bsub, ax_thetas):\n",
    "    thetadf2 = theta_zsparse2.copy()\n",
    "#     thetadf2[thetadf2<otu_threshold] = 0\n",
    "    theta_plot = np.log10(thetadf2.loc[otu_order,comm_order])\n",
    "    ax_theta=sns.heatmap(theta_plot, ax=ax_theta, cmap=theta_cmap, square=False, cbar=False, vmin=theta_vmin, vmax=theta_vmax, \n",
    "                         linewidth=linewidth, linecolor=linecolor, xticklabels=True, yticklabels=True) #True)\n",
    "    # ax_theta.set_xticklabels([f\"A{i+1}\" for i in range(len(beta_keep))], rotation=90, fontsize=tree_fontsize)\n",
    "    ax_theta.set_yticklabels(\"\")\n",
    "    ax_theta.set_xticklabels(ax_theta.get_xticklabels(), fontsize=tree_fontsize, rotation=90)\n",
    "    ax_theta.set_xlabel(\"Spatial assemblage\", fontsize=tree_fontsize)\n",
    "    ax_theta.set_ylabel(\"\")\n",
    "    ax_theta=add_border(ax_theta)\n",
    "ax_pert.set_title(\"Least variable\", fontsize=tree_fontsize)\n",
    "ax_var.set_title(\"Most variable\", fontsize=tree_fontsize)\n",
    "\n",
    "# plot relative abundances\n",
    "ax_ra=sns.heatmap(np.log10(radf.loc[otu_order,times]), cmap='Purples', vmin=-2.5, vmax=-0.5,ax=ax_ra,\n",
    "                   linewidth=linewidth, linecolor=linecolor, xticklabels=True, yticklabels=True, cbar=False)\n",
    "ax_ra = add_border(ax_ra)\n",
    "ax_ra.set_yticklabels(\"\")\n",
    "ax_ra.set_ylabel(\"\")\n",
    "ax_ra.set_xlabel(\"Day\", fontsize=tree_fontsize)\n",
    "ax_ra.set_xticklabels(ax_ra.get_xticklabels(), rotation=90, fontsize=tree_fontsize)\n",
    "ax_ra.set_title(\"Relative\\nabundance\", fontsize=tree_fontsize)\n",
    "\n",
    "\n",
    "# plot legend...\n",
    "# plot legend\n",
    "norm = mpl.colors.Normalize(vmin=theta_vmin, vmax=theta_vmax)\n",
    "ax_theta_lgd=mpl.colorbar.ColorbarBase(ax_theta_lgd, cmap=theta_cmap, norm=norm, orientation='horizontal')\n",
    "ax_theta_lgd.ax.set_xticks([0,-1,-2,-3])\n",
    "ax_theta_lgd.ax.set_xticklabels([r'$10^{0}$',r'$10^{-1}$',r'$10^{-2}$',r'$10^{-3}$'])\n",
    "ax_theta_lgd.ax.set_title(\"Probability in assemblage\")\n",
    "\n",
    "norm = mpl.colors.Normalize(vmin=-2, vmax=0)\n",
    "ax_ra_lgd=mpl.colorbar.ColorbarBase(ax_ra_lgd, cmap=\"Purples\", norm=norm, orientation='horizontal')\n",
    "ax_ra_lgd.ax.set_xticks([0,-1,-2])\n",
    "ax_ra_lgd.ax.set_xticklabels([r'$10^{0}$',r'$10^{-1}$',r'$10^{-2}$'])\n",
    "ax_ra_lgd.ax.set_title(\"Relative abundance\")\n",
    "\n",
    "\n",
    "lgd_xpos=0.5\n",
    "lgd_ypos=1.2\n",
    "indent_xpos=lgd_xpos+0.1\n",
    "dy=0.25\n",
    "lgd_fontsize=12\n",
    "\n",
    "levels = ['Species','Genus', 'Family', 'Order', 'Class'] #, 'Phylum', 'Kingdom']      \n",
    "level_dict = {'Species': '*', 'Genus': '**', 'Family': '***', 'Order': '****', 'Class': '*****'} #, 'Phylum': '******', 'Kingdom': '*******'}\n",
    "\n",
    "fig.align_xlabels([ax_pert, ax_var, ax_ra])\n",
    "\n",
    "ax_taxa_lgd.text(lgd_xpos,lgd_ypos,\"Taxonomy keys\", fontsize=lgd_fontsize)\n",
    "for i,level in enumerate(levels):\n",
    "    ax_taxa_lgd.text(indent_xpos, lgd_ypos - (i+1)*dy, f\"{level_dict[level]}: {level}\", fontsize=lgd_fontsize)\n",
    "ax_taxa_lgd=remove_border(ax_taxa_lgd)\n",
    "\n",
    "plotfams = taxonomy.loc[otu_sub_z2,'Family'].unique()\n",
    "patches = []\n",
    "for f in plotfams:\n",
    "    if f == 'na':\n",
    "        flab = '(not resolved to Family)'\n",
    "    else:\n",
    "        flab = f\n",
    "    patches.append(mpatches.Patch(color=familycolors[f], label=flab))\n",
    "ax_fam_lgd.legend(handles=patches, title=\"Family\", loc='upper left', bbox_to_anchor=(0,2.2)\n",
    "                                     framealpha=1.0, edgecolor='black')\n",
    "ax_fam_lgd=remove_border(ax_fam_lgd)\n",
    "\n",
    "plt.savefig(outpath / \"human_variable_nonvariable_assemblages.svg\", bbox_inches=\"tight\")"
   ]
  },
  {
   "cell_type": "code",
   "execution_count": null,
   "id": "dea79936",
   "metadata": {},
   "outputs": [],
   "source": []
  }
 ],
 "metadata": {
  "kernelspec": {
   "display_name": "Python [conda env:mcfinal]",
   "language": "python",
   "name": "conda-env-mcfinal-py"
  },
  "language_info": {
   "codemirror_mode": {
    "name": "ipython",
    "version": 3
   },
   "file_extension": ".py",
   "mimetype": "text/x-python",
   "name": "python",
   "nbconvert_exporter": "python",
   "pygments_lexer": "ipython3",
   "version": "3.10.14"
  }
 },
 "nbformat": 4,
 "nbformat_minor": 5
}
