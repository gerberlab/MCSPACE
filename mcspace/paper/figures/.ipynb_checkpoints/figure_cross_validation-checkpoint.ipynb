{
 "cells": [
  {
   "cell_type": "code",
   "execution_count": 1,
   "id": "bca416f9",
   "metadata": {},
   "outputs": [],
   "source": [
    "from mcspace.utils import pickle_load\n",
    "import pandas as pd\n",
    "import matplotlib.pyplot as plt\n",
    "import seaborn as sns\n",
    "from pathlib import Path"
   ]
  },
  {
   "cell_type": "code",
   "execution_count": 2,
   "id": "ce767eb7",
   "metadata": {},
   "outputs": [
    {
     "data": {
      "text/plain": [
       "'C:\\\\Users\\\\Gary2\\\\Dropbox (Partners HealthCare)\\\\research_bwh\\\\MCSPACE\\\\MCSPACE\\\\mcspace\\\\paper\\\\figures'"
      ]
     },
     "execution_count": 2,
     "metadata": {},
     "output_type": "execute_result"
    }
   ],
   "source": [
    "pwd"
   ]
  },
  {
   "cell_type": "code",
   "execution_count": 3,
   "id": "7ea89b28",
   "metadata": {},
   "outputs": [],
   "source": [
    "cvpath = Path(\"../cross_validation\")"
   ]
  },
  {
   "cell_type": "code",
   "execution_count": 4,
   "id": "1a5fa58d",
   "metadata": {},
   "outputs": [],
   "source": [
    "respath = cvpath / \"cv_holdout_results\""
   ]
  },
  {
   "cell_type": "code",
   "execution_count": 5,
   "id": "93315086",
   "metadata": {},
   "outputs": [],
   "source": [
    "res = pickle_load(respath / \"results.pkl\")"
   ]
  },
  {
   "cell_type": "code",
   "execution_count": 7,
   "id": "77b41c07",
   "metadata": {},
   "outputs": [],
   "source": [
    "res = pd.DataFrame(res)"
   ]
  },
  {
   "cell_type": "code",
   "execution_count": 8,
   "id": "24f356ba",
   "metadata": {},
   "outputs": [
    {
     "data": {
      "text/html": [
       "<div>\n",
       "<style scoped>\n",
       "    .dataframe tbody tr th:only-of-type {\n",
       "        vertical-align: middle;\n",
       "    }\n",
       "\n",
       "    .dataframe tbody tr th {\n",
       "        vertical-align: top;\n",
       "    }\n",
       "\n",
       "    .dataframe thead th {\n",
       "        text-align: right;\n",
       "    }\n",
       "</style>\n",
       "<table border=\"1\" class=\"dataframe\">\n",
       "  <thead>\n",
       "    <tr style=\"text-align: right;\">\n",
       "      <th></th>\n",
       "      <th>model</th>\n",
       "      <th>case</th>\n",
       "      <th>fold</th>\n",
       "      <th>read depth</th>\n",
       "      <th>particle id</th>\n",
       "      <th>cosine distance</th>\n",
       "    </tr>\n",
       "  </thead>\n",
       "  <tbody>\n",
       "    <tr>\n",
       "      <th>0</th>\n",
       "      <td>mcspace</td>\n",
       "      <td>Human_1_H11</td>\n",
       "      <td>0</td>\n",
       "      <td>1226.0</td>\n",
       "      <td>0</td>\n",
       "      <td>0.024706</td>\n",
       "    </tr>\n",
       "    <tr>\n",
       "      <th>1</th>\n",
       "      <td>mcspace</td>\n",
       "      <td>Human_1_H11</td>\n",
       "      <td>0</td>\n",
       "      <td>3430.0</td>\n",
       "      <td>1</td>\n",
       "      <td>0.503679</td>\n",
       "    </tr>\n",
       "    <tr>\n",
       "      <th>2</th>\n",
       "      <td>mcspace</td>\n",
       "      <td>Human_1_H11</td>\n",
       "      <td>0</td>\n",
       "      <td>7284.0</td>\n",
       "      <td>2</td>\n",
       "      <td>0.761661</td>\n",
       "    </tr>\n",
       "    <tr>\n",
       "      <th>3</th>\n",
       "      <td>mcspace</td>\n",
       "      <td>Human_1_H11</td>\n",
       "      <td>0</td>\n",
       "      <td>6348.0</td>\n",
       "      <td>3</td>\n",
       "      <td>0.160995</td>\n",
       "    </tr>\n",
       "    <tr>\n",
       "      <th>4</th>\n",
       "      <td>mcspace</td>\n",
       "      <td>Human_1_H11</td>\n",
       "      <td>0</td>\n",
       "      <td>8145.0</td>\n",
       "      <td>4</td>\n",
       "      <td>0.125132</td>\n",
       "    </tr>\n",
       "    <tr>\n",
       "      <th>...</th>\n",
       "      <td>...</td>\n",
       "      <td>...</td>\n",
       "      <td>...</td>\n",
       "      <td>...</td>\n",
       "      <td>...</td>\n",
       "      <td>...</td>\n",
       "    </tr>\n",
       "    <tr>\n",
       "      <th>479</th>\n",
       "      <td>gmm_two_dim</td>\n",
       "      <td>Human_1_H11</td>\n",
       "      <td>0</td>\n",
       "      <td>3901.0</td>\n",
       "      <td>116</td>\n",
       "      <td>0.448669</td>\n",
       "    </tr>\n",
       "    <tr>\n",
       "      <th>480</th>\n",
       "      <td>gmm_two_dim</td>\n",
       "      <td>Human_1_H11</td>\n",
       "      <td>0</td>\n",
       "      <td>3307.0</td>\n",
       "      <td>117</td>\n",
       "      <td>0.552198</td>\n",
       "    </tr>\n",
       "    <tr>\n",
       "      <th>481</th>\n",
       "      <td>gmm_two_dim</td>\n",
       "      <td>Human_1_H11</td>\n",
       "      <td>0</td>\n",
       "      <td>2249.0</td>\n",
       "      <td>118</td>\n",
       "      <td>0.547965</td>\n",
       "    </tr>\n",
       "    <tr>\n",
       "      <th>482</th>\n",
       "      <td>gmm_two_dim</td>\n",
       "      <td>Human_1_H11</td>\n",
       "      <td>0</td>\n",
       "      <td>2671.0</td>\n",
       "      <td>119</td>\n",
       "      <td>0.463618</td>\n",
       "    </tr>\n",
       "    <tr>\n",
       "      <th>483</th>\n",
       "      <td>gmm_two_dim</td>\n",
       "      <td>Human_1_H11</td>\n",
       "      <td>0</td>\n",
       "      <td>1049.0</td>\n",
       "      <td>120</td>\n",
       "      <td>0.778362</td>\n",
       "    </tr>\n",
       "  </tbody>\n",
       "</table>\n",
       "<p>484 rows × 6 columns</p>\n",
       "</div>"
      ],
      "text/plain": [
       "           model         case  fold  read depth  particle id  cosine distance\n",
       "0        mcspace  Human_1_H11     0      1226.0            0         0.024706\n",
       "1        mcspace  Human_1_H11     0      3430.0            1         0.503679\n",
       "2        mcspace  Human_1_H11     0      7284.0            2         0.761661\n",
       "3        mcspace  Human_1_H11     0      6348.0            3         0.160995\n",
       "4        mcspace  Human_1_H11     0      8145.0            4         0.125132\n",
       "..           ...          ...   ...         ...          ...              ...\n",
       "479  gmm_two_dim  Human_1_H11     0      3901.0          116         0.448669\n",
       "480  gmm_two_dim  Human_1_H11     0      3307.0          117         0.552198\n",
       "481  gmm_two_dim  Human_1_H11     0      2249.0          118         0.547965\n",
       "482  gmm_two_dim  Human_1_H11     0      2671.0          119         0.463618\n",
       "483  gmm_two_dim  Human_1_H11     0      1049.0          120         0.778362\n",
       "\n",
       "[484 rows x 6 columns]"
      ]
     },
     "execution_count": 8,
     "metadata": {},
     "output_type": "execute_result"
    }
   ],
   "source": [
    "res"
   ]
  },
  {
   "cell_type": "code",
   "execution_count": 9,
   "id": "e8aa35f7",
   "metadata": {},
   "outputs": [
    {
     "data": {
      "text/plain": [
       "array(['mcspace', 'gmm_basic', 'gmm_one_dim', 'gmm_two_dim'], dtype=object)"
      ]
     },
     "execution_count": 9,
     "metadata": {},
     "output_type": "execute_result"
    }
   ],
   "source": [
    "res['model'].unique()"
   ]
  },
  {
   "cell_type": "code",
   "execution_count": 10,
   "id": "a723f8b4",
   "metadata": {},
   "outputs": [
    {
     "data": {
      "text/plain": [
       "<Axes: xlabel='model', ylabel='cosine distance'>"
      ]
     },
     "execution_count": 10,
     "metadata": {},
     "output_type": "execute_result"
    },
    {
     "data": {
      "image/png": "[encoded data removed]",
      "text/plain": [
       "<Figure size 640x480 with 1 Axes>"
      ]
     },
     "metadata": {},
     "output_type": "display_data"
    }
   ],
   "source": [
    "sns.boxplot(data=res, x='model', y='cosine distance')"
   ]
  },
  {
   "cell_type": "code",
   "execution_count": null,
   "id": "73713931",
   "metadata": {},
   "outputs": [],
   "source": []
  }
 ],
 "metadata": {
  "kernelspec": {
   "display_name": "Python [conda env:mcspace]",
   "language": "python",
   "name": "conda-env-mcspace-py"
  },
  "language_info": {
   "codemirror_mode": {
    "name": "ipython",
    "version": 3
   },
   "file_extension": ".py",
   "mimetype": "text/x-python",
   "name": "python",
   "nbconvert_exporter": "python",
   "pygments_lexer": "ipython3",
   "version": "3.10.13"
  }
 },
 "nbformat": 4,
 "nbformat_minor": 5
}
