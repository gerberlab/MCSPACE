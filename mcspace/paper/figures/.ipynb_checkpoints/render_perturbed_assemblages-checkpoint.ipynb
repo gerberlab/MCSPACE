{
 "cells": [
  {
   "cell_type": "code",
   "execution_count": 69,
   "id": "c4bef92d",
   "metadata": {},
   "outputs": [],
   "source": [
    "import numpy as np\n",
    "import torch\n",
    "from mcspace.model import MCSPACE\n",
    "from mcspace.trainer import train_model\n",
    "from mcspace.data_utils import get_data, get_mouse_diet_perturbations_dataset\n",
    "from mcspace.utils import get_device, pickle_load, pickle_save,\\\n",
    "    estimate_process_variance, MODEL_FILE, DATA_FILE, \\\n",
    "    get_mcspace_cooccur_prob, get_sig_perturbation_diff_subset, \\\n",
    "    get_posterior_summary_data, get_pert_otu_sub, get_min_loss_path, apply_taxonomy_threshold, \\\n",
    "    get_summary_results\n",
    "from pathlib import Path\n",
    "import matplotlib.pyplot as plt\n",
    "import matplotlib as mpl\n",
    "import seaborn as sns\n",
    "import mcspace.visualization as vis\n",
    "from mcspace.dataset import DataSet\n",
    "import pandas as pd\n",
    "\n",
    "import ete3\n",
    "from Bio import SeqIO, Phylo\n",
    "\n",
    "import mcspace.vis_tools as vis\n",
    "import matplotlib.colors as mcolors\n",
    "\n",
    "import scipy.cluster.hierarchy as sch"
   ]
  },
  {
   "cell_type": "code",
   "execution_count": 2,
   "id": "697fe911",
   "metadata": {},
   "outputs": [],
   "source": [
    "# change font\n",
    "mpl.rcParams['font.sans-serif'] = \"Arial\"\n",
    "mpl.rcParams['font.family'] = \"sans-serif\""
   ]
  },
  {
   "cell_type": "markdown",
   "id": "11ac264d",
   "metadata": {},
   "source": [
    "# Paths"
   ]
  },
  {
   "cell_type": "code",
   "execution_count": 3,
   "id": "1ad6e91e",
   "metadata": {},
   "outputs": [],
   "source": [
    "rootpath = Path(\"../../\")\n",
    "basepath = Path(\"./\")\n",
    "\n",
    "runpath = rootpath / \"paper\" / \"mouse_runs\" / \"runs\"\n",
    "\n",
    "treepath = rootpath / \"data\" / \"mouse_experiments\" / \"output\" # *** rename this\n",
    "treefile = \"newick_tree_query_reads.nhx\"\n",
    "\n",
    "outpath = basepath / \"figs_mouse_results\"\n",
    "outpath.mkdir(exist_ok=True, parents=True)"
   ]
  },
  {
   "cell_type": "markdown",
   "id": "3bdcb7be",
   "metadata": {},
   "source": [
    "# Load model"
   ]
  },
  {
   "cell_type": "code",
   "execution_count": 4,
   "id": "fb0f67b4",
   "metadata": {},
   "outputs": [
    {
     "name": "stdout",
     "output_type": "stream",
     "text": [
      "0\n",
      "1\n",
      "2\n",
      "3\n",
      "4\n",
      "5\n",
      "6\n",
      "7\n",
      "8\n",
      "9\n",
      "4\n",
      "getting posterior summary...\n"
     ]
    }
   ],
   "source": [
    "respath = get_min_loss_path(runpath, np.arange(10))\n",
    "\n",
    "model = torch.load(respath / MODEL_FILE)\n",
    "data = pickle_load(respath / DATA_FILE)\n",
    "\n",
    "taxonomy = pickle_load(respath / \"taxonomy.pkl\")\n",
    "\n",
    "times = list(data['count_data'].keys())\n",
    "subjects = list(data['count_data'][10].keys())\n",
    "num_otus = data['count_data'][times[0]][subjects[0]].shape[1]\n",
    "num_times = len(times)\n",
    "num_subjects = len(subjects)\n",
    "\n",
    "taxonomy = apply_taxonomy_threshold(taxonomy)\n",
    "\n",
    "# update taxonomy names (do before hand -> update main taxonmy file)\n",
    "name_updates = {'Otu10': {'Species': 'Faecalibaculum rodentium'},\n",
    "'Otu17': {'Genus': 'Roseburia'},\n",
    "'Otu6': {'Species': 'Eubacterium coprostanoligenes'},\n",
    "'Otu20': {'Species': 'Muribaculum gordoncarteri'},\n",
    "'Otu15': {'Genus': 'Eisenbergiella'},\n",
    "'Otu43': {'Family': 'Lachnospiraceae'}}\n",
    "taxonomy['Species'] = 'na'\n",
    "\n",
    "for oidx in name_updates.keys():\n",
    "    replace = name_updates[oidx]\n",
    "    key = list(replace.keys())[0]\n",
    "    newname = replace[key]\n",
    "    taxonomy.loc[oidx,key] = newname\n",
    "    \n",
    "print(\"getting posterior summary...\")\n",
    "# get summary results\n",
    "thetadf, betadf, pertsdf = get_posterior_summary_data(model, data, taxonomy, times, subjects)"
   ]
  },
  {
   "cell_type": "markdown",
   "id": "4b1edf52",
   "metadata": {},
   "source": [
    "# Render figure"
   ]
  },
  {
   "cell_type": "markdown",
   "id": "25bc1872",
   "metadata": {},
   "source": [
    "### get perturbed assemblages for each diet; filter out singletons; cluster by columns; plot..."
   ]
  },
  {
   "cell_type": "markdown",
   "id": "ee371462",
   "metadata": {},
   "source": [
    "## methods (move to vis utils...)"
   ]
  },
  {
   "cell_type": "code",
   "execution_count": 5,
   "id": "53ac226e",
   "metadata": {},
   "outputs": [],
   "source": [
    "def get_subj_averaged_assemblage_proportions(betadf):\n",
    "    subjave = betadf.loc[:,['Time','Assemblage','Value']].groupby(by=['Time','Assemblage']).mean()\n",
    "    subjave.reset_index(inplace=True)\n",
    "    betamat = subjave.pivot(index='Time', columns='Assemblage', values='Value')\n",
    "    return betamat"
   ]
  },
  {
   "cell_type": "code",
   "execution_count": 6,
   "id": "b460c0d7",
   "metadata": {},
   "outputs": [],
   "source": [
    "avebeta = get_subj_averaged_assemblage_proportions(betadf)"
   ]
  },
  {
   "cell_type": "code",
   "execution_count": 7,
   "id": "909b2ebc",
   "metadata": {},
   "outputs": [
    {
     "data": {
      "text/html": [
       "<div>\n",
       "<style scoped>\n",
       "    .dataframe tbody tr th:only-of-type {\n",
       "        vertical-align: middle;\n",
       "    }\n",
       "\n",
       "    .dataframe tbody tr th {\n",
       "        vertical-align: top;\n",
       "    }\n",
       "\n",
       "    .dataframe thead th {\n",
       "        text-align: right;\n",
       "    }\n",
       "</style>\n",
       "<table border=\"1\" class=\"dataframe\">\n",
       "  <thead>\n",
       "    <tr style=\"text-align: right;\">\n",
       "      <th>Assemblage</th>\n",
       "      <th>A1</th>\n",
       "      <th>A10</th>\n",
       "      <th>A11</th>\n",
       "      <th>A12</th>\n",
       "      <th>A13</th>\n",
       "      <th>A14</th>\n",
       "      <th>A15</th>\n",
       "      <th>A16</th>\n",
       "      <th>A17</th>\n",
       "      <th>A18</th>\n",
       "      <th>...</th>\n",
       "      <th>A7</th>\n",
       "      <th>A70</th>\n",
       "      <th>A71</th>\n",
       "      <th>A72</th>\n",
       "      <th>A73</th>\n",
       "      <th>A74</th>\n",
       "      <th>A75</th>\n",
       "      <th>A76</th>\n",
       "      <th>A8</th>\n",
       "      <th>A9</th>\n",
       "    </tr>\n",
       "    <tr>\n",
       "      <th>Time</th>\n",
       "      <th></th>\n",
       "      <th></th>\n",
       "      <th></th>\n",
       "      <th></th>\n",
       "      <th></th>\n",
       "      <th></th>\n",
       "      <th></th>\n",
       "      <th></th>\n",
       "      <th></th>\n",
       "      <th></th>\n",
       "      <th></th>\n",
       "      <th></th>\n",
       "      <th></th>\n",
       "      <th></th>\n",
       "      <th></th>\n",
       "      <th></th>\n",
       "      <th></th>\n",
       "      <th></th>\n",
       "      <th></th>\n",
       "      <th></th>\n",
       "      <th></th>\n",
       "    </tr>\n",
       "  </thead>\n",
       "  <tbody>\n",
       "    <tr>\n",
       "      <th>10</th>\n",
       "      <td>0.000490</td>\n",
       "      <td>0.003245</td>\n",
       "      <td>0.026752</td>\n",
       "      <td>0.015983</td>\n",
       "      <td>0.006980</td>\n",
       "      <td>0.000471</td>\n",
       "      <td>0.002387</td>\n",
       "      <td>0.015291</td>\n",
       "      <td>0.000680</td>\n",
       "      <td>0.000672</td>\n",
       "      <td>...</td>\n",
       "      <td>0.002685</td>\n",
       "      <td>0.000639</td>\n",
       "      <td>0.000569</td>\n",
       "      <td>0.002018</td>\n",
       "      <td>0.001551</td>\n",
       "      <td>0.003656</td>\n",
       "      <td>0.006109</td>\n",
       "      <td>0.024608</td>\n",
       "      <td>0.003404</td>\n",
       "      <td>0.030489</td>\n",
       "    </tr>\n",
       "    <tr>\n",
       "      <th>18</th>\n",
       "      <td>0.000123</td>\n",
       "      <td>0.051833</td>\n",
       "      <td>0.001750</td>\n",
       "      <td>0.014727</td>\n",
       "      <td>0.000612</td>\n",
       "      <td>0.004112</td>\n",
       "      <td>0.000275</td>\n",
       "      <td>0.005496</td>\n",
       "      <td>0.022334</td>\n",
       "      <td>0.017609</td>\n",
       "      <td>...</td>\n",
       "      <td>0.000638</td>\n",
       "      <td>0.005891</td>\n",
       "      <td>0.003451</td>\n",
       "      <td>0.003086</td>\n",
       "      <td>0.000391</td>\n",
       "      <td>0.000877</td>\n",
       "      <td>0.003104</td>\n",
       "      <td>0.006162</td>\n",
       "      <td>0.000346</td>\n",
       "      <td>0.005373</td>\n",
       "    </tr>\n",
       "    <tr>\n",
       "      <th>35</th>\n",
       "      <td>0.000054</td>\n",
       "      <td>0.013550</td>\n",
       "      <td>0.019860</td>\n",
       "      <td>0.020197</td>\n",
       "      <td>0.003151</td>\n",
       "      <td>0.000111</td>\n",
       "      <td>0.006001</td>\n",
       "      <td>0.035770</td>\n",
       "      <td>0.002933</td>\n",
       "      <td>0.001172</td>\n",
       "      <td>...</td>\n",
       "      <td>0.006801</td>\n",
       "      <td>0.000359</td>\n",
       "      <td>0.011191</td>\n",
       "      <td>0.002308</td>\n",
       "      <td>0.010040</td>\n",
       "      <td>0.004424</td>\n",
       "      <td>0.002999</td>\n",
       "      <td>0.006552</td>\n",
       "      <td>0.015220</td>\n",
       "      <td>0.003457</td>\n",
       "    </tr>\n",
       "    <tr>\n",
       "      <th>43</th>\n",
       "      <td>0.000031</td>\n",
       "      <td>0.005525</td>\n",
       "      <td>0.001213</td>\n",
       "      <td>0.001723</td>\n",
       "      <td>0.000729</td>\n",
       "      <td>0.000063</td>\n",
       "      <td>0.000642</td>\n",
       "      <td>0.008839</td>\n",
       "      <td>0.000668</td>\n",
       "      <td>0.000552</td>\n",
       "      <td>...</td>\n",
       "      <td>0.000364</td>\n",
       "      <td>0.007925</td>\n",
       "      <td>0.009491</td>\n",
       "      <td>0.000221</td>\n",
       "      <td>0.002092</td>\n",
       "      <td>0.001547</td>\n",
       "      <td>0.005292</td>\n",
       "      <td>0.000083</td>\n",
       "      <td>0.000526</td>\n",
       "      <td>0.001561</td>\n",
       "    </tr>\n",
       "    <tr>\n",
       "      <th>57</th>\n",
       "      <td>0.000594</td>\n",
       "      <td>0.080807</td>\n",
       "      <td>0.024673</td>\n",
       "      <td>0.033106</td>\n",
       "      <td>0.006769</td>\n",
       "      <td>0.008815</td>\n",
       "      <td>0.006129</td>\n",
       "      <td>0.007130</td>\n",
       "      <td>0.011012</td>\n",
       "      <td>0.001165</td>\n",
       "      <td>...</td>\n",
       "      <td>0.005043</td>\n",
       "      <td>0.000271</td>\n",
       "      <td>0.007469</td>\n",
       "      <td>0.003876</td>\n",
       "      <td>0.016104</td>\n",
       "      <td>0.018396</td>\n",
       "      <td>0.004728</td>\n",
       "      <td>0.000099</td>\n",
       "      <td>0.001066</td>\n",
       "      <td>0.000709</td>\n",
       "    </tr>\n",
       "    <tr>\n",
       "      <th>65</th>\n",
       "      <td>0.044092</td>\n",
       "      <td>0.101187</td>\n",
       "      <td>0.003730</td>\n",
       "      <td>0.002336</td>\n",
       "      <td>0.007050</td>\n",
       "      <td>0.003326</td>\n",
       "      <td>0.000563</td>\n",
       "      <td>0.000261</td>\n",
       "      <td>0.002677</td>\n",
       "      <td>0.000680</td>\n",
       "      <td>...</td>\n",
       "      <td>0.001194</td>\n",
       "      <td>0.041214</td>\n",
       "      <td>0.005391</td>\n",
       "      <td>0.001631</td>\n",
       "      <td>0.001850</td>\n",
       "      <td>0.001282</td>\n",
       "      <td>0.036081</td>\n",
       "      <td>0.000016</td>\n",
       "      <td>0.000621</td>\n",
       "      <td>0.002945</td>\n",
       "    </tr>\n",
       "    <tr>\n",
       "      <th>76</th>\n",
       "      <td>0.000129</td>\n",
       "      <td>0.030381</td>\n",
       "      <td>0.018290</td>\n",
       "      <td>0.013162</td>\n",
       "      <td>0.031658</td>\n",
       "      <td>0.029443</td>\n",
       "      <td>0.011436</td>\n",
       "      <td>0.004701</td>\n",
       "      <td>0.025538</td>\n",
       "      <td>0.006055</td>\n",
       "      <td>...</td>\n",
       "      <td>0.019390</td>\n",
       "      <td>0.000115</td>\n",
       "      <td>0.031157</td>\n",
       "      <td>0.019005</td>\n",
       "      <td>0.036645</td>\n",
       "      <td>0.005159</td>\n",
       "      <td>0.008044</td>\n",
       "      <td>0.000054</td>\n",
       "      <td>0.005648</td>\n",
       "      <td>0.000637</td>\n",
       "    </tr>\n",
       "  </tbody>\n",
       "</table>\n",
       "<p>7 rows × 76 columns</p>\n",
       "</div>"
      ],
      "text/plain": [
       "Assemblage        A1       A10       A11       A12       A13       A14  \\\n",
       "Time                                                                     \n",
       "10          0.000490  0.003245  0.026752  0.015983  0.006980  0.000471   \n",
       "18          0.000123  0.051833  0.001750  0.014727  0.000612  0.004112   \n",
       "35          0.000054  0.013550  0.019860  0.020197  0.003151  0.000111   \n",
       "43          0.000031  0.005525  0.001213  0.001723  0.000729  0.000063   \n",
       "57          0.000594  0.080807  0.024673  0.033106  0.006769  0.008815   \n",
       "65          0.044092  0.101187  0.003730  0.002336  0.007050  0.003326   \n",
       "76          0.000129  0.030381  0.018290  0.013162  0.031658  0.029443   \n",
       "\n",
       "Assemblage       A15       A16       A17       A18  ...        A7       A70  \\\n",
       "Time                                                ...                       \n",
       "10          0.002387  0.015291  0.000680  0.000672  ...  0.002685  0.000639   \n",
       "18          0.000275  0.005496  0.022334  0.017609  ...  0.000638  0.005891   \n",
       "35          0.006001  0.035770  0.002933  0.001172  ...  0.006801  0.000359   \n",
       "43          0.000642  0.008839  0.000668  0.000552  ...  0.000364  0.007925   \n",
       "57          0.006129  0.007130  0.011012  0.001165  ...  0.005043  0.000271   \n",
       "65          0.000563  0.000261  0.002677  0.000680  ...  0.001194  0.041214   \n",
       "76          0.011436  0.004701  0.025538  0.006055  ...  0.019390  0.000115   \n",
       "\n",
       "Assemblage       A71       A72       A73       A74       A75       A76  \\\n",
       "Time                                                                     \n",
       "10          0.000569  0.002018  0.001551  0.003656  0.006109  0.024608   \n",
       "18          0.003451  0.003086  0.000391  0.000877  0.003104  0.006162   \n",
       "35          0.011191  0.002308  0.010040  0.004424  0.002999  0.006552   \n",
       "43          0.009491  0.000221  0.002092  0.001547  0.005292  0.000083   \n",
       "57          0.007469  0.003876  0.016104  0.018396  0.004728  0.000099   \n",
       "65          0.005391  0.001631  0.001850  0.001282  0.036081  0.000016   \n",
       "76          0.031157  0.019005  0.036645  0.005159  0.008044  0.000054   \n",
       "\n",
       "Assemblage        A8        A9  \n",
       "Time                            \n",
       "10          0.003404  0.030489  \n",
       "18          0.000346  0.005373  \n",
       "35          0.015220  0.003457  \n",
       "43          0.000526  0.001561  \n",
       "57          0.001066  0.000709  \n",
       "65          0.000621  0.002945  \n",
       "76          0.005648  0.000637  \n",
       "\n",
       "[7 rows x 76 columns]"
      ]
     },
     "execution_count": 7,
     "metadata": {},
     "output_type": "execute_result"
    }
   ],
   "source": [
    "avebeta"
   ]
  },
  {
   "cell_type": "code",
   "execution_count": 8,
   "id": "c38bc220",
   "metadata": {},
   "outputs": [],
   "source": [
    "def get_perturbed_assemblages(pertsdf, pnames=None, bf_threshold=10):\n",
    "    cols = pertsdf.columns\n",
    "    perturbed_assemblages = {}\n",
    "    for i,c in enumerate(cols):\n",
    "        if pnames is not None:\n",
    "            key = pnames[i]\n",
    "        else:\n",
    "            key = c\n",
    "        perturbed_assemblages[key] = pertsdf.index[pertsdf.loc[:,c]>=bf_threshold]\n",
    "    return perturbed_assemblages"
   ]
  },
  {
   "cell_type": "code",
   "execution_count": 9,
   "id": "a93a39c7",
   "metadata": {},
   "outputs": [],
   "source": [
    "pnames = ['HF', 'HFHF', 'LP']\n",
    "perturbed_assemblages = get_perturbed_assemblages(pertsdf, pnames=pnames)"
   ]
  },
  {
   "cell_type": "markdown",
   "id": "23d6cc1c",
   "metadata": {},
   "source": [
    "### remove singletons..."
   ]
  },
  {
   "cell_type": "code",
   "execution_count": 10,
   "id": "ab818fdf",
   "metadata": {},
   "outputs": [
    {
     "data": {
      "text/plain": [
       "{'HF': Index(['A8', 'A11', 'A15', 'A17', 'A18', 'A23', 'A25', 'A26', 'A27', 'A31',\n",
       "        'A32', 'A39', 'A42', 'A43', 'A46', 'A50', 'A51', 'A53', 'A54', 'A55',\n",
       "        'A57', 'A58', 'A60', 'A69'],\n",
       "       dtype='object'),\n",
       " 'HFHF': Index(['A6', 'A24', 'A31', 'A40', 'A52', 'A65', 'A70'], dtype='object'),\n",
       " 'LP': Index(['A1', 'A2', 'A6', 'A9', 'A19', 'A23', 'A26', 'A29', 'A51', 'A52', 'A53',\n",
       "        'A57', 'A67', 'A70', 'A75'],\n",
       "       dtype='object')}"
      ]
     },
     "execution_count": 10,
     "metadata": {},
     "output_type": "execute_result"
    }
   ],
   "source": [
    "perturbed_assemblages"
   ]
  },
  {
   "cell_type": "code",
   "execution_count": 11,
   "id": "ca1346a9",
   "metadata": {},
   "outputs": [],
   "source": [
    "def split_singletons_nonsingletons(perturbed_assemblages, otu_threshold=0.05):\n",
    "    keys = list(perturbed_assemblages.keys())\n",
    "    nonsingleton_perturbed = {}\n",
    "    singleton_perturbed = {}\n",
    "    for k in keys:\n",
    "        nonsingleton_perturbed[k] = perturbed_assemblages[k][(thetadf.loc[:,perturbed_assemblages[k]] > otu_threshold).sum(axis=0) > 1]\n",
    "        singleton_perturbed[k] = perturbed_assemblages[k][(thetadf.loc[:,perturbed_assemblages[k]] > otu_threshold).sum(axis=0) == 1]\n",
    "    return singleton_perturbed, nonsingleton_perturbed"
   ]
  },
  {
   "cell_type": "code",
   "execution_count": 12,
   "id": "ac7504cf",
   "metadata": {},
   "outputs": [],
   "source": [
    "singleton_perturbed, nonsingleton_perturbed = split_singletons_nonsingletons(perturbed_assemblages)"
   ]
  },
  {
   "cell_type": "code",
   "execution_count": 13,
   "id": "465c23b6",
   "metadata": {},
   "outputs": [
    {
     "data": {
      "text/plain": [
       "{'HF': Index(['A11', 'A15', 'A17', 'A25', 'A26', 'A31', 'A32', 'A39', 'A54', 'A57',\n",
       "        'A58', 'A60'],\n",
       "       dtype='object'),\n",
       " 'HFHF': Index(['A6', 'A24', 'A31', 'A40', 'A52', 'A65'], dtype='object'),\n",
       " 'LP': Index(['A6', 'A26', 'A52', 'A57', 'A67', 'A75'], dtype='object')}"
      ]
     },
     "execution_count": 13,
     "metadata": {},
     "output_type": "execute_result"
    }
   ],
   "source": [
    "singleton_perturbed"
   ]
  },
  {
   "cell_type": "code",
   "execution_count": 14,
   "id": "3759d5d0",
   "metadata": {},
   "outputs": [
    {
     "data": {
      "text/plain": [
       "{'HF': Index(['A8', 'A18', 'A23', 'A27', 'A42', 'A43', 'A46', 'A50', 'A51', 'A53',\n",
       "        'A55', 'A69'],\n",
       "       dtype='object'),\n",
       " 'HFHF': Index(['A70'], dtype='object'),\n",
       " 'LP': Index(['A1', 'A2', 'A9', 'A19', 'A23', 'A29', 'A51', 'A53', 'A70'], dtype='object')}"
      ]
     },
     "execution_count": 14,
     "metadata": {},
     "output_type": "execute_result"
    }
   ],
   "source": [
    "nonsingleton_perturbed"
   ]
  },
  {
   "cell_type": "code",
   "execution_count": 70,
   "id": "62382b16",
   "metadata": {},
   "outputs": [
    {
     "name": "stdout",
     "output_type": "stream",
     "text": [
      "Index(['A8', 'A18', 'A23', 'A27', 'A42', 'A43', 'A46', 'A50', 'A51', 'A53',\n",
      "       'A55', 'A69'],\n",
      "      dtype='object')\n",
      "Index(['A1', 'A2', 'A9', 'A19', 'A23', 'A29', 'A51', 'A53', 'A70'], dtype='object')\n"
     ]
    }
   ],
   "source": []
  },
  {
   "cell_type": "code",
   "execution_count": null,
   "id": "7d5d53a0",
   "metadata": {},
   "outputs": [],
   "source": []
  },
  {
   "cell_type": "code",
   "execution_count": null,
   "id": "62052f24",
   "metadata": {},
   "outputs": [],
   "source": []
  },
  {
   "cell_type": "code",
   "execution_count": 65,
   "id": "35dacdd0",
   "metadata": {},
   "outputs": [],
   "source": [
    "def plot_pert_beta_and_reference(ax, betamat, times, order, logscale=True, vmin=-3, vmax=0, cmap='Blues',\n",
    "                                   linecolor ='#e6e6e6', linewidth=0.5, xticklabels=False, yticklabels=True,\n",
    "                                   square=False, cbar=False):\n",
    "    if logscale is True:\n",
    "        betamatrix = np.log10(betamat)\n",
    "    else:\n",
    "        betamatrix = betamat\n",
    "        \n",
    "    ax=sns.heatmap(betamatrix.loc[times,order], ax=ax, cmap=cmap, square=square, vmin=vmin, vmax=vmax, cbar=cbar,\n",
    "               linewidth=linewidth, linecolor=linecolor, xticklabels=xticklabels, yticklabels=yticklabels)\n",
    "    return ax\n"
   ]
  },
  {
   "cell_type": "code",
   "execution_count": 66,
   "id": "4a9a83bb",
   "metadata": {},
   "outputs": [
    {
     "data": {
      "image/png": "[encoded data removed]",
      "text/plain": [
       "<Figure size 640x480 with 1 Axes>"
      ]
     },
     "metadata": {},
     "output_type": "display_data"
    }
   ],
   "source": [
    "fig, ax = plt.subplots()\n",
    "ax=plot_pert_beta_and_reference(ax, avebeta, [10,18], nonsingleton_perturbed['HF'])"
   ]
  },
  {
   "cell_type": "code",
   "execution_count": null,
   "id": "57149fc4",
   "metadata": {},
   "outputs": [],
   "source": []
  },
  {
   "cell_type": "code",
   "execution_count": null,
   "id": "0ceadb62",
   "metadata": {},
   "outputs": [],
   "source": []
  },
  {
   "cell_type": "markdown",
   "id": "827e4eaf",
   "metadata": {},
   "source": [
    "# make plot"
   ]
  },
  {
   "cell_type": "code",
   "execution_count": 17,
   "id": "6d4b6596",
   "metadata": {},
   "outputs": [],
   "source": []
  },
  {
   "cell_type": "code",
   "execution_count": 51,
   "id": "35cb6426",
   "metadata": {},
   "outputs": [],
   "source": [
    "ntime_plot = 2\n",
    "# notus, ncomm = thetadf.shape"
   ]
  },
  {
   "cell_type": "code",
   "execution_count": 20,
   "id": "353ebefc",
   "metadata": {},
   "outputs": [
    {
     "data": {
      "text/plain": [
       "[10, 18, 35, 43, 57, 65, 76]"
      ]
     },
     "execution_count": 20,
     "metadata": {},
     "output_type": "execute_result"
    }
   ],
   "source": [
    "times"
   ]
  },
  {
   "cell_type": "code",
   "execution_count": 21,
   "id": "ef3b863c",
   "metadata": {},
   "outputs": [],
   "source": [
    "ptimes = [[10,18], [35,43], [57,65]]\n",
    "dnames = [['S1','HF'], ['S2', 'HFHF'], ['S3', 'LP']]"
   ]
  },
  {
   "cell_type": "markdown",
   "id": "cfe71929",
   "metadata": {},
   "source": [
    "# !take subset of taxa that are in perturbed assemblages; also zero out those below threshold...!"
   ]
  },
  {
   "cell_type": "code",
   "execution_count": 26,
   "id": "b49d4484",
   "metadata": {},
   "outputs": [],
   "source": [
    "# thetadf"
   ]
  },
  {
   "cell_type": "code",
   "execution_count": 29,
   "id": "6b42c0b0",
   "metadata": {},
   "outputs": [],
   "source": [
    "# otu_threshold"
   ]
  },
  {
   "cell_type": "code",
   "execution_count": 34,
   "id": "0af4c8ad",
   "metadata": {},
   "outputs": [],
   "source": [
    "all_assemblages = set([]) #list(set(nonsingleton_perturbed['HF'])\n",
    "for p in pnames:\n",
    "    all_assemblages = all_assemblages.union(set(nonsingleton_perturbed[p]))\n",
    "all_assemblages = list(all_assemblages)"
   ]
  },
  {
   "cell_type": "code",
   "execution_count": 52,
   "id": "8f51e5ad",
   "metadata": {},
   "outputs": [],
   "source": [
    "ncomm = len(all_assemblages)"
   ]
  },
  {
   "cell_type": "code",
   "execution_count": 41,
   "id": "d97d60e2",
   "metadata": {},
   "outputs": [],
   "source": [
    "otu_threshold = 0.05\n",
    "otu_sub = thetadf.index[(thetadf.loc[:,all_assemblages]>otu_threshold).any(axis=1)].get_level_values('Otu')\n",
    "notus = len(otu_sub)"
   ]
  },
  {
   "cell_type": "markdown",
   "id": "0a52e0d0",
   "metadata": {},
   "source": [
    "### cluster columns"
   ]
  },
  {
   "cell_type": "code",
   "execution_count": 74,
   "id": "01629115",
   "metadata": {},
   "outputs": [],
   "source": [
    "nonsingleton_perturbed_clustered = {}\n",
    "for p in pnames:\n",
    "    temp = nonsingleton_perturbed[p].copy()\n",
    "    if len(temp) > 1:\n",
    "        thetadf2 = thetadf.copy()\n",
    "        thetadf2[thetadf2<otu_threshold] = 0\n",
    "        theta_plot = np.log10(thetadf2.loc[otu_sub,temp] + 1e-20)\n",
    "        \n",
    "        col_dist = sch.linkage(theta_plot.values.T, method='ward')\n",
    "        col_order = sch.leaves_list(col_dist)\n",
    "        comm_order = np.array(temp)[col_order]\n",
    "        nonsingleton_perturbed_clustered[p] = comm_order\n",
    "    else:\n",
    "        nonsingleton_perturbed_clustered[p] = np.array(temp)"
   ]
  },
  {
   "cell_type": "code",
   "execution_count": 75,
   "id": "82ba8b39",
   "metadata": {},
   "outputs": [
    {
     "data": {
      "text/plain": [
       "{'HF': array(['A23', 'A51', 'A43', 'A50', 'A53', 'A18', 'A42', 'A46', 'A55',\n",
       "        'A69', 'A8', 'A27'], dtype=object),\n",
       " 'HFHF': array(['A70'], dtype=object),\n",
       " 'LP': array(['A29', 'A53', 'A9', 'A19', 'A23', 'A51', 'A70', 'A1', 'A2'],\n",
       "       dtype=object)}"
      ]
     },
     "execution_count": 75,
     "metadata": {},
     "output_type": "execute_result"
    }
   ],
   "source": [
    "nonsingleton_perturbed_clustered"
   ]
  },
  {
   "cell_type": "code",
   "execution_count": 73,
   "id": "c40d5516",
   "metadata": {},
   "outputs": [
    {
     "data": {
      "text/plain": [
       "Index(['Otu15', 'Otu13', 'Otu90', 'Otu12', 'Otu67', 'Otu1', 'Otu7', 'Otu43',\n",
       "       'Otu26', 'Otu63', 'Otu17', 'Otu41', 'Otu38', 'Otu20', 'Otu10', 'Otu9',\n",
       "       'Otu2', 'Otu29', 'Otu6', 'Otu3', 'Otu34'],\n",
       "      dtype='object', name='Otu')"
      ]
     },
     "execution_count": 73,
     "metadata": {},
     "output_type": "execute_result"
    }
   ],
   "source": [
    "otu_sub"
   ]
  },
  {
   "cell_type": "code",
   "execution_count": null,
   "id": "d82ae714",
   "metadata": {},
   "outputs": [],
   "source": []
  },
  {
   "cell_type": "markdown",
   "id": "8e344d4f",
   "metadata": {},
   "source": [
    "## plot"
   ]
  },
  {
   "cell_type": "code",
   "execution_count": 50,
   "id": "0021f17a",
   "metadata": {},
   "outputs": [
    {
     "data": {
      "text/plain": [
       "12"
      ]
     },
     "execution_count": 50,
     "metadata": {},
     "output_type": "execute_result"
    }
   ],
   "source": [
    "fontsize"
   ]
  },
  {
   "cell_type": "code",
   "execution_count": 55,
   "id": "d9e749f6",
   "metadata": {},
   "outputs": [],
   "source": [
    "ncomm_max = 50\n",
    "notu_max = 50\n",
    "\n",
    "tree_ratio = 0.1\n",
    "gap_ratio = 0.15"
   ]
  },
  {
   "cell_type": "code",
   "execution_count": 56,
   "id": "e837a8ee",
   "metadata": {},
   "outputs": [],
   "source": [
    "fontsize = 12\n",
    "subfontsize = 12"
   ]
  },
  {
   "cell_type": "code",
   "execution_count": 63,
   "id": "a4a4b1f4",
   "metadata": {},
   "outputs": [],
   "source": [
    "tree_text_len = 80"
   ]
  },
  {
   "cell_type": "code",
   "execution_count": 90,
   "id": "4dd10473",
   "metadata": {},
   "outputs": [],
   "source": [
    "theta_vmin=-2\n",
    "theta_vmax=0\n",
    "theta_cmap = sns.light_palette(\"green\", reverse=False, as_cmap=True)\n",
    "theta_cmap.set_under('white')"
   ]
  },
  {
   "cell_type": "code",
   "execution_count": 144,
   "id": "cfbf63cd",
   "metadata": {},
   "outputs": [],
   "source": [
    "def plot_phylo_tree(ax, tree, taxonomy, fontsize=16, text_len=41):            \n",
    "    TEXT_LEN=text_len\n",
    "    prefix_taxa = {'Species': '*', 'Genus': '**', 'Family': '***', 'Order': '****',\n",
    "                   'Class': '*****', 'Phylum': '******', 'Domain': '*******'}\n",
    "\n",
    "    Phylo.draw(tree, axes=ax, do_show=False, show_confidence=False)\n",
    "    taxa_order = []\n",
    "\n",
    "    for text in ax.texts:\n",
    "        taxonname = str(text._text).replace(' ','').capitalize()\n",
    "        otu_name = taxonname\n",
    "        taxa_order.append(otu_name)\n",
    "        name, level = vis.get_lowest_level(otu_name, taxonomy)\n",
    "        prefix = prefix_taxa[level]\n",
    "        taxonname = ' ' + prefix + ' ' + name + ' ' + otu_name\n",
    "        text._text = taxonname\n",
    "        text._text = text._text + '- ' * (TEXT_LEN - len(text._text))\n",
    "        text.set_fontsize(fontsize)\n",
    "        if (level == 'Species') or (level == 'Genus'):\n",
    "            text.set_fontstyle('italic')\n",
    "    \n",
    "    ax = vis.remove_border(ax)\n",
    "    return ax, taxa_order"
   ]
  },
  {
   "cell_type": "code",
   "execution_count": 145,
   "id": "4166f56b",
   "metadata": {},
   "outputs": [
    {
     "name": "stdout",
     "output_type": "stream",
     "text": [
      "original tree size: 1406\n",
      "pruned tree size: 21\n"
     ]
    },
    {
     "data": {
      "image/png": "[encoded data removed]",
      "text/plain": [
       "<Figure size 1700x2300 with 10 Axes>"
      ]
     },
     "metadata": {},
     "output_type": "display_data"
    }
   ],
   "source": [
    "scale=2\n",
    "\n",
    "# set aspect ratios\n",
    "# add buffers so scales always same?\n",
    "lgd_ratio = 0.05\n",
    "lgd_gap = 0.05\n",
    "\n",
    "hratios = [ntime_plot/notu_max, notus/notu_max, lgd_gap, lgd_ratio]\n",
    "hratios.append(1.0 - (ntime_plot/notu_max) - (notus/notu_max)) # buffer?\n",
    "wratios = [tree_ratio, gap_ratio]\n",
    "\n",
    "total = tree_ratio + gap_ratio\n",
    "for p in pnames:\n",
    "    wid = len(nonsingleton_perturbed[p])/ncomm_max\n",
    "    wratios.append(wid)\n",
    "    total += wid\n",
    "wratios.append(1.0 - total)\n",
    "\n",
    "# create figure\n",
    "fig = plt.figure(figsize=(8.5*scale,11.5*scale))\n",
    "gs = fig.add_gridspec(nrows=1+2+2,ncols=3 + len(pnames),\n",
    "                    height_ratios=hratios,\n",
    "                      width_ratios=wratios,\n",
    "                    wspace=0.35,\n",
    "                     hspace=0.02)\n",
    "\n",
    "# squish for centering tree\n",
    "squish_ratio = 0.01\n",
    "squish_hspace = 0\n",
    "\n",
    "# create subplots, get axes\n",
    "ax_betas = []\n",
    "ax_tree = fig.add_subplot(gs[1,0])\n",
    "gs_thetas = []\n",
    "ax_thetas = []\n",
    "for i in range(len(pnames)):\n",
    "    ax_betas.append(fig.add_subplot(gs[0,2+i]))\n",
    "    \n",
    "    gs_thetas.append(gs[1,2+i].subgridspec(3,1, height_ratios=[squish_ratio,1,squish_ratio], hspace=squish_hspace))\n",
    "    ax_thetas.append(fig.add_subplot(gs_thetas[i][1,0]))\n",
    "\n",
    "# for legend...\n",
    "gs_lgd = gs[-2,:-1].subgridspec(3,4, wspace=0.5)\n",
    "ax_taxa_lgd = fig.add_subplot(gs_lgd[:,0])\n",
    "ax_beta_lgd = fig.add_subplot(gs_lgd[0,1])\n",
    "ax_theta_lgd = fig.add_subplot(gs_lgd[0,2])\n",
    "    \n",
    "    \n",
    "# plot assemblage proportions\n",
    "for i,p in enumerate(pnames):\n",
    "    ax_betas[i] = plot_pert_beta_and_reference(ax_betas[i], avebeta, ptimes[i], nonsingleton_perturbed_clustered[p])\n",
    "    ax_betas[i].set_ylabel(\"\")\n",
    "    ax_betas[i].set_xlabel(\"\")\n",
    "    ax_betas[i].set_yticklabels(dnames[i], rotation=0, fontsize=fontsize)\n",
    "    ax_betas[i] = vis.add_border(ax_betas[i])\n",
    "\n",
    "# get data subsets\n",
    "taxa = taxonomy.reset_index()\n",
    "taxa.rename(columns={'OTU':'Otu'}, inplace=True)\n",
    "taxa_subset = taxa.set_index(\"Otu\").loc[otu_sub,:]\n",
    "tree = vis.get_pruned_tree(treepath, treefile, taxa_subset, temppath=Path(\"./_tmp_sub\"))\n",
    "\n",
    "# plot tree\n",
    "ax_tree, otu_order = vis.plot_phylo_tree(ax_tree, tree, taxonomy, fontsize=fontsize, text_len=tree_text_len)\n",
    "\n",
    "# plot assemblages\n",
    "thetadf2 = thetadf.copy()\n",
    "thetadf2[thetadf<otu_threshold] = 0\n",
    "for i,p in enumerate(pnames):\n",
    "    ax_thetas[i]=vis.plot_assemblages(ax_thetas[i], thetadf2, otu_order, \n",
    "                                      nonsingleton_perturbed_clustered[p],\n",
    "                                      cmap=theta_cmap,\n",
    "                                     vmin=theta_vmin, vmax=theta_vmax) #, cmap=extended_cmap, vmin=-3) #'Greens')\n",
    "    ax_thetas[i].set_ylabel(\"\")\n",
    "    ax_thetas[i].set_xticklabels(ax_thetas[i].get_xticklabels(), rotation=90, fontsize=subfontsize)\n",
    "    ax_thetas[i] = vis.add_border(ax_thetas[i])\n",
    "ax_thetas[1].set_xlabel(\"Spatial assemblage\", fontsize=fontsize)\n",
    "\n",
    "# plot legend\n",
    "norm = mpl.colors.Normalize(vmin=theta_vmin, vmax=theta_vmax)\n",
    "ax_theta_lgd=mpl.colorbar.ColorbarBase(ax_theta_lgd, cmap=theta_cmap, norm=norm, orientation='horizontal')\n",
    "ax_theta_lgd.ax.set_xticks([0,-1,-2])\n",
    "ax_theta_lgd.ax.set_xticklabels([r'$10^{0}$',r'$10^{-1}$',r'$10^{-2}$'])\n",
    "ax_theta_lgd.ax.set_title(\"Abundance in assemblage\")\n",
    "\n",
    "norm = mpl.colors.Normalize(vmin=-3, vmax=-0)\n",
    "ax_beta_lgd=mpl.colorbar.ColorbarBase(ax_beta_lgd, cmap=\"Blues\", norm=norm, orientation='horizontal')\n",
    "ax_beta_lgd.ax.set_xticks([0,-1,-2,-3])\n",
    "ax_beta_lgd.ax.set_xticklabels([r'$10^{0}$',r'$10^{-1}$',r'$10^{-2}$',r'$10^{-3}$'])\n",
    "ax_beta_lgd.ax.set_title(\"Assemblage proportion\")\n",
    "\n",
    "\n",
    "lgd_xpos=0.5\n",
    "lgd_ypos=1.2\n",
    "indent_xpos=lgd_xpos+0.1\n",
    "dy=0.25\n",
    "lgd_fontsize=12\n",
    "\n",
    "levels = ['Species','Genus', 'Family'] #, 'Order', 'Class', 'Phylum', 'Kingdom']      \n",
    "level_dict = {'Species': '*', 'Genus': '**', 'Family': '***'} #, 'Order': '****', 'Class': '*****', 'Phylum': '******', 'Kingdom': '*******'}\n",
    "    \n",
    "ax_taxa_lgd.text(lgd_xpos,lgd_ypos,\"Taxonomy keys\", fontsize=lgd_fontsize)\n",
    "for i,level in enumerate(levels):\n",
    "    ax_taxa_lgd.text(indent_xpos, lgd_ypos - (i+1)*dy, f\"{level_dict[level]}: {level}\", fontsize=lgd_fontsize)\n",
    "ax_taxa_lgd=vis.remove_border(ax_taxa_lgd)\n",
    "\n",
    "plt.savefig(outpath / \"mouse_perturbed_nonsingleton.png\", bbox_inches=\"tight\")"
   ]
  },
  {
   "cell_type": "code",
   "execution_count": 23,
   "id": "70e61d04",
   "metadata": {},
   "outputs": [
    {
     "data": {
      "text/plain": [
       "[0.1, 0.15, 0.12, 0.01, 0.09, 0.53]"
      ]
     },
     "execution_count": 23,
     "metadata": {},
     "output_type": "execute_result"
    }
   ],
   "source": [
    "wratios"
   ]
  },
  {
   "cell_type": "code",
   "execution_count": 24,
   "id": "893a7ad3",
   "metadata": {},
   "outputs": [
    {
     "data": {
      "text/plain": [
       "[0.016666666666666666, 0.6166666666666667, 0.3666666666666666]"
      ]
     },
     "execution_count": 24,
     "metadata": {},
     "output_type": "execute_result"
    }
   ],
   "source": [
    "hratios"
   ]
  },
  {
   "cell_type": "markdown",
   "id": "21b78f43",
   "metadata": {},
   "source": [
    "# to do:\n",
    "- get feedback, finalize scales and proportions\n",
    "- clean up script and document\n",
    "- add table for singletons (output csv file) [taxa name; abundance between perturbed diets (to 3 decimal points), [s1, hf, s2, hfhf, s3, lp]; assemblage id] = 8 columns..."
   ]
  },
  {
   "cell_type": "markdown",
   "id": "4d97b1f8",
   "metadata": {},
   "source": [
    "## CREATE CSV FILE FOR SINGLETON DATA"
   ]
  },
  {
   "cell_type": "code",
   "execution_count": 95,
   "id": "22007dcf",
   "metadata": {},
   "outputs": [
    {
     "data": {
      "text/plain": [
       "{'HF': Index(['A11', 'A15', 'A17', 'A25', 'A26', 'A31', 'A32', 'A39', 'A54', 'A57',\n",
       "        'A58', 'A60'],\n",
       "       dtype='object'),\n",
       " 'HFHF': Index(['A6', 'A24', 'A31', 'A40', 'A52', 'A65'], dtype='object'),\n",
       " 'LP': Index(['A6', 'A26', 'A52', 'A57', 'A67', 'A75'], dtype='object')}"
      ]
     },
     "execution_count": 95,
     "metadata": {},
     "output_type": "execute_result"
    }
   ],
   "source": [
    "singleton_perturbed"
   ]
  },
  {
   "cell_type": "code",
   "execution_count": 96,
   "id": "864c4ed6",
   "metadata": {},
   "outputs": [],
   "source": [
    "all_singletons = set([])\n",
    "for p in pnames:\n",
    "    all_singletons = all_singletons.union(set(singleton_perturbed[p]))\n",
    "all_singletons = list(all_singletons)"
   ]
  },
  {
   "cell_type": "code",
   "execution_count": 97,
   "id": "4c048b16",
   "metadata": {},
   "outputs": [],
   "source": [
    "otu_threshold = 0.05\n",
    "singleton_otus = thetadf.index[(thetadf.loc[:,all_singletons]>otu_threshold).any(axis=1)].get_level_values('Otu')"
   ]
  },
  {
   "cell_type": "code",
   "execution_count": 98,
   "id": "3ed34b8e",
   "metadata": {},
   "outputs": [
    {
     "data": {
      "text/plain": [
       "Index(['Otu15', 'Otu30', 'Otu33', 'Otu11', 'Otu32', 'Otu55', 'Otu1', 'Otu7',\n",
       "       'Otu26', 'Otu18', 'Otu20', 'Otu10', 'Otu51', 'Otu2', 'Otu27', 'Otu194',\n",
       "       'Otu3', 'Otu52', 'Otu39'],\n",
       "      dtype='object', name='Otu')"
      ]
     },
     "execution_count": 98,
     "metadata": {},
     "output_type": "execute_result"
    }
   ],
   "source": [
    "singleton_otus"
   ]
  },
  {
   "cell_type": "markdown",
   "id": "e8ef0c9c",
   "metadata": {},
   "source": [
    "for each otu, get lowest taxonomy name, the corresponding perturbed assemblage, which diets it was perturbed on and abundance before and after perturbation"
   ]
  },
  {
   "cell_type": "code",
   "execution_count": 110,
   "id": "b32433aa",
   "metadata": {},
   "outputs": [
    {
     "data": {
      "text/plain": [
       "Index([10, 18, 35, 43, 57, 65, 76], dtype='int64', name='Time')"
      ]
     },
     "execution_count": 110,
     "metadata": {},
     "output_type": "execute_result"
    }
   ],
   "source": [
    "avebeta.index"
   ]
  },
  {
   "cell_type": "code",
   "execution_count": 111,
   "id": "6228e71b",
   "metadata": {},
   "outputs": [],
   "source": [
    "prevdiets = {'HF': 'S1', 'HFHF': 'S2', 'LP': 'S3'}"
   ]
  },
  {
   "cell_type": "code",
   "execution_count": 112,
   "id": "8c7c036a",
   "metadata": {},
   "outputs": [],
   "source": [
    "diettimes = {'S1': 10,\n",
    "            'HF': 18,\n",
    "            'S2': 35,\n",
    "            'HFHF': 43,\n",
    "            'S3': 57,\n",
    "            'LP': 65,\n",
    "            'S4': 76}"
   ]
  },
  {
   "cell_type": "code",
   "execution_count": 119,
   "id": "556809ec",
   "metadata": {},
   "outputs": [
    {
     "name": "stdout",
     "output_type": "stream",
     "text": [
      "**Eisenbergiella\n"
     ]
    }
   ],
   "source": [
    "prefix_taxa = {'Species': '*', 'Genus': '**', 'Family': '***', 'Order': '****',\n",
    "                   'Class': '*****', 'Phylum': '******', 'Domain': '*******'}\n",
    "name, level = vis.get_lowest_level(oidx, taxonomy)\n",
    "name = prefix_taxa[level] + name\n",
    "print(name)"
   ]
  },
  {
   "cell_type": "code",
   "execution_count": 128,
   "id": "1e7f0ac1",
   "metadata": {},
   "outputs": [],
   "source": [
    "oidx = 'Otu15'\n",
    "\n",
    "otus = []\n",
    "tnames = []\n",
    "abuns = {}\n",
    "abuns['S1'] = []\n",
    "abuns['HF'] = []\n",
    "abuns['S2'] = []\n",
    "abuns['HFHF'] = []\n",
    "abuns['S3'] = []\n",
    "abuns['LP'] = []\n",
    "assems = []\n",
    "\n",
    "for oidx in singleton_otus:\n",
    "    otus.append(oidx)\n",
    "\n",
    "    prefix_taxa = {'Species': '*', 'Genus': '**', 'Family': '***', 'Order': '****',\n",
    "                       'Class': '*****', 'Phylum': '******', 'Domain': '*******'}\n",
    "    name, level = vis.get_lowest_level(oidx, taxonomy)\n",
    "    taxaname = prefix_taxa[level] + name\n",
    "    tnames.append(taxaname)\n",
    "\n",
    "    aidx = pd.Index(all_singletons)[(thetadf.loc[oidx,all_singletons]>otu_threshold).any(axis=0)]\n",
    "    if len(aidx) != 1:\n",
    "        raise ValueError(\"ERROR\")\n",
    "    assems.append(aidx[0])\n",
    "    for p in pnames:\n",
    "        prev = prevdiets[p]\n",
    "        temp = singleton_perturbed[p]\n",
    "        if aidx[0] in temp:\n",
    "            abuns[p].append(\"{:.3f}\".format(avebeta.loc[diettimes[p],aidx].values[0]))\n",
    "            abuns[prev].append(\"{:.3f}\".format(avebeta.loc[diettimes[prev],aidx].values[0]))\n",
    "        else:\n",
    "            # append '-' to pert and last standard\n",
    "            abuns[p].append(' ')\n",
    "            abuns[prev].append(' ')"
   ]
  },
  {
   "cell_type": "code",
   "execution_count": 129,
   "id": "236990c9",
   "metadata": {},
   "outputs": [],
   "source": [
    "singletondf = pd.DataFrame({'Otu': otus,\n",
    "                            'Name': tnames,\n",
    "                            'S1': abuns['S1'],\n",
    "                            'HF': abuns['HF'],\n",
    "                            'S2': abuns['S2'],\n",
    "                            'HFHF': abuns['HFHF'],\n",
    "                            'S3': abuns['S3'],\n",
    "                            'LP': abuns['LP'],\n",
    "                            'Assemblage': assems})"
   ]
  },
  {
   "cell_type": "code",
   "execution_count": 130,
   "id": "34d1622a",
   "metadata": {},
   "outputs": [
    {
     "data": {
      "text/html": [
       "<div>\n",
       "<style scoped>\n",
       "    .dataframe tbody tr th:only-of-type {\n",
       "        vertical-align: middle;\n",
       "    }\n",
       "\n",
       "    .dataframe tbody tr th {\n",
       "        vertical-align: top;\n",
       "    }\n",
       "\n",
       "    .dataframe thead th {\n",
       "        text-align: right;\n",
       "    }\n",
       "</style>\n",
       "<table border=\"1\" class=\"dataframe\">\n",
       "  <thead>\n",
       "    <tr style=\"text-align: right;\">\n",
       "      <th></th>\n",
       "      <th>Otu</th>\n",
       "      <th>Name</th>\n",
       "      <th>S1</th>\n",
       "      <th>HF</th>\n",
       "      <th>S2</th>\n",
       "      <th>HFHF</th>\n",
       "      <th>S3</th>\n",
       "      <th>LP</th>\n",
       "      <th>Assemblage</th>\n",
       "    </tr>\n",
       "  </thead>\n",
       "  <tbody>\n",
       "    <tr>\n",
       "      <th>0</th>\n",
       "      <td>Otu15</td>\n",
       "      <td>**Eisenbergiella</td>\n",
       "      <td></td>\n",
       "      <td></td>\n",
       "      <td>0.002</td>\n",
       "      <td>0.060</td>\n",
       "      <td></td>\n",
       "      <td></td>\n",
       "      <td>A24</td>\n",
       "    </tr>\n",
       "    <tr>\n",
       "      <th>1</th>\n",
       "      <td>Otu30</td>\n",
       "      <td>***Lachnospiraceae</td>\n",
       "      <td>0.005</td>\n",
       "      <td>0.000</td>\n",
       "      <td>0.003</td>\n",
       "      <td>0.069</td>\n",
       "      <td></td>\n",
       "      <td></td>\n",
       "      <td>A31</td>\n",
       "    </tr>\n",
       "    <tr>\n",
       "      <th>2</th>\n",
       "      <td>Otu33</td>\n",
       "      <td>**Porphyromonas</td>\n",
       "      <td>0.022</td>\n",
       "      <td>0.000</td>\n",
       "      <td></td>\n",
       "      <td></td>\n",
       "      <td></td>\n",
       "      <td></td>\n",
       "      <td>A39</td>\n",
       "    </tr>\n",
       "    <tr>\n",
       "      <th>3</th>\n",
       "      <td>Otu11</td>\n",
       "      <td>**Adlercreutzia</td>\n",
       "      <td>0.027</td>\n",
       "      <td>0.002</td>\n",
       "      <td></td>\n",
       "      <td></td>\n",
       "      <td></td>\n",
       "      <td></td>\n",
       "      <td>A11</td>\n",
       "    </tr>\n",
       "    <tr>\n",
       "      <th>4</th>\n",
       "      <td>Otu32</td>\n",
       "      <td>***Lachnospiraceae</td>\n",
       "      <td>0.002</td>\n",
       "      <td>0.040</td>\n",
       "      <td></td>\n",
       "      <td></td>\n",
       "      <td></td>\n",
       "      <td></td>\n",
       "      <td>A58</td>\n",
       "    </tr>\n",
       "    <tr>\n",
       "      <th>5</th>\n",
       "      <td>Otu55</td>\n",
       "      <td>**Acutalibacter</td>\n",
       "      <td>0.003</td>\n",
       "      <td>0.000</td>\n",
       "      <td></td>\n",
       "      <td></td>\n",
       "      <td></td>\n",
       "      <td></td>\n",
       "      <td>A25</td>\n",
       "    </tr>\n",
       "    <tr>\n",
       "      <th>6</th>\n",
       "      <td>Otu1</td>\n",
       "      <td>**Lactobacillus</td>\n",
       "      <td></td>\n",
       "      <td></td>\n",
       "      <td></td>\n",
       "      <td></td>\n",
       "      <td>0.153</td>\n",
       "      <td>0.013</td>\n",
       "      <td>A67</td>\n",
       "    </tr>\n",
       "    <tr>\n",
       "      <th>7</th>\n",
       "      <td>Otu7</td>\n",
       "      <td>**Clostridium_XlVa</td>\n",
       "      <td>0.002</td>\n",
       "      <td>0.106</td>\n",
       "      <td></td>\n",
       "      <td></td>\n",
       "      <td>0.006</td>\n",
       "      <td>0.045</td>\n",
       "      <td>A57</td>\n",
       "    </tr>\n",
       "    <tr>\n",
       "      <th>8</th>\n",
       "      <td>Otu26</td>\n",
       "      <td>**Lacrimispora</td>\n",
       "      <td>0.001</td>\n",
       "      <td>0.022</td>\n",
       "      <td></td>\n",
       "      <td></td>\n",
       "      <td></td>\n",
       "      <td></td>\n",
       "      <td>A17</td>\n",
       "    </tr>\n",
       "    <tr>\n",
       "      <th>9</th>\n",
       "      <td>Otu18</td>\n",
       "      <td>**Eisenbergiella</td>\n",
       "      <td></td>\n",
       "      <td></td>\n",
       "      <td>0.014</td>\n",
       "      <td>0.052</td>\n",
       "      <td></td>\n",
       "      <td></td>\n",
       "      <td>A65</td>\n",
       "    </tr>\n",
       "    <tr>\n",
       "      <th>10</th>\n",
       "      <td>Otu20</td>\n",
       "      <td>*Muribaculum gordoncarteri</td>\n",
       "      <td></td>\n",
       "      <td></td>\n",
       "      <td></td>\n",
       "      <td></td>\n",
       "      <td>0.005</td>\n",
       "      <td>0.036</td>\n",
       "      <td>A75</td>\n",
       "    </tr>\n",
       "    <tr>\n",
       "      <th>11</th>\n",
       "      <td>Otu10</td>\n",
       "      <td>*Faecalibaculum rodentium</td>\n",
       "      <td></td>\n",
       "      <td></td>\n",
       "      <td>0.001</td>\n",
       "      <td>0.026</td>\n",
       "      <td>0.013</td>\n",
       "      <td>0.044</td>\n",
       "      <td>A6</td>\n",
       "    </tr>\n",
       "    <tr>\n",
       "      <th>12</th>\n",
       "      <td>Otu51</td>\n",
       "      <td>**Marvinbryantia</td>\n",
       "      <td>0.001</td>\n",
       "      <td>0.025</td>\n",
       "      <td></td>\n",
       "      <td></td>\n",
       "      <td></td>\n",
       "      <td></td>\n",
       "      <td>A32</td>\n",
       "    </tr>\n",
       "    <tr>\n",
       "      <th>13</th>\n",
       "      <td>Otu2</td>\n",
       "      <td>**Akkermansia</td>\n",
       "      <td></td>\n",
       "      <td></td>\n",
       "      <td>0.023</td>\n",
       "      <td>0.396</td>\n",
       "      <td>0.002</td>\n",
       "      <td>0.198</td>\n",
       "      <td>A52</td>\n",
       "    </tr>\n",
       "    <tr>\n",
       "      <th>14</th>\n",
       "      <td>Otu27</td>\n",
       "      <td>***Lachnospiraceae</td>\n",
       "      <td>0.002</td>\n",
       "      <td>0.000</td>\n",
       "      <td></td>\n",
       "      <td></td>\n",
       "      <td></td>\n",
       "      <td></td>\n",
       "      <td>A54</td>\n",
       "    </tr>\n",
       "    <tr>\n",
       "      <th>15</th>\n",
       "      <td>Otu194</td>\n",
       "      <td>**Lactobacillus</td>\n",
       "      <td></td>\n",
       "      <td></td>\n",
       "      <td>0.002</td>\n",
       "      <td>0.025</td>\n",
       "      <td></td>\n",
       "      <td></td>\n",
       "      <td>A40</td>\n",
       "    </tr>\n",
       "    <tr>\n",
       "      <th>16</th>\n",
       "      <td>Otu3</td>\n",
       "      <td>**Turicibacter</td>\n",
       "      <td>0.077</td>\n",
       "      <td>0.012</td>\n",
       "      <td></td>\n",
       "      <td></td>\n",
       "      <td></td>\n",
       "      <td></td>\n",
       "      <td>A60</td>\n",
       "    </tr>\n",
       "    <tr>\n",
       "      <th>17</th>\n",
       "      <td>Otu52</td>\n",
       "      <td>**Anaerocolumna</td>\n",
       "      <td>0.002</td>\n",
       "      <td>0.000</td>\n",
       "      <td></td>\n",
       "      <td></td>\n",
       "      <td></td>\n",
       "      <td></td>\n",
       "      <td>A15</td>\n",
       "    </tr>\n",
       "    <tr>\n",
       "      <th>18</th>\n",
       "      <td>Otu39</td>\n",
       "      <td>**Anaerostipes</td>\n",
       "      <td>0.004</td>\n",
       "      <td>0.000</td>\n",
       "      <td></td>\n",
       "      <td></td>\n",
       "      <td>0.022</td>\n",
       "      <td>0.000</td>\n",
       "      <td>A26</td>\n",
       "    </tr>\n",
       "  </tbody>\n",
       "</table>\n",
       "</div>"
      ],
      "text/plain": [
       "       Otu                        Name     S1     HF     S2   HFHF     S3  \\\n",
       "0    Otu15            **Eisenbergiella                0.002  0.060          \n",
       "1    Otu30          ***Lachnospiraceae  0.005  0.000  0.003  0.069          \n",
       "2    Otu33             **Porphyromonas  0.022  0.000                        \n",
       "3    Otu11             **Adlercreutzia  0.027  0.002                        \n",
       "4    Otu32          ***Lachnospiraceae  0.002  0.040                        \n",
       "5    Otu55             **Acutalibacter  0.003  0.000                        \n",
       "6     Otu1             **Lactobacillus                              0.153   \n",
       "7     Otu7          **Clostridium_XlVa  0.002  0.106                0.006   \n",
       "8    Otu26              **Lacrimispora  0.001  0.022                        \n",
       "9    Otu18            **Eisenbergiella                0.014  0.052          \n",
       "10   Otu20  *Muribaculum gordoncarteri                              0.005   \n",
       "11   Otu10   *Faecalibaculum rodentium                0.001  0.026  0.013   \n",
       "12   Otu51            **Marvinbryantia  0.001  0.025                        \n",
       "13    Otu2               **Akkermansia                0.023  0.396  0.002   \n",
       "14   Otu27          ***Lachnospiraceae  0.002  0.000                        \n",
       "15  Otu194             **Lactobacillus                0.002  0.025          \n",
       "16    Otu3              **Turicibacter  0.077  0.012                        \n",
       "17   Otu52             **Anaerocolumna  0.002  0.000                        \n",
       "18   Otu39              **Anaerostipes  0.004  0.000                0.022   \n",
       "\n",
       "       LP Assemblage  \n",
       "0                A24  \n",
       "1                A31  \n",
       "2                A39  \n",
       "3                A11  \n",
       "4                A58  \n",
       "5                A25  \n",
       "6   0.013        A67  \n",
       "7   0.045        A57  \n",
       "8                A17  \n",
       "9                A65  \n",
       "10  0.036        A75  \n",
       "11  0.044         A6  \n",
       "12               A32  \n",
       "13  0.198        A52  \n",
       "14               A54  \n",
       "15               A40  \n",
       "16               A60  \n",
       "17               A15  \n",
       "18  0.000        A26  "
      ]
     },
     "execution_count": 130,
     "metadata": {},
     "output_type": "execute_result"
    }
   ],
   "source": [
    "singletondf"
   ]
  },
  {
   "cell_type": "code",
   "execution_count": 124,
   "id": "5f4847c6",
   "metadata": {},
   "outputs": [
    {
     "data": {
      "text/plain": [
       "'0.123'"
      ]
     },
     "execution_count": 124,
     "metadata": {},
     "output_type": "execute_result"
    }
   ],
   "source": [
    "\"{:.3f}\".format(0.123456789)"
   ]
  },
  {
   "cell_type": "code",
   "execution_count": 131,
   "id": "23073b19",
   "metadata": {},
   "outputs": [],
   "source": [
    "singletondf.to_csv(outpath / \"singleton_perturbed.csv\")"
   ]
  },
  {
   "cell_type": "markdown",
   "id": "5564e7d6",
   "metadata": {},
   "source": [
    "# TO DO:\n",
    "- italicize below family"
   ]
  },
  {
   "cell_type": "code",
   "execution_count": null,
   "id": "a10cddda",
   "metadata": {},
   "outputs": [],
   "source": []
  }
 ],
 "metadata": {
  "kernelspec": {
   "display_name": "Python [conda env:mcfinal]",
   "language": "python",
   "name": "conda-env-mcfinal-py"
  },
  "language_info": {
   "codemirror_mode": {
    "name": "ipython",
    "version": 3
   },
   "file_extension": ".py",
   "mimetype": "text/x-python",
   "name": "python",
   "nbconvert_exporter": "python",
   "pygments_lexer": "ipython3",
   "version": "3.10.14"
  }
 },
 "nbformat": 4,
 "nbformat_minor": 5
}
