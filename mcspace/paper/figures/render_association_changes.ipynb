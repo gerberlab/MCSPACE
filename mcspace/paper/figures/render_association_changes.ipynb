{
 "cells": [
  {
   "cell_type": "code",
   "execution_count": 1,
   "id": "86ba61fe",
   "metadata": {},
   "outputs": [],
   "source": [
    "import numpy as np\n",
    "import torch\n",
    "from mcspace.model import MCSPACE\n",
    "from mcspace.trainer import train_model\n",
    "from mcspace.data_utils import get_data, get_mouse_diet_perturbations_dataset\n",
    "from mcspace.utils import get_device, pickle_load, pickle_save,\\\n",
    "    estimate_process_variance, MODEL_FILE, DATA_FILE, \\\n",
    "    get_mcspace_cooccur_prob, get_sig_perturbation_diff_subset, \\\n",
    "    get_posterior_summary_data, get_pert_otu_sub, get_min_loss_path, apply_taxonomy_threshold, \\\n",
    "    get_summary_results\n",
    "from pathlib import Path\n",
    "import matplotlib.pyplot as plt\n",
    "import matplotlib as mpl\n",
    "import seaborn as sns\n",
    "import mcspace.visualization as vis\n",
    "from mcspace.dataset import DataSet\n",
    "import pandas as pd\n",
    "\n",
    "import ete3\n",
    "from Bio import SeqIO, Phylo\n",
    "\n",
    "import mcspace.vis_tools as vis\n",
    "import matplotlib.colors as mcolors\n",
    "import networkx as nx"
   ]
  },
  {
   "cell_type": "code",
   "execution_count": 2,
   "id": "d1020f39",
   "metadata": {},
   "outputs": [],
   "source": [
    "# change font\n",
    "mpl.rcParams['font.sans-serif'] = \"Arial\"\n",
    "mpl.rcParams['font.family'] = \"sans-serif\""
   ]
  },
  {
   "cell_type": "markdown",
   "id": "f22e3736",
   "metadata": {},
   "source": [
    "# Paths"
   ]
  },
  {
   "cell_type": "code",
   "execution_count": 3,
   "id": "7d847b3e",
   "metadata": {},
   "outputs": [],
   "source": [
    "rootpath = Path(\"../../\")\n",
    "basepath = Path(\"./\")"
   ]
  },
  {
   "cell_type": "code",
   "execution_count": 4,
   "id": "83f30e5e",
   "metadata": {},
   "outputs": [],
   "source": [
    "runpath = rootpath / \"paper\" / \"mouse_runs\" / \"runs\""
   ]
  },
  {
   "cell_type": "code",
   "execution_count": 5,
   "id": "c3cdf204",
   "metadata": {},
   "outputs": [],
   "source": [
    "treepath = rootpath / \"data\" / \"mouse_experiments\" / \"output\" # *** rename this\n",
    "treefile = \"newick_tree_query_reads.nhx\""
   ]
  },
  {
   "cell_type": "code",
   "execution_count": 6,
   "id": "9b9b2fb7",
   "metadata": {},
   "outputs": [],
   "source": [
    "outpath = basepath / \"figs_mouse_results\"\n",
    "outpath.mkdir(exist_ok=True, parents=True)"
   ]
  },
  {
   "cell_type": "markdown",
   "id": "93749d76",
   "metadata": {},
   "source": [
    "# Load best model"
   ]
  },
  {
   "cell_type": "code",
   "execution_count": 7,
   "id": "e520ba9a",
   "metadata": {},
   "outputs": [
    {
     "name": "stdout",
     "output_type": "stream",
     "text": [
      "0\n",
      "1\n",
      "2\n",
      "3\n",
      "4\n",
      "5\n",
      "6\n",
      "7\n",
      "8\n",
      "9\n",
      "4\n"
     ]
    }
   ],
   "source": [
    "respath = get_min_loss_path(runpath, np.arange(10))\n",
    "\n",
    "model = torch.load(respath / MODEL_FILE)\n",
    "data = pickle_load(respath / DATA_FILE)\n",
    "\n",
    "taxonomy = pickle_load(respath / \"taxonomy.pkl\")\n",
    "\n",
    "times = list(data['count_data'].keys())\n",
    "subjects = list(data['count_data'][10].keys())\n",
    "num_otus = data['count_data'][times[0]][subjects[0]].shape[1]\n",
    "num_times = len(times)\n",
    "num_subjects = len(subjects)"
   ]
  },
  {
   "cell_type": "code",
   "execution_count": 8,
   "id": "7aa55b2a",
   "metadata": {},
   "outputs": [],
   "source": [
    "taxonomy = apply_taxonomy_threshold(taxonomy)\n",
    "\n",
    "# do beforehand..\n",
    "name_updates = {'Otu10': {'Species': 'Faecalibaculum rodentium'},\n",
    "'Otu17': {'Genus': 'Roseburia'},\n",
    "'Otu6': {'Species': 'Eubacterium coprostanoligenes'},\n",
    "'Otu20': {'Species': 'Muribaculum gordoncarteri'},\n",
    "'Otu15': {'Genus': 'Eisenbergiella'},\n",
    "'Otu43': {'Family': 'Lachnospiraceae'}}\n",
    "\n",
    "taxonomy['Species'] = 'na'\n",
    "for oidx in name_updates.keys():\n",
    "    replace = name_updates[oidx]\n",
    "    key = list(replace.keys())[0]\n",
    "    newname = replace[key]\n",
    "    taxonomy.loc[oidx,key] = newname"
   ]
  },
  {
   "cell_type": "markdown",
   "id": "f7fa5d2d",
   "metadata": {},
   "source": [
    "# Get summary results"
   ]
  },
  {
   "cell_type": "code",
   "execution_count": 9,
   "id": "c08ce15d",
   "metadata": {},
   "outputs": [],
   "source": [
    "thetadf, betadf, pertsdf = get_posterior_summary_data(model, data, taxonomy, times, subjects)"
   ]
  },
  {
   "cell_type": "markdown",
   "id": "0455e8d0",
   "metadata": {},
   "source": [
    "# Render association changes"
   ]
  },
  {
   "cell_type": "markdown",
   "id": "1098880a",
   "metadata": {},
   "source": [
    "## methods (move to vis utils...)"
   ]
  },
  {
   "cell_type": "code",
   "execution_count": 10,
   "id": "70a8911d",
   "metadata": {},
   "outputs": [],
   "source": [
    "# def get key focus taxa...\n",
    "taxa_foci = ['Otu2', 'Otu6']"
   ]
  },
  {
   "cell_type": "markdown",
   "id": "93e5710b",
   "metadata": {},
   "source": [
    "## get associated assemblages and taxa..."
   ]
  },
  {
   "cell_type": "code",
   "execution_count": null,
   "id": "88daff27",
   "metadata": {},
   "outputs": [],
   "source": []
  },
  {
   "cell_type": "code",
   "execution_count": 11,
   "id": "f9a02afe",
   "metadata": {},
   "outputs": [],
   "source": [
    "otu_threshold = 0.05\n"
   ]
  },
  {
   "cell_type": "code",
   "execution_count": 12,
   "id": "7320f22f",
   "metadata": {},
   "outputs": [],
   "source": [
    "def get_assemblages_containing_taxon(thetadf, oidx, otu_threshold=0.05):\n",
    "    thetasub = thetadf.loc[thetadf.index.get_level_values('Otu') == oidx,:]\n",
    "    assemblages = thetasub.columns[(thetasub > otu_threshold).any(axis=0)]\n",
    "    return assemblages"
   ]
  },
  {
   "cell_type": "code",
   "execution_count": 13,
   "id": "a53c4f26",
   "metadata": {},
   "outputs": [],
   "source": [
    "assemblages = get_assemblages_containing_taxon(thetadf, 'Otu2')"
   ]
  },
  {
   "cell_type": "code",
   "execution_count": 14,
   "id": "9e72f69b",
   "metadata": {},
   "outputs": [],
   "source": [
    "def get_taxa_in_assemblages(thetadf, assemblages, otu_threshold=0.05):\n",
    "    otus = thetadf.index[(thetadf.loc[:,assemblages]>otu_threshold).any(axis=1)].get_level_values('Otu')\n",
    "    return otus"
   ]
  },
  {
   "cell_type": "code",
   "execution_count": 15,
   "id": "1df3e4ac",
   "metadata": {},
   "outputs": [],
   "source": [
    "otus = get_taxa_in_assemblages(thetadf, assemblages)"
   ]
  },
  {
   "cell_type": "code",
   "execution_count": 16,
   "id": "d1e9c072",
   "metadata": {},
   "outputs": [
    {
     "data": {
      "text/plain": [
       "Index(['Otu15', 'Otu12', 'Otu67', 'Otu1', 'Otu7', 'Otu17', 'Otu41', 'Otu38',\n",
       "       'Otu20', 'Otu10', 'Otu2', 'Otu29', 'Otu6'],\n",
       "      dtype='object', name='Otu')"
      ]
     },
     "execution_count": 16,
     "metadata": {},
     "output_type": "execute_result"
    }
   ],
   "source": [
    "otus"
   ]
  },
  {
   "cell_type": "code",
   "execution_count": 17,
   "id": "fce06435",
   "metadata": {},
   "outputs": [
    {
     "data": {
      "text/html": [
       "<div>\n",
       "<style scoped>\n",
       "    .dataframe tbody tr th:only-of-type {\n",
       "        vertical-align: middle;\n",
       "    }\n",
       "\n",
       "    .dataframe tbody tr th {\n",
       "        vertical-align: top;\n",
       "    }\n",
       "\n",
       "    .dataframe thead th {\n",
       "        text-align: right;\n",
       "    }\n",
       "</style>\n",
       "<table border=\"1\" class=\"dataframe\">\n",
       "  <thead>\n",
       "    <tr style=\"text-align: right;\">\n",
       "      <th></th>\n",
       "      <th>Time</th>\n",
       "      <th>Subject</th>\n",
       "      <th>Assemblage</th>\n",
       "      <th>Value</th>\n",
       "      <th>log10Value</th>\n",
       "    </tr>\n",
       "  </thead>\n",
       "  <tbody>\n",
       "    <tr>\n",
       "      <th>0</th>\n",
       "      <td>10</td>\n",
       "      <td>JX07</td>\n",
       "      <td>A1</td>\n",
       "      <td>0.000394</td>\n",
       "      <td>-3.404146</td>\n",
       "    </tr>\n",
       "    <tr>\n",
       "      <th>1</th>\n",
       "      <td>10</td>\n",
       "      <td>JX07</td>\n",
       "      <td>A2</td>\n",
       "      <td>0.000474</td>\n",
       "      <td>-3.324155</td>\n",
       "    </tr>\n",
       "    <tr>\n",
       "      <th>2</th>\n",
       "      <td>10</td>\n",
       "      <td>JX07</td>\n",
       "      <td>A3</td>\n",
       "      <td>0.000331</td>\n",
       "      <td>-3.479800</td>\n",
       "    </tr>\n",
       "    <tr>\n",
       "      <th>3</th>\n",
       "      <td>10</td>\n",
       "      <td>JX07</td>\n",
       "      <td>A4</td>\n",
       "      <td>0.001311</td>\n",
       "      <td>-2.882305</td>\n",
       "    </tr>\n",
       "    <tr>\n",
       "      <th>4</th>\n",
       "      <td>10</td>\n",
       "      <td>JX07</td>\n",
       "      <td>A5</td>\n",
       "      <td>0.000457</td>\n",
       "      <td>-3.339711</td>\n",
       "    </tr>\n",
       "    <tr>\n",
       "      <th>...</th>\n",
       "      <td>...</td>\n",
       "      <td>...</td>\n",
       "      <td>...</td>\n",
       "      <td>...</td>\n",
       "      <td>...</td>\n",
       "    </tr>\n",
       "    <tr>\n",
       "      <th>1591</th>\n",
       "      <td>76</td>\n",
       "      <td>JX10</td>\n",
       "      <td>A72</td>\n",
       "      <td>0.029808</td>\n",
       "      <td>-1.525661</td>\n",
       "    </tr>\n",
       "    <tr>\n",
       "      <th>1592</th>\n",
       "      <td>76</td>\n",
       "      <td>JX10</td>\n",
       "      <td>A73</td>\n",
       "      <td>0.059759</td>\n",
       "      <td>-1.223600</td>\n",
       "    </tr>\n",
       "    <tr>\n",
       "      <th>1593</th>\n",
       "      <td>76</td>\n",
       "      <td>JX10</td>\n",
       "      <td>A74</td>\n",
       "      <td>0.006094</td>\n",
       "      <td>-2.215118</td>\n",
       "    </tr>\n",
       "    <tr>\n",
       "      <th>1594</th>\n",
       "      <td>76</td>\n",
       "      <td>JX10</td>\n",
       "      <td>A75</td>\n",
       "      <td>0.000333</td>\n",
       "      <td>-3.477357</td>\n",
       "    </tr>\n",
       "    <tr>\n",
       "      <th>1595</th>\n",
       "      <td>76</td>\n",
       "      <td>JX10</td>\n",
       "      <td>A76</td>\n",
       "      <td>0.000058</td>\n",
       "      <td>-4.233602</td>\n",
       "    </tr>\n",
       "  </tbody>\n",
       "</table>\n",
       "<p>1596 rows × 5 columns</p>\n",
       "</div>"
      ],
      "text/plain": [
       "      Time Subject Assemblage     Value  log10Value\n",
       "0       10    JX07         A1  0.000394   -3.404146\n",
       "1       10    JX07         A2  0.000474   -3.324155\n",
       "2       10    JX07         A3  0.000331   -3.479800\n",
       "3       10    JX07         A4  0.001311   -2.882305\n",
       "4       10    JX07         A5  0.000457   -3.339711\n",
       "...    ...     ...        ...       ...         ...\n",
       "1591    76    JX10        A72  0.029808   -1.525661\n",
       "1592    76    JX10        A73  0.059759   -1.223600\n",
       "1593    76    JX10        A74  0.006094   -2.215118\n",
       "1594    76    JX10        A75  0.000333   -3.477357\n",
       "1595    76    JX10        A76  0.000058   -4.233602\n",
       "\n",
       "[1596 rows x 5 columns]"
      ]
     },
     "execution_count": 17,
     "metadata": {},
     "output_type": "execute_result"
    }
   ],
   "source": [
    "betadf"
   ]
  },
  {
   "cell_type": "code",
   "execution_count": 18,
   "id": "5113ead7",
   "metadata": {},
   "outputs": [],
   "source": [
    "def get_subj_averaged_assemblage_proportions(betadf):\n",
    "    subjave = betadf.loc[:,['Time','Assemblage','Value']].groupby(by=['Time','Assemblage']).mean()\n",
    "    subjave.reset_index(inplace=True)\n",
    "    betamat = subjave.pivot(index='Time', columns='Assemblage', values='Value')\n",
    "    return betamat"
   ]
  },
  {
   "cell_type": "code",
   "execution_count": 19,
   "id": "4d1f491d",
   "metadata": {},
   "outputs": [],
   "source": [
    "avebeta = get_subj_averaged_assemblage_proportions(betadf)"
   ]
  },
  {
   "cell_type": "code",
   "execution_count": 20,
   "id": "ed1aabb8",
   "metadata": {},
   "outputs": [],
   "source": [
    "# using subject averaged beta... (check if this ok; might actually want to change slightly....)\n",
    "# get for each time point; later average over standard times...\n",
    "def get_edge_weights(thetadf, avebeta, otu_focus, otus_assoc):\n",
    "    times = avebeta.index\n",
    "    assemblages = thetadf.columns\n",
    "    thetasimp = thetadf.reset_index()[['Otu'] + list(assemblages)].set_index('Otu')\n",
    "    \n",
    "    theta_self = thetasimp.loc[otu_focus,:].values # 1xK\n",
    "    theta_assoc = thetasimp.loc[otus_assoc,:].values # OxK\n",
    "    betavals = avebeta.loc[:,assemblages].values # ntime x K\n",
    "    \n",
    "    numerator = np.sum(betavals[:,None,:]*theta_assoc*theta_self, axis=-1)\n",
    "    denominator = np.sum(betavals[:,None,:]*theta_self, axis=-1)\n",
    "    \n",
    "    edgevals = numerator/denominator\n",
    "    df = pd.DataFrame(edgevals, index=times, columns=otus_assoc)\n",
    "    return df.T"
   ]
  },
  {
   "cell_type": "code",
   "execution_count": 21,
   "id": "a60281bb",
   "metadata": {},
   "outputs": [],
   "source": [
    "edge_weights = get_edge_weights(thetadf, avebeta, 'Otu2', otus)"
   ]
  },
  {
   "cell_type": "code",
   "execution_count": 22,
   "id": "e0e5c555",
   "metadata": {},
   "outputs": [
    {
     "data": {
      "text/html": [
       "<div>\n",
       "<style scoped>\n",
       "    .dataframe tbody tr th:only-of-type {\n",
       "        vertical-align: middle;\n",
       "    }\n",
       "\n",
       "    .dataframe tbody tr th {\n",
       "        vertical-align: top;\n",
       "    }\n",
       "\n",
       "    .dataframe thead th {\n",
       "        text-align: right;\n",
       "    }\n",
       "</style>\n",
       "<table border=\"1\" class=\"dataframe\">\n",
       "  <thead>\n",
       "    <tr style=\"text-align: right;\">\n",
       "      <th>Time</th>\n",
       "      <th>10</th>\n",
       "      <th>18</th>\n",
       "      <th>35</th>\n",
       "      <th>43</th>\n",
       "      <th>57</th>\n",
       "      <th>65</th>\n",
       "      <th>76</th>\n",
       "    </tr>\n",
       "    <tr>\n",
       "      <th>Otu</th>\n",
       "      <th></th>\n",
       "      <th></th>\n",
       "      <th></th>\n",
       "      <th></th>\n",
       "      <th></th>\n",
       "      <th></th>\n",
       "      <th></th>\n",
       "    </tr>\n",
       "  </thead>\n",
       "  <tbody>\n",
       "    <tr>\n",
       "      <th>Otu15</th>\n",
       "      <td>0.000905</td>\n",
       "      <td>0.002534</td>\n",
       "      <td>0.000519</td>\n",
       "      <td>0.000563</td>\n",
       "      <td>0.002378</td>\n",
       "      <td>0.004558</td>\n",
       "      <td>0.002984</td>\n",
       "    </tr>\n",
       "    <tr>\n",
       "      <th>Otu12</th>\n",
       "      <td>0.003600</td>\n",
       "      <td>0.004482</td>\n",
       "      <td>0.003625</td>\n",
       "      <td>0.000543</td>\n",
       "      <td>0.008570</td>\n",
       "      <td>0.004756</td>\n",
       "      <td>0.006065</td>\n",
       "    </tr>\n",
       "    <tr>\n",
       "      <th>Otu67</th>\n",
       "      <td>0.002259</td>\n",
       "      <td>0.020988</td>\n",
       "      <td>0.003364</td>\n",
       "      <td>0.000158</td>\n",
       "      <td>0.016967</td>\n",
       "      <td>0.000721</td>\n",
       "      <td>0.065444</td>\n",
       "    </tr>\n",
       "    <tr>\n",
       "      <th>Otu1</th>\n",
       "      <td>0.027919</td>\n",
       "      <td>0.005964</td>\n",
       "      <td>0.051851</td>\n",
       "      <td>0.000932</td>\n",
       "      <td>0.055912</td>\n",
       "      <td>0.000971</td>\n",
       "      <td>0.030901</td>\n",
       "    </tr>\n",
       "    <tr>\n",
       "      <th>Otu7</th>\n",
       "      <td>0.004970</td>\n",
       "      <td>0.013746</td>\n",
       "      <td>0.002863</td>\n",
       "      <td>0.001980</td>\n",
       "      <td>0.012943</td>\n",
       "      <td>0.021404</td>\n",
       "      <td>0.014071</td>\n",
       "    </tr>\n",
       "    <tr>\n",
       "      <th>Otu17</th>\n",
       "      <td>0.001687</td>\n",
       "      <td>0.013497</td>\n",
       "      <td>0.001597</td>\n",
       "      <td>0.000320</td>\n",
       "      <td>0.006256</td>\n",
       "      <td>0.006726</td>\n",
       "      <td>0.014799</td>\n",
       "    </tr>\n",
       "    <tr>\n",
       "      <th>Otu41</th>\n",
       "      <td>0.003048</td>\n",
       "      <td>0.025054</td>\n",
       "      <td>0.006777</td>\n",
       "      <td>0.000542</td>\n",
       "      <td>0.020172</td>\n",
       "      <td>0.002207</td>\n",
       "      <td>0.036976</td>\n",
       "    </tr>\n",
       "    <tr>\n",
       "      <th>Otu38</th>\n",
       "      <td>0.023119</td>\n",
       "      <td>0.003973</td>\n",
       "      <td>0.006840</td>\n",
       "      <td>0.000387</td>\n",
       "      <td>0.015883</td>\n",
       "      <td>0.008746</td>\n",
       "      <td>0.001448</td>\n",
       "    </tr>\n",
       "    <tr>\n",
       "      <th>Otu20</th>\n",
       "      <td>0.009181</td>\n",
       "      <td>0.002370</td>\n",
       "      <td>0.003901</td>\n",
       "      <td>0.000545</td>\n",
       "      <td>0.031337</td>\n",
       "      <td>0.009483</td>\n",
       "      <td>0.039529</td>\n",
       "    </tr>\n",
       "    <tr>\n",
       "      <th>Otu10</th>\n",
       "      <td>0.003453</td>\n",
       "      <td>0.006845</td>\n",
       "      <td>0.001295</td>\n",
       "      <td>0.001803</td>\n",
       "      <td>0.026431</td>\n",
       "      <td>0.018160</td>\n",
       "      <td>0.005493</td>\n",
       "    </tr>\n",
       "    <tr>\n",
       "      <th>Otu2</th>\n",
       "      <td>0.809278</td>\n",
       "      <td>0.783204</td>\n",
       "      <td>0.813951</td>\n",
       "      <td>0.975116</td>\n",
       "      <td>0.442178</td>\n",
       "      <td>0.862574</td>\n",
       "      <td>0.374966</td>\n",
       "    </tr>\n",
       "    <tr>\n",
       "      <th>Otu29</th>\n",
       "      <td>0.009814</td>\n",
       "      <td>0.028107</td>\n",
       "      <td>0.001209</td>\n",
       "      <td>0.000115</td>\n",
       "      <td>0.006530</td>\n",
       "      <td>0.008604</td>\n",
       "      <td>0.010102</td>\n",
       "    </tr>\n",
       "    <tr>\n",
       "      <th>Otu6</th>\n",
       "      <td>0.012487</td>\n",
       "      <td>0.015208</td>\n",
       "      <td>0.010947</td>\n",
       "      <td>0.001921</td>\n",
       "      <td>0.028015</td>\n",
       "      <td>0.022254</td>\n",
       "      <td>0.015216</td>\n",
       "    </tr>\n",
       "  </tbody>\n",
       "</table>\n",
       "</div>"
      ],
      "text/plain": [
       "Time         10        18        35        43        57        65        76\n",
       "Otu                                                                        \n",
       "Otu15  0.000905  0.002534  0.000519  0.000563  0.002378  0.004558  0.002984\n",
       "Otu12  0.003600  0.004482  0.003625  0.000543  0.008570  0.004756  0.006065\n",
       "Otu67  0.002259  0.020988  0.003364  0.000158  0.016967  0.000721  0.065444\n",
       "Otu1   0.027919  0.005964  0.051851  0.000932  0.055912  0.000971  0.030901\n",
       "Otu7   0.004970  0.013746  0.002863  0.001980  0.012943  0.021404  0.014071\n",
       "Otu17  0.001687  0.013497  0.001597  0.000320  0.006256  0.006726  0.014799\n",
       "Otu41  0.003048  0.025054  0.006777  0.000542  0.020172  0.002207  0.036976\n",
       "Otu38  0.023119  0.003973  0.006840  0.000387  0.015883  0.008746  0.001448\n",
       "Otu20  0.009181  0.002370  0.003901  0.000545  0.031337  0.009483  0.039529\n",
       "Otu10  0.003453  0.006845  0.001295  0.001803  0.026431  0.018160  0.005493\n",
       "Otu2   0.809278  0.783204  0.813951  0.975116  0.442178  0.862574  0.374966\n",
       "Otu29  0.009814  0.028107  0.001209  0.000115  0.006530  0.008604  0.010102\n",
       "Otu6   0.012487  0.015208  0.010947  0.001921  0.028015  0.022254  0.015216"
      ]
     },
     "execution_count": 22,
     "metadata": {},
     "output_type": "execute_result"
    }
   ],
   "source": [
    "edge_weights"
   ]
  },
  {
   "cell_type": "code",
   "execution_count": null,
   "id": "cccdaad6",
   "metadata": {},
   "outputs": [],
   "source": []
  },
  {
   "cell_type": "code",
   "execution_count": 42,
   "id": "d5023fa8",
   "metadata": {},
   "outputs": [],
   "source": [
    "def get_relative_abundances(data, times, subjects, taxonomy, multi_index=False):\n",
    "    reads = data['count_data']\n",
    "    ntime = len(times)\n",
    "    nsubj = len(subjects)\n",
    "    notus = reads[times[0]][subjects[0]].shape[1]\n",
    "\n",
    "    relabuns = np.zeros((notus, ntime, nsubj)) # also make into dataframe\n",
    "    for i,t in enumerate(times):\n",
    "        for j,s in enumerate(subjects):\n",
    "            counts = reads[t][s].cpu().detach().clone().numpy()\n",
    "            pra = counts/counts.sum(axis=1,keepdims=True)\n",
    "            ras = np.mean(pra, axis=0)\n",
    "            relabuns[:,i,j] = ras\n",
    "\n",
    "    if multi_index is True:\n",
    "        index = pd.MultiIndex.from_frame(taxonomy.reset_index())\n",
    "    else:\n",
    "        index = taxonomy.index \n",
    "    radf = pd.DataFrame(relabuns.mean(axis=2), index=index, columns=times)\n",
    "    return radf"
   ]
  },
  {
   "cell_type": "code",
   "execution_count": 43,
   "id": "3d8029a4",
   "metadata": {},
   "outputs": [],
   "source": [
    "radf = get_relative_abundances(data, times, subjects, taxonomy)"
   ]
  },
  {
   "cell_type": "code",
   "execution_count": 44,
   "id": "e1b0c555",
   "metadata": {},
   "outputs": [
    {
     "data": {
      "text/html": [
       "<div>\n",
       "<style scoped>\n",
       "    .dataframe tbody tr th:only-of-type {\n",
       "        vertical-align: middle;\n",
       "    }\n",
       "\n",
       "    .dataframe tbody tr th {\n",
       "        vertical-align: top;\n",
       "    }\n",
       "\n",
       "    .dataframe thead th {\n",
       "        text-align: right;\n",
       "    }\n",
       "</style>\n",
       "<table border=\"1\" class=\"dataframe\">\n",
       "  <thead>\n",
       "    <tr style=\"text-align: right;\">\n",
       "      <th></th>\n",
       "      <th>10</th>\n",
       "      <th>18</th>\n",
       "      <th>35</th>\n",
       "      <th>43</th>\n",
       "      <th>57</th>\n",
       "      <th>65</th>\n",
       "      <th>76</th>\n",
       "    </tr>\n",
       "    <tr>\n",
       "      <th>Otu</th>\n",
       "      <th></th>\n",
       "      <th></th>\n",
       "      <th></th>\n",
       "      <th></th>\n",
       "      <th></th>\n",
       "      <th></th>\n",
       "      <th></th>\n",
       "    </tr>\n",
       "  </thead>\n",
       "  <tbody>\n",
       "    <tr>\n",
       "      <th>Otu19</th>\n",
       "      <td>8.851155e-03</td>\n",
       "      <td>0.000547</td>\n",
       "      <td>0.003100</td>\n",
       "      <td>0.000707</td>\n",
       "      <td>0.007016</td>\n",
       "      <td>0.007629</td>\n",
       "      <td>0.039296</td>\n",
       "    </tr>\n",
       "    <tr>\n",
       "      <th>Otu37</th>\n",
       "      <td>6.800378e-07</td>\n",
       "      <td>0.003632</td>\n",
       "      <td>0.000052</td>\n",
       "      <td>0.000020</td>\n",
       "      <td>0.009004</td>\n",
       "      <td>0.004492</td>\n",
       "      <td>0.029349</td>\n",
       "    </tr>\n",
       "    <tr>\n",
       "      <th>Otu24</th>\n",
       "      <td>1.674976e-03</td>\n",
       "      <td>0.000347</td>\n",
       "      <td>0.010295</td>\n",
       "      <td>0.002249</td>\n",
       "      <td>0.017545</td>\n",
       "      <td>0.002000</td>\n",
       "      <td>0.045857</td>\n",
       "    </tr>\n",
       "    <tr>\n",
       "      <th>Otu15</th>\n",
       "      <td>3.286075e-03</td>\n",
       "      <td>0.017412</td>\n",
       "      <td>0.002091</td>\n",
       "      <td>0.060776</td>\n",
       "      <td>0.004819</td>\n",
       "      <td>0.012782</td>\n",
       "      <td>0.015945</td>\n",
       "    </tr>\n",
       "    <tr>\n",
       "      <th>Otu22</th>\n",
       "      <td>4.171356e-02</td>\n",
       "      <td>0.015233</td>\n",
       "      <td>0.006992</td>\n",
       "      <td>0.005668</td>\n",
       "      <td>0.001008</td>\n",
       "      <td>0.005060</td>\n",
       "      <td>0.001827</td>\n",
       "    </tr>\n",
       "  </tbody>\n",
       "</table>\n",
       "</div>"
      ],
      "text/plain": [
       "                 10        18        35        43        57        65  \\\n",
       "Otu                                                                     \n",
       "Otu19  8.851155e-03  0.000547  0.003100  0.000707  0.007016  0.007629   \n",
       "Otu37  6.800378e-07  0.003632  0.000052  0.000020  0.009004  0.004492   \n",
       "Otu24  1.674976e-03  0.000347  0.010295  0.002249  0.017545  0.002000   \n",
       "Otu15  3.286075e-03  0.017412  0.002091  0.060776  0.004819  0.012782   \n",
       "Otu22  4.171356e-02  0.015233  0.006992  0.005668  0.001008  0.005060   \n",
       "\n",
       "             76  \n",
       "Otu              \n",
       "Otu19  0.039296  \n",
       "Otu37  0.029349  \n",
       "Otu24  0.045857  \n",
       "Otu15  0.015945  \n",
       "Otu22  0.001827  "
      ]
     },
     "execution_count": 44,
     "metadata": {},
     "output_type": "execute_result"
    }
   ],
   "source": [
    "radf.head()"
   ]
  },
  {
   "cell_type": "code",
   "execution_count": 38,
   "id": "135f2232",
   "metadata": {},
   "outputs": [],
   "source": [
    "# average standard diet time points; rename diets"
   ]
  },
  {
   "cell_type": "code",
   "execution_count": 58,
   "id": "597e65bd",
   "metadata": {},
   "outputs": [],
   "source": [
    "# dict of diets and times\n",
    "diet_times = {'STD': [10,35,57,76],\n",
    "'HF': [18],\n",
    "'HFHF': [43],\n",
    "'LP': [65]}"
   ]
  },
  {
   "cell_type": "code",
   "execution_count": 59,
   "id": "f4a48830",
   "metadata": {},
   "outputs": [],
   "source": [
    "def average_diet_times(df, diet_times):\n",
    "    df2 = df.copy()\n",
    "    diets_keep = list(diet_times.keys())\n",
    "    for k in diets_keep:\n",
    "        df2[k] = df.loc[:,diet_times[k]].mean(axis=1)\n",
    "    df2 = df2[diets_keep]\n",
    "    return df2"
   ]
  },
  {
   "cell_type": "code",
   "execution_count": 66,
   "id": "e7ec1ae4",
   "metadata": {},
   "outputs": [],
   "source": [
    "# match same index as edge weights dataframe\n",
    "ratemp = radf.loc[edge_weights.index,:]"
   ]
  },
  {
   "cell_type": "code",
   "execution_count": 67,
   "id": "f4a14174",
   "metadata": {},
   "outputs": [],
   "source": [
    "node_weights = average_diet_times(ratemp, diet_times)"
   ]
  },
  {
   "cell_type": "code",
   "execution_count": 68,
   "id": "ae5bc8ab",
   "metadata": {},
   "outputs": [
    {
     "data": {
      "text/html": [
       "<div>\n",
       "<style scoped>\n",
       "    .dataframe tbody tr th:only-of-type {\n",
       "        vertical-align: middle;\n",
       "    }\n",
       "\n",
       "    .dataframe tbody tr th {\n",
       "        vertical-align: top;\n",
       "    }\n",
       "\n",
       "    .dataframe thead th {\n",
       "        text-align: right;\n",
       "    }\n",
       "</style>\n",
       "<table border=\"1\" class=\"dataframe\">\n",
       "  <thead>\n",
       "    <tr style=\"text-align: right;\">\n",
       "      <th></th>\n",
       "      <th>STD</th>\n",
       "      <th>HF</th>\n",
       "      <th>HFHF</th>\n",
       "      <th>LP</th>\n",
       "    </tr>\n",
       "    <tr>\n",
       "      <th>Otu</th>\n",
       "      <th></th>\n",
       "      <th></th>\n",
       "      <th></th>\n",
       "      <th></th>\n",
       "    </tr>\n",
       "  </thead>\n",
       "  <tbody>\n",
       "    <tr>\n",
       "      <th>Otu15</th>\n",
       "      <td>0.006535</td>\n",
       "      <td>0.017412</td>\n",
       "      <td>0.060776</td>\n",
       "      <td>0.012782</td>\n",
       "    </tr>\n",
       "    <tr>\n",
       "      <th>Otu12</th>\n",
       "      <td>0.008222</td>\n",
       "      <td>0.025964</td>\n",
       "      <td>0.018783</td>\n",
       "      <td>0.021430</td>\n",
       "    </tr>\n",
       "    <tr>\n",
       "      <th>Otu67</th>\n",
       "      <td>0.002308</td>\n",
       "      <td>0.014471</td>\n",
       "      <td>0.001184</td>\n",
       "      <td>0.001008</td>\n",
       "    </tr>\n",
       "    <tr>\n",
       "      <th>Otu1</th>\n",
       "      <td>0.240700</td>\n",
       "      <td>0.110752</td>\n",
       "      <td>0.202902</td>\n",
       "      <td>0.012623</td>\n",
       "    </tr>\n",
       "    <tr>\n",
       "      <th>Otu7</th>\n",
       "      <td>0.006949</td>\n",
       "      <td>0.155743</td>\n",
       "      <td>0.000924</td>\n",
       "      <td>0.089202</td>\n",
       "    </tr>\n",
       "    <tr>\n",
       "      <th>Otu17</th>\n",
       "      <td>0.001178</td>\n",
       "      <td>0.042695</td>\n",
       "      <td>0.003755</td>\n",
       "      <td>0.037520</td>\n",
       "    </tr>\n",
       "    <tr>\n",
       "      <th>Otu41</th>\n",
       "      <td>0.003254</td>\n",
       "      <td>0.039001</td>\n",
       "      <td>0.004629</td>\n",
       "      <td>0.006763</td>\n",
       "    </tr>\n",
       "    <tr>\n",
       "      <th>Otu38</th>\n",
       "      <td>0.003037</td>\n",
       "      <td>0.002256</td>\n",
       "      <td>0.000416</td>\n",
       "      <td>0.019459</td>\n",
       "    </tr>\n",
       "    <tr>\n",
       "      <th>Otu20</th>\n",
       "      <td>0.005345</td>\n",
       "      <td>0.002962</td>\n",
       "      <td>0.005396</td>\n",
       "      <td>0.044075</td>\n",
       "    </tr>\n",
       "    <tr>\n",
       "      <th>Otu10</th>\n",
       "      <td>0.004517</td>\n",
       "      <td>0.004152</td>\n",
       "      <td>0.029402</td>\n",
       "      <td>0.073203</td>\n",
       "    </tr>\n",
       "    <tr>\n",
       "      <th>Otu2</th>\n",
       "      <td>0.013414</td>\n",
       "      <td>0.058312</td>\n",
       "      <td>0.406669</td>\n",
       "      <td>0.229467</td>\n",
       "    </tr>\n",
       "    <tr>\n",
       "      <th>Otu29</th>\n",
       "      <td>0.001560</td>\n",
       "      <td>0.041326</td>\n",
       "      <td>0.000620</td>\n",
       "      <td>0.040834</td>\n",
       "    </tr>\n",
       "    <tr>\n",
       "      <th>Otu6</th>\n",
       "      <td>0.036487</td>\n",
       "      <td>0.070301</td>\n",
       "      <td>0.005223</td>\n",
       "      <td>0.133280</td>\n",
       "    </tr>\n",
       "  </tbody>\n",
       "</table>\n",
       "</div>"
      ],
      "text/plain": [
       "            STD        HF      HFHF        LP\n",
       "Otu                                          \n",
       "Otu15  0.006535  0.017412  0.060776  0.012782\n",
       "Otu12  0.008222  0.025964  0.018783  0.021430\n",
       "Otu67  0.002308  0.014471  0.001184  0.001008\n",
       "Otu1   0.240700  0.110752  0.202902  0.012623\n",
       "Otu7   0.006949  0.155743  0.000924  0.089202\n",
       "Otu17  0.001178  0.042695  0.003755  0.037520\n",
       "Otu41  0.003254  0.039001  0.004629  0.006763\n",
       "Otu38  0.003037  0.002256  0.000416  0.019459\n",
       "Otu20  0.005345  0.002962  0.005396  0.044075\n",
       "Otu10  0.004517  0.004152  0.029402  0.073203\n",
       "Otu2   0.013414  0.058312  0.406669  0.229467\n",
       "Otu29  0.001560  0.041326  0.000620  0.040834\n",
       "Otu6   0.036487  0.070301  0.005223  0.133280"
      ]
     },
     "execution_count": 68,
     "metadata": {},
     "output_type": "execute_result"
    }
   ],
   "source": [
    "node_weights"
   ]
  },
  {
   "cell_type": "code",
   "execution_count": 62,
   "id": "fc186f57",
   "metadata": {},
   "outputs": [],
   "source": [
    "assoc_edge_weights = average_diet_times(edge_weights, diet_times)"
   ]
  },
  {
   "cell_type": "code",
   "execution_count": 63,
   "id": "4fecd233",
   "metadata": {},
   "outputs": [
    {
     "data": {
      "text/html": [
       "<div>\n",
       "<style scoped>\n",
       "    .dataframe tbody tr th:only-of-type {\n",
       "        vertical-align: middle;\n",
       "    }\n",
       "\n",
       "    .dataframe tbody tr th {\n",
       "        vertical-align: top;\n",
       "    }\n",
       "\n",
       "    .dataframe thead th {\n",
       "        text-align: right;\n",
       "    }\n",
       "</style>\n",
       "<table border=\"1\" class=\"dataframe\">\n",
       "  <thead>\n",
       "    <tr style=\"text-align: right;\">\n",
       "      <th>Time</th>\n",
       "      <th>STD</th>\n",
       "      <th>HF</th>\n",
       "      <th>HFHF</th>\n",
       "      <th>LP</th>\n",
       "    </tr>\n",
       "    <tr>\n",
       "      <th>Otu</th>\n",
       "      <th></th>\n",
       "      <th></th>\n",
       "      <th></th>\n",
       "      <th></th>\n",
       "    </tr>\n",
       "  </thead>\n",
       "  <tbody>\n",
       "    <tr>\n",
       "      <th>Otu15</th>\n",
       "      <td>0.001697</td>\n",
       "      <td>0.002534</td>\n",
       "      <td>0.000563</td>\n",
       "      <td>0.004558</td>\n",
       "    </tr>\n",
       "    <tr>\n",
       "      <th>Otu12</th>\n",
       "      <td>0.005465</td>\n",
       "      <td>0.004482</td>\n",
       "      <td>0.000543</td>\n",
       "      <td>0.004756</td>\n",
       "    </tr>\n",
       "    <tr>\n",
       "      <th>Otu67</th>\n",
       "      <td>0.022009</td>\n",
       "      <td>0.020988</td>\n",
       "      <td>0.000158</td>\n",
       "      <td>0.000721</td>\n",
       "    </tr>\n",
       "    <tr>\n",
       "      <th>Otu1</th>\n",
       "      <td>0.041646</td>\n",
       "      <td>0.005964</td>\n",
       "      <td>0.000932</td>\n",
       "      <td>0.000971</td>\n",
       "    </tr>\n",
       "    <tr>\n",
       "      <th>Otu7</th>\n",
       "      <td>0.008712</td>\n",
       "      <td>0.013746</td>\n",
       "      <td>0.001980</td>\n",
       "      <td>0.021404</td>\n",
       "    </tr>\n",
       "    <tr>\n",
       "      <th>Otu17</th>\n",
       "      <td>0.006085</td>\n",
       "      <td>0.013497</td>\n",
       "      <td>0.000320</td>\n",
       "      <td>0.006726</td>\n",
       "    </tr>\n",
       "    <tr>\n",
       "      <th>Otu41</th>\n",
       "      <td>0.016743</td>\n",
       "      <td>0.025054</td>\n",
       "      <td>0.000542</td>\n",
       "      <td>0.002207</td>\n",
       "    </tr>\n",
       "    <tr>\n",
       "      <th>Otu38</th>\n",
       "      <td>0.011823</td>\n",
       "      <td>0.003973</td>\n",
       "      <td>0.000387</td>\n",
       "      <td>0.008746</td>\n",
       "    </tr>\n",
       "    <tr>\n",
       "      <th>Otu20</th>\n",
       "      <td>0.020987</td>\n",
       "      <td>0.002370</td>\n",
       "      <td>0.000545</td>\n",
       "      <td>0.009483</td>\n",
       "    </tr>\n",
       "    <tr>\n",
       "      <th>Otu10</th>\n",
       "      <td>0.009168</td>\n",
       "      <td>0.006845</td>\n",
       "      <td>0.001803</td>\n",
       "      <td>0.018160</td>\n",
       "    </tr>\n",
       "    <tr>\n",
       "      <th>Otu2</th>\n",
       "      <td>0.610093</td>\n",
       "      <td>0.783204</td>\n",
       "      <td>0.975116</td>\n",
       "      <td>0.862574</td>\n",
       "    </tr>\n",
       "    <tr>\n",
       "      <th>Otu29</th>\n",
       "      <td>0.006914</td>\n",
       "      <td>0.028107</td>\n",
       "      <td>0.000115</td>\n",
       "      <td>0.008604</td>\n",
       "    </tr>\n",
       "    <tr>\n",
       "      <th>Otu6</th>\n",
       "      <td>0.016666</td>\n",
       "      <td>0.015208</td>\n",
       "      <td>0.001921</td>\n",
       "      <td>0.022254</td>\n",
       "    </tr>\n",
       "  </tbody>\n",
       "</table>\n",
       "</div>"
      ],
      "text/plain": [
       "Time        STD        HF      HFHF        LP\n",
       "Otu                                          \n",
       "Otu15  0.001697  0.002534  0.000563  0.004558\n",
       "Otu12  0.005465  0.004482  0.000543  0.004756\n",
       "Otu67  0.022009  0.020988  0.000158  0.000721\n",
       "Otu1   0.041646  0.005964  0.000932  0.000971\n",
       "Otu7   0.008712  0.013746  0.001980  0.021404\n",
       "Otu17  0.006085  0.013497  0.000320  0.006726\n",
       "Otu41  0.016743  0.025054  0.000542  0.002207\n",
       "Otu38  0.011823  0.003973  0.000387  0.008746\n",
       "Otu20  0.020987  0.002370  0.000545  0.009483\n",
       "Otu10  0.009168  0.006845  0.001803  0.018160\n",
       "Otu2   0.610093  0.783204  0.975116  0.862574\n",
       "Otu29  0.006914  0.028107  0.000115  0.008604\n",
       "Otu6   0.016666  0.015208  0.001921  0.022254"
      ]
     },
     "execution_count": 63,
     "metadata": {},
     "output_type": "execute_result"
    }
   ],
   "source": [
    "assoc_edge_weights"
   ]
  },
  {
   "cell_type": "code",
   "execution_count": 71,
   "id": "71be3aee",
   "metadata": {},
   "outputs": [],
   "source": [
    "edge_weights = assoc_edge_weights # rename in final pipeline"
   ]
  },
  {
   "cell_type": "code",
   "execution_count": 69,
   "id": "e8711a1e",
   "metadata": {},
   "outputs": [],
   "source": [
    "# plot association changes (axs, edge_weights, node_weights, otu_focus; optional scaling args...) # return axes"
   ]
  },
  {
   "cell_type": "code",
   "execution_count": 98,
   "id": "d6f0d5b1",
   "metadata": {},
   "outputs": [],
   "source": [
    "def plot_association_changes(axs, edge_weights, node_weights, otu_focus, node_colors=None, edge_scale=20, node_scale=2000):\n",
    "    taxa = edge_weights.index\n",
    "    diets = edge_weights.columns\n",
    "\n",
    "    # make graph\n",
    "    graph = nx.Graph()\n",
    "    # add nodes and edges with default weights\n",
    "    for oidx in taxa:\n",
    "        if oidx != otu_focus:\n",
    "            graph.add_edge(oidx, otu_focus, weight=1)\n",
    "        graph.nodes[oidx]['weight'] = 500\n",
    "\n",
    "    # get node positions\n",
    "    pos = nx.spring_layout(graph)\n",
    "\n",
    "    for i,diet in enumerate(diets):\n",
    "        # update edge weights\n",
    "        for oidx in taxa:\n",
    "            if oidx != otu_focus:\n",
    "                graph[oidx][otu_focus]['weight'] = edge_scale*edge_weights.loc[oidx,diet]\n",
    "            # update node sizes\n",
    "            graph.nodes[oidx]['weight']=node_scale*node_weights.loc[oidx,diet]\n",
    "\n",
    "        # get node colors\n",
    "        color_map = []\n",
    "        for node in graph:\n",
    "            if node_colors is not None:\n",
    "                color_map.append(node_colors[node])\n",
    "            else:\n",
    "                color_map.append('tab:blue')\n",
    "\n",
    "        # draw network\n",
    "        ew = list(nx.get_edge_attributes(graph,'weight').values())\n",
    "        nw = list(nx.get_node_attributes(graph,'weight').values())\n",
    "        nx.draw_networkx(graph, pos=pos, ax=axs[i], width=ew, node_size=nw, \n",
    "                         node_color=color_map, with_labels=False)\n",
    "        \n",
    "        # annotate nodes\n",
    "        delta_y = 0.1\n",
    "        for k in pos.keys():\n",
    "            x = pos[k][0]\n",
    "            y = pos[k][1]\n",
    "            axs[i].text(x,y+delta_y,s=f'{k}', horizontalalignment='center')\n",
    "    return axs"
   ]
  },
  {
   "cell_type": "code",
   "execution_count": 102,
   "id": "5881ffa2",
   "metadata": {},
   "outputs": [],
   "source": [
    "ncolors = {}\n",
    "for oidx in edge_weights.index:\n",
    "    ncolors[oidx] = 'tab:red'"
   ]
  },
  {
   "cell_type": "code",
   "execution_count": 103,
   "id": "b45501c4",
   "metadata": {},
   "outputs": [
    {
     "data": {
      "image/png": "[encoded data removed]",
      "text/plain": [
       "<Figure size 1600x400 with 4 Axes>"
      ]
     },
     "metadata": {},
     "output_type": "display_data"
    }
   ],
   "source": [
    "fig, axs = plt.subplots(figsize=(16,4), ncols=4)\n",
    "axs=plot_association_changes(axs, edge_weights, node_weights, 'Otu2', node_colors=ncolors, edge_scale=50)\n",
    "diets = edge_weights.columns\n",
    "for ax, diet in zip(axs, diets):\n",
    "    ax=vis.remove_border(ax)\n",
    "    ax.set_title(diet)"
   ]
  },
  {
   "cell_type": "code",
   "execution_count": 78,
   "id": "03d9cf17",
   "metadata": {},
   "outputs": [
    {
     "data": {
      "text/plain": [
       "array([None, None, None, None], dtype=object)"
      ]
     },
     "execution_count": 78,
     "metadata": {},
     "output_type": "execute_result"
    }
   ],
   "source": [
    "axs"
   ]
  },
  {
   "cell_type": "code",
   "execution_count": 75,
   "id": "a2d64e89",
   "metadata": {},
   "outputs": [],
   "source": [
    "# to do; color nodes by family; reposition text labels... (use pos to create text labels);\n",
    "# ... move text labels to center and remove 'otu'; decrease alpha; or move on 'circle'... (project out a 'delta_r')\n",
    "# node positions may vary - > guarentee position?, or set seed?\n",
    "# option to also add custom annotation (name the actual taxa... instead of otu#)\n",
    "# also option to "
   ]
  },
  {
   "cell_type": "code",
   "execution_count": 76,
   "id": "f9ab6376",
   "metadata": {},
   "outputs": [
    {
     "data": {
      "text/plain": [
       "{'Otu15': array([-0.96951089,  0.10802707]),\n",
       " 'Otu2': array([-0.00063095,  0.00189357]),\n",
       " 'Otu12': array([0.75080044, 0.32332968]),\n",
       " 'Otu67': array([ 1.        , -0.09156674]),\n",
       " 'Otu1': array([0.12254092, 0.93536305]),\n",
       " 'Otu7': array([-0.59501205, -0.80686577]),\n",
       " 'Otu17': array([0.62154347, 0.78731237]),\n",
       " 'Otu41': array([-0.37065136,  0.87459693]),\n",
       " 'Otu38': array([-0.10426285, -0.89191718]),\n",
       " 'Otu20': array([-0.8301353 , -0.36494869]),\n",
       " 'Otu10': array([ 0.38902066, -0.89297751]),\n",
       " 'Otu29': array([ 0.74840673, -0.54642909]),\n",
       " 'Otu6': array([-0.76210883,  0.56418231])}"
      ]
     },
     "execution_count": 76,
     "metadata": {},
     "output_type": "execute_result"
    }
   ],
   "source": [
    "pos"
   ]
  },
  {
   "cell_type": "code",
   "execution_count": 89,
   "id": "e74698f4",
   "metadata": {},
   "outputs": [
    {
     "data": {
      "text/plain": [
       "0.10802707106571952"
      ]
     },
     "execution_count": 89,
     "metadata": {},
     "output_type": "execute_result"
    }
   ],
   "source": [
    "pos['Otu15'][1]"
   ]
  },
  {
   "cell_type": "code",
   "execution_count": 96,
   "id": "9e1921f8",
   "metadata": {},
   "outputs": [
    {
     "data": {
      "text/plain": [
       "<networkx.classes.graph.Graph at 0x1db4f88b700>"
      ]
     },
     "execution_count": 96,
     "metadata": {},
     "output_type": "execute_result"
    }
   ],
   "source": [
    "graph"
   ]
  },
  {
   "cell_type": "code",
   "execution_count": 97,
   "id": "217431aa",
   "metadata": {},
   "outputs": [
    {
     "name": "stdout",
     "output_type": "stream",
     "text": [
      "Otu15\n",
      "Otu2\n",
      "Otu12\n",
      "Otu67\n",
      "Otu1\n",
      "Otu7\n",
      "Otu17\n",
      "Otu41\n",
      "Otu38\n",
      "Otu20\n",
      "Otu10\n",
      "Otu29\n",
      "Otu6\n"
     ]
    }
   ],
   "source": [
    "for node in graph:\n",
    "    print(node)"
   ]
  },
  {
   "cell_type": "code",
   "execution_count": null,
   "id": "4a93ce26",
   "metadata": {},
   "outputs": [],
   "source": []
  }
 ],
 "metadata": {
  "kernelspec": {
   "display_name": "Python [conda env:mcfinal]",
   "language": "python",
   "name": "conda-env-mcfinal-py"
  },
  "language_info": {
   "codemirror_mode": {
    "name": "ipython",
    "version": 3
   },
   "file_extension": ".py",
   "mimetype": "text/x-python",
   "name": "python",
   "nbconvert_exporter": "python",
   "pygments_lexer": "ipython3",
   "version": "3.10.14"
  }
 },
 "nbformat": 4,
 "nbformat_minor": 5
}
