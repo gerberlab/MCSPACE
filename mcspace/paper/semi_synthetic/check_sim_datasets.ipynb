{
 "cells": [
  {
   "cell_type": "code",
   "execution_count": 1,
   "id": "18470b57",
   "metadata": {},
   "outputs": [],
   "source": [
    "import numpy as np\n",
    "import torch\n",
    "import matplotlib.pyplot as plt\n",
    "from pathlib import Path\n",
    "from mcspace.utils import pickle_load"
   ]
  },
  {
   "cell_type": "code",
   "execution_count": 2,
   "id": "f95dc280",
   "metadata": {},
   "outputs": [
    {
     "name": "stdout",
     "output_type": "stream",
     "text": [
      " Volume in drive C is OS\n",
      " Volume Serial Number is 5E7E-789E\n",
      "\n",
      " Directory of C:\\Users\\Gary2\\Dropbox (Partners HealthCare)\\research_bwh\\MCSPACE\\MCSPACE\\mcspace\\paper\\semi_synthetic\n",
      "\n",
      "03/06/2024  02:06 PM    <DIR>          .\n",
      "03/04/2024  06:21 PM    <DIR>          ..\n",
      "03/06/2024  02:06 PM    <DIR>          .ipynb_checkpoints\n",
      "03/04/2024  07:43 PM    <DIR>          base_run\n",
      "03/06/2024  02:06 PM                72 check_sim_datasets.ipynb\n",
      "03/06/2024  01:05 PM            45,627 fit_negbin_human_data.ipynb\n",
      "03/06/2024  01:08 PM            37,637 fit_negbin_mouse_data.ipynb\n",
      "03/06/2024  01:33 PM             6,755 generate_semisynthetic_datasets.py\n",
      "03/06/2024  01:05 PM               246 negbin_fit_params_Human_data.pkl\n",
      "03/06/2024  01:07 PM               246 negbin_fit_params_Mouse_data.pkl\n",
      "03/04/2024  07:42 PM             2,720 run_fit_base_datasets.py\n",
      "03/06/2024  01:34 PM    <DIR>          semisyn_data_Human\n",
      "03/06/2024  01:34 PM    <DIR>          semisyn_data_Mouse\n",
      "               7 File(s)         93,303 bytes\n",
      "               6 Dir(s)  1,802,500,685,824 bytes free\n"
     ]
    }
   ],
   "source": [
    "ls"
   ]
  },
  {
   "cell_type": "code",
   "execution_count": 3,
   "id": "c2692527",
   "metadata": {},
   "outputs": [],
   "source": [
    "humanpath = Path(\"./semisyn_data_Human/\")\n",
    "mousepath = Path(\"./semisyn_data_Mouse/\")"
   ]
  },
  {
   "cell_type": "code",
   "execution_count": 19,
   "id": "bd9cdd7b",
   "metadata": {},
   "outputs": [],
   "source": [
    "ds = 0\n",
    "npart = 10000\n",
    "\n",
    "# base_sample = 'Human'\n",
    "# data = pickle_load(humanpath / f\"data_D{ds}_P{npart}_Rdefault_B{base_sample}.pkl\")\n",
    "\n",
    "base_sample = 'Mouse'\n",
    "data = pickle_load(mousepath / f\"data_D{ds}_P{npart}_Rdefault_B{base_sample}.pkl\")"
   ]
  },
  {
   "cell_type": "code",
   "execution_count": 20,
   "id": "33f9e2e0",
   "metadata": {},
   "outputs": [
    {
     "data": {
      "text/plain": [
       "dict_keys(['reads', 'assignments', 'theta', 'beta'])"
      ]
     },
     "execution_count": 20,
     "metadata": {},
     "output_type": "execute_result"
    }
   ],
   "source": [
    "data.keys()"
   ]
  },
  {
   "cell_type": "code",
   "execution_count": 21,
   "id": "38857885",
   "metadata": {},
   "outputs": [],
   "source": [
    "theta = data['theta']\n",
    "beta = data['beta']\n",
    "reads = data['reads']\n",
    "assignments = data['assignments']"
   ]
  },
  {
   "cell_type": "code",
   "execution_count": 22,
   "id": "e354cb7f",
   "metadata": {},
   "outputs": [
    {
     "name": "stdout",
     "output_type": "stream",
     "text": [
      "(8, 69)\n",
      "(8,)\n",
      "dict_keys([0])\n",
      "dict_keys(['s1'])\n",
      "(10000, 69)\n",
      "dict_keys([0])\n",
      "dict_keys(['s1'])\n",
      "(10000,)\n"
     ]
    }
   ],
   "source": [
    "print(theta.shape)\n",
    "print(beta.shape)\n",
    "print(reads.keys())\n",
    "print(reads[0].keys())\n",
    "print(reads[0]['s1'].shape)\n",
    "print(assignments.keys())\n",
    "print(assignments[0].keys())\n",
    "print(assignments[0]['s1'].shape)"
   ]
  },
  {
   "cell_type": "code",
   "execution_count": 10,
   "id": "1ee3dc3f",
   "metadata": {},
   "outputs": [
    {
     "data": {
      "text/plain": [
       "array([0, 1, 2, 3, 4, 5, 6, 7, 8])"
      ]
     },
     "execution_count": 10,
     "metadata": {},
     "output_type": "execute_result"
    }
   ],
   "source": [
    "np.unique(assignments[0]['s1'])"
   ]
  },
  {
   "cell_type": "code",
   "execution_count": 18,
   "id": "d9ea170c",
   "metadata": {},
   "outputs": [
    {
     "name": "stdout",
     "output_type": "stream",
     "text": [
      "10000\n",
      "(10000, 69)\n",
      "2747.0\n",
      "2538.0\n",
      " \n",
      "5000\n",
      "(5000, 69)\n",
      "2791.0\n",
      "2561.0\n",
      " \n",
      "2500\n",
      "(2500, 69)\n",
      "2761.5\n",
      "2512.25\n",
      " \n",
      "1000\n",
      "(1000, 69)\n",
      "2692.0\n",
      "2547.75\n",
      " \n",
      "500\n",
      "(500, 69)\n",
      "2759.0\n",
      "2364.5\n",
      " \n",
      "250\n",
      "(250, 69)\n",
      "2751.0\n",
      "2239.5\n",
      " \n",
      "100\n",
      "(100, 69)\n",
      "2588.0\n",
      "1460.75\n",
      " \n"
     ]
    }
   ],
   "source": [
    "ds = 7\n",
    "npart_cases = [10000, 5000, 2500, 1000, 500, 250, 100]\n",
    "\n",
    "\n",
    "for npart in npart_cases:\n",
    "#     base_sample = 'Human'\n",
    "#     data = pickle_load(humanpath / f\"data_D{ds}_P{npart}_Rdefault_B{base_sample}.pkl\")\n",
    "    base_sample = 'Mouse'\n",
    "    data = pickle_load(mousepath / f\"data_D{ds}_P{npart}_Rdefault_B{base_sample}.pkl\")\n",
    "\n",
    "    reads = data['reads']\n",
    "    print(npart)\n",
    "    print(reads[0]['s1'].shape)\n",
    "    counts = reads[0]['s1']\n",
    "    nreads = counts.sum(axis=1)\n",
    "    print(np.median(nreads))\n",
    "    iqr = np.percentile(nreads, q=75) - np.percentile(nreads, q=25)\n",
    "    print(iqr)\n",
    "    print(\" \")"
   ]
  },
  {
   "cell_type": "code",
   "execution_count": 23,
   "id": "7f129d25",
   "metadata": {},
   "outputs": [
    {
     "name": "stdout",
     "output_type": "stream",
     "text": [
      "10000\n",
      "(419, 69)\n",
      "10000.0\n",
      "0.0\n",
      " \n",
      "10000\n",
      "(419, 69)\n",
      "5000.0\n",
      "0.0\n",
      " \n",
      "10000\n",
      "(419, 69)\n",
      "2500.0\n",
      "0.0\n",
      " \n",
      "10000\n",
      "(419, 69)\n",
      "1000.0\n",
      "0.0\n",
      " \n",
      "10000\n",
      "(419, 69)\n",
      "500.0\n",
      "0.0\n",
      " \n",
      "10000\n",
      "(419, 69)\n",
      "250.0\n",
      "0.0\n",
      " \n",
      "10000\n",
      "(419, 69)\n",
      "100.0\n",
      "0.0\n",
      " \n"
     ]
    }
   ],
   "source": [
    "ds = 7\n",
    "nread_cases = [10000, 5000, 2500, 1000, 500, 250, 100]\n",
    "\n",
    "\n",
    "for nreads in nread_cases:\n",
    "#     base_sample = 'Human'\n",
    "#     data = pickle_load(humanpath / f\"data_D{ds}_P{npart}_Rdefault_B{base_sample}.pkl\")\n",
    "    base_sample = 'Mouse'\n",
    "    data = pickle_load(mousepath / f\"data_D{ds}_Pdefault_R{nreads}_B{base_sample}.pkl\")\n",
    "\n",
    "    reads = data['reads']\n",
    "    print(npart)\n",
    "    print(reads[0]['s1'].shape)\n",
    "    counts = reads[0]['s1']\n",
    "    nreads = counts.sum(axis=1)\n",
    "    print(np.median(nreads))\n",
    "    iqr = np.percentile(nreads, q=75) - np.percentile(nreads, q=25)\n",
    "    print(iqr)\n",
    "    print(\" \")"
   ]
  },
  {
   "cell_type": "code",
   "execution_count": null,
   "id": "a8e79155",
   "metadata": {},
   "outputs": [],
   "source": []
  }
 ],
 "metadata": {
  "kernelspec": {
   "display_name": "Python [conda env:mcspace]",
   "language": "python",
   "name": "conda-env-mcspace-py"
  },
  "language_info": {
   "codemirror_mode": {
    "name": "ipython",
    "version": 3
   },
   "file_extension": ".py",
   "mimetype": "text/x-python",
   "name": "python",
   "nbconvert_exporter": "python",
   "pygments_lexer": "ipython3",
   "version": "3.10.13"
  }
 },
 "nbformat": 4,
 "nbformat_minor": 5
}
