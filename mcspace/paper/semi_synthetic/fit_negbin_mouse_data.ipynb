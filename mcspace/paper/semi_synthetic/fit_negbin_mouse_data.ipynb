{
 "cells": [
  {
   "cell_type": "code",
   "execution_count": 1,
   "id": "5532a037",
   "metadata": {},
   "outputs": [],
   "source": [
    "import numpy as np\n",
    "import pandas as pd\n",
    "from mcspace.utils import pickle_load, pickle_save\n",
    "import matplotlib.pyplot as plt\n",
    "import seaborn as sns\n",
    "from mcspace.data_utils import get_human_timeseries_dataset, get_mouse_diet_perturbations_dataset\n",
    "import scipy\n",
    "from scipy.stats import nbinom\n",
    "import statsmodels.api as sm\n",
    "from pathlib import Path "
   ]
  },
  {
   "cell_type": "code",
   "execution_count": 2,
   "id": "d848e6b6",
   "metadata": {},
   "outputs": [
    {
     "data": {
      "text/plain": [
       "'C:\\\\Users\\\\Gary\\\\Dropbox (Partners HealthCare)\\\\research_bwh\\\\MCSPACE\\\\MCSPACE\\\\mcspace\\\\paper\\\\semi_synthetic'"
      ]
     },
     "execution_count": 2,
     "metadata": {},
     "output_type": "execute_result"
    }
   ],
   "source": [
    "pwd"
   ]
  },
  {
   "cell_type": "markdown",
   "id": "18bd3296",
   "metadata": {},
   "source": [
    "# Paths"
   ]
  },
  {
   "cell_type": "code",
   "execution_count": 3,
   "id": "1dc09a4f",
   "metadata": {},
   "outputs": [],
   "source": [
    "rootpath = Path(\"../../\")\n",
    "basepath = rootpath / \"paper\" / \"semi_synthetic\""
   ]
  },
  {
   "cell_type": "markdown",
   "id": "df6f9b19",
   "metadata": {},
   "source": [
    "# Load mouse dataset"
   ]
  },
  {
   "cell_type": "code",
   "execution_count": 4,
   "id": "18f74da6",
   "metadata": {},
   "outputs": [],
   "source": [
    "reads, num_otus, times, subjects, dataset = get_mouse_diet_perturbations_dataset(rootpath=rootpath)"
   ]
  },
  {
   "cell_type": "code",
   "execution_count": 5,
   "id": "e491f1b6",
   "metadata": {},
   "outputs": [],
   "source": [
    "t = times[0]\n",
    "s = subjects[0]\n",
    "counts = reads[t][s]"
   ]
  },
  {
   "cell_type": "code",
   "execution_count": 6,
   "id": "18ce6a35",
   "metadata": {},
   "outputs": [
    {
     "data": {
      "text/plain": [
       "(419, 69)"
      ]
     },
     "execution_count": 6,
     "metadata": {},
     "output_type": "execute_result"
    }
   ],
   "source": [
    "counts.shape"
   ]
  },
  {
   "cell_type": "code",
   "execution_count": 7,
   "id": "156d7adf",
   "metadata": {},
   "outputs": [],
   "source": [
    "num_particles, num_otus = counts.shape"
   ]
  },
  {
   "cell_type": "markdown",
   "id": "2ef9c601",
   "metadata": {},
   "source": [
    "## fit negbin"
   ]
  },
  {
   "cell_type": "code",
   "execution_count": 8,
   "id": "567ad4d7",
   "metadata": {},
   "outputs": [
    {
     "name": "stdout",
     "output_type": "stream",
     "text": [
      "Optimization terminated successfully.\n",
      "         Current function value: 8.872324\n",
      "         Iterations: 20\n",
      "         Function evaluations: 29\n",
      "         Gradient evaluations: 29\n"
     ]
    }
   ],
   "source": [
    "rdepth = counts.sum(axis=1)\n",
    "X = np.ones_like(rdepth)\n",
    "res = sm.NegativeBinomial(rdepth,X).fit(start_params=[1,1])\n",
    "mu = np.exp(res.params[0])\n",
    "p = 1/(1+mu*res.params[1])\n",
    "n = mu*p/(1-p)"
   ]
  },
  {
   "cell_type": "code",
   "execution_count": 9,
   "id": "98bb8811",
   "metadata": {},
   "outputs": [
    {
     "name": "stdout",
     "output_type": "stream",
     "text": [
      "0.0007819371368776538\n",
      "2.459196684252217\n"
     ]
    }
   ],
   "source": [
    "print(p)\n",
    "print(n)"
   ]
  },
  {
   "cell_type": "markdown",
   "id": "b044dc2c",
   "metadata": {},
   "source": [
    "### plot fit"
   ]
  },
  {
   "cell_type": "code",
   "execution_count": 10,
   "id": "249f0a9c",
   "metadata": {},
   "outputs": [
    {
     "name": "stdout",
     "output_type": "stream",
     "text": [
      "1000.0\n",
      "9969.0\n"
     ]
    }
   ],
   "source": [
    "print(np.amin(rdepth))\n",
    "print(np.amax(rdepth))"
   ]
  },
  {
   "cell_type": "code",
   "execution_count": 11,
   "id": "fd21307d",
   "metadata": {},
   "outputs": [
    {
     "name": "stderr",
     "output_type": "stream",
     "text": [
      "C:\\Users\\Gary\\AppData\\Local\\Temp\\ipykernel_19088\\1823700599.py:3: UserWarning: \n",
      "\n",
      "`distplot` is a deprecated function and will be removed in seaborn v0.14.0.\n",
      "\n",
      "Please adapt your code to use either `displot` (a figure-level function with\n",
      "similar flexibility) or `histplot` (an axes-level function for histograms).\n",
      "\n",
      "For a guide to updating your code to use the new functions, please see\n",
      "https://gist.github.com/mwaskom/de44147ed2974457ad6372750bbe5751\n",
      "\n",
      "  ax=sns.distplot(rdepth, kde=False, norm_hist=True, label='Data')\n"
     ]
    },
    {
     "data": {
      "text/plain": [
       "<matplotlib.legend.Legend at 0x20dcc8b6a40>"
      ]
     },
     "execution_count": 11,
     "metadata": {},
     "output_type": "execute_result"
    },
    {
     "data": {
      "image/png": "[encoded data removed]",
      "text/plain": [
       "<Figure size 640x480 with 1 Axes>"
      ]
     },
     "metadata": {},
     "output_type": "display_data"
    }
   ],
   "source": [
    "x_plot = np.linspace(1000,10000,9001)\n",
    "sns.set_theme()\n",
    "ax=sns.distplot(rdepth, kde=False, norm_hist=True, label='Data')\n",
    "ax.plot(x_plot, nbinom.pmf(x_plot, n, p), 'g-', lw=2, label='Fit')\n",
    "ax.legend()"
   ]
  },
  {
   "cell_type": "code",
   "execution_count": 12,
   "id": "71668193",
   "metadata": {},
   "outputs": [],
   "source": [
    "median = np.median(rdepth)\n",
    "iqr = np.percentile(rdepth, q=75) - np.percentile(rdepth, q=25) "
   ]
  },
  {
   "cell_type": "code",
   "execution_count": 13,
   "id": "1c5c8f6f",
   "metadata": {},
   "outputs": [
    {
     "name": "stdout",
     "output_type": "stream",
     "text": [
      "2257.0\n",
      "2744.5\n"
     ]
    }
   ],
   "source": [
    "print(median)\n",
    "print(iqr)"
   ]
  },
  {
   "cell_type": "markdown",
   "id": "626ae272",
   "metadata": {},
   "source": [
    "### save results"
   ]
  },
  {
   "cell_type": "code",
   "execution_count": 14,
   "id": "5579e668",
   "metadata": {},
   "outputs": [],
   "source": [
    "pickle_save(basepath / \"negbin_fit_params_Mouse_data.pkl\", {'negbin_n': n, 'negbin_p': p, 'median': median, 'iqr': iqr,\n",
    "                                                           \"num_particles\": num_particles, \"num_otus\": num_otus})"
   ]
  },
  {
   "cell_type": "code",
   "execution_count": null,
   "id": "5e567590",
   "metadata": {},
   "outputs": [],
   "source": []
  },
  {
   "cell_type": "code",
   "execution_count": null,
   "id": "a964da92",
   "metadata": {},
   "outputs": [],
   "source": []
  }
 ],
 "metadata": {
  "kernelspec": {
   "display_name": "Python [conda env:mcspace]",
   "language": "python",
   "name": "conda-env-mcspace-py"
  },
  "language_info": {
   "codemirror_mode": {
    "name": "ipython",
    "version": 3
   },
   "file_extension": ".py",
   "mimetype": "text/x-python",
   "name": "python",
   "nbconvert_exporter": "python",
   "pygments_lexer": "ipython3",
   "version": "3.10.13"
  }
 },
 "nbformat": 4,
 "nbformat_minor": 5
}
