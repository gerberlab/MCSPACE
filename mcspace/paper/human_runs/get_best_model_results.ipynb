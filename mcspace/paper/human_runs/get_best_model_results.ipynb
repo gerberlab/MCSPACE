{
 "cells": [
  {
   "cell_type": "markdown",
   "id": "1335cac2",
   "metadata": {},
   "source": [
    "# TO DO: put this in run script..."
   ]
  },
  {
   "cell_type": "code",
   "execution_count": 1,
   "id": "ad57c9b8",
   "metadata": {},
   "outputs": [],
   "source": [
    "import numpy as np\n",
    "import torch\n",
    "from mcspace.model import MCSPACE\n",
    "from mcspace.trainer import train_model\n",
    "from mcspace.data_utils import get_data, get_mouse_diet_perturbations_dataset\n",
    "from mcspace.utils import get_device, pickle_load, pickle_save,\\\n",
    "    estimate_process_variance, MODEL_FILE, DATA_FILE, \\\n",
    "    get_mcspace_cooccur_prob, get_sig_perturbation_diff_subset, \\\n",
    "    get_posterior_summary_data, get_pert_otu_sub, get_min_loss_path, apply_taxonomy_threshold, \\\n",
    "    get_summary_results\n",
    "from pathlib import Path\n",
    "import matplotlib.pyplot as plt\n",
    "import matplotlib as mpl\n",
    "import seaborn as sns\n",
    "import mcspace.visualization as vis\n",
    "from mcspace.dataset import DataSet\n",
    "import pandas as pd"
   ]
  },
  {
   "cell_type": "code",
   "execution_count": 2,
   "id": "85fc2bf4",
   "metadata": {},
   "outputs": [
    {
     "data": {
      "text/plain": [
       "'C:\\\\Users\\\\Gary\\\\Partners HealthCare Dropbox\\\\Gurdip Uppal\\\\research_bwh\\\\MCSPACE_FINAL\\\\MCSPACE\\\\mcspace\\\\paper\\\\human_runs'"
      ]
     },
     "execution_count": 2,
     "metadata": {},
     "output_type": "execute_result"
    }
   ],
   "source": [
    "pwd"
   ]
  },
  {
   "cell_type": "markdown",
   "id": "63b357fe",
   "metadata": {},
   "source": [
    "# Paths"
   ]
  },
  {
   "cell_type": "code",
   "execution_count": 3,
   "id": "d90d73db",
   "metadata": {},
   "outputs": [],
   "source": [
    "rootpath = Path(\"../../\")\n",
    "basepath = Path(\"./\")"
   ]
  },
  {
   "cell_type": "code",
   "execution_count": 4,
   "id": "bf505cbd",
   "metadata": {},
   "outputs": [],
   "source": [
    "runpath = rootpath / \"paper\" / \"human_runs\" / \"runs\""
   ]
  },
  {
   "cell_type": "code",
   "execution_count": 5,
   "id": "f556054d",
   "metadata": {},
   "outputs": [],
   "source": [
    "treepath = rootpath / \"data\" / \"human_experiments\" / \"human_otus_tree\" / \"output\" # *** rename this\n",
    "treefile = \"newick_tree_query_reads.nhx\""
   ]
  },
  {
   "cell_type": "code",
   "execution_count": 6,
   "id": "8fbcbf8b",
   "metadata": {},
   "outputs": [],
   "source": [
    "outpath = basepath / \"results\"\n",
    "outpath.mkdir(exist_ok=True, parents=True)"
   ]
  },
  {
   "cell_type": "code",
   "execution_count": 8,
   "id": "db6c7f2d",
   "metadata": {},
   "outputs": [],
   "source": [
    "# ls"
   ]
  },
  {
   "cell_type": "markdown",
   "id": "4f4313dd",
   "metadata": {},
   "source": [
    "# Load best model"
   ]
  },
  {
   "cell_type": "code",
   "execution_count": 9,
   "id": "a14f9413",
   "metadata": {},
   "outputs": [
    {
     "name": "stderr",
     "output_type": "stream",
     "text": [
      "c:\\users\\gary\\partners healthcare dropbox\\gurdip uppal\\research_bwh\\mcspace_final\\mcspace\\mcspace\\utils.py:415: FutureWarning: You are using `torch.load` with `weights_only=False` (the current default value), which uses the default pickle module implicitly. It is possible to construct malicious pickle data which will execute arbitrary code during unpickling (See https://github.com/pytorch/pytorch/blob/main/SECURITY.md#untrusted-models for more details). In a future release, the default value for `weights_only` will be flipped to `True`. This limits the functions that could be executed during unpickling. Arbitrary objects will no longer be allowed to be loaded via this mode unless they are explicitly allowlisted by the user via `torch.serialization.add_safe_globals`. We recommend you start setting `weights_only=True` for any use case where you don't have full control of the loaded file. Please open an issue on GitHub for any issues related to this experimental feature.\n",
      "  model = torch.load(respath / MODEL_FILE)\n",
      "C:\\Users\\Gary\\anaconda3\\envs\\mcfinal\\lib\\site-packages\\torch\\storage.py:414: FutureWarning: You are using `torch.load` with `weights_only=False` (the current default value), which uses the default pickle module implicitly. It is possible to construct malicious pickle data which will execute arbitrary code during unpickling (See https://github.com/pytorch/pytorch/blob/main/SECURITY.md#untrusted-models for more details). In a future release, the default value for `weights_only` will be flipped to `True`. This limits the functions that could be executed during unpickling. Arbitrary objects will no longer be allowed to be loaded via this mode unless they are explicitly allowlisted by the user via `torch.serialization.add_safe_globals`. We recommend you start setting `weights_only=True` for any use case where you don't have full control of the loaded file. Please open an issue on GitHub for any issues related to this experimental feature.\n",
      "  return torch.load(io.BytesIO(b))\n"
     ]
    },
    {
     "name": "stdout",
     "output_type": "stream",
     "text": [
      "0\n",
      "1\n",
      "2\n",
      "3\n",
      "4\n",
      "5\n",
      "6\n",
      "7\n",
      "8\n",
      "9\n",
      "3\n"
     ]
    }
   ],
   "source": [
    "respath = get_min_loss_path(runpath, np.arange(10))"
   ]
  },
  {
   "cell_type": "code",
   "execution_count": 10,
   "id": "b1c762f2",
   "metadata": {},
   "outputs": [
    {
     "name": "stderr",
     "output_type": "stream",
     "text": [
      "C:\\Users\\Gary\\AppData\\Local\\Temp\\ipykernel_122388\\2930395400.py:1: FutureWarning: You are using `torch.load` with `weights_only=False` (the current default value), which uses the default pickle module implicitly. It is possible to construct malicious pickle data which will execute arbitrary code during unpickling (See https://github.com/pytorch/pytorch/blob/main/SECURITY.md#untrusted-models for more details). In a future release, the default value for `weights_only` will be flipped to `True`. This limits the functions that could be executed during unpickling. Arbitrary objects will no longer be allowed to be loaded via this mode unless they are explicitly allowlisted by the user via `torch.serialization.add_safe_globals`. We recommend you start setting `weights_only=True` for any use case where you don't have full control of the loaded file. Please open an issue on GitHub for any issues related to this experimental feature.\n",
      "  model = torch.load(respath / MODEL_FILE)\n"
     ]
    }
   ],
   "source": [
    "model = torch.load(respath / MODEL_FILE)\n",
    "data = pickle_load(respath / DATA_FILE)\n",
    "\n",
    "taxonomy_temp = pickle_load(respath / \"taxonomy.pkl\")\n",
    "\n",
    "times = list(data['count_data'].keys())\n",
    "subjects = list(data['count_data'][1].keys())\n",
    "num_otus = data['count_data'][times[0]][subjects[0]].shape[1]\n",
    "num_times = len(times)\n",
    "num_subjects = len(subjects)"
   ]
  },
  {
   "cell_type": "markdown",
   "id": "94618975",
   "metadata": {},
   "source": [
    "### load final taxonomy"
   ]
  },
  {
   "cell_type": "code",
   "execution_count": 11,
   "id": "a811d403",
   "metadata": {},
   "outputs": [],
   "source": [
    "taxfile =  rootpath / \"data\" / \"human_experiments\" / \"gappa_taxonomy\" / \"human_taxonomy.csv\"\n",
    "finaltax = pd.read_csv(taxfile, index_col=0)"
   ]
  },
  {
   "cell_type": "code",
   "execution_count": 12,
   "id": "fe333fc6",
   "metadata": {},
   "outputs": [
    {
     "data": {
      "text/html": [
       "<div>\n",
       "<style scoped>\n",
       "    .dataframe tbody tr th:only-of-type {\n",
       "        vertical-align: middle;\n",
       "    }\n",
       "\n",
       "    .dataframe tbody tr th {\n",
       "        vertical-align: top;\n",
       "    }\n",
       "\n",
       "    .dataframe thead th {\n",
       "        text-align: right;\n",
       "    }\n",
       "</style>\n",
       "<table border=\"1\" class=\"dataframe\">\n",
       "  <thead>\n",
       "    <tr style=\"text-align: right;\">\n",
       "      <th></th>\n",
       "      <th>Kingdom</th>\n",
       "      <th>Phylum</th>\n",
       "      <th>Class</th>\n",
       "      <th>Order</th>\n",
       "      <th>Family</th>\n",
       "      <th>Genus</th>\n",
       "    </tr>\n",
       "    <tr>\n",
       "      <th>Otu</th>\n",
       "      <th></th>\n",
       "      <th></th>\n",
       "      <th></th>\n",
       "      <th></th>\n",
       "      <th></th>\n",
       "      <th></th>\n",
       "    </tr>\n",
       "  </thead>\n",
       "  <tbody>\n",
       "    <tr>\n",
       "      <th>Otu121</th>\n",
       "      <td>Bacteria</td>\n",
       "      <td>Firmicutes</td>\n",
       "      <td>Bacilli</td>\n",
       "      <td>Erysipelotrichales</td>\n",
       "      <td>Erysipelatoclostridiaceae</td>\n",
       "      <td>na</td>\n",
       "    </tr>\n",
       "    <tr>\n",
       "      <th>Otu14</th>\n",
       "      <td>Bacteria</td>\n",
       "      <td>Firmicutes</td>\n",
       "      <td>Clostridia</td>\n",
       "      <td>Lachnospirales</td>\n",
       "      <td>Lachnospiraceae</td>\n",
       "      <td>na</td>\n",
       "    </tr>\n",
       "    <tr>\n",
       "      <th>Otu150</th>\n",
       "      <td>Bacteria</td>\n",
       "      <td>Firmicutes</td>\n",
       "      <td>Clostridia</td>\n",
       "      <td>Oscillospirales</td>\n",
       "      <td>Oscillospiraceae</td>\n",
       "      <td>uncultured</td>\n",
       "    </tr>\n",
       "    <tr>\n",
       "      <th>Otu37</th>\n",
       "      <td>Bacteria</td>\n",
       "      <td>Bacteroidota</td>\n",
       "      <td>Bacteroidia</td>\n",
       "      <td>Bacteroidales</td>\n",
       "      <td>Bacteroidaceae</td>\n",
       "      <td>Bacteroides</td>\n",
       "    </tr>\n",
       "    <tr>\n",
       "      <th>Otu6</th>\n",
       "      <td>Bacteria</td>\n",
       "      <td>Actinobacteriota</td>\n",
       "      <td>Actinobacteria</td>\n",
       "      <td>Bifidobacteriales</td>\n",
       "      <td>Bifidobacteriaceae</td>\n",
       "      <td>Bifidobacterium</td>\n",
       "    </tr>\n",
       "  </tbody>\n",
       "</table>\n",
       "</div>"
      ],
      "text/plain": [
       "         Kingdom            Phylum           Class               Order  \\\n",
       "Otu                                                                      \n",
       "Otu121  Bacteria        Firmicutes         Bacilli  Erysipelotrichales   \n",
       "Otu14   Bacteria        Firmicutes      Clostridia      Lachnospirales   \n",
       "Otu150  Bacteria        Firmicutes      Clostridia     Oscillospirales   \n",
       "Otu37   Bacteria      Bacteroidota     Bacteroidia       Bacteroidales   \n",
       "Otu6    Bacteria  Actinobacteriota  Actinobacteria   Bifidobacteriales   \n",
       "\n",
       "                           Family            Genus  \n",
       "Otu                                                 \n",
       "Otu121  Erysipelatoclostridiaceae               na  \n",
       "Otu14             Lachnospiraceae               na  \n",
       "Otu150           Oscillospiraceae       uncultured  \n",
       "Otu37              Bacteroidaceae      Bacteroides  \n",
       "Otu6           Bifidobacteriaceae  Bifidobacterium  "
      ]
     },
     "execution_count": 12,
     "metadata": {},
     "output_type": "execute_result"
    }
   ],
   "source": [
    "taxonomy_temp.head()"
   ]
  },
  {
   "cell_type": "code",
   "execution_count": 13,
   "id": "58beef57",
   "metadata": {},
   "outputs": [],
   "source": [
    "taxlist = list(taxonomy_temp.index)"
   ]
  },
  {
   "cell_type": "code",
   "execution_count": 14,
   "id": "a01d0d0f",
   "metadata": {},
   "outputs": [],
   "source": [
    "taxonomy = finaltax.loc[taxlist,:]"
   ]
  },
  {
   "cell_type": "markdown",
   "id": "d21b76d8",
   "metadata": {},
   "source": [
    "## Get summary results"
   ]
  },
  {
   "cell_type": "code",
   "execution_count": 15,
   "id": "93a02f56",
   "metadata": {},
   "outputs": [],
   "source": [
    "thetadf, betadf, pertsdf = get_posterior_summary_data(model, data, taxonomy, times, subjects)"
   ]
  },
  {
   "cell_type": "markdown",
   "id": "a5119af0",
   "metadata": {},
   "source": [
    "### get relative abundance data"
   ]
  },
  {
   "cell_type": "code",
   "execution_count": 16,
   "id": "c2d7cce4",
   "metadata": {},
   "outputs": [],
   "source": [
    "def get_bulk_relative_abundances(reads, times, subjects, taxonomy):\n",
    "    num_otus = taxonomy.shape[0]\n",
    "    multiind = pd.MultiIndex.from_frame(taxonomy)\n",
    "    ntime = len(times)\n",
    "    \n",
    "    radfs = {}\n",
    "    for s in subjects:\n",
    "        ra = np.zeros((ntime, num_otus))\n",
    "        for i,t in enumerate(times):\n",
    "            counts = reads[t][s].cpu().detach().clone().numpy()\n",
    "            rabun = counts/counts.sum(axis=1, keepdims=True)\n",
    "            bulk_rabun = np.mean(rabun, axis=0)\n",
    "            ra[i,:] = bulk_rabun\n",
    "        df = pd.DataFrame(data=ra.T, index=multiind, columns=times)\n",
    "        radfs[s] = df\n",
    "    return radfs"
   ]
  },
  {
   "cell_type": "code",
   "execution_count": 17,
   "id": "d39ca6ce",
   "metadata": {},
   "outputs": [],
   "source": [
    "reads = data['count_data'] #.cpu().detach().clone().numpy()\n",
    "bulktemp = get_bulk_relative_abundances(reads, times, subjects, taxonomy.reset_index())"
   ]
  },
  {
   "cell_type": "code",
   "execution_count": 18,
   "id": "1567f288",
   "metadata": {},
   "outputs": [],
   "source": [
    "bulk = bulktemp['H11'].reset_index()[['Otu'] + times].set_index('Otu')"
   ]
  },
  {
   "cell_type": "code",
   "execution_count": 19,
   "id": "287ec06c",
   "metadata": {},
   "outputs": [
    {
     "data": {
      "text/html": [
       "<div>\n",
       "<style scoped>\n",
       "    .dataframe tbody tr th:only-of-type {\n",
       "        vertical-align: middle;\n",
       "    }\n",
       "\n",
       "    .dataframe tbody tr th {\n",
       "        vertical-align: top;\n",
       "    }\n",
       "\n",
       "    .dataframe thead th {\n",
       "        text-align: right;\n",
       "    }\n",
       "</style>\n",
       "<table border=\"1\" class=\"dataframe\">\n",
       "  <thead>\n",
       "    <tr style=\"text-align: right;\">\n",
       "      <th></th>\n",
       "      <th>1</th>\n",
       "      <th>2</th>\n",
       "      <th>3</th>\n",
       "      <th>4</th>\n",
       "      <th>5</th>\n",
       "    </tr>\n",
       "    <tr>\n",
       "      <th>Otu</th>\n",
       "      <th></th>\n",
       "      <th></th>\n",
       "      <th></th>\n",
       "      <th></th>\n",
       "      <th></th>\n",
       "    </tr>\n",
       "  </thead>\n",
       "  <tbody>\n",
       "    <tr>\n",
       "      <th>Otu121</th>\n",
       "      <td>0.006974</td>\n",
       "      <td>0.007406</td>\n",
       "      <td>0.000576</td>\n",
       "      <td>0.002787</td>\n",
       "      <td>0.001610</td>\n",
       "    </tr>\n",
       "    <tr>\n",
       "      <th>Otu14</th>\n",
       "      <td>0.020579</td>\n",
       "      <td>0.078228</td>\n",
       "      <td>0.025125</td>\n",
       "      <td>0.103553</td>\n",
       "      <td>0.044628</td>\n",
       "    </tr>\n",
       "    <tr>\n",
       "      <th>Otu150</th>\n",
       "      <td>0.000119</td>\n",
       "      <td>0.028550</td>\n",
       "      <td>0.000008</td>\n",
       "      <td>0.000006</td>\n",
       "      <td>0.000003</td>\n",
       "    </tr>\n",
       "    <tr>\n",
       "      <th>Otu37</th>\n",
       "      <td>0.001440</td>\n",
       "      <td>0.003773</td>\n",
       "      <td>0.002748</td>\n",
       "      <td>0.006807</td>\n",
       "      <td>0.004576</td>\n",
       "    </tr>\n",
       "    <tr>\n",
       "      <th>Otu6</th>\n",
       "      <td>0.019864</td>\n",
       "      <td>0.006888</td>\n",
       "      <td>0.062092</td>\n",
       "      <td>0.010495</td>\n",
       "      <td>0.004887</td>\n",
       "    </tr>\n",
       "  </tbody>\n",
       "</table>\n",
       "</div>"
      ],
      "text/plain": [
       "               1         2         3         4         5\n",
       "Otu                                                     \n",
       "Otu121  0.006974  0.007406  0.000576  0.002787  0.001610\n",
       "Otu14   0.020579  0.078228  0.025125  0.103553  0.044628\n",
       "Otu150  0.000119  0.028550  0.000008  0.000006  0.000003\n",
       "Otu37   0.001440  0.003773  0.002748  0.006807  0.004576\n",
       "Otu6    0.019864  0.006888  0.062092  0.010495  0.004887"
      ]
     },
     "execution_count": 19,
     "metadata": {},
     "output_type": "execute_result"
    }
   ],
   "source": [
    "bulk.head()"
   ]
  },
  {
   "cell_type": "markdown",
   "id": "59c16d7a",
   "metadata": {},
   "source": [
    "# Output results"
   ]
  },
  {
   "cell_type": "code",
   "execution_count": 23,
   "id": "7a1dc234",
   "metadata": {},
   "outputs": [],
   "source": [
    "# pertsdf"
   ]
  },
  {
   "cell_type": "code",
   "execution_count": 24,
   "id": "dfa5a765",
   "metadata": {},
   "outputs": [],
   "source": [
    "thetadf.to_csv(outpath / \"assemblages.csv\")\n",
    "betadf.to_csv(outpath / \"assemblage_proportions.csv\")"
   ]
  },
  {
   "cell_type": "code",
   "execution_count": 25,
   "id": "339fa0d3",
   "metadata": {},
   "outputs": [],
   "source": [
    "bulk.to_csv(outpath / \"relative_abundances.csv\")"
   ]
  },
  {
   "cell_type": "code",
   "execution_count": 27,
   "id": "86551ada",
   "metadata": {},
   "outputs": [],
   "source": [
    "taxonomy.to_csv(outpath / \"taxonomy.csv\")"
   ]
  },
  {
   "cell_type": "code",
   "execution_count": null,
   "id": "52db65bb",
   "metadata": {},
   "outputs": [],
   "source": []
  }
 ],
 "metadata": {
  "kernelspec": {
   "display_name": "Python [conda env:mcfinal]",
   "language": "python",
   "name": "conda-env-mcfinal-py"
  },
  "language_info": {
   "codemirror_mode": {
    "name": "ipython",
    "version": 3
   },
   "file_extension": ".py",
   "mimetype": "text/x-python",
   "name": "python",
   "nbconvert_exporter": "python",
   "pygments_lexer": "ipython3",
   "version": "3.10.14"
  }
 },
 "nbformat": 4,
 "nbformat_minor": 5
}
