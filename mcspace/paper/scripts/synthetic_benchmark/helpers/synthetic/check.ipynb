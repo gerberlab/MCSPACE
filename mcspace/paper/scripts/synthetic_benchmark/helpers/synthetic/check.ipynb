{
 "cells": [
  {
   "cell_type": "code",
   "execution_count": 2,
   "id": "e1ca3c9d",
   "metadata": {},
   "outputs": [],
   "source": [
    "from mcspace.utils import pickle_load\n",
    "from pathlib import Path\n",
    "import pandas as pd\n",
    "import numpy as np\n",
    "import torch"
   ]
  },
  {
   "cell_type": "code",
   "execution_count": 3,
   "id": "26af8240",
   "metadata": {},
   "outputs": [
    {
     "name": "stdout",
     "output_type": "stream",
     "text": [
      " Volume in drive C is Windows-SSD\n",
      " Volume Serial Number is 1086-9223\n",
      "\n",
      " Directory of C:\\Users\\Gary\\Partners HealthCare Dropbox\\Gurdip Uppal\\research_bwh\\MCSPACE_FINAL\\MCSPACE\\mcspace\\paper\\scripts\\synthetic_benchmark\\helpers\\synthetic\n",
      "\n",
      "10/07/2024  08:36 PM    <DIR>          .\n",
      "09/24/2024  10:01 AM    <DIR>          ..\n",
      "10/07/2024  08:36 PM    <DIR>          .ipynb_checkpoints\n",
      "09/24/2024  10:01 AM    <DIR>          _old_base_run\n",
      "10/07/2024  08:34 PM    <DIR>          base_run\n",
      "10/07/2024  08:36 PM                72 check.ipynb\n",
      "09/24/2024  10:01 AM            45,201 fit_negbin_params_Human.ipynb\n",
      "09/24/2024  10:01 AM            19,183 fit_negbin_params_Mouse.ipynb\n",
      "09/24/2024  10:01 AM            10,034 gen_semisyn_data.py\n",
      "09/24/2024  10:01 AM               246 negbin_fit_params_Human_data.pkl\n",
      "09/24/2024  10:01 AM               246 negbin_fit_params_Mouse_data.pkl\n",
      "10/07/2024  08:34 PM             2,972 run_base_datasets.py\n",
      "09/24/2024  10:01 AM             8,362 semisyn_utils.py\n",
      "               8 File(s)         86,316 bytes\n",
      "               5 Dir(s)  75,586,322,432 bytes free\n"
     ]
    }
   ],
   "source": [
    "ls"
   ]
  },
  {
   "cell_type": "code",
   "execution_count": 4,
   "id": "a05c46f2",
   "metadata": {},
   "outputs": [
    {
     "name": "stdout",
     "output_type": "stream",
     "text": [
      " Volume in drive C is Windows-SSD\n",
      " Volume Serial Number is 1086-9223\n",
      "\n",
      " Directory of C:\\Users\\Gary\\Partners HealthCare Dropbox\\Gurdip Uppal\\research_bwh\\MCSPACE_FINAL\\MCSPACE\\mcspace\\paper\\scripts\\synthetic_benchmark\\helpers\\synthetic\\base_run\\Human\n",
      "\n",
      "10/07/2024  08:35 PM    <DIR>          .\n",
      "10/07/2024  08:34 PM    <DIR>          ..\n",
      "10/07/2024  08:35 PM            17,222 ELBO_loss.png\n",
      "10/07/2024  08:35 PM           283,047 model.pt\n",
      "10/07/2024  08:35 PM            14,058 results.pkl\n",
      "               3 File(s)        314,327 bytes\n",
      "               2 Dir(s)  75,586,256,896 bytes free\n"
     ]
    }
   ],
   "source": [
    "ls \"base_run/Human/\""
   ]
  },
  {
   "cell_type": "code",
   "execution_count": 5,
   "id": "7f72d611",
   "metadata": {},
   "outputs": [],
   "source": [
    "res = pickle_load(\"base_run/Human/results.pkl\")"
   ]
  },
  {
   "cell_type": "code",
   "execution_count": 7,
   "id": "2095a4c7",
   "metadata": {},
   "outputs": [
    {
     "data": {
      "text/plain": [
       "dict_keys(['pert_bf', 'beta', 'theta', 'pi_garb', 'loss', 'garbage_cluster'])"
      ]
     },
     "execution_count": 7,
     "metadata": {},
     "output_type": "execute_result"
    }
   ],
   "source": [
    "res.keys()"
   ]
  },
  {
   "cell_type": "code",
   "execution_count": 8,
   "id": "b6bd1f49",
   "metadata": {},
   "outputs": [
    {
     "data": {
      "text/plain": [
       "(56, 1, 1)"
      ]
     },
     "execution_count": 8,
     "metadata": {},
     "output_type": "execute_result"
    }
   ],
   "source": [
    "res['beta'].shape"
   ]
  },
  {
   "cell_type": "code",
   "execution_count": 9,
   "id": "a70177d1",
   "metadata": {},
   "outputs": [
    {
     "data": {
      "text/plain": [
       "(56, 58)"
      ]
     },
     "execution_count": 9,
     "metadata": {},
     "output_type": "execute_result"
    }
   ],
   "source": [
    "res['theta'].shape"
   ]
  },
  {
   "cell_type": "code",
   "execution_count": null,
   "id": "0183580e",
   "metadata": {},
   "outputs": [],
   "source": [
    "# 30, 40, 50, 60, 70; default 56"
   ]
  }
 ],
 "metadata": {
  "kernelspec": {
   "display_name": "Python [conda env:mcfinal]",
   "language": "python",
   "name": "conda-env-mcfinal-py"
  },
  "language_info": {
   "codemirror_mode": {
    "name": "ipython",
    "version": 3
   },
   "file_extension": ".py",
   "mimetype": "text/x-python",
   "name": "python",
   "nbconvert_exporter": "python",
   "pygments_lexer": "ipython3",
   "version": "3.10.14"
  }
 },
 "nbformat": 4,
 "nbformat_minor": 5
}
